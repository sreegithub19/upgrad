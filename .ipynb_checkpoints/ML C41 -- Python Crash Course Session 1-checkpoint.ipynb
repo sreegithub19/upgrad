{
 "cells": [
  {
   "cell_type": "code",
   "execution_count": 1,
   "metadata": {},
   "outputs": [
    {
     "name": "stderr",
     "output_type": "stream",
     "text": [
      "C:\\Users\\Padmaja\\AppData\\Local\\Temp\\ipykernel_5828\\307328097.py:1: DeprecationWarning: Importing display from IPython.core.display is deprecated since IPython 7.14, please import from IPython display\n",
      "  from IPython.core.display import display,HTML\n"
     ]
    },
    {
     "name": "stdout",
     "output_type": "stream",
     "text": [
      "Welcome to ML C41!! Python Crash course\n",
      "4Saturday\n",
      "The exit code was: 1\n"
     ]
    }
   ],
   "source": [
    "from IPython.core.display import display,HTML\n",
    "\n",
    "# Print statement\n",
    "\n",
    "print(\"Welcome to ML C41!!\" + \" Python Crash course\")\n",
    "print(str(4)+\"Saturday\")\n",
    "\n",
    "\n",
    "import subprocess\n",
    "list_files_1 = subprocess.run([\"python\",\"-c\",'''\n",
    "import numpy;\n",
    "import flask;\n",
    "print(\"Hi\");\n",
    "print(2+5%5);\n",
    "'''],timeout=500);\n",
    "print(\"The exit code was: %d\" % list_files_1.returncode);"
   ]
  },
  {
   "cell_type": "code",
   "execution_count": 3,
   "metadata": {},
   "outputs": [
    {
     "data": {
      "text/html": [
       "<h3>Variables</h3>"
      ],
      "text/plain": [
       "<IPython.core.display.HTML object>"
      ]
     },
     "metadata": {},
     "output_type": "display_data"
    },
    {
     "name": "stdout",
     "output_type": "stream",
     "text": [
      "3 4 5\n"
     ]
    }
   ],
   "source": [
    "# Variables\n",
    "    # 1. Variable name can have only alphanumeric or underscore\n",
    "    # 2. Variable can start only with alphabet or underscore\n",
    "    # 3. Variable names are case-sensitive\n",
    "    # 4. In Python, the highest possible length of an identifier is 79 characters.\n",
    "display(HTML('<h3>Variables</h3>'))   \n",
    "var, Var, _var = 3,4,5\n",
    "print(var, Var, _var)"
   ]
  },
  {
   "cell_type": "code",
   "execution_count": 4,
   "metadata": {},
   "outputs": [
    {
     "data": {
      "text/html": [
       "<h3>Data types</h3>"
      ],
      "text/plain": [
       "<IPython.core.display.HTML object>"
      ]
     },
     "metadata": {},
     "output_type": "display_data"
    },
    {
     "name": "stdout",
     "output_type": "stream",
     "text": [
      "<class 'int'>\n",
      "<class 'float'>\n",
      "6\n",
      "HelloHelloHello\n"
     ]
    },
    {
     "data": {
      "text/html": [
       "<h4>Boolean</h4>"
      ],
      "text/plain": [
       "<IPython.core.display.HTML object>"
      ]
     },
     "metadata": {},
     "output_type": "display_data"
    },
    {
     "name": "stdout",
     "output_type": "stream",
     "text": [
      "<class 'bool'>\n"
     ]
    }
   ],
   "source": [
    "# Data types:\n",
    "display(HTML('<h3>Data types</h3>'))\n",
    "# https://www.w3schools.com/python/python_datatypes.asp\n",
    "\n",
    "num =8; print(type(num))\n",
    "num =8.0; print(type(num))\n",
    "a: int = 6; print(a)  # for type declaration in Python\n",
    "b: str = \"Hello\"; print(b*3)\n",
    "\n",
    "display(HTML('<h4>Boolean</h4>'))\n",
    "print(type(True))"
   ]
  },
  {
   "cell_type": "code",
   "execution_count": 5,
   "metadata": {
    "scrolled": true
   },
   "outputs": [
    {
     "data": {
      "text/html": [
       "<h3>Arithmetic operations</h3>"
      ],
      "text/plain": [
       "<IPython.core.display.HTML object>"
      ]
     },
     "metadata": {},
     "output_type": "display_data"
    },
    {
     "name": "stdout",
     "output_type": "stream",
     "text": [
      "9\n",
      "-3\n",
      "18\n",
      "0.5\n",
      "0\n",
      "3\n",
      "729\n",
      "36\n",
      "0\n",
      "1\n",
      "0\n",
      "0\n"
     ]
    }
   ],
   "source": [
    "# Arithmetic operations\n",
    "display(HTML('<h3>Arithmetic operations</h3>'))\n",
    "from math import ceil, floor, trunc\n",
    "\n",
    "x = 3\n",
    "y = 6\n",
    "print(x+y)  \n",
    "print(x-y)  \n",
    "print(x*y)\n",
    "print(x/y)  # float type division\n",
    "print(x//y) # integer type division\n",
    "print(x%y)  # modulus (remainder)\n",
    "print(x**y) # exponent\n",
    "print(int(str(x)+str(y))) # string concatenation\n",
    "print(round(x/y))\n",
    "\n",
    "print(ceil(x/y))\n",
    "print(floor(x/y))\n",
    "print(trunc(x/y)) #equivalent to math.floor for positive numbers, equivalent to math.ceil for negative numbers"
   ]
  },
  {
   "cell_type": "code",
   "execution_count": 6,
   "metadata": {},
   "outputs": [
    {
     "data": {
      "text/html": [
       "<h3>Data type conversion</h3>"
      ],
      "text/plain": [
       "<IPython.core.display.HTML object>"
      ]
     },
     "metadata": {},
     "output_type": "display_data"
    },
    {
     "name": "stdout",
     "output_type": "stream",
     "text": [
      "4444\n"
     ]
    }
   ],
   "source": [
    "# Data type conversion\n",
    "display(HTML('<h3>Data type conversion</h3>'))\n",
    "\n",
    "var = 4\n",
    "print(str(var)*int(var))"
   ]
  },
  {
   "cell_type": "code",
   "execution_count": 7,
   "metadata": {
    "scrolled": true
   },
   "outputs": [
    {
     "data": {
      "text/html": [
       "<h3>ASCII values</h3>"
      ],
      "text/plain": [
       "<IPython.core.display.HTML object>"
      ]
     },
     "metadata": {},
     "output_type": "display_data"
    },
    {
     "name": "stdout",
     "output_type": "stream",
     "text": [
      "51\n",
      "a\n",
      "`\n"
     ]
    }
   ],
   "source": [
    "# ASCII values\n",
    "display(HTML('<h3>ASCII values</h3>'))\n",
    "print(ord(\"3\"))\n",
    "print(chr(97))\n",
    "#print(chr(\"3\")) # TypeError: an integer is required (got type str)\n",
    "print(chr(96))   # does not get printed (if the error above is uncommented)"
   ]
  },
  {
   "cell_type": "code",
   "execution_count": 8,
   "metadata": {},
   "outputs": [
    {
     "data": {
      "text/html": [
       "<h3>String operations</h3>"
      ],
      "text/plain": [
       "<IPython.core.display.HTML object>"
      ]
     },
     "metadata": {},
     "output_type": "display_data"
    },
    {
     "name": "stdout",
     "output_type": "stream",
     "text": [
      "b is: python class\n",
      "this is python class\n",
      "False\n",
      "False\n",
      "False\n",
      "True\n",
      "False\n",
      "PYTHON CLASS\n",
      "python class\n",
      "PYTHON CLASS\n",
      "Python class\n",
      "Python Class\n",
      "['python', 'class']\n",
      "['python', 'class']\n",
      "['', 'ython class']\n"
     ]
    }
   ],
   "source": [
    "#String operations\n",
    "display(HTML('<h3>String operations</h3>'))\n",
    "\n",
    "a = \"python class\"\n",
    "b = print(\"b is:\",a)\n",
    "str = \"this is \"\n",
    "b\n",
    "print(str + a)\n",
    "del str          # to delete a variable\n",
    "#print(str + a)  # error (because \"str\" is now a datatype and not variable)\n",
    "\n",
    "# isalpha, isnum, isalnum\n",
    "print(a.isalpha())\n",
    "print(\"python class\".isalpha())  # also works\n",
    "#print(43.isnum())  # invalid syntax\n",
    "print((a*2).isalnum())\n",
    "\n",
    "#Replace, swapcase, islower, isupper, lower, upper\n",
    "print(a.replace(\" \",\"\").islower()) # every character has to be lower\n",
    "print(a.replace(\" \",\"\").isupper()) # every character has to be upper\n",
    "swap = a.swapcase()\n",
    "print(swap)  # PYTHON CLASS\n",
    "print(swap.lower())\n",
    "print(swap.upper())\n",
    "\n",
    "\n",
    "# title vs capitalize\n",
    "print(a.capitalize())\n",
    "print(a.title())\n",
    "\n",
    "# split\n",
    "print(a.split())\n",
    "print(a.split(\" \"))\n",
    "print(a.split(\"p\"))"
   ]
  },
  {
   "cell_type": "code",
   "execution_count": null,
   "metadata": {},
   "outputs": [],
   "source": []
  }
 ],
 "metadata": {
  "kernelspec": {
   "display_name": "newenv",
   "language": "python",
   "name": "newenv"
  },
  "language_info": {
   "codemirror_mode": {
    "name": "ipython",
    "version": 3
   },
   "file_extension": ".py",
   "mimetype": "text/x-python",
   "name": "python",
   "nbconvert_exporter": "python",
   "pygments_lexer": "ipython3",
   "version": "3.10.4"
  }
 },
 "nbformat": 4,
 "nbformat_minor": 2
}
