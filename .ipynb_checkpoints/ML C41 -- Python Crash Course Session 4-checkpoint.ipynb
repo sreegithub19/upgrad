{
 "cells": [
  {
   "cell_type": "code",
   "execution_count": 2,
   "metadata": {},
   "outputs": [
    {
     "data": {
      "text/html": [
       "\n",
       "<h3>Problem solving</h3>\n"
      ],
      "text/plain": [
       "<IPython.core.display.HTML object>"
      ]
     },
     "metadata": {},
     "output_type": "display_data"
    }
   ],
   "source": [
    "from IPython.display import display,HTML\n",
    "import copy\n",
    "\n",
    "# Problem solving\n",
    "\n",
    "display(HTML('''\n",
    "<h3>Problem solving</h3>\n",
    "'''))\n",
    "\n",
    "# https://jovian.ai/shvmgrg98/ml-c41-python-crash-course-session-4"
   ]
  },
  {
   "cell_type": "code",
   "execution_count": 3,
   "metadata": {},
   "outputs": [
    {
     "name": "stdout",
     "output_type": "stream",
     "text": [
      "Enter the principal amount:345\n",
      "Enter rate in percentage:5\n",
      "Enter time in years:4\n",
      "Simple Interest: 69.0\n"
     ]
    }
   ],
   "source": [
    "principal = float(input(\"Enter the principal amount:\"))\n",
    "rate = float(input(\"Enter rate in percentage:\"))\n",
    "time = float(input(\"Enter time in years:\"))\n",
    "print(\"Simple Interest:\",principal*rate*time/100)"
   ]
  },
  {
   "cell_type": "code",
   "execution_count": 4,
   "metadata": {},
   "outputs": [
    {
     "name": "stdout",
     "output_type": "stream",
     "text": [
      "2002,2009,2016,2023,2037,2044,2051,2058,2072,2079,2086,2093,2107,2114,2121,2128,2142,2149,2156,2163,2177,2184,2191,2198,2212,2219,2226,2233,2247,2254,2261,2268,2282,2289,2296,2303,2317,2324,2331,2338,2352,2359,2366,2373,2387,2394,2401,2408,2422,2429,2436,2443,2457,2464,2471,2478,2492,2499,2506,2513,2527,2534,2541,2548,2562,2569,2576,2583,2597,2604,2611,2618,2632,2639,2646,2653,2667,2674,2681,2688,2702,2709,2716,2723,2737,2744,2751,2758,2772,2779,2786,2793,2807,2814,2821,2828,2842,2849,2856,2863,2877,2884,2891,2898,2912,2919,2926,2933,2947,2954,2961,2968,2982,2989,2996,3003,3017,3024,3031,3038,3052,3059,3066,3073,3087,3094,3101,3108,3122,3129,3136,3143,3157,3164,3171,3178,3192,3199\n"
     ]
    }
   ],
   "source": [
    "# li = []\n",
    "# for i in range(2000,3201):\n",
    "#     if(i%7==0):\n",
    "#         if(i%5!=0):\n",
    "#             li.append(str(i))\n",
    "# for i in li[:-1]:\n",
    "#     print(i,end=\",\")\n",
    "# #print(li[-1])\n",
    "# #print(\",\".join(li))  also correct\n",
    "            \n",
    "            \n",
    "print(\",\".join([str(i) for i in range(2000,3201) if(i%7==0 and i%5!=0)]))\n",
    "    "
   ]
  },
  {
   "cell_type": "code",
   "execution_count": 5,
   "metadata": {},
   "outputs": [
    {
     "name": "stdout",
     "output_type": "stream",
     "text": [
      "Enter a number:6\n",
      "720\n"
     ]
    }
   ],
   "source": [
    "# factorial\n",
    "\n",
    "#Method 1:\n",
    "# factorial = 1\n",
    "# num = int(input(\"Enter the number:\"))\n",
    "# if(num==0 or num==1):\n",
    "#     print(1)\n",
    "# else:\n",
    "#     for i in range(2,num+1):\n",
    "#         factorial*=i\n",
    "#     print(factorial)\n",
    "\n",
    "# Method 2:\n",
    "n_list = range(1,int(input(\"Enter a number:\"))+1)\n",
    "from functools import reduce\n",
    "factorial = reduce(lambda x,y:x*y,n_list)\n",
    "print(factorial)"
   ]
  },
  {
   "cell_type": "code",
   "execution_count": 6,
   "metadata": {},
   "outputs": [
    {
     "data": {
      "text/plain": [
       "'3.10.4 | packaged by conda-forge | (main, Mar 30 2022, 08:38:02) [MSC v.1916 64 bit (AMD64)]'"
      ]
     },
     "execution_count": 6,
     "metadata": {},
     "output_type": "execute_result"
    }
   ],
   "source": [
    "import sys\n",
    "sys.version"
   ]
  },
  {
   "cell_type": "code",
   "execution_count": 7,
   "metadata": {},
   "outputs": [
    {
     "name": "stdout",
     "output_type": "stream",
     "text": [
      "Enter a string:4ref43fr43\n",
      "4ref43fr43\n"
     ]
    }
   ],
   "source": [
    "string = input(\"Enter a string:\").split(\",\")\n",
    "print(\",\".join(sorted(string)))"
   ]
  },
  {
   "cell_type": "code",
   "execution_count": 83,
   "metadata": {},
   "outputs": [
    {
     "name": "stdout",
     "output_type": "stream",
     "text": [
      "Enter a string:234r35tvfdrgt544\n",
      "No of alphabets: 8\n",
      "No of digits: 8\n",
      "No of characters: 16\n",
      "Truth value of characters: [True, True, True, False, True, True, False, False, False, False, False, False, False, True, True, True]\n",
      "All digits from input string: ['2', '3', '4', '3', '5', '5', '4', '4']\n"
     ]
    }
   ],
   "source": [
    "string = list(input(\"Enter a string:\"))\n",
    "print(\"No of alphabets:\",len(list(filter(lambda x: x.isalpha(), string))))\n",
    "print(\"No of digits:\",len(list(filter(lambda x: x.isdecimal(), string))))\n",
    "print(\"No of characters:\",len(list(map(lambda x: x.isdecimal(), string))))\n",
    "print(\"Truth value of characters:\",(list(map(lambda x: x.isdecimal(), string))))\n",
    "print(\"All digits from input string:\",(list(filter(lambda x: x.isdecimal(), string))))"
   ]
  },
  {
   "cell_type": "code",
   "execution_count": 82,
   "metadata": {},
   "outputs": [
    {
     "name": "stdout",
     "output_type": "stream",
     "text": [
      "hello\n",
      "hello"
     ]
    },
    {
     "data": {
      "text/plain": [
       "5"
      ]
     },
     "execution_count": 82,
     "metadata": {},
     "output_type": "execute_result"
    }
   ],
   "source": [
    "import sys\n",
    "sys.stdout.write(\"hello\\n\")\n",
    "sys.stdout.write(\"hello\")"
   ]
  },
  {
   "cell_type": "code",
   "execution_count": 44,
   "metadata": {},
   "outputs": [
    {
     "name": "stdout",
     "output_type": "stream",
     "text": [
      "Enter the list:1,5,6,7,8\n",
      "[1, 25, 49]\n"
     ]
    }
   ],
   "source": [
    "#print(\",\".join([str(i**2) for i in [int(i) for i in input(\"Enter the list:\").split(\",\")] if(i%2!=0)]))\n",
    "\n",
    "li = input(\"Enter the list:\").split(\",\")\n",
    "print([int(i)**2 for i in li if(int(i)%2!=0)])"
   ]
  },
  {
   "cell_type": "code",
   "execution_count": 45,
   "metadata": {
    "code_folding": []
   },
   "outputs": [
    {
     "name": "stdout",
     "output_type": "stream",
     "text": [
      "<class 'int'>\n",
      "1,2,3,4,5,6,7,\n",
      "['1', '2', '3', '4', '5', '6', '7']\n",
      "['1', '2', '3', '4', '5', '6', '7']\n"
     ]
    }
   ],
   "source": [
    "li = [1,2,3,4,5,6,7]\n",
    "print(type(li[0]))\n",
    "\n",
    "# method 1 (looping)\n",
    "for i in li:\n",
    "    print(str(i),end=\",\")    \n",
    "print()\n",
    "\n",
    "# method 2 (list comprehension)\n",
    "print([str(i) for i in li])\n",
    "\n",
    "# method 3 (lambda)\n",
    "print([i() for i in (lambda x=x:str(x) for x in li)])"
   ]
  },
  {
   "cell_type": "code",
   "execution_count": 94,
   "metadata": {},
   "outputs": [
    {
     "name": "stdout",
     "output_type": "stream",
     "text": [
      "1\n"
     ]
    }
   ],
   "source": [
    "# yield vs return\n",
    "\n",
    "def simpleGeneratorFun():\n",
    "    yield 1\n",
    "    return 2   # execution stops before return\n",
    "    yield 3\n",
    "  \n",
    "# Driver code to check above generator function\n",
    "for value in simpleGeneratorFun(): \n",
    "    print(value)\n",
    "    "
   ]
  },
  {
   "cell_type": "code",
   "execution_count": 84,
   "metadata": {},
   "outputs": [
    {
     "data": {
      "text/plain": [
       "5"
      ]
     },
     "metadata": {},
     "output_type": "display_data"
    },
    {
     "name": "stdout",
     "output_type": "stream",
     "text": [
      "5\n"
     ]
    },
    {
     "data": {
      "text/plain": [
       "3"
      ]
     },
     "metadata": {},
     "output_type": "display_data"
    }
   ],
   "source": [
    "def print_():\n",
    "    return 5\n",
    "display(print_())\n",
    "print(print_())\n",
    "display(3)"
   ]
  },
  {
   "cell_type": "code",
   "execution_count": null,
   "metadata": {},
   "outputs": [],
   "source": []
  }
 ],
 "metadata": {
  "kernelspec": {
   "display_name": "newenv",
   "language": "python",
   "name": "newenv"
  },
  "language_info": {
   "codemirror_mode": {
    "name": "ipython",
    "version": 3
   },
   "file_extension": ".py",
   "mimetype": "text/x-python",
   "name": "python",
   "nbconvert_exporter": "python",
   "pygments_lexer": "ipython3",
   "version": "3.10.4"
  }
 },
 "nbformat": 4,
 "nbformat_minor": 2
}
