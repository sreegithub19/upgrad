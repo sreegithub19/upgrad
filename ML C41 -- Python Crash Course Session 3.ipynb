{
 "cells": [
  {
   "cell_type": "code",
   "execution_count": null,
   "metadata": {},
   "outputs": [],
   "source": [
    "from IPython.core.display import display,HTML\n",
    "import copy\n",
    "\n",
    "# Data structures\n",
    "\n",
    "display(HTML('''\n",
    "<h3>Topics covered today:</h3>\n",
    "<ul>\n",
    "    <li>Range</li>\n",
    "    <li> List Comprehension</li>\n",
    "</ul>\n",
    "'''))\n"
   ]
  }
 ],
 "metadata": {
  "kernelspec": {
   "display_name": "Python 3",
   "language": "python",
   "name": "python3"
  },
  "language_info": {
   "codemirror_mode": {
    "name": "ipython",
    "version": 3
   },
   "file_extension": ".py",
   "mimetype": "text/x-python",
   "name": "python",
   "nbconvert_exporter": "python",
   "pygments_lexer": "ipython3",
   "version": "3.7.1"
  }
 },
 "nbformat": 4,
 "nbformat_minor": 2
}
