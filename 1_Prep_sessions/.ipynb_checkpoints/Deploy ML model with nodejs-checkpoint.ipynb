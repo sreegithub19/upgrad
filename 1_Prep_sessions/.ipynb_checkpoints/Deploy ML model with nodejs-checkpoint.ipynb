{
 "cells": [
  {
   "cell_type": "markdown",
   "id": "92b25130",
   "metadata": {},
   "source": [
    "Reference: https://www.geeksforgeeks.org/how-to-deploy-a-machine-learning-model-using-node-js/"
   ]
  },
  {
   "cell_type": "code",
   "execution_count": 1,
   "id": "ee5dba24",
   "metadata": {},
   "outputs": [
    {
     "name": "stderr",
     "output_type": "stream",
     "text": [
      "2023-05-14 17:32:18.845107: I tensorflow/core/platform/cpu_feature_guard.cc:182] This TensorFlow binary is optimized to use available CPU instructions in performance-critical operations.\n",
      "To enable the following instructions: AVX2 AVX512F AVX512_VNNI FMA, in other operations, rebuild TensorFlow with the appropriate compiler flags.\n"
     ]
    },
    {
     "name": "stdout",
     "output_type": "stream",
     "text": [
      "Downloading data from https://storage.googleapis.com/tensorflow/tf-keras-datasets/mnist.npz\n",
      "11490434/11490434 [==============================] - 3s 0us/step\n",
      "X_train.shape: (60000, 28, 28)\n",
      "y_train.shape: (60000,)\n",
      "X_test.shape: (10000, 28, 28)\n",
      "y_test.shape: (10000,)\n"
     ]
    },
    {
     "data": {
      "image/png": "[encoded data removed]",
      "text/plain": [
       "<Figure size 640x480 with 6 Axes>"
      ]
     },
     "metadata": {},
     "output_type": "display_data"
    },
    {
     "name": "stdout",
     "output_type": "stream",
     "text": [
      "1875/1875 [==============================] - 9s 4ms/step - loss: 0.1898 - accuracy: 0.9433 - val_loss: 0.0937 - val_accuracy: 0.9718\n"
     ]
    },
    {
     "data": {
      "text/plain": [
       "<keras.callbacks.History at 0x1410bb880>"
      ]
     },
     "execution_count": 1,
     "metadata": {},
     "output_type": "execute_result"
    }
   ],
   "source": [
    "# Importing Libraries\n",
    "from tensorflow.keras.datasets import mnist\n",
    "import matplotlib.pyplot as plt\n",
    "from keras.utils import np_utils\n",
    "from keras import Sequential\n",
    "from keras.layers import Dense\n",
    "import tensorflowjs as tfjs\n",
    "\n",
    "# Loading data\n",
    "(X_train, y_train), (X_test, y_test) = mnist.load_data()\n",
    "print (\"X_train.shape: {}\".format(X_train.shape))\n",
    "print (\"y_train.shape: {}\".format(y_train.shape))\n",
    "print (\"X_test.shape: {}\".format(X_test.shape))\n",
    "print (\"y_test.shape: {}\".format(y_test.shape))\n",
    "\n",
    "# Visualizing Data\n",
    "plt.subplot(161)\n",
    "plt.imshow(X_train[3], cmap=plt.get_cmap('gray'))\n",
    "plt.subplot(162)\n",
    "plt.imshow(X_train[5], cmap=plt.get_cmap('gray'))\n",
    "plt.subplot(163)\n",
    "plt.imshow(X_train[7], cmap=plt.get_cmap('gray'))\n",
    "plt.subplot(164)\n",
    "plt.imshow(X_train[2], cmap=plt.get_cmap('gray'))\n",
    "plt.subplot(165)\n",
    "plt.imshow(X_train[0], cmap=plt.get_cmap('gray'))\n",
    "plt.subplot(166)\n",
    "plt.imshow(X_train[13], cmap=plt.get_cmap('gray'))\n",
    "\n",
    "plt.show()\n",
    "\n",
    "# Normalize Inputs from 0–255 to 0–1\n",
    "X_train = X_train / 255\n",
    "X_test = X_test / 255\n",
    "# One-Hot Encode outputs\n",
    "y_train = np_utils.to_categorical(y_train)\n",
    "y_test = np_utils.to_categorical(y_test)\n",
    "num_classes = 10\n",
    "\n",
    "# Training model\n",
    "x_train_simple = X_train.reshape(60000, 28 * 28).astype('float32')\n",
    "x_test_simple = X_test.reshape(10000, 28 * 28).astype('float32')\n",
    "model = Sequential()\n",
    "model.add(Dense(28 * 28, input_dim=28 * 28, activation='relu'))\n",
    "model.add(Dense(num_classes, activation='softmax'))\n",
    "model.compile(loss='categorical_crossentropy',\n",
    "\t\toptimizer='adam', metrics=['accuracy'])\n",
    "model.fit(x_train_simple, y_train,\n",
    "\t\tvalidation_data=(x_test_simple, y_test))\n"
   ]
  },
  {
   "cell_type": "code",
   "execution_count": 3,
   "id": "29232234",
   "metadata": {},
   "outputs": [],
   "source": [
    "model.save(\"model.h5\")"
   ]
  },
  {
   "cell_type": "code",
   "execution_count": 8,
   "id": "2a56b831",
   "metadata": {},
   "outputs": [],
   "source": [
    "!tensorflowjs_converter --input_format keras 'model.h5' 'mnist-model'"
   ]
  },
  {
   "cell_type": "code",
   "execution_count": null,
   "id": "d65091d6",
   "metadata": {},
   "outputs": [],
   "source": []
  }
 ],
 "metadata": {
  "kernelspec": {
   "display_name": "Python 3 (ipykernel)",
   "language": "python",
   "name": "python3"
  },
  "language_info": {
   "codemirror_mode": {
    "name": "ipython",
    "version": 3
   },
   "file_extension": ".py",
   "mimetype": "text/x-python",
   "name": "python",
   "nbconvert_exporter": "python",
   "pygments_lexer": "ipython3",
   "version": "3.8.0"
  },
  "varInspector": {
   "cols": {
    "lenName": 16,
    "lenType": 16,
    "lenVar": 40
   },
   "kernels_config": {
    "python": {
     "delete_cmd_postfix": "",
     "delete_cmd_prefix": "del ",
     "library": "var_list.py",
     "varRefreshCmd": "print(var_dic_list())"
    },
    "r": {
     "delete_cmd_postfix": ") ",
     "delete_cmd_prefix": "rm(",
     "library": "var_list.r",
     "varRefreshCmd": "cat(var_dic_list()) "
    }
   },
   "types_to_exclude": [
    "module",
    "function",
    "builtin_function_or_method",
    "instance",
    "_Feature"
   ],
   "window_display": false
  }
 },
 "nbformat": 4,
 "nbformat_minor": 5
}
