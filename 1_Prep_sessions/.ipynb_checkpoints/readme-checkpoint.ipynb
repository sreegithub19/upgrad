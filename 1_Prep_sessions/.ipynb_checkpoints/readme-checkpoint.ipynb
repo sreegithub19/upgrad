{
 "cells": [
  {
   "cell_type": "markdown",
   "id": "dbe362c3",
   "metadata": {},
   "source": [
    "### Prep course certificate of completion\n",
    "\n",
    "1. \n",
    "Accredible credentials: (https://www.accredible.com/) \n",
    "\n",
    "    Email: cpadmaja2003@gmail.com <br>\n",
    "    Password: Sree@accredible2022 \n",
    "\n",
    "    Certificate link: https://pdf.credential.net/0y5s61xc_1655971443987.pdf\n",
    "    \n",
    "    \n",
    "2. Class recordings: https://live.upgrad.com/\n",
    "\n",
    "(under \"Completed\" -> \"View Summary\") "
   ]
  },
  {
   "cell_type": "code",
   "execution_count": null,
   "id": "035e1148",
   "metadata": {},
   "outputs": [],
   "source": []
  }
 ],
 "metadata": {
  "kernelspec": {
   "display_name": "Python 3 (ipykernel)",
   "language": "python",
   "name": "python3"
  },
  "language_info": {
   "codemirror_mode": {
    "name": "ipython",
    "version": 3
   },
   "file_extension": ".py",
   "mimetype": "text/x-python",
   "name": "python",
   "nbconvert_exporter": "python",
   "pygments_lexer": "ipython3",
   "version": "3.8.0"
  },
  "varInspector": {
   "cols": {
    "lenName": 16,
    "lenType": 16,
    "lenVar": 40
   },
   "kernels_config": {
    "python": {
     "delete_cmd_postfix": "",
     "delete_cmd_prefix": "del ",
     "library": "var_list.py",
     "varRefreshCmd": "print(var_dic_list())"
    },
    "r": {
     "delete_cmd_postfix": ") ",
     "delete_cmd_prefix": "rm(",
     "library": "var_list.r",
     "varRefreshCmd": "cat(var_dic_list()) "
    }
   },
   "types_to_exclude": [
    "module",
    "function",
    "builtin_function_or_method",
    "instance",
    "_Feature"
   ],
   "window_display": false
  }
 },
 "nbformat": 4,
 "nbformat_minor": 5
}
