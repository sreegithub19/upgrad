{
 "cells": [
  {
   "cell_type": "markdown",
   "metadata": {},
   "source": [
    "## Contents:\n",
    "\n",
    "0. [Installing_packages](#Installing_packages)<br>\n",
    "1. [Data_structures](#Data_structures)<br>\n",
    "2. [OOP](#OOP)<br>\n",
    "3. [Control_structures_and_loops](#Control_structures_and_loops)<br>\n",
    "4. [Python_basics__variables_data_types_functions](#Python_basics__variables_data_types_functions)<br>"
   ]
  },
  {
   "cell_type": "markdown",
   "metadata": {},
   "source": [
    "<a id='Installing_packages'>To install pip / pip3 packages</a>"
   ]
  },
  {
   "cell_type": "code",
   "execution_count": 2,
   "metadata": {},
   "outputs": [
    {
     "name": "stdout",
     "output_type": "stream",
     "text": [
      "Collecting plotly\n",
      "  Downloading plotly-5.11.0-py2.py3-none-any.whl (15.3 MB)\n",
      "     ━━━━━━━━━━━━━━━━━━━━━━━━━━━━━━━━━━━━━━━━ 15.3/15.3 MB 1.8 MB/s eta 0:00:00\n",
      "Collecting tenacity>=6.2.0\n",
      "  Downloading tenacity-8.1.0-py3-none-any.whl (23 kB)\n",
      "Installing collected packages: tenacity, plotly\n",
      "Successfully installed plotly-5.11.0 tenacity-8.1.0\n",
      "Requirement already satisfied: scikit-learn in /Users/sreedhar.k/.pyenv/versions/3.8.0/lib/python3.8/site-packages (1.1.2)\n",
      "Requirement already satisfied: scipy>=1.3.2 in /Users/sreedhar.k/.pyenv/versions/3.8.0/lib/python3.8/site-packages (from scikit-learn) (1.9.3)\n",
      "Requirement already satisfied: numpy>=1.17.3 in /Users/sreedhar.k/.pyenv/versions/3.8.0/lib/python3.8/site-packages (from scikit-learn) (1.23.4)\n",
      "Requirement already satisfied: joblib>=1.0.0 in /Users/sreedhar.k/.pyenv/versions/3.8.0/lib/python3.8/site-packages (from scikit-learn) (1.2.0)\n",
      "Requirement already satisfied: threadpoolctl>=2.0.0 in /Users/sreedhar.k/.pyenv/versions/3.8.0/lib/python3.8/site-packages (from scikit-learn) (3.1.0)\n",
      "1.1.2\n"
     ]
    }
   ],
   "source": [
    "import subprocess\n",
    "import sys\n",
    "import sklearn\n",
    "\n",
    "def install(package):\n",
    "    subprocess.check_call([sys.executable, \"-m\", \"pip\", \"install\", package]) \n",
    "    subprocess.run([\"pip\",\"install\",\"scikit-learn\"])\n",
    "    print(sklearn.__version__) # 1.1.3\n",
    "    \n",
    "install(\"plotly\")  # instead of imblearn"
   ]
  },
  {
   "cell_type": "markdown",
   "metadata": {
    "colab_type": "text",
    "id": "EBR-i0B7H_07"
   },
   "source": [
    "<a id='Data_structures'>Data_structures</a>\n",
    "\n",
    "In the last session, we had a look at the String data type which could be used to store character values. Now let's try building an application which records a customer's detail and assign it a unique user id number generated randomly."
   ]
  },
  {
   "cell_type": "code",
   "execution_count": null,
   "metadata": {},
   "outputs": [],
   "source": []
  },
  {
   "cell_type": "code",
   "execution_count": 1,
   "metadata": {
    "colab": {
     "base_uri": "https://localhost:8080/",
     "height": 51
    },
    "colab_type": "code",
    "id": "rf6E8TiOIc4I",
    "outputId": "c33af080-0f0c-4a97-9140-cfb5c7c11755"
   },
   "outputs": [
    {
     "name": "stdout",
     "output_type": "stream",
     "text": [
      "What's your name ergvr\n",
      "What's your number e3frv\n"
     ]
    }
   ],
   "source": [
    "#We would ask the user for his name and mobile number\n",
    "name= input(\"What's your name \")\n",
    "number= input(\"What's your number \")"
   ]
  },
  {
   "cell_type": "code",
   "execution_count": 2,
   "metadata": {
    "colab": {
     "base_uri": "https://localhost:8080/",
     "height": 34
    },
    "colab_type": "code",
    "id": "8q1xBtdUJ1zu",
    "outputId": "70c316d8-f87e-460c-c538-f56b550e2067"
   },
   "outputs": [
    {
     "name": "stdout",
     "output_type": "stream",
     "text": [
      "668\n"
     ]
    }
   ],
   "source": [
    "from random import seed\n",
    "from random import randint\n",
    "\n",
    "# generate a three digit random integers for user id\n",
    "value = randint(100, 999)\n",
    "print(value)"
   ]
  },
  {
   "cell_type": "code",
   "execution_count": 3,
   "metadata": {
    "colab": {},
    "colab_type": "code",
    "id": "HiRqwupiLFiH"
   },
   "outputs": [
    {
     "name": "stdout",
     "output_type": "stream",
     "text": [
      "What's your name efrg3g4\n",
      "What's your number 24325435\n"
     ]
    }
   ],
   "source": [
    "#Now if I want to store these values together I can create a list data type\n",
    "name= input(\"What's your name \")\n",
    "number= input(\"What's your number \")\n",
    "value = randint(100, 999)\n",
    "#Creating a list\n"
   ]
  },
  {
   "cell_type": "code",
   "execution_count": null,
   "metadata": {
    "colab": {},
    "colab_type": "code",
    "id": "2-YhuCWbL2G0"
   },
   "outputs": [],
   "source": []
  },
  {
   "cell_type": "markdown",
   "metadata": {
    "colab_type": "text",
    "id": "pFQ6WjPZMW8h"
   },
   "source": [
    "Hmm, that works. But what if I would like to add some security and make user id un-changeable or as we call it in programming - immutable, in that case, we'll use a tuple. \n",
    "\n",
    "So in this session, we are going to learn more about another new word or a data type actually which is called \"Tuple\"\n"
   ]
  },
  {
   "cell_type": "markdown",
   "metadata": {
    "colab_type": "text",
    "id": "Xyqh0MJlx7tr"
   },
   "source": [
    "<h1 style=\"color:Brown\"> Tuples </h1>\n",
    "\n",
    "- Tuples are an ordered sequence of mixed data types.\n",
    "- Tuples are written as comma-separated  elements within parenthesis\n"
   ]
  },
  {
   "cell_type": "code",
   "execution_count": 4,
   "metadata": {
    "colab": {
     "base_uri": "https://localhost:8080/",
     "height": 35
    },
    "colab_type": "code",
    "id": "6YXvoJPax7ts",
    "outputId": "201553dc-896e-4e1b-ec30-e10e599cbc90"
   },
   "outputs": [
    {
     "data": {
      "text/plain": [
       "('disco', 12, 4.5)"
      ]
     },
     "execution_count": 4,
     "metadata": {},
     "output_type": "execute_result"
    }
   ],
   "source": [
    "t = (\"disco\", 12, 4.5)\n",
    "t"
   ]
  },
  {
   "cell_type": "code",
   "execution_count": 5,
   "metadata": {
    "colab": {
     "base_uri": "https://localhost:8080/",
     "height": 35
    },
    "colab_type": "code",
    "id": "fXqQjadkx7tx",
    "outputId": "4c5433ba-044a-4c56-f771-4b844e51e8a9"
   },
   "outputs": [
    {
     "data": {
      "text/plain": [
       "tuple"
      ]
     },
     "execution_count": 5,
     "metadata": {},
     "output_type": "execute_result"
    }
   ],
   "source": [
    "type(t)"
   ]
  },
  {
   "cell_type": "markdown",
   "metadata": {
    "colab_type": "text",
    "id": "IGbcUO05x7t1"
   },
   "source": [
    "<h3> Tuples can be defined is various ways </h3>"
   ]
  },
  {
   "cell_type": "markdown",
   "metadata": {
    "colab_type": "text",
    "id": "jo8Ws7jlx7t1"
   },
   "source": [
    "#### A tuple can be defined without using parenthesis "
   ]
  },
  {
   "cell_type": "code",
   "execution_count": 6,
   "metadata": {
    "colab": {
     "base_uri": "https://localhost:8080/",
     "height": 35
    },
    "colab_type": "code",
    "id": "5skAlIKMx7t2",
    "outputId": "216521bd-b60c-4a61-fb1f-6f344ec077b4"
   },
   "outputs": [
    {
     "name": "stdout",
     "output_type": "stream",
     "text": [
      "(1, 2, 3, 4)\n"
     ]
    }
   ],
   "source": [
    "sample_tuple = 1,2,3,4\n",
    "\n",
    "print(sample_tuple)"
   ]
  },
  {
   "cell_type": "markdown",
   "metadata": {
    "colab_type": "text",
    "id": "Bsg6FL0Sx7t7"
   },
   "source": [
    "#### Single value tuple"
   ]
  },
  {
   "cell_type": "code",
   "execution_count": 7,
   "metadata": {
    "colab": {
     "base_uri": "https://localhost:8080/",
     "height": 35
    },
    "colab_type": "code",
    "id": "Klvbt3t1x7t7",
    "outputId": "8b0dace3-f880-4359-c9a0-80c448b06ab8"
   },
   "outputs": [
    {
     "name": "stdout",
     "output_type": "stream",
     "text": [
      "(1,)\n"
     ]
    }
   ],
   "source": [
    "sample_tuple = 1,  \n",
    "print(sample_tuple)"
   ]
  },
  {
   "cell_type": "code",
   "execution_count": 8,
   "metadata": {
    "colab": {},
    "colab_type": "code",
    "id": "OwR83NNBx7t_"
   },
   "outputs": [
    {
     "name": "stdout",
     "output_type": "stream",
     "text": [
      "(1,)\n"
     ]
    }
   ],
   "source": [
    "sample_tuple = (1,)  \n",
    "print(sample_tuple)"
   ]
  },
  {
   "cell_type": "code",
   "execution_count": 9,
   "metadata": {
    "colab": {},
    "colab_type": "code",
    "id": "CRG6Lmfjx7uE"
   },
   "outputs": [],
   "source": [
    "sample_tuple1 = 1   # This is not a tuple"
   ]
  },
  {
   "cell_type": "code",
   "execution_count": 10,
   "metadata": {
    "colab": {},
    "colab_type": "code",
    "id": "rZPL8Lr_x7uI"
   },
   "outputs": [],
   "source": [
    "sample_tuple2 = (1) # This is not a tuple"
   ]
  },
  {
   "cell_type": "markdown",
   "metadata": {
    "colab_type": "text",
    "id": "Yppn4X0jx7uM"
   },
   "source": [
    "### Indexing in tuples"
   ]
  },
  {
   "cell_type": "code",
   "execution_count": 11,
   "metadata": {
    "colab": {},
    "colab_type": "code",
    "id": "qu5TyAOqx7uN"
   },
   "outputs": [],
   "source": [
    "t = (\"Mumbai\", 84, \"Python\",)"
   ]
  },
  {
   "cell_type": "code",
   "execution_count": 12,
   "metadata": {
    "colab": {},
    "colab_type": "code",
    "id": "rAEz0yjOx7uQ"
   },
   "outputs": [
    {
     "data": {
      "text/plain": [
       "84"
      ]
     },
     "execution_count": 12,
     "metadata": {},
     "output_type": "execute_result"
    }
   ],
   "source": [
    "# gives the element at index location 1\n",
    "t[1]"
   ]
  },
  {
   "cell_type": "code",
   "execution_count": 13,
   "metadata": {
    "colab": {},
    "colab_type": "code",
    "id": "mqX3hCRSx7uU"
   },
   "outputs": [
    {
     "data": {
      "text/plain": [
       "'Python'"
      ]
     },
     "execution_count": 13,
     "metadata": {},
     "output_type": "execute_result"
    }
   ],
   "source": [
    "# gives the last element from tuple\n",
    "t[-1]"
   ]
  },
  {
   "cell_type": "code",
   "execution_count": null,
   "metadata": {
    "colab": {},
    "colab_type": "code",
    "id": "U_OhHbFDx7uX"
   },
   "outputs": [],
   "source": []
  },
  {
   "cell_type": "markdown",
   "metadata": {
    "colab_type": "text",
    "id": "YM3BUz1hx7uc"
   },
   "source": [
    "### Slicing"
   ]
  },
  {
   "cell_type": "code",
   "execution_count": 14,
   "metadata": {
    "colab": {},
    "colab_type": "code",
    "id": "tPP0_Pqex7uc"
   },
   "outputs": [
    {
     "data": {
      "text/plain": [
       "('Seattle', 84, 'Python')"
      ]
     },
     "execution_count": 14,
     "metadata": {},
     "output_type": "execute_result"
    }
   ],
   "source": [
    "# Slicing first 3 elements from t\n",
    "\n",
    "t = (\"Seattle\", 84, \"Python\", 5, 2, 1)\n",
    "\n",
    "t[0:3]"
   ]
  },
  {
   "cell_type": "code",
   "execution_count": 15,
   "metadata": {
    "colab": {},
    "colab_type": "code",
    "id": "vNXGkaYPx7ug"
   },
   "outputs": [
    {
     "data": {
      "text/plain": [
       "(2, 1)"
      ]
     },
     "execution_count": 15,
     "metadata": {},
     "output_type": "execute_result"
    }
   ],
   "source": [
    "# Slicing last 2 elements from t\n",
    "\n",
    "t = (\"Seattle\", 84, \"Python\", 5, 2, 1)\n",
    "\n",
    "t[-2:]"
   ]
  },
  {
   "cell_type": "code",
   "execution_count": 16,
   "metadata": {
    "colab": {},
    "colab_type": "code",
    "id": "l5lWQS4Tx7ui"
   },
   "outputs": [
    {
     "data": {
      "text/plain": [
       "6"
      ]
     },
     "execution_count": 16,
     "metadata": {},
     "output_type": "execute_result"
    }
   ],
   "source": [
    "# no. of elements in tuple t\n",
    "t = (\"Seattle\", 84, \"Python\", 5, 2, 1)\n",
    "len(t)"
   ]
  },
  {
   "cell_type": "markdown",
   "metadata": {
    "colab_type": "text",
    "id": "dfaI2Nqgx7ul"
   },
   "source": [
    "#### Cancatenating tuples"
   ]
  },
  {
   "cell_type": "code",
   "execution_count": 17,
   "metadata": {
    "colab": {
     "base_uri": "https://localhost:8080/",
     "height": 35
    },
    "colab_type": "code",
    "id": "fL0waJTCx7um",
    "outputId": "d27d45f4-864e-42c1-fa1e-ac27ecb7200f"
   },
   "outputs": [
    {
     "data": {
      "text/plain": [
       "('This', 'is', 'Session', 2, 'on', 'Tuples')"
      ]
     },
     "execution_count": 17,
     "metadata": {},
     "output_type": "execute_result"
    }
   ],
   "source": [
    "tup1 = (\"This\", \"is\", \"Session\", 2)\n",
    "tup2 = (\"on\", \"Tuples\")\n",
    "\n",
    "# Adding contents of tup2 to tup1 and storing in tup3\n",
    "\n",
    "tup3 = tup1 + tup2\n",
    "\n",
    "tup3"
   ]
  },
  {
   "cell_type": "markdown",
   "metadata": {
    "colab_type": "text",
    "id": "q9Z0-2hcx7up"
   },
   "source": [
    "#### sum() - min() - max()"
   ]
  },
  {
   "cell_type": "code",
   "execution_count": 18,
   "metadata": {
    "colab": {},
    "colab_type": "code",
    "id": "KhMnnZCux7uq"
   },
   "outputs": [
    {
     "data": {
      "text/plain": [
       "21"
      ]
     },
     "execution_count": 18,
     "metadata": {},
     "output_type": "execute_result"
    }
   ],
   "source": [
    "t = (2, 4, 3, 5, 7)\n",
    "sum(t)"
   ]
  },
  {
   "cell_type": "code",
   "execution_count": 19,
   "metadata": {
    "colab": {},
    "colab_type": "code",
    "id": "AwOw8Gmyx7ut"
   },
   "outputs": [
    {
     "data": {
      "text/plain": [
       "2"
      ]
     },
     "execution_count": 19,
     "metadata": {},
     "output_type": "execute_result"
    }
   ],
   "source": [
    "t = (2, 4, 3, 5, 7)\n",
    "min(t)"
   ]
  },
  {
   "cell_type": "code",
   "execution_count": 20,
   "metadata": {
    "colab": {},
    "colab_type": "code",
    "id": "ak8rmV4Zx7ux"
   },
   "outputs": [
    {
     "data": {
      "text/plain": [
       "7"
      ]
     },
     "execution_count": 20,
     "metadata": {},
     "output_type": "execute_result"
    }
   ],
   "source": [
    "t = (2, 4, 3, 5, 7)\n",
    "max(t)"
   ]
  },
  {
   "cell_type": "markdown",
   "metadata": {
    "colab_type": "text",
    "id": "CvpFRcNcx7u0"
   },
   "source": [
    "### Immutability of tuples"
   ]
  },
  {
   "cell_type": "code",
   "execution_count": 22,
   "metadata": {
    "colab": {},
    "colab_type": "code",
    "id": "EqwWhfs7x7u1"
   },
   "outputs": [
    {
     "ename": "TypeError",
     "evalue": "'tuple' object does not support item assignment",
     "output_type": "error",
     "traceback": [
      "\u001b[1;31m---------------------------------------------------------------------------\u001b[0m",
      "\u001b[1;31mTypeError\u001b[0m                                 Traceback (most recent call last)",
      "Input \u001b[1;32mIn [22]\u001b[0m, in \u001b[0;36m<cell line: 3>\u001b[1;34m()\u001b[0m\n\u001b[0;32m      1\u001b[0m t \u001b[38;5;241m=\u001b[39m (\u001b[38;5;124m\"\u001b[39m\u001b[38;5;124mUSA\u001b[39m\u001b[38;5;124m\"\u001b[39m, \u001b[38;5;241m4\u001b[39m, \u001b[38;5;241m3\u001b[39m, \u001b[38;5;124m\"\u001b[39m\u001b[38;5;124mDisco\u001b[39m\u001b[38;5;124m\"\u001b[39m, \u001b[38;5;241m7.5\u001b[39m)\n\u001b[1;32m----> 3\u001b[0m t[\u001b[38;5;241m3\u001b[39m] \u001b[38;5;241m=\u001b[39m \u001b[38;5;124m\"\u001b[39m\u001b[38;5;124mHard Rock\u001b[39m\u001b[38;5;124m\"\u001b[39m\n",
      "\u001b[1;31mTypeError\u001b[0m: 'tuple' object does not support item assignment"
     ]
    }
   ],
   "source": [
    "t = (\"USA\", 4, 3, \"Disco\", 7.5)\n",
    "\n",
    "t[3] = \"Hard Rock\""
   ]
  },
  {
   "cell_type": "code",
   "execution_count": 24,
   "metadata": {
    "colab": {},
    "colab_type": "code",
    "id": "jRjPAQw9x7u4"
   },
   "outputs": [
    {
     "data": {
      "text/plain": [
       "('USA', 4, 3, 'Hard Rock', 7.5)"
      ]
     },
     "execution_count": 24,
     "metadata": {},
     "output_type": "execute_result"
    }
   ],
   "source": [
    "new_t = t[0:3] + (\"Hard Rock\",) + t[4:]\n",
    "new_t"
   ]
  },
  {
   "cell_type": "markdown",
   "metadata": {
    "colab_type": "text",
    "id": "nUeqxCYqx7u6"
   },
   "source": [
    "### Sorting a tuple"
   ]
  },
  {
   "cell_type": "code",
   "execution_count": 25,
   "metadata": {
    "colab": {},
    "colab_type": "code",
    "id": "eymTG_7hx7u8"
   },
   "outputs": [
    {
     "data": {
      "text/plain": [
       "[2, 3, 4, 5, 6, 8]"
      ]
     },
     "execution_count": 25,
     "metadata": {},
     "output_type": "execute_result"
    }
   ],
   "source": [
    "t = (2,3,6,4,8,5)\n",
    "\n",
    "sorted(t)"
   ]
  },
  {
   "cell_type": "code",
   "execution_count": 26,
   "metadata": {
    "colab": {},
    "colab_type": "code",
    "id": "hljAjaa4x7u_"
   },
   "outputs": [
    {
     "data": {
      "text/plain": [
       "(2, 3, 4, 5, 6, 8)"
      ]
     },
     "execution_count": 26,
     "metadata": {},
     "output_type": "execute_result"
    }
   ],
   "source": [
    "x = sorted(t)\n",
    "\n",
    "tuple(x)"
   ]
  },
  {
   "cell_type": "code",
   "execution_count": 27,
   "metadata": {
    "colab": {},
    "colab_type": "code",
    "id": "YERCWJbWx7vD"
   },
   "outputs": [
    {
     "data": {
      "text/plain": [
       "'Java'"
      ]
     },
     "execution_count": 27,
     "metadata": {},
     "output_type": "execute_result"
    }
   ],
   "source": [
    "# Nested Tuples\n",
    "\n",
    "t = (1,5,\"Disco\", (\"Python\", \"Java\"))\n",
    "\n",
    "# Access \"Java\" from the nested tuple\n",
    "t[3][1]"
   ]
  },
  {
   "cell_type": "markdown",
   "metadata": {
    "colab_type": "text",
    "id": "uW5tx7dPx7vH"
   },
   "source": [
    "### Packing and Unpacking In Tuples"
   ]
  },
  {
   "cell_type": "code",
   "execution_count": 28,
   "metadata": {
    "colab": {},
    "colab_type": "code",
    "id": "ZvNrF_5dx7vJ"
   },
   "outputs": [
    {
     "name": "stdout",
     "output_type": "stream",
     "text": [
      "1\n"
     ]
    }
   ],
   "source": [
    "t = (1,2,3,4)     # Packing \n",
    "(a,b,c,d) = t     # Unpacking \n",
    "print (a)"
   ]
  },
  {
   "cell_type": "markdown",
   "metadata": {
    "colab_type": "text",
    "id": "uIZxFBdCx7vO"
   },
   "source": [
    "#### dir() - to view the attributes or methods of an object"
   ]
  },
  {
   "cell_type": "code",
   "execution_count": 29,
   "metadata": {
    "colab": {},
    "colab_type": "code",
    "id": "hsvllf0nx7vP"
   },
   "outputs": [
    {
     "name": "stdout",
     "output_type": "stream",
     "text": [
      "['__add__', '__class__', '__class_getitem__', '__contains__', '__delattr__', '__dir__', '__doc__', '__eq__', '__format__', '__ge__', '__getattribute__', '__getitem__', '__getnewargs__', '__gt__', '__hash__', '__init__', '__init_subclass__', '__iter__', '__le__', '__len__', '__lt__', '__mul__', '__ne__', '__new__', '__reduce__', '__reduce_ex__', '__repr__', '__rmul__', '__setattr__', '__sizeof__', '__str__', '__subclasshook__', 'count', 'index']\n"
     ]
    }
   ],
   "source": [
    "t = ()\n",
    "print(dir(t))"
   ]
  },
  {
   "cell_type": "markdown",
   "metadata": {
    "colab_type": "text",
    "id": "XHBHN4hax7vS"
   },
   "source": [
    "<h1 style=\"color:Brown\"> Lists </h1>\n",
    "\n",
    "- Lists are an ordered sequnce of mixed data types.\n",
    "- Lists are written as comma-separated  elements within square brackets"
   ]
  },
  {
   "cell_type": "code",
   "execution_count": 30,
   "metadata": {
    "colab": {},
    "colab_type": "code",
    "id": "EzFn8Qkux7vS"
   },
   "outputs": [
    {
     "data": {
      "text/plain": [
       "['USA', 23, 6, 'New York']"
      ]
     },
     "execution_count": 30,
     "metadata": {},
     "output_type": "execute_result"
    }
   ],
   "source": [
    "L = [\"USA\", 23, 6, \"New York\"]\n",
    "\n",
    "L"
   ]
  },
  {
   "cell_type": "code",
   "execution_count": 31,
   "metadata": {
    "colab": {},
    "colab_type": "code",
    "id": "ZmEshiIlx7vV"
   },
   "outputs": [
    {
     "data": {
      "text/plain": [
       "['Chemistry', 'Biology', [1989, 2004], ('Oreily', 'Pearson')]"
      ]
     },
     "execution_count": 31,
     "metadata": {},
     "output_type": "execute_result"
    }
   ],
   "source": [
    "# Nested List\n",
    "L = [\"Chemistry\", \"Biology\", [1989, 2004], (\"Oreily\", \"Pearson\")]\n",
    "\n",
    "L"
   ]
  },
  {
   "cell_type": "code",
   "execution_count": 32,
   "metadata": {
    "colab": {},
    "colab_type": "code",
    "id": "eCmBWZCMx7vY"
   },
   "outputs": [
    {
     "data": {
      "text/plain": [
       "'Chemistry'"
      ]
     },
     "execution_count": 32,
     "metadata": {},
     "output_type": "execute_result"
    }
   ],
   "source": [
    "# Indexing\n",
    "L = [\"Chemistry\", \"Biology\", [1989, 2004], (\"Oreily\", \"Pearson\")]\n",
    "\n",
    "L[0]"
   ]
  },
  {
   "cell_type": "code",
   "execution_count": 33,
   "metadata": {
    "colab": {},
    "colab_type": "code",
    "id": "7AwJ_GDhx7vf"
   },
   "outputs": [
    {
     "data": {
      "text/plain": [
       "'Biology'"
      ]
     },
     "execution_count": 33,
     "metadata": {},
     "output_type": "execute_result"
    }
   ],
   "source": [
    "L[-3]"
   ]
  },
  {
   "cell_type": "code",
   "execution_count": 34,
   "metadata": {
    "colab": {},
    "colab_type": "code",
    "id": "sg_eiobWx7vh"
   },
   "outputs": [
    {
     "data": {
      "text/plain": [
       "'Pearson'"
      ]
     },
     "execution_count": 34,
     "metadata": {},
     "output_type": "execute_result"
    }
   ],
   "source": [
    "L[-1][-1]"
   ]
  },
  {
   "cell_type": "code",
   "execution_count": 35,
   "metadata": {
    "colab": {},
    "colab_type": "code",
    "id": "k0416Q_Qx7vk"
   },
   "outputs": [
    {
     "data": {
      "text/plain": [
       "['Chemistry', 'Biology', [1989, 2004]]"
      ]
     },
     "execution_count": 35,
     "metadata": {},
     "output_type": "execute_result"
    }
   ],
   "source": [
    "# Slicing\n",
    "\n",
    "L[0:3]"
   ]
  },
  {
   "cell_type": "code",
   "execution_count": 36,
   "metadata": {
    "colab": {},
    "colab_type": "code",
    "id": "s0bEjiD1x7vm"
   },
   "outputs": [
    {
     "name": "stdout",
     "output_type": "stream",
     "text": [
      "True\n",
      "True\n"
     ]
    }
   ],
   "source": [
    "#Membership in Lists\n",
    "\n",
    "L1 = [1,2,3,4]\n",
    "print(1 in L1)  # True\n",
    "print (8 not in L1)  # True"
   ]
  },
  {
   "cell_type": "code",
   "execution_count": 37,
   "metadata": {
    "colab": {},
    "colab_type": "code",
    "id": "Q7UXSFpjx7vp"
   },
   "outputs": [
    {
     "data": {
      "text/plain": [
       "['Chemistry', 'Biology', [1989, 2004], ('Oreily', 'Pearson'), 5, 8]"
      ]
     },
     "execution_count": 37,
     "metadata": {},
     "output_type": "execute_result"
    }
   ],
   "source": [
    "# List Concatanetion\n",
    "\n",
    "L = [\"Chemistry\", \"Biology\", [1989, 2004], (\"Oreily\", \"Pearson\")]\n",
    "new_L = L + [5, 8]\n",
    "new_L"
   ]
  },
  {
   "cell_type": "code",
   "execution_count": 38,
   "metadata": {
    "colab": {},
    "colab_type": "code",
    "id": "xnPiiDAVx7vr",
    "outputId": "640f952e-c487-4311-df7b-f65335a25b0f"
   },
   "outputs": [
    {
     "data": {
      "text/plain": [
       "['Chemistry', 'Physics', [1989, 2004], ('Oreily', 'Pearson')]"
      ]
     },
     "execution_count": 38,
     "metadata": {},
     "output_type": "execute_result"
    }
   ],
   "source": [
    "# Replace \"Biology\" with \"Physics\"\n",
    "\n",
    "L = [\"Chemistry\", \"Biology\", [1989, 2004], (\"Oreily\", \"Pearson\")]\n",
    "\n",
    "L[1] = \"Physics\"\n",
    "\n",
    "L"
   ]
  },
  {
   "cell_type": "code",
   "execution_count": 39,
   "metadata": {
    "colab": {},
    "colab_type": "code",
    "id": "4DH98Wsux7vw",
    "outputId": "765f6742-314e-4c93-df2b-f3a1d24f7e76"
   },
   "outputs": [
    {
     "data": {
      "text/plain": [
       "['Chemistry', 'Biology', [1989, 2004], ('Oreily', 'Pearson'), 5, 8]"
      ]
     },
     "execution_count": 39,
     "metadata": {},
     "output_type": "execute_result"
    }
   ],
   "source": [
    "# extend()\n",
    "\n",
    "L = [\"Chemistry\", \"Biology\", [1989, 2004], (\"Oreily\", \"Pearson\")]\n",
    "L.extend([5, 8])\n",
    "L"
   ]
  },
  {
   "cell_type": "code",
   "execution_count": 40,
   "metadata": {
    "colab": {},
    "colab_type": "code",
    "id": "MpoRElIQx7vz",
    "outputId": "9d72d287-8990-4745-be28-e2f6dd6dca4b"
   },
   "outputs": [
    {
     "data": {
      "text/plain": [
       "['Chemistry', 'Biology', [1989, 2004], ('Oreily', 'Pearson'), [5, 8]]"
      ]
     },
     "execution_count": 40,
     "metadata": {},
     "output_type": "execute_result"
    }
   ],
   "source": [
    "# append()\n",
    "\n",
    "L = [\"Chemistry\", \"Biology\", [1989, 2004], (\"Oreily\", \"Pearson\")]\n",
    "L.append([5, 8])\n",
    "L"
   ]
  },
  {
   "cell_type": "code",
   "execution_count": 41,
   "metadata": {
    "colab": {},
    "colab_type": "code",
    "id": "6zyeBmykx7v2",
    "outputId": "2d3d6c10-0610-4fb5-92a3-5498a1d8d0a7"
   },
   "outputs": [
    {
     "data": {
      "text/plain": [
       "['Biology', [1989, 2004], ('Oreily', 'Pearson')]"
      ]
     },
     "execution_count": 41,
     "metadata": {},
     "output_type": "execute_result"
    }
   ],
   "source": [
    "# del Command\n",
    "\n",
    "L = [\"Chemistry\", \"Biology\", [1989, 2004], (\"Oreily\", \"Pearson\")]\n",
    "del L[0]\n",
    "L"
   ]
  },
  {
   "cell_type": "code",
   "execution_count": 42,
   "metadata": {
    "colab": {},
    "colab_type": "code",
    "id": "0sPpI_ESx7v5",
    "outputId": "123a3778-be9d-40bb-acd1-4ac0fa6b244d"
   },
   "outputs": [
    {
     "data": {
      "text/plain": [
       "[('Oreily', 'Pearson')]"
      ]
     },
     "execution_count": 42,
     "metadata": {},
     "output_type": "execute_result"
    }
   ],
   "source": [
    "del L[0:2]\n",
    "\n",
    "L"
   ]
  },
  {
   "cell_type": "code",
   "execution_count": 43,
   "metadata": {
    "colab": {},
    "colab_type": "code",
    "id": "3SEWBox5x7v9",
    "outputId": "b6734d7e-f6d6-4c57-8f3d-00537849e10b"
   },
   "outputs": [
    {
     "data": {
      "text/plain": [
       "['Chemistry', 'Biology', [1989, 2004]]"
      ]
     },
     "execution_count": 43,
     "metadata": {},
     "output_type": "execute_result"
    }
   ],
   "source": [
    "# pop() \n",
    "\n",
    "L = [\"Chemistry\", \"Biology\", [1989, 2004], (\"Oreily\", \"Pearson\")]\n",
    "\n",
    "L.pop()\n",
    "\n",
    "L"
   ]
  },
  {
   "cell_type": "code",
   "execution_count": 44,
   "metadata": {
    "colab": {},
    "colab_type": "code",
    "id": "ONBhLdiXx7wC"
   },
   "outputs": [
    {
     "data": {
      "text/plain": [
       "['Biology', [1989, 2004], ('Oreily', 'Pearson')]"
      ]
     },
     "execution_count": 44,
     "metadata": {},
     "output_type": "execute_result"
    }
   ],
   "source": [
    "# remove()\n",
    "\n",
    "L = [\"Chemistry\", \"Biology\", [1989, 2004], (\"Oreily\", \"Pearson\")]\n",
    "\n",
    "L.remove(\"Chemistry\")\n",
    "\n",
    "L"
   ]
  },
  {
   "cell_type": "code",
   "execution_count": 45,
   "metadata": {
    "colab": {},
    "colab_type": "code",
    "id": "KRWVucN9x7wF",
    "outputId": "d9430b49-ddd9-4fc6-b94f-ddb75449f154"
   },
   "outputs": [
    {
     "data": {
      "text/plain": [
       "[9, 24, 32, 65]"
      ]
     },
     "execution_count": 45,
     "metadata": {},
     "output_type": "execute_result"
    }
   ],
   "source": [
    "# Sorting Lists\n",
    "\n",
    "l = [32, 24, 65, 9]\n",
    "l.sort()\n",
    "l"
   ]
  },
  {
   "cell_type": "code",
   "execution_count": 46,
   "metadata": {
    "colab": {},
    "colab_type": "code",
    "id": "-Q6mESCsx7wI",
    "outputId": "16d2166a-0d92-4e87-f03e-876beba54cd8"
   },
   "outputs": [
    {
     "data": {
      "text/plain": [
       "[65, 32, 24, 9]"
      ]
     },
     "execution_count": 46,
     "metadata": {},
     "output_type": "execute_result"
    }
   ],
   "source": [
    "l.sort(reverse= True)\n",
    "l"
   ]
  },
  {
   "cell_type": "markdown",
   "metadata": {
    "colab_type": "text",
    "id": "2S1E7CUFx7wK"
   },
   "source": [
    "#### Difference between sort and sorted\n"
   ]
  },
  {
   "cell_type": "code",
   "execution_count": 47,
   "metadata": {
    "colab": {},
    "colab_type": "code",
    "id": "9NhuhQt5x7wL",
    "outputId": "5c5ab88f-d33a-4197-d2bd-dfc0c719b6cb"
   },
   "outputs": [
    {
     "name": "stdout",
     "output_type": "stream",
     "text": [
      "['Mango', 'Orange', 'Strawberry']\n",
      "None\n"
     ]
    }
   ],
   "source": [
    "A = [\"Orange\", \"Strawberry\", \"Mango\"]\n",
    "B = A.sort()\n",
    "print(A)\n",
    "print(B)"
   ]
  },
  {
   "cell_type": "code",
   "execution_count": 48,
   "metadata": {
    "colab": {},
    "colab_type": "code",
    "id": "olgbu2a6x7wQ",
    "outputId": "ea98a507-6eb9-4668-b402-eee43aea8d69"
   },
   "outputs": [
    {
     "name": "stdout",
     "output_type": "stream",
     "text": [
      "['Orange', 'Strawberry', 'Mango']\n",
      "['Mango', 'Orange', 'Strawberry']\n"
     ]
    }
   ],
   "source": [
    "A = [\"Orange\", \"Strawberry\", \"Mango\"]\n",
    "C = sorted(A)\n",
    "\n",
    "print(A)\n",
    "print(C)"
   ]
  },
  {
   "cell_type": "markdown",
   "metadata": {
    "colab_type": "text",
    "id": "GKHI_Fjgx7wU"
   },
   "source": [
    "#### Shadow Copying "
   ]
  },
  {
   "cell_type": "code",
   "execution_count": 49,
   "metadata": {
    "colab": {},
    "colab_type": "code",
    "id": "2NiNL-qRx7wV"
   },
   "outputs": [],
   "source": [
    "A = [\"Orange\", \"Strawberry\", \"Mango\"]\n",
    "B = A\n",
    "\n",
    "A[0] = \"Apple\""
   ]
  },
  {
   "cell_type": "code",
   "execution_count": 50,
   "metadata": {
    "colab": {},
    "colab_type": "code",
    "id": "bgcD9vzRx7wZ",
    "outputId": "b0b257e6-fb5e-4804-f249-c6609560059b"
   },
   "outputs": [
    {
     "data": {
      "text/plain": [
       "['Apple', 'Strawberry', 'Mango']"
      ]
     },
     "execution_count": 50,
     "metadata": {},
     "output_type": "execute_result"
    }
   ],
   "source": [
    "A"
   ]
  },
  {
   "cell_type": "code",
   "execution_count": 51,
   "metadata": {
    "colab": {},
    "colab_type": "code",
    "id": "2wOQUzgCx7wd",
    "outputId": "dc70881c-b570-403a-fe70-29bc88cb88a5"
   },
   "outputs": [
    {
     "data": {
      "text/plain": [
       "['Apple', 'Strawberry', 'Mango']"
      ]
     },
     "execution_count": 51,
     "metadata": {},
     "output_type": "execute_result"
    }
   ],
   "source": [
    "B"
   ]
  },
  {
   "cell_type": "code",
   "execution_count": 52,
   "metadata": {
    "colab": {},
    "colab_type": "code",
    "id": "ra1eMY0Ox7wh"
   },
   "outputs": [],
   "source": [
    "A = [\"Orange\", \"Strawberry\", \"Mango\"]\n",
    "B = A[:]    #Note 'A[:]' is used to call all the values stored in A\n",
    "#Now B has all the values of A but isn't a shadow copy of A\n",
    "#Shadow copy is basically assigning multiple labels to a single reference point or memory location\n",
    "\n",
    "A[0] = \"Apple\""
   ]
  },
  {
   "cell_type": "code",
   "execution_count": 53,
   "metadata": {
    "colab": {
     "base_uri": "https://localhost:8080/",
     "height": 35
    },
    "colab_type": "code",
    "id": "wWEuNQORx7wm",
    "outputId": "4f7547ba-9d2d-4e09-da8e-b2b79556f412"
   },
   "outputs": [
    {
     "data": {
      "text/plain": [
       "['Apple', 'Strawberry', 'Mango']"
      ]
     },
     "execution_count": 53,
     "metadata": {},
     "output_type": "execute_result"
    }
   ],
   "source": [
    "A"
   ]
  },
  {
   "cell_type": "code",
   "execution_count": 54,
   "metadata": {
    "colab": {},
    "colab_type": "code",
    "id": "3iXwsOmzx7wp",
    "outputId": "4ddb3646-ebab-446d-846d-bcb16e9bc783"
   },
   "outputs": [
    {
     "data": {
      "text/plain": [
       "['Orange', 'Strawberry', 'Mango']"
      ]
     },
     "execution_count": 54,
     "metadata": {},
     "output_type": "execute_result"
    }
   ],
   "source": [
    "B"
   ]
  },
  {
   "cell_type": "markdown",
   "metadata": {
    "colab_type": "text",
    "id": "FbnoE9TJT5m-"
   },
   "source": [
    "Now that we know how to store multiple items together let us build another app that could store userid of our customers, which were randomly generated.\n",
    "\n",
    "We have the following requirements from the app -\n",
    "1. It shouldn't store duplicate values in the data-set\n",
    "2. Since the userid are randomly generated the order doesn't matter\n",
    "3. We need mutability i.e. if we want to delete a particular value we should be able to do so\n",
    "4. We might frequently want to check whether a user-id is part of the existing data set so it should be able to perform this operation fast\n",
    "\n",
    "For this use case, we could either use a unique function and maintain our list, but that would be comparatively time-consuming, so let's look at another data type provided by Python, which would be the best fit here.\n"
   ]
  },
  {
   "cell_type": "markdown",
   "metadata": {
    "colab_type": "text",
    "id": "uIA9Guy-x7wy"
   },
   "source": [
    "<h1 style=\"color:Brown\"> Sets </h1>\n",
    "\n",
    "- Sets are a type of collection like lists and tuples, storing mixed data.\n",
    "- Sets are enclosed within curly brackets and elements are written as comma-separated.\n",
    "- Sets are unordered\n",
    "- Sets do not allow duplicates"
   ]
  },
  {
   "cell_type": "code",
   "execution_count": 55,
   "metadata": {
    "colab": {},
    "colab_type": "code",
    "id": "nGP1V2Acx7wy",
    "outputId": "e0a7be3b-9ff0-4314-ba3a-0964874fc01a"
   },
   "outputs": [
    {
     "data": {
      "text/plain": [
       "{1, 2, 3, 4, 5}"
      ]
     },
     "execution_count": 55,
     "metadata": {},
     "output_type": "execute_result"
    }
   ],
   "source": [
    "l = [1,3,2,4,5,5]\n",
    "\n",
    "set_l = set(l)\n",
    "\n",
    "set_l"
   ]
  },
  {
   "cell_type": "code",
   "execution_count": 56,
   "metadata": {
    "colab": {},
    "colab_type": "code",
    "id": "Ot7CFivOx7w2",
    "outputId": "b9931b71-a6b2-45ca-c50f-a845601caf32"
   },
   "outputs": [
    {
     "data": {
      "text/plain": [
       "5"
      ]
     },
     "execution_count": 56,
     "metadata": {},
     "output_type": "execute_result"
    }
   ],
   "source": [
    "len(set_l)"
   ]
  },
  {
   "cell_type": "code",
   "execution_count": 57,
   "metadata": {
    "colab": {},
    "colab_type": "code",
    "id": "v6zO64NZx7w7",
    "outputId": "7f9f7848-14eb-428d-9188-c4fb0f8903a5"
   },
   "outputs": [
    {
     "data": {
      "text/plain": [
       "{1, 2, 3, 4, 5, 'Australia'}"
      ]
     },
     "execution_count": 57,
     "metadata": {},
     "output_type": "execute_result"
    }
   ],
   "source": [
    "a = {1, 2, 3, 4, 5}\n",
    "\n",
    "a.add(\"Australia\")\n",
    "\n",
    "a"
   ]
  },
  {
   "cell_type": "code",
   "execution_count": 58,
   "metadata": {
    "colab": {},
    "colab_type": "code",
    "id": "IYzT8uPlx7w_",
    "outputId": "46b420c4-c653-484e-cd45-ed41f6115048"
   },
   "outputs": [
    {
     "data": {
      "text/plain": [
       "{1, 2, 3, 4, 5}"
      ]
     },
     "execution_count": 58,
     "metadata": {},
     "output_type": "execute_result"
    }
   ],
   "source": [
    "a = {1, 2, 3, 4, 5, \"Australia\"}\n",
    "a.remove(\"Australia\")\n",
    "a"
   ]
  },
  {
   "cell_type": "code",
   "execution_count": 59,
   "metadata": {
    "colab": {},
    "colab_type": "code",
    "id": "hZZpzqA9x7xB"
   },
   "outputs": [],
   "source": [
    "# Set Operations\n",
    "\n",
    "A = {0, 2, 4, 6, 8}\n",
    "B = {1, 2, 3, 4, 5}"
   ]
  },
  {
   "cell_type": "code",
   "execution_count": 60,
   "metadata": {
    "colab": {},
    "colab_type": "code",
    "id": "NbEYt-_9x7xD",
    "outputId": "94ae70a8-8f1d-49ff-a212-41ff347f620b"
   },
   "outputs": [
    {
     "name": "stdout",
     "output_type": "stream",
     "text": [
      "{0, 1, 2, 3, 4, 5, 6, 8}\n",
      "{0, 1, 2, 3, 4, 5, 6, 8}\n"
     ]
    }
   ],
   "source": [
    "print(A | B) # Union\n",
    "print (A.union(B))"
   ]
  },
  {
   "cell_type": "code",
   "execution_count": 61,
   "metadata": {
    "colab": {},
    "colab_type": "code",
    "id": "BTkATS76x7xF",
    "outputId": "a8f13c56-149f-4785-ff72-5ac7796893bc"
   },
   "outputs": [
    {
     "name": "stdout",
     "output_type": "stream",
     "text": [
      "{2, 4}\n",
      "{2, 4}\n"
     ]
    }
   ],
   "source": [
    "print(A & B) # Intersection\n",
    "print(A.intersection(B))"
   ]
  },
  {
   "cell_type": "code",
   "execution_count": 62,
   "metadata": {
    "colab": {},
    "colab_type": "code",
    "id": "5dO6UvEEx7xK",
    "outputId": "6781da24-8c2f-4bcf-c642-81ecf509b6c9"
   },
   "outputs": [
    {
     "name": "stdout",
     "output_type": "stream",
     "text": [
      "{0, 8, 6}\n",
      "{0, 8, 6}\n"
     ]
    }
   ],
   "source": [
    "print(A - B) # Difference\n",
    "print(A.difference(B))  # only A elements"
   ]
  },
  {
   "cell_type": "code",
   "execution_count": 63,
   "metadata": {
    "colab": {},
    "colab_type": "code",
    "id": "hserTb8Cx7xM",
    "outputId": "5a670fd9-9d8f-469e-90bc-00bc2831f35d"
   },
   "outputs": [
    {
     "name": "stdout",
     "output_type": "stream",
     "text": [
      "{0, 1, 3, 5, 6, 8}\n"
     ]
    }
   ],
   "source": [
    "print(A ^ B) # Symmetric Difference"
   ]
  },
  {
   "cell_type": "markdown",
   "metadata": {
    "colab_type": "text",
    "id": "hxqIx1YeWojE"
   },
   "source": [
    "In this session, we are going to talk about dictionaries. In Python, we use dictionaries to store key-value pairs.\n",
    "Here is an example -\n",
    "Let's take the example of a customer as seen earlier.\n",
    "Now a customer could have multiple attributes such as \n",
    "1. Name\n",
    "2. Email\n",
    "3. Userid\n",
    "4. Address \n",
    "5. Phone number\n",
    "\n",
    "Now each of these attributes would be our key and corresponding we'll have values against each on them\n",
    "\n",
    "With a dictionary, we can store a bunch of key-value pairs, let us now see have a look at the 'Dictionary' data type in Python"
   ]
  },
  {
   "cell_type": "markdown",
   "metadata": {
    "colab_type": "text",
    "id": "4w64upQvx7xP"
   },
   "source": [
    "<h1 style=\"color:Brown\"> Dictionaries </h1>\n",
    "\n",
    "- A dictionary stores element as keys and values pairs.\n",
    "- The key is like an index, it's is always unique and immutable. \n",
    "- The values are the objects that contain information.\n",
    "- Values are accessed using their keys.\n",
    "- Each key is followed by a value separated by a colon. \n",
    "- The values can be immutable, mutable, and duplicates. \n",
    "- Each key and value pair is separated by a comma enclosed inside curly brackets."
   ]
  },
  {
   "cell_type": "code",
   "execution_count": 64,
   "metadata": {
    "colab": {
     "base_uri": "https://localhost:8080/",
     "height": 35
    },
    "colab_type": "code",
    "id": "EF0ApV2Bx7xQ",
    "outputId": "82669d76-c1db-4b60-bfb2-78553db1ad8f"
   },
   "outputs": [
    {
     "data": {
      "text/plain": [
       "'USD'"
      ]
     },
     "execution_count": 64,
     "metadata": {},
     "output_type": "execute_result"
    }
   ],
   "source": [
    "# Creating a dictionary\n",
    "\n",
    "d = {\"India\" : \"INR\", \"USA\" : \"USD\", \"France\" : \"Euros\"}\n",
    "\n",
    "# Access value using keys\n",
    "\n",
    "d[\"USA\"]"
   ]
  },
  {
   "cell_type": "code",
   "execution_count": 65,
   "metadata": {
    "colab": {
     "base_uri": "https://localhost:8080/",
     "height": 35
    },
    "colab_type": "code",
    "id": "VBZnEVMAx7xS",
    "outputId": "1ebdeb34-5d9c-4a1e-8d7f-ca93a09e4c46"
   },
   "outputs": [
    {
     "data": {
      "text/plain": [
       "{'India': 'INR', 'USA': '$', 'France': 'Euros'}"
      ]
     },
     "execution_count": 65,
     "metadata": {},
     "output_type": "execute_result"
    }
   ],
   "source": [
    "# Replace the value for a key in a dictionary\n",
    "\n",
    "d[\"USA\"] = \"$\"\n",
    "\n",
    "d"
   ]
  },
  {
   "cell_type": "code",
   "execution_count": 66,
   "metadata": {
    "colab": {
     "base_uri": "https://localhost:8080/",
     "height": 35
    },
    "colab_type": "code",
    "id": "-yHHWpeqx7xU",
    "outputId": "5a51cbeb-090c-4941-c990-2a571cbb8b1a"
   },
   "outputs": [
    {
     "data": {
      "text/plain": [
       "{'India': 'INR', 'USA': '$', 'France': 'Euros', 'Japan': 'Yen'}"
      ]
     },
     "execution_count": 66,
     "metadata": {},
     "output_type": "execute_result"
    }
   ],
   "source": [
    "# Insert new key value pair into a dictionary\n",
    "\n",
    "d[\"Japan\"] = \"Yen\"\n",
    "\n",
    "d"
   ]
  },
  {
   "cell_type": "code",
   "execution_count": 67,
   "metadata": {
    "colab": {
     "base_uri": "https://localhost:8080/",
     "height": 35
    },
    "colab_type": "code",
    "id": "sCW7FVM8x7xX",
    "outputId": "3bb4aa80-1e64-4b17-f447-35c63969b2db"
   },
   "outputs": [
    {
     "data": {
      "text/plain": [
       "{'India': 'INR', 'USA': '$', 'Japan': 'Yen'}"
      ]
     },
     "execution_count": 67,
     "metadata": {},
     "output_type": "execute_result"
    }
   ],
   "source": [
    "# Deleting a key value pair\n",
    "\n",
    "del d[\"France\"]\n",
    "\n",
    "d"
   ]
  },
  {
   "cell_type": "code",
   "execution_count": 68,
   "metadata": {
    "colab": {
     "base_uri": "https://localhost:8080/",
     "height": 35
    },
    "colab_type": "code",
    "id": "7zY-tFUSx7xa",
    "outputId": "a5f27b22-06c6-439a-9587-1bfd7f9a654b"
   },
   "outputs": [
    {
     "data": {
      "text/plain": [
       "['India', 'Japan', 'USA']"
      ]
     },
     "execution_count": 68,
     "metadata": {},
     "output_type": "execute_result"
    }
   ],
   "source": [
    "# Sorting a dictionary\n",
    "\n",
    "sorted(d)"
   ]
  },
  {
   "cell_type": "code",
   "execution_count": 69,
   "metadata": {
    "colab": {
     "base_uri": "https://localhost:8080/",
     "height": 35
    },
    "colab_type": "code",
    "id": "yGvItflRx7xd",
    "outputId": "cc106415-a920-4a5d-c5c3-143ea69c9324"
   },
   "outputs": [
    {
     "data": {
      "text/plain": [
       "dict_values(['INR', 'USD', 'Euros'])"
      ]
     },
     "execution_count": 69,
     "metadata": {},
     "output_type": "execute_result"
    }
   ],
   "source": [
    "# values() Method\n",
    "\n",
    "d = {\"India\" : \"INR\", \"USA\" : \"USD\", \"France\" : \"Euros\"}\n",
    "\n",
    "d.values()\n"
   ]
  },
  {
   "cell_type": "code",
   "execution_count": 70,
   "metadata": {
    "colab": {},
    "colab_type": "code",
    "id": "QxE6EhJSx7xf",
    "outputId": "7b65374e-8c4b-4552-9546-446a35b58ef5"
   },
   "outputs": [
    {
     "data": {
      "text/plain": [
       "dict_keys(['India', 'USA', 'France'])"
      ]
     },
     "execution_count": 70,
     "metadata": {},
     "output_type": "execute_result"
    }
   ],
   "source": [
    "# Keys() Method\n",
    "\n",
    "d.keys()\n"
   ]
  },
  {
   "cell_type": "code",
   "execution_count": 71,
   "metadata": {
    "colab": {
     "base_uri": "https://localhost:8080/",
     "height": 35
    },
    "colab_type": "code",
    "id": "lZX31ugUx7xj",
    "outputId": "d337dd50-54e5-4ebf-87c0-d0f6257e6c1d"
   },
   "outputs": [
    {
     "data": {
      "text/plain": [
       "{'India': 'INR', 'USA': '$', 'France': 'Euros'}"
      ]
     },
     "execution_count": 71,
     "metadata": {},
     "output_type": "execute_result"
    }
   ],
   "source": [
    "# Update() Method\n",
    "\n",
    "d.update({'USA':'$'})\n",
    "d"
   ]
  },
  {
   "cell_type": "markdown",
   "metadata": {},
   "source": [
    "<a id='OOP'>OOP</a>"
   ]
  },
  {
   "cell_type": "code",
   "execution_count": null,
   "metadata": {},
   "outputs": [],
   "source": [
    "<h1 style = \"color : Blue\"> i. Creating Classes and Objects </h1>\n",
    "\n",
    "<h2 style = \"color : Brown\">Defining a class</h2>\n",
    "\n",
    "- length and breadth as attributes\n",
    "- __init__() - constructor of class\n",
    "- self parameter - refers to the newly created instance of the class.  \n",
    "- attributes length and breadth are associated with self-keyword to identify them as instance variables\n",
    "\n",
    "class Rectangle :\n",
    "    def __init__(self):\n",
    "        self.length = 10\n",
    "        self.breadth = 5\n",
    "\n",
    "- create the object by calling name of the class followed by parenthesis. \n",
    "- print the values using dot operator\n",
    "\n",
    "rect = Rectangle()\n",
    "print(\"Length = \",rect.length, \"\\nBreadth = \" ,rect.breadth)\n",
    "\n",
    "<h2 style = \"color : Brown\">Parametrised Constructor</h2>\n",
    "\n",
    "- parametrised constructor - dynamically assign the attribute values during object creation\n",
    "\n",
    "class Rectangle :\n",
    "    def __init__(self, length, breadth):\n",
    "        self.length = length\n",
    "        self.breadth = breadth\n",
    "        \n",
    "rect = Rectangle(10, 5)\n",
    "print(\"Length = \",rect.length, \"\\nBreadth = \" ,rect.breadth)\n",
    "\n",
    "<h1 style = \"color : Blue\">ii. Class Variable and Instance variables \n",
    "\n",
    "class Circle :\n",
    "    pi = 3.14\n",
    "    def __init__(self, radius):\n",
    "        self.radius = radius\n",
    "\n",
    "circle_1 = Circle(5)\n",
    "print(\"Radius = {} \\t pi = {}\".format(circle_1.radius,circle_1.pi))\n",
    "\n",
    "circle_2 = Circle(2)\n",
    "print(\"Radius = {} \\t pi = {}\".format(circle_2.radius,circle_2.pi))\n",
    "\n",
    "Circle.pi = 3.1436\n",
    "\n",
    "circle_1 = Circle(5)\n",
    "print(\"Radius = {} \\t pi = {}\".format(circle_1.radius,circle_1.pi))\n",
    "\n",
    "circle_2 = Circle(2)\n",
    "print(\"Radius = {} \\t pi = {}\".format(circle_2.radius,circle_2.pi))\n",
    "\n",
    "<h1 style = \"color : Blue\">iii. Adding a method to class</h1>\n",
    "\n",
    "- calculate_area() - retutns the product of attributes length and breadth   \n",
    "- self - identifies its association with the instance\n",
    "\n",
    "class Rectangle :\n",
    "    def __init__(self, length, breadth):\n",
    "        self.length = length\n",
    "        self.breadth = breadth\n",
    "        \n",
    "    def calculate_area(self):\n",
    "        return self.length * self.breadth\n",
    "        \n",
    "rect = Rectangle(10, 5)\n",
    "print(\"Length = \",rect.length, \"\\nBreadth = \" ,rect.breadth, \"\\nArea = \", rect.calculate_area())\n",
    "\n",
    "<h2 style = \"color : Brown\"> Significance of self:</h2>\n",
    "\n",
    "- The attributes length and breadth are associated with an instance.\n",
    "- Self makes sure that each instance refers to its own copy of attributes\n",
    "\n",
    "new_rect = Rectangle(15, 8)\n",
    "print(\"Length = \",new_rect.length, \"\\nBreadth = \" ,new_rect.breadth, \"\\nArea = \", new_rect.calculate_area())\n",
    "\n",
    "print(\"Length = \",rect.length, \"\\nBreadth = \" ,rect.breadth, \"\\nArea = \", rect.calculate_area())\n",
    "\n",
    "<h1 style = \"color : Blue\">iv. Class Method and Static Method\n",
    "\n",
    "class Circle :\n",
    "    pi = 3.14\n",
    "    def __init__(self, radius):\n",
    "        self.radius = radius\n",
    "        \n",
    "    # Instance Method   \n",
    "    def calculate_area(self):\n",
    "        return Circle.pi * self.radius\n",
    "    \n",
    "    # Class Method - I cannot access - radius\n",
    "    @classmethod\n",
    "    def access_pi(cls):\n",
    "        pi = 3.1436\n",
    "        return pi\n",
    "        \n",
    "    # Static Method -  I cannot access - pi and radius\n",
    "    @staticmethod\n",
    "    def circle_static_method():\n",
    "        print(\"This is circle's static method\")\n",
    "        \n",
    "cir = Circle(5)\n",
    "\n",
    "# Calling methods \n",
    "\n",
    "print(cir.calculate_area())\n",
    "\n",
    "print(Circle.access_pi())\n",
    "\n",
    "Circle.circle_static_method()\n",
    "\n",
    "<h1 style = \"color : Blue\">v. Inheritance and Overriding\n",
    "\n",
    "class Shape :\n",
    "    \n",
    "    \n",
    "    def set_color(self, color):\n",
    "        self.color = color\n",
    "        \n",
    "    def calculate_area(self):\n",
    "        pass\n",
    "        \n",
    "    def color_the_shape(self):\n",
    "        color_price = {\"red\" : 10, \"blue\" : 15, \"green\" : 5}\n",
    "        return self.calculate_area() * color_price[self.color]\n",
    "\n",
    "class Circle(Shape) :\n",
    "    pi = 3.14\n",
    "    def __init__(self, radius):\n",
    "        self.radius = radius\n",
    "        \n",
    "    # overriding\n",
    "    def calculate_area(self):\n",
    "        return Circle.pi * self.radius\n",
    "\n",
    "c = Circle(5)\n",
    "c.set_color(\"red\")\n",
    "print(\"Circle with radius =\",c.radius ,\"when colored\", c.color,\"costs $\",c.color_the_shape())\n",
    "\n",
    "class Rectangle(Shape) :\n",
    "    def __init__(self, length, breadth):\n",
    "        self.length = length\n",
    "        self.breadth = breadth\n",
    "        \n",
    "     # Overriding user defined method   \n",
    "    def calculate_area(self):\n",
    "        return self.length * self.breadth\n",
    "    \n",
    "    # Overriding python default method\n",
    "    def __str__(self):\n",
    "        return \"area of rectangle = \" + str(self.calculate_area())\n",
    "\n",
    "r = Rectangle(5, 10)\n",
    "r.set_color(\"blue\")\n",
    "print(\"Rectangle with length =\",r.length ,\" and breadth = \",r.breadth ,\"when colored\", r.color,\"costs $\",r.color_the_shape())\n",
    "\n",
    "print(r)\n",
    "\n",
    "from distutils.log import debug\n",
    "import numpy as np\n",
    "import pandas as pd\n",
    "from tabulate import tabulate\n",
    "import webbrowser\n",
    "from IPython.display import display,HTML\n",
    "# reference: https://github.com/sreegithub19/upgrad/blob/main/1_Prep%20sessions/1_Python_basics/Prep%20session%20practice%202%20(classes%2C%20OOPS).ipynb\n",
    "import subprocess\n",
    "import sys\n",
    "import matplotlib.pyplot as plt\n",
    "from flask import Flask\n",
    "\n",
    "\n",
    "def install(package):\n",
    "    subprocess.check_call([sys.executable, \"-m\", \"pip\", \"install\", package])   \n",
    "install(\"statsmodels\")\n",
    "\n",
    "\n",
    "product_category = np.array(['Furniture', 'Technology', 'Office Supplies'])\n",
    "sales = np.array([4110451.90, 4744557.50, 3787492.52] )\n",
    "\n",
    "plt.bar(product_category, sales,color='green')\n",
    "plt.show()\n",
    "plt.show()\n",
    "\n",
    "cars_per_cap = [809, 731, 588, 18, 200, 70, 45]\n",
    "country = ['United States', 'Australia', 'Japan', 'India', 'Russia', 'Morocco', 'Egypt']\n",
    "drives_right = [True, False, False, False, True, True, True]\n",
    "data = {\"cars_per_cap\": cars_per_cap, \"country\": country, \"drives_right\": drives_right}\n",
    "display(pd.DataFrame(data))   # == print(pd.DataFrame(data)), in this case\n",
    "\n",
    "print(tabulate(pd.DataFrame(data),headers='keys', tablefmt='psql'))\n",
    "#s = (pd.DataFrame(data).to_html())\n",
    "\n",
    "def flask_app():\n",
    "    app = Flask(__name__)\n",
    "\n",
    "    @app.route('/')\n",
    "    def scrape_and_reformat():\n",
    "        print(pd.DataFrame(data))\n",
    "        return (pd.DataFrame(data).to_string() + pd.DataFrame(data).to_html() + pd.DataFrame(data).to_html())\n",
    "\n",
    "    @app.route('/next')\n",
    "    def next():\n",
    "        #return (pd.DataFrame(data))    # error - TypeError: The view function did not return a valid response. The return type must be a string, dict, list, tuple with headers or status, Response instance, or WSGI callable, but it was a DataFrame.\n",
    "        return (pd.DataFrame(data).to_string() + pd.DataFrame(data).to_string())\n",
    "\n",
    "    #if __name__ == '__main__':\n",
    "    webbrowser.open('http://127.0.0.1:5000') \n",
    "    webbrowser.open('http://127.0.0.1:5000/next') \n",
    "    app.run(debug = True, use_reloader=False)\n",
    "flask_app()\n"
   ]
  },
  {
   "cell_type": "code",
   "execution_count": null,
   "metadata": {},
   "outputs": [],
   "source": [
    "# # Ice Cream Sundae - Ordering Menu\n",
    "\n",
    "# You are expected to build an interactive application to order ice cream Sundays in an ice-cream parlour.\n",
    "# You are expected to use the concepts you learnt from the Object-Oriented programming session. The complete building process is divided into questions given below after you solve all the questions you will the complete ordering application.\n",
    "\n",
    "# Let's get started!!\n",
    "\n",
    "\n",
    "# ### Question \n",
    "\n",
    "# Declare a class \"ice_cream\". It needs to have the following constants and instance methods defined. \n",
    "\n",
    "# 1. Radius of a small scoop (r_small = 1.5)\n",
    "# 2. Radius of large scoop (r_large = 2.5)\n",
    "# 3. Value of pie (pi = 3.14)\n",
    "# 4. An instance method \"flavour\" - it should print enter your flavour.\n",
    "\n",
    "# Given below is the example of a sample class and its methods and variables for reference:\n",
    "\n",
    "class chocolate:\n",
    "\n",
    "    chocolate_length=10\n",
    "    chocolate_breadth=2\n",
    "    \n",
    "    def area(self):\n",
    "        print(\"Enter your favourite chocolate\")\n",
    "\n",
    "# Declare class here:\n",
    "class ice_cream:\n",
    "    # Declare class variables:\n",
    "    r_small = 1.5\n",
    "    r_large = 2.5\n",
    "    pi = 3.14\n",
    "    \n",
    "    # Declare instance methods:\n",
    "    def flavour(self):\n",
    "        print(\"Enter your flavour\")\n",
    "\n",
    "# Call the class:\n",
    "order = ice_cream()\n",
    "\n",
    "order.flavour()\n",
    "\n",
    "### Question\n",
    "\n",
    "# Modify the class \"ice_cream\" to add a method which can calculate the cost of the Ice cream based on its size. \n",
    "\n",
    "# Cost of ice cream is 0.5$ per unit volume. Take the input from the user about what size of ice cream scoops they want small or large. Based on that calculate the volume of the scoop and use the volume and the cost per volume to calculate the cost of ice cream. \n",
    "\n",
    "# Hint: Declare a class similar to example above. Add new function that calculates the cost depending on the scope size. Use If-else statement to calculate ice-cream cost.\n",
    "\n",
    "class ice_cream:\n",
    "    r_small = 1.75\n",
    "    r_large = 2.5\n",
    "    pi = 3.14\n",
    "        \n",
    "    def flavour(self):\n",
    "        print(\"Enter your flavour\")\n",
    "        size = input(\"Would you like a small scoop or a large scoop (enter s/l)\")\n",
    "        cost = self.cost_ice_cream(size)\n",
    "        print (\"The cost of ice cream is \", cost)\n",
    "        \n",
    "    def cost_ice_cream(self, size):\n",
    "        if size==\"s\":\n",
    "            vol = 4/3 *(self.pi)* (self.r_small**3)\n",
    "            cost = vol * 0.5\n",
    "            return cost\n",
    "        elif size==\"l\":\n",
    "            vol = 4/3 *(self.pi)* (self.r_large**3)\n",
    "            cost = vol * 0.5\n",
    "            return cost\n",
    "        else:\n",
    "            print(\"Please enter a valid size\")\n",
    "\n",
    "# Call the function:\n",
    "order = ice_cream()\n",
    "order.flavour()\n",
    "\n",
    "### Question \n",
    "\n",
    "# In the above function find a way to round up the cost to the next integer value. \n",
    "\n",
    "# Hint: In the same class as above, add a additional element to the cost variable that rounds up the cost to the next nearest integer.\n",
    "# For example: if the cost is 10.41, the output should be 11$\n",
    "# ##### For rounding up an integer value you could use either the ceil() or round()\n",
    "\n",
    "import math\n",
    "\n",
    "class ice_cream:\n",
    "    r_small = 1.75\n",
    "    r_large = 2.5\n",
    "    pi = 3.14\n",
    "        \n",
    "    def flavour(self):\n",
    "        print(\"Enter your flavour\")\n",
    "        size = input(\"Would you like a small scoop or a large scoop (enter s/l)\")\n",
    "        cost = self.cost_ice_cream(size)\n",
    "        print (\"The cost of ice cream is \", math.ceil(cost))\n",
    "        \n",
    "    def cost_ice_cream(self, size):\n",
    "        if size==\"s\":\n",
    "            vol = 4/3 *(self.pi)* (self.r_small**3)\n",
    "            cost = vol * 0.5\n",
    "            return cost\n",
    "        elif size==\"l\":\n",
    "            vol = 4/3 *(self.pi)* (self.r_large**3)\n",
    "            cost = vol * 0.5\n",
    "            return cost\n",
    "        else:\n",
    "            print(\"Please enter a valid size\")\n",
    "\n",
    "# Call the function:\n",
    "order = ice_cream()\n",
    "order.flavour()\n",
    "\n",
    "### Question \n",
    "\n",
    "# Modify the flavour function to give the options of available flavours and take as input the choice of the customer. \n",
    "\n",
    "# The available options are Vanilla, Chocolate, Butterscotch, Blue_berry.\n",
    "\n",
    "# Hint: Add a new function that asks the user to input the choice of flavour.\n",
    "\n",
    "import math\n",
    "\n",
    "class ice_cream:\n",
    "    r_small = 1.5\n",
    "    r_large = 2.5\n",
    "    pi = 3.14\n",
    "        \n",
    "    def flavour(self):\n",
    "        print (\"Available flavours of ice cream are Vanilla, Chocolate, Butterscotch, Blue_berry\")\n",
    "        flv = input(\"Which flavour of ice cream would you like \")\n",
    "        size = input(\"Would you like a small scoop or a large scoop (enter s/l)\")\n",
    "        i_cost = self.cost_ice_cream(size)\n",
    "        print (\"The cost of ice cream is \", math.ceil(i_cost))\n",
    "        \n",
    "    def cost_ice_cream(self, size):\n",
    "        if size==\"s\":\n",
    "            vol = 4/3 *(self.pi)* (self.r_small**3)\n",
    "            cost = vol * 0.5\n",
    "        elif size==\"l\":\n",
    "            vol = 4/3 *(self.pi)* (self.r_large**3)\n",
    "            cost = vol * 0.5\n",
    "        else:\n",
    "            print(\"Please enter a valid size\")\n",
    "        return cost\n",
    "\n",
    "order = ice_cream()\n",
    "order.flavour()\n",
    "\n",
    "### Question \n",
    "\n",
    "# Build a new class called \"toppings\". It should have all the functionality of the ice_cream class.\n",
    "\n",
    "# The toppings class will also have a method which will take as input the choice of toppings that the customer wants.\n",
    "# The available choices of toppings are: Hot_fudge, Sprinkles, Caramel, Oreos, Nuts\n",
    "\n",
    "# Hint: Create a new class that ask the user to choose one or more toppings\n",
    "\n",
    "class toppings(ice_cream):\n",
    "    \n",
    "    def sel_toppings(self):\n",
    "        print (\"Available toppings are Hot_fudge, Sprinkles, Caramel, Oreos, Nuts\")\n",
    "        top = input (\"Enter any number of toppings of your choice separated by a comma: \")\n",
    "        top_list = top.split(\",\")\n",
    "        print (\"The toppings you selected are : \",top_list)\n",
    "\n",
    "sundae = toppings()\n",
    "sundae.sel_toppings()\n",
    "\n",
    "### Question \n",
    "\n",
    "# Add a method to calculate the cost of selected toppings, given the cost of each of the topping is 2$. \n",
    "\n",
    "# Hint: Now in the class for toppings, add a function to calculate the cost per topping added.\n",
    "\n",
    "class toppings(ice_cream):\n",
    "    \n",
    "    def sel_toppings(self):\n",
    "        print (\"Available toppings are Hot_fudge, Sprinkles, Caramel, Oreos, Nuts\")\n",
    "        top = input (\"Enter any number of toppings of your choice separated by a comma: \")\n",
    "        top_list = top.split(\",\")\n",
    "        t_cost = self.top_cost(top_list)\n",
    "        print (\"The cost for selected toppings is \",t_cost)\n",
    "        \n",
    "    def top_cost(self, top_list):\n",
    "        cost = len(top_list) * 2\n",
    "        return cost\n",
    "\n",
    "sundae = toppings()\n",
    "sundae.sel_toppings()\n",
    "\n",
    "### Question: \n",
    "# Now you have all the functionality needed to create the ordering menu. \n",
    " \n",
    "# 1. An order can be for simply Ice Cream or an Ice Cream sundae. \n",
    "# 2. There can be multiple items in an order. \n",
    "# 3. Calculate the cost of each order placed.\n",
    "\n",
    "# Hint: Club both the class you have created above and finally create an Ice-cream ordereing machine that display a welcome message: \"Welcome to  Ice Cream parlour\". Asks the user if he/she wants and ice cream or ice cream-sundae. Ask the choice of flavour and toppings and returns the total cost. Dont forget to ask if the user wants another item after he finishes ordering the first one!\n",
    "\n",
    "import math\n",
    "\n",
    "class ice_cream:\n",
    "    r_small = 1.5\n",
    "    r_large = 2.5\n",
    "    pi = 3.14\n",
    "        \n",
    "    def flavour(self):\n",
    "        print (\"Available flavours of ice cream are Vanilla, Chocolate, Butterscotch, Blue_berry\")\n",
    "        flv = input(\"Which flavour of ice cream would you like \")\n",
    "        size = input(\"Would you like a small scoop or a large scoop (enter s/l)\")\n",
    "        i_cost = self.cost_ice_cream(size)\n",
    "        if order_type == \"i\":\n",
    "            print (\"The cost of the ice Cream is \", math.ceil(i_cost))\n",
    "        return math.ceil(i_cost)\n",
    "        \n",
    "    def cost_ice_cream(self, size):\n",
    "        if size==\"s\":\n",
    "            vol = 4/3 *(self.pi)* (self.r_small**3)\n",
    "            cost = vol * 0.5\n",
    "        elif size==\"l\":\n",
    "            vol = 4/3 *(self.pi)* (self.r_large**3)\n",
    "            cost = vol * 0.5\n",
    "        else:\n",
    "            print(\"Please enter a valid size\")\n",
    "        return cost\n",
    "            \n",
    "    \n",
    "class toppings(ice_cream):\n",
    "    \n",
    "    def sel_toppings(self):\n",
    "        print (\"Available toppings are Hot_fudge, Sprinkles, Caramel, Oreos, Nuts\")\n",
    "        top = input (\"Enter any number of toppings of your choice separated by a comma: \")\n",
    "        top_list = top.split(\",\")\n",
    "        i_cost = self.flavour()\n",
    "        t_cost = self.top_cost(top_list)\n",
    "        print (\"The cost for sunday is \",t_cost+ i_cost)\n",
    "        \n",
    "    def top_cost(self, top_list):\n",
    "        cost = len(top_list) * 2\n",
    "        return cost\n",
    "    \n",
    "\n",
    "print (\"Welcome to the upGrad Ice Cream parlour\")\n",
    " \n",
    "while True:     \n",
    "    print (\"Would like an ice cream(i) or a Sundae(s)?\")\n",
    "    order_type = input(\"Enter your response (i/s)\")\n",
    "    if order_type == \"i\":\n",
    "        order = ice_cream()\n",
    "        order.flavour()\n",
    "    elif order_type == \"s\":\n",
    "        sundae = toppings()\n",
    "        sundae.sel_toppings()\n",
    "    else:\n",
    "        print (\"Enter a valid choice\")\n",
    "        \n",
    "    print (\"Would like to order anything else\")\n",
    "    more = input (\"Enter your response as (y/n)\")\n",
    "    \n",
    "    if more == \"n\":\n",
    "        break  \n",
    "\n",
    "# Great job! You have learned the skills to create a real-world application, in case of any doubts please feel free to put in up on the discussion forum or reach out to your TA(teaching assistant).\n",
    "#####Happy Learning!!"
   ]
  },
  {
   "cell_type": "code",
   "execution_count": null,
   "metadata": {},
   "outputs": [],
   "source": [
    "%%html\n",
    "<style type='text/css'>\n",
    ".CodeMirror{\n",
    "    font-size: 12px;\n",
    "}\n",
    "\n",
    "div.output_area pre {\n",
    "    font-size: 12px;\n",
    "}\n",
    "</style>\n",
    "\n",
    "#!jt -l\n",
    "'''\n",
    "Available Themes: \n",
    "   chesterish\n",
    "   grade3\n",
    "   gruvboxd\n",
    "   gruvboxl\n",
    "   monokai\n",
    "   oceans16\n",
    "   onedork\n",
    "   solarizedd\n",
    "   solarizedl\n",
    "'''\n",
    "# https://github.com/dunovank/jupyter-themes\n",
    "# !jt -t gruvboxd -f roboto -fs 12\n",
    "!jt -r\n",
    "\n",
    "# Reference:\n",
    "    # https://stackoverflow.com/questions/42449814/running-jupyter-notebook-in-a-virtualenv-installed-sklearn-module-not-available\n",
    "import sys\n",
    "print(sys.version)\n",
    "\n",
    "#Classes overview (instance methods, class methods, static methods)\n",
    "from IPython.display import display,HTML\n",
    "display(HTML('''\n",
    "<h3>Classes</h3>\n",
    "<h3>Methods vs Functions</h3>\n",
    "<h4>Instance methods</h4>\n",
    "<h4>Class methods</h4>\n",
    "<h4>Static methods</h4>\n",
    "<h3>Inheritance and Overriding</h3>\n",
    "'''))  \n",
    "\n",
    "\n",
    "\n",
    "import subprocess\n",
    "import sys\n",
    "print(sys.version)\n",
    "def install(package):\n",
    "    subprocess.check_call([sys.executable, \"-m\", \"pip\", \"install\", package])\n",
    "    \n",
    "install(\"statsmodels\")  # install \"fancyimpute\" from Anaconda Powershell prompt\n",
    "\n",
    "# Jupyter themes\n",
    "# https://towardsdatascience.com/customize-your-jupyter-notebook-theme-in-2-lines-of-code-fc726cea1513#:~:text=By%20default%2C%20Jupyter%20Notebook%20uses,the%20theme%20of%20the%20notebook.\n",
    "# Screens of the available themes are also available in this Github repository: \n",
    "#          https://github.com/dunovank/jupyter-themes/tree/master/screens\n",
    "# !jt -r    # to restore the default jupyter theme\n",
    "!jt -l\n",
    "#!jt -t gruvboxd\n",
    "\n",
    "sum_ = 0\n",
    "while True:\n",
    "    i = input(\"Enter a number, or press enter to exit: \")\n",
    "    if not i:\n",
    "        break\n",
    "    sum_ += int(i)\n",
    "print(sum_)\n",
    "\n",
    "#Classes overview (instance methods, class methods, static methods)\n",
    "\n",
    "\n",
    "def classes():\n",
    "    class rectangle:\n",
    "        '''\n",
    "        Parameterised constructor:\n",
    "        dynamically assign the attributes during object creation\n",
    "        '''\n",
    "        # class variables\n",
    "        length = 54  \n",
    "        breadth = 43\n",
    "        pi = 3.14\n",
    "        def __init__(self,length,breadth):\n",
    "            self.length = length\n",
    "            self.breadth = breadth\n",
    "        print(length)\n",
    "        l = 40\n",
    "        b = 30\n",
    "        def area(self):\n",
    "            pi = 3.1234567\n",
    "            print(\"self.pi:\",self.pi, \"\\npi:\",pi)\n",
    "            return self.b*self.l\n",
    "    print(rectangle(0,0).area())  \n",
    "    # 0,0 above is to only fill up the parameters \n",
    "    # (number of parameters here should be equal to \n",
    "    # the number of parameters in init constructor of the class \n",
    "    # (other than self))\n",
    "    rect2 = (rectangle(56,67))\n",
    "    print(rect2.length,rect2.breadth)  # instance variables\n",
    "    print(rectangle.pi, rectangle(0,0).area())\n",
    "#classes()\n",
    "\n",
    "def classes_2():\n",
    "    class Circle:\n",
    "        pi = 3.141592653589\n",
    "        def __init__(self,radius):\n",
    "            self.radius = radius\n",
    "        \n",
    "        # instance method\n",
    "        def calculate_area(self):\n",
    "            return Circle.pi * (self.radius**2)\n",
    "        # class method (cannot access radius)\n",
    "        @classmethod\n",
    "        def access_pi(self):\n",
    "            pi = 3.14\n",
    "            return pi\n",
    "        # static method - cannot access - pi and radius\n",
    "        @staticmethod\n",
    "        def circle_static_method():\n",
    "            return (\"This is circle's static method\")\n",
    "    print(Circle(5).calculate_area()) # required parameter here\n",
    "    print(Circle.access_pi())\n",
    "    print(Circle.circle_static_method())\n",
    "#classes_2()\n",
    "\n",
    "class A :\n",
    "    x = 10\n",
    "    def __init__(self, y,z):\n",
    "        self.y = y\n",
    "        self.z = z\n",
    "           \n",
    "    def update_y(self):\n",
    "        self.y = self.y * self.z\n",
    "       \n",
    "A1 = A(3,4)\n",
    "A2 = A(5,6)\n",
    "A.x = 30\n",
    "print(A1.y + A2.x)\n",
    "\n",
    "# Overriding:\n",
    "\n",
    "class Shape:\n",
    "    def set_color(self,color):\n",
    "        self.color = color\n",
    "        \n",
    "    def calculate_area(self):\n",
    "        return 2**2\n",
    "    \n",
    "    def color_the_shape(self):\n",
    "        color_price = {\"red\":10,\"blue\":15,\"green\":5}\n",
    "        return self.calculate_area() + color_price(self.color)\n",
    "    \n",
    "    \n",
    "\n",
    "class Circle(Shape):\n",
    "    pi = 3.141592653589\n",
    "    def __init__(self,radius):\n",
    "        self.radius = radius\n",
    "\n",
    "    # Overriding (changing the functionality of this function in the parent class)\n",
    "    def calculate_area(self):\n",
    "        return Circle.pi * (self.radius**2)\n",
    "    \n",
    "print(Shape().calculate_area())\n",
    "print(Circle(5).calculate_area())\n",
    "\n",
    "c = Circle(5)\n",
    "\n",
    "#Inheritance\n",
    "c.set_color(\"red\")\n",
    "print(c.pi,c.radius,c.color)\n",
    "\n",
    "\n",
    "#Inheritance (continued):\n",
    "class Rectangle(Shape):\n",
    "    \n",
    "    def __init__(self,length,breadth):\n",
    "        self.length = length\n",
    "        self.breadth = breadth\n",
    "        \n",
    "    #Overriding\n",
    "    def calculate_area(self):\n",
    "        return self.length*self.breadth\n",
    "    \n",
    "    #Overriding the default Python method\n",
    "    def __str__(self):\n",
    "        return \"area of rectangle:\" + str(self.calculate_area())\n",
    "    \n",
    "r = Rectangle(3,6)\n",
    "\n",
    "r.set_color(\"blue\")\n",
    "print(r.length, r.breadth, r.color)\n",
    "\n"
   ]
  },
  {
   "cell_type": "markdown",
   "metadata": {},
   "source": [
    "<a id='Control_structures_and_loops'>Control_structures_and_loops</a>"
   ]
  },
  {
   "cell_type": "code",
   "execution_count": null,
   "metadata": {},
   "outputs": [],
   "source": [
    "# Control_structures_and_loops\n",
    "\n",
    "### Question \n",
    "\n",
    "\n",
    "A word is said to belong to the red team if it has the letter r in it.\n",
    "Write an 'if' statement to check whether the given word belongs to the red team or not.\n",
    "\n",
    "\n",
    "word = input(\"Enter a word in small caps \")\n",
    "is_red = 0\n",
    "for char in word:\n",
    "    if char == \"r\":\n",
    "        print (\"The word belongs to red team\")\n",
    "        is_red = 1\n",
    "        break\n",
    "        \n",
    "if is_red == 0:\n",
    "    print (\"The word does not belong to the red team\")\n",
    "\n",
    "\n",
    "### Question \n",
    "\n",
    "In continuation to previous example, if the word has the letter 'b', it belongs to the blue team. And if the word has both 'r' and 'b' then first letter gets a precedence. And if the word does not have the letter 'r' or 'b', it does not belong to any team. \n",
    "######Example: (word,output)                \n",
    "*   rabbit = red team\n",
    "*   brand =  blue team\n",
    "*   dog   =  no team\n",
    "\n",
    "\n",
    "Write a condition for this decision. \n",
    "\n",
    "\n",
    "word = input(\"Enter a word in small caps \")\n",
    "is_red = 0\n",
    "is_blue = 0\n",
    "for char in word:\n",
    "    if char == \"r\":\n",
    "        print (\"The word belongs to red team\")\n",
    "        is_red = 1\n",
    "        break\n",
    "    elif char == \"b\": \n",
    "        print (\"The word belongs to blue team\")\n",
    "        is_blue = 1\n",
    "        break\n",
    "        \n",
    "if is_red == 0 and is_blue == 0:\n",
    "    print (\"The word does not belong to any team\")\n",
    "\n",
    "### Question \n",
    "\n",
    "Write a program to print all the numbers which are divisible by 17 between 1 and a given number 'n'. \n",
    "\n",
    "num = int(input(\"Enter the upper limit \"))\n",
    "\n",
    "i=1\n",
    "\n",
    "while i<= num:\n",
    "    if i% 17 == 0:\n",
    "        print(i)\n",
    "    i = i + 1\n",
    "\n",
    "### Question\n",
    "\n",
    "Write a program to add 13 to all the elements of a given numeric list. \n",
    "######Example - \n",
    "* Input list = [1,5,27] \n",
    "* Output list = [14,18,40]\n",
    "\n",
    "sample_list = [6, 98, 34, 45, 64, 7, 2, 5, 78, 90, 324, 111, 657, 438]\n",
    "\n",
    "# Write solution code here\n",
    "\n",
    "sol_list = []\n",
    "for i in sample_list:\n",
    "    sol_list.append(i+13)\n",
    "    \n",
    "print (sol_list)\n",
    "\n",
    "### Question\n",
    "\n",
    "In continuation to the example above, execute the same operation on the same sample list using list comprihension.\n",
    "\n",
    "sol_list = [x + 13 for x in sample_list]\n",
    "sol_list\n",
    "\n",
    "### Question \n",
    "This question has two tasks:\n",
    "* Task 1 - Find the factors of all the numbers in a given list. \n",
    "* Task 2 - Add the numbers and their factors to a dictionary where the key will be the numbers from the list, and the values will be the factors of the respective number. \n",
    "\n",
    "Example - \n",
    "##### Sample output :\n",
    "#####{6: [1, 2, 3, 6],\n",
    "98: [1, 2, 7, 14, 49, 98],\n",
    "##### 34: [1, 2, 17, 34],}\n",
    "\n",
    "sample_list = [6, 98, 34, 45, 64, 7, 2, 5, 78, 90, 324, 111, 657, 438]\n",
    "\n",
    "# write code here \n",
    "solu_dict = {}\n",
    "for num in sample_list:\n",
    "    fact_list = []\n",
    "    for i in range (1,num+1):\n",
    "        if num%i ==0:\n",
    "            fact_list.append(i)\n",
    "    solu_dict[num]=fact_list      \n",
    "solu_dict\n",
    "\n",
    "### Question \n",
    "\n",
    "Count the total number of unique characters in a given sentence. \n",
    "#####Example - \n",
    "* Input - 'total'\n",
    "* Output  - 'o', 'a', 'l'\n",
    "\n",
    "sample_sentence = \"Pack my box with five dozen liquor jugs\"\n",
    " \n",
    "# write code here \n",
    " \n",
    "unique_letter = set(sample_sentence)\n",
    "number = len(unique_letter)\n",
    "print(unique_letter)\n",
    "number\n",
    "\n",
    "### Question \n",
    "\n",
    "Write a calculator application using functions, which will ask for the users input such as - arithmetic operation, number1, number 2, and return the output post applying the arithmetic operator\n",
    "\n",
    "#####Example - \n",
    "\n",
    "\n",
    "```\n",
    "def calc(operation, x,y):\n",
    "    if operation == \"add\":\n",
    "        return x+y\n",
    "```\n",
    "\n",
    "\n",
    "\n",
    "def calc(operation, x,y):\n",
    "    if operation == \"add\":\n",
    "        return x+y\n",
    "    if operation == \"subs\":\n",
    "        return x-y\n",
    "    if operation == \"multi\":\n",
    "        return x*y\n",
    "    if operation == \"div\":\n",
    "        return x/y\n",
    "    else:\n",
    "        print(\"Enter a valid operation\")\n",
    "        return None\n",
    "    \n",
    "print (\"Enter the operation you want to execute\")\n",
    "oper = input(\"The available operations are 'add', 'subs', 'multi', 'div' \" )\n",
    "x = int (input (\"Enter the first number\"))\n",
    "y = int (input (\"Enter the second number\"))\n",
    "\n",
    "print(\"Answer is \", calc(oper, x, y))\n",
    "\n",
    "### Question \n",
    "\n",
    "Write a code to ask the user to input three numbers and then print the largest one among the three. \n",
    "\n",
    "num = input(\"Enter three numbers :\")\n",
    "\n",
    "num_list = num.split()\n",
    "\n",
    "a = int(num_list[0])\n",
    "b = int(num_list[1])\n",
    "c = int(num_list[2])\n",
    "\n",
    "print (a,b,c)\n",
    "\n",
    "if a>b: \n",
    "    if a>c:\n",
    "        print (\"The largest number is \", a)\n",
    "    else: \n",
    "        print (\"The largest number is \", c)\n",
    "else:\n",
    "    if b>c:\n",
    "        print (\"The largest number is \", b)\n",
    "    else: \n",
    "        print (\"The largest number is \", c)\n",
    "\n",
    "### Question\n",
    "\n",
    "Check whether a number is perfect or not. \n",
    "\n",
    "A perfect number is a number that is sum of all of its positive divisors (excluding itself).\n",
    "For more info refer to this link - https://www.geeksforgeeks.org/perfect-number/\n",
    "\n",
    "n = int (input(\"Enter the number you want to check: \"))\n",
    "\n",
    "sum = 0\n",
    "for x in range(1, n):\n",
    "    if n % x == 0:\n",
    "        sum += x\n",
    "        \n",
    "if sum == n:\n",
    "    print (\"The number is a perfect number\")\n",
    "else: \n",
    "    print (\"The number is not a perfect number\")\n",
    "\n",
    "### Question \n",
    "\n",
    "Add the elements in the two given lists using map and lambda functions.\n",
    "\n",
    "list1 = [5, 8, 9, 12]\n",
    "list2 = [10, 12, 8, 6]\n",
    "\n",
    "# write code here \n",
    "\n",
    "sol = list(map(lambda x, y : x+y, list1, list2))\n",
    "sol\n",
    "\n",
    "### Question \n",
    "\n",
    "Write a code to find the factorial of a number using reduce function. \n",
    "#####Example -\n",
    " 5!= 5 * 4 * 3 * 2 * 1=120.\n",
    "\n",
    "n = int (input (\"Enter a natural number \"))\n",
    "\n",
    "n_list = range(1,n+1)\n",
    "from functools import reduce\n",
    "factorial = reduce(lambda x,y: x*y, n_list)\n",
    "factorial"
   ]
  },
  {
   "cell_type": "markdown",
   "metadata": {},
   "source": [
    "<a id='Python_basics__variables_data_types_functions'>Python_basics__variables_data_types_functions</a>"
   ]
  },
  {
   "cell_type": "code",
   "execution_count": 3,
   "metadata": {},
   "outputs": [
    {
     "data": {
      "text/html": [
       "\n",
       "<h3>Python basics, variables, data types, functions</h3>\n"
      ],
      "text/plain": [
       "<IPython.core.display.HTML object>"
      ]
     },
     "metadata": {},
     "output_type": "display_data"
    },
    {
     "name": "stdout",
     "output_type": "stream",
     "text": [
      "3.10.4 | packaged by conda-forge | (main, Mar 30 2022, 08:38:02) [MSC v.1916 64 bit (AMD64)]\n"
     ]
    }
   ],
   "source": [
    "from IPython.display import display,HTML\n",
    "display(HTML('''\n",
    "<h3>Python basics, variables, data types, functions</h3>\n",
    "'''))  \n",
    "\n",
    "def trials_1():\n",
    "    # tuples\n",
    "    print(type(2))\n",
    "    print(type('2'))\n",
    "    x = 2,3,\n",
    "    print(type(x))\n",
    "    ###################################################\n",
    "    # dictionaries\n",
    "    # THESE ALL ARE DICTIONARIES\n",
    "    d = {}\n",
    "    d = {'a':1, 'b':2}\n",
    "    for i in d:\n",
    "        print(i)\n",
    "    d = dict(a=1, b=2)\n",
    "    print(type(d))\n",
    "    print(d)\n",
    "    ###################################################\n",
    "    # exercise\n",
    "    # List of order ID’s which are processed \n",
    "    processed_orders = [1152, 1154, 1155, 1156, 1157, 1160, 1161, 1162, 1166, 1169, 1170, 1172, 1176, 1050, 1178, 1051, 1052, 1054, 1058, 1060, 1061, 1062, 1065, 1066, 1067, 1068, 1069, 1076, 1077, 1080, 1081, 1083, 1091, 1085, 1088, 1089, 1131, 1092, 1094, 1095, 1099, 1102, 1103, 1104, 1106, 1107, 1108, 1109, 1111, 1117, 1119, 1121, 1150, 1128, 1129, 1136, 1137, 1139, 1140, 1141, 1144, 1148, 1124]\n",
    "    # List of order ID’s which are returned\n",
    "    returned_orders = [1153, 1158, 1159, 1163, 1164, 1165, 1167, 1168, 1171, 1173, 1174, 1175, 1177, 1053, 1055, 1056, 1057, 1059, 1063, 1064, 1070, 1071, 1072, 1073, 1074, 1075, 1078, 1079, 1082, 1084, 1086, 1087, 1090, 1093, 1096, 1097, 1098, 1100, 1101, 1105, 1110, 1112, 1113, 1114, 1115, 1116, 1118, 1120, 1122, 1123, 1125, 1126, 1127, 1130, 1132, 1133, 1134, 1135, 1138, 1142, 1143, 1145, 1146, 1147, 1149, 1151]\n",
    "    # Consider the information available in the above two lists and answer the question given below\n",
    "    sum_orders = []\n",
    "    for i in range(len(processed_orders)):\n",
    "        sum_orders.append(processed_orders[i] + returned_orders[i])\n",
    "    print(sum_orders[49])\n",
    "    print(sorted(processed_orders)[:4])\n",
    "    print(sorted(processed_orders + returned_orders)[:4])\n",
    "    ###################################################\n",
    "    # exercise - 2\n",
    "    dic ={101: 43, 102: 25, 103: 43, 104: 31, 105: 26, 106: 28, 107: 29, 108: 43, 109: 25, 110: 22, 111: 22, 112: 25, 113: 30, 115: 45, 116: 23, 117: 29, 118: 28, 119: 30, 120: 28, 121: 42, 122: 39, 123: 29, 124: 42, 125: 43, 126: 42, 127: 40, 128: 27, 129: 23, 130: 30, 131: 37, 132: 20, 133: 36, 134: 27, 135: 27, 136: 22, 137: 28, 138: 23, 139: 45, 140: 39, 141: 29, 142: 33, 143: 39, 145: 34, 146: 26, 147: 30, 148: 38, 149: 29, 150: 24, 151: 28, 152: 34, 153: 42, 154: 29, 155: 23, 156: 31, 158: 25, 160: 45, 161: 42, 162: 27, 163: 24, 164: 20, 166: 24, 167: 28, 168: 20, 169: 33, 170: 34, 171: 37, 172: 45, 173: 35, 174: 23, 175: 44, 176: 27, 177: 30, 178: 26, 179: 27} \n",
    "    print(sorted(list(dic.values()))[-1])\n",
    "    print(sum(list(dic.values()))/len(dic))\n",
    "    dic[104] = 27\n",
    "    dic[140] = 27\n",
    "    dic[164] = 27\n",
    "    del dic[143]\n",
    "    print(sum(list(dic.values()))/len(dic))\n",
    "    ###################################################\n",
    "#trials_1()\n",
    "\n",
    "\n",
    "\n",
    "def trials_2():\n",
    "    ###################################################\n",
    "    # comprehension:\n",
    "        # list comprehension\n",
    "        # dictionary comprehension\n",
    "    ###################################################\n",
    "    # exercise\n",
    "    def func(x = 1 ,y = 2):\n",
    "        z = x * y + x + y\n",
    "        return z\n",
    "    print(func(2, func(3)))\n",
    "    print((101*99, 102*98))\n",
    "    ###################################################\n",
    "    #lambda, map, filter, reduce\n",
    "    x = lambda x:x.upper()\n",
    "    print(x(\"hello\"))\n",
    "    li = ([1,2,3,4,5,6,7])\n",
    "    print([i() for i in (lambda x=x:x**2 for x in li)])\n",
    "    # print(tuple([i() for i in (lambda x=x:x**2 for x in li)]))\n",
    "    # print(set([i() for i in (lambda x=x:x**2 for x in li)]))\n",
    "    # map\n",
    "                #same above thing using map\n",
    "    print(list(map(lambda x=x:x**2,li)))\n",
    "    # filter\n",
    "    print(list(filter(lambda x=x:x**2!=x,li)))\n",
    "    print(list(map(lambda x=x:x**2!=x,li)))\n",
    "    print(list(filter(lambda x=x:x**2,li)))\n",
    "    #reduce\n",
    "    from functools import reduce\n",
    "    print(reduce(lambda x,y:x*y,li))\n",
    "    ###################################################\n",
    "#trials_2()\n",
    "\n",
    "import sys\n",
    "print(sys.version)\n",
    "\n"
   ]
  },
  {
   "cell_type": "code",
   "execution_count": null,
   "metadata": {},
   "outputs": [],
   "source": []
  },
  {
   "cell_type": "code",
   "execution_count": null,
   "metadata": {},
   "outputs": [],
   "source": []
  }
 ],
 "metadata": {
  "colab": {
   "collapsed_sections": [
    "dfaI2Nqgx7ul",
    "q9Z0-2hcx7up",
    "uIZxFBdCx7vO",
    "2S1E7CUFx7wK"
   ],
   "name": "new_Session - 2.ipynb",
   "provenance": []
  },
  "kernelspec": {
   "display_name": "Python 3 (ipykernel)",
   "language": "python",
   "name": "python3"
  },
  "language_info": {
   "codemirror_mode": {
    "name": "ipython",
    "version": 3
   },
   "file_extension": ".py",
   "mimetype": "text/x-python",
   "name": "python",
   "nbconvert_exporter": "python",
   "pygments_lexer": "ipython3",
   "version": "3.8.0"
  },
  "varInspector": {
   "cols": {
    "lenName": 16,
    "lenType": 16,
    "lenVar": 40
   },
   "kernels_config": {
    "python": {
     "delete_cmd_postfix": "",
     "delete_cmd_prefix": "del ",
     "library": "var_list.py",
     "varRefreshCmd": "print(var_dic_list())"
    },
    "r": {
     "delete_cmd_postfix": ") ",
     "delete_cmd_prefix": "rm(",
     "library": "var_list.r",
     "varRefreshCmd": "cat(var_dic_list()) "
    }
   },
   "types_to_exclude": [
    "module",
    "function",
    "builtin_function_or_method",
    "instance",
    "_Feature"
   ],
   "window_display": false
  }
 },
 "nbformat": 4,
 "nbformat_minor": 1
}
