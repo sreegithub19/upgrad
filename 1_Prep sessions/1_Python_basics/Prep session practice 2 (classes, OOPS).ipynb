{
 "cells": [
  {
   "cell_type": "code",
   "execution_count": 1,
   "metadata": {},
   "outputs": [
    {
     "data": {
      "text/html": [
       "<style type='text/css'>\n",
       ".CodeMirror{\n",
       "    font-size: 12px;\n",
       "}\n",
       "\n",
       "div.output_area pre {\n",
       "    font-size: 12px;\n",
       "}\n",
       "</style>\n"
      ],
      "text/plain": [
       "<IPython.core.display.HTML object>"
      ]
     },
     "metadata": {},
     "output_type": "display_data"
    }
   ],
   "source": [
    "%%html\n",
    "<style type='text/css'>\n",
    ".CodeMirror{\n",
    "    font-size: 12px;\n",
    "}\n",
    "\n",
    "div.output_area pre {\n",
    "    font-size: 12px;\n",
    "}\n",
    "</style>"
   ]
  },
  {
   "cell_type": "code",
   "execution_count": 10,
   "metadata": {},
   "outputs": [
    {
     "name": "stdout",
     "output_type": "stream",
     "text": [
      "Reset css and font defaults in:\n",
      "C:\\Users\\Padmaja\\.jupyter\\custom &\n",
      "C:\\Users\\Padmaja\\AppData\\Roaming\\jupyter\\nbextensions\n"
     ]
    }
   ],
   "source": [
    "#!jt -l\n",
    "'''\n",
    "Available Themes: \n",
    "   chesterish\n",
    "   grade3\n",
    "   gruvboxd\n",
    "   gruvboxl\n",
    "   monokai\n",
    "   oceans16\n",
    "   onedork\n",
    "   solarizedd\n",
    "   solarizedl\n",
    "'''\n",
    "# https://github.com/dunovank/jupyter-themes\n",
    "# !jt -t gruvboxd -f roboto -fs 12\n",
    "!jt -r"
   ]
  },
  {
   "cell_type": "code",
   "execution_count": 10,
   "metadata": {
    "code_folding": []
   },
   "outputs": [
    {
     "name": "stdout",
     "output_type": "stream",
     "text": [
      "3.10.4 | packaged by conda-forge | (main, Mar 30 2022, 08:38:02) [MSC v.1916 64 bit (AMD64)]\n"
     ]
    },
    {
     "data": {
      "text/html": [
       "\n",
       "<h3>Classes</h3>\n",
       "<h3>Methods vs Functions</h3>\n",
       "<h4>Instance methods</h4>\n",
       "<h4>Class methods</h4>\n",
       "<h4>Static methods</h4>\n",
       "<h3>Inheritance and Overriding</h3>\n"
      ],
      "text/plain": [
       "<IPython.core.display.HTML object>"
      ]
     },
     "metadata": {},
     "output_type": "display_data"
    }
   ],
   "source": [
    "# Reference:\n",
    "    # https://stackoverflow.com/questions/42449814/running-jupyter-notebook-in-a-virtualenv-installed-sklearn-module-not-available\n",
    "import sys\n",
    "print(sys.version)\n",
    "\n",
    "#Classes overview (instance methods, class methods, static methods)\n",
    "from IPython.display import display,HTML\n",
    "display(HTML('''\n",
    "<h3>Classes</h3>\n",
    "<h3>Methods vs Functions</h3>\n",
    "<h4>Instance methods</h4>\n",
    "<h4>Class methods</h4>\n",
    "<h4>Static methods</h4>\n",
    "<h3>Inheritance and Overriding</h3>\n",
    "'''))  "
   ]
  },
  {
   "cell_type": "code",
   "execution_count": null,
   "metadata": {},
   "outputs": [],
   "source": []
  },
  {
   "cell_type": "code",
   "execution_count": 1,
   "metadata": {},
   "outputs": [
    {
     "name": "stdout",
     "output_type": "stream",
     "text": [
      "3.10.4 | packaged by conda-forge | (main, Mar 30 2022, 08:38:02) [MSC v.1916 64 bit (AMD64)]\n"
     ]
    }
   ],
   "source": [
    "import subprocess\n",
    "import sys\n",
    "print(sys.version)\n",
    "def install(package):\n",
    "    subprocess.check_call([sys.executable, \"-m\", \"pip\", \"install\", package])\n",
    "    \n",
    "install(\"statsmodels\")  # install \"fancyimpute\" from Anaconda Powershell prompt"
   ]
  },
  {
   "cell_type": "code",
   "execution_count": 6,
   "metadata": {},
   "outputs": [
    {
     "name": "stdout",
     "output_type": "stream",
     "text": [
      "Available Themes: \n",
      "   chesterish\n",
      "   grade3\n",
      "   gruvboxd\n",
      "   gruvboxl\n",
      "   monokai\n",
      "   oceans16\n",
      "   onedork\n",
      "   solarizedd\n",
      "   solarizedl\n"
     ]
    }
   ],
   "source": [
    "# Jupyter themes\n",
    "# https://towardsdatascience.com/customize-your-jupyter-notebook-theme-in-2-lines-of-code-fc726cea1513#:~:text=By%20default%2C%20Jupyter%20Notebook%20uses,the%20theme%20of%20the%20notebook.\n",
    "# Screens of the available themes are also available in this Github repository: \n",
    "#          https://github.com/dunovank/jupyter-themes/tree/master/screens\n",
    "# !jt -r    # to restore the default jupyter theme\n",
    "!jt -l\n",
    "#!jt -t gruvboxd"
   ]
  },
  {
   "cell_type": "code",
   "execution_count": 13,
   "metadata": {},
   "outputs": [
    {
     "name": "stdout",
     "output_type": "stream",
     "text": [
      "Enter a number, or press enter to exit: 34\n",
      "Enter a number, or press enter to exit: 43\n",
      "Enter a number, or press enter to exit: \n",
      "77\n"
     ]
    }
   ],
   "source": [
    "sum_ = 0\n",
    "while True:\n",
    "    i = input(\"Enter a number, or press enter to exit: \")\n",
    "    if not i:\n",
    "        break\n",
    "    sum_ += int(i)\n",
    "print(sum_)"
   ]
  },
  {
   "cell_type": "code",
   "execution_count": 14,
   "metadata": {
    "code_folding": [
     3,
     33
    ]
   },
   "outputs": [
    {
     "name": "stdout",
     "output_type": "stream",
     "text": [
      "33\n"
     ]
    }
   ],
   "source": [
    "#Classes overview (instance methods, class methods, static methods)\n",
    "\n",
    "\n",
    "def classes():\n",
    "    class rectangle:\n",
    "        '''\n",
    "        Parameterised constructor:\n",
    "        dynamically assign the attributes during object creation\n",
    "        '''\n",
    "        # class variables\n",
    "        length = 54  \n",
    "        breadth = 43\n",
    "        pi = 3.14\n",
    "        def __init__(self,length,breadth):\n",
    "            self.length = length\n",
    "            self.breadth = breadth\n",
    "        print(length)\n",
    "        l = 40\n",
    "        b = 30\n",
    "        def area(self):\n",
    "            pi = 3.1234567\n",
    "            print(\"self.pi:\",self.pi, \"\\npi:\",pi)\n",
    "            return self.b*self.l\n",
    "    print(rectangle(0,0).area())  \n",
    "    # 0,0 above is to only fill up the parameters \n",
    "    # (number of parameters here should be equal to \n",
    "    # the number of parameters in init constructor of the class \n",
    "    # (other than self))\n",
    "    rect2 = (rectangle(56,67))\n",
    "    print(rect2.length,rect2.breadth)  # instance variables\n",
    "    print(rectangle.pi, rectangle(0,0).area())\n",
    "#classes()\n",
    "\n",
    "def classes_2():\n",
    "    class Circle:\n",
    "        pi = 3.141592653589\n",
    "        def __init__(self,radius):\n",
    "            self.radius = radius\n",
    "        \n",
    "        # instance method\n",
    "        def calculate_area(self):\n",
    "            return Circle.pi * (self.radius**2)\n",
    "        # class method (cannot access radius)\n",
    "        @classmethod\n",
    "        def access_pi(self):\n",
    "            pi = 3.14\n",
    "            return pi\n",
    "        # static method - cannot access - pi and radius\n",
    "        @staticmethod\n",
    "        def circle_static_method():\n",
    "            return (\"This is circle's static method\")\n",
    "    print(Circle(5).calculate_area()) # required parameter here\n",
    "    print(Circle.access_pi())\n",
    "    print(Circle.circle_static_method())\n",
    "#classes_2()\n",
    "\n",
    "class A :\n",
    "    x = 10\n",
    "    def __init__(self, y,z):\n",
    "        self.y = y\n",
    "        self.z = z\n",
    "           \n",
    "    def update_y(self):\n",
    "        self.y = self.y * self.z\n",
    "       \n",
    "A1 = A(3,4)\n",
    "A2 = A(5,6)\n",
    "A.x = 30\n",
    "print(A1.y + A2.x)"
   ]
  },
  {
   "cell_type": "code",
   "execution_count": 15,
   "metadata": {},
   "outputs": [
    {
     "name": "stdout",
     "output_type": "stream",
     "text": [
      "4\n",
      "78.539816339725\n",
      "3.141592653589 5 red\n"
     ]
    }
   ],
   "source": [
    "# Overriding:\n",
    "\n",
    "class Shape:\n",
    "    def set_color(self,color):\n",
    "        self.color = color\n",
    "        \n",
    "    def calculate_area(self):\n",
    "        return 2**2\n",
    "    \n",
    "    def color_the_shape(self):\n",
    "        color_price = {\"red\":10,\"blue\":15,\"green\":5}\n",
    "        return self.calculate_area() + color_price(self.color)\n",
    "    \n",
    "    \n",
    "\n",
    "class Circle(Shape):\n",
    "    pi = 3.141592653589\n",
    "    def __init__(self,radius):\n",
    "        self.radius = radius\n",
    "\n",
    "    # Overriding (changing the functionality of this function in the parent class)\n",
    "    def calculate_area(self):\n",
    "        return Circle.pi * (self.radius**2)\n",
    "    \n",
    "print(Shape().calculate_area())\n",
    "print(Circle(5).calculate_area())\n",
    "\n",
    "c = Circle(5)\n",
    "\n",
    "#Inheritance\n",
    "c.set_color(\"red\")\n",
    "print(c.pi,c.radius,c.color)\n"
   ]
  },
  {
   "cell_type": "code",
   "execution_count": 16,
   "metadata": {},
   "outputs": [
    {
     "name": "stdout",
     "output_type": "stream",
     "text": [
      "3 6 blue\n"
     ]
    }
   ],
   "source": [
    "#Inheritance (continued):\n",
    "class Rectangle(Shape):\n",
    "    \n",
    "    def __init__(self,length,breadth):\n",
    "        self.length = length\n",
    "        self.breadth = breadth\n",
    "        \n",
    "    #Overriding\n",
    "    def calculate_area(self):\n",
    "        return self.length*self.breadth\n",
    "    \n",
    "    #Overriding the default Python method\n",
    "    def __str__(self):\n",
    "        return \"area of rectangle:\" + str(self.calculate_area())\n",
    "    \n",
    "r = Rectangle(3,6)\n",
    "\n",
    "r.set_color(\"blue\")\n",
    "print(r.length, r.breadth, r.color)"
   ]
  },
  {
   "cell_type": "code",
   "execution_count": null,
   "metadata": {},
   "outputs": [],
   "source": []
  },
  {
   "cell_type": "code",
   "execution_count": null,
   "metadata": {},
   "outputs": [],
   "source": []
  }
 ],
 "metadata": {
  "kernelspec": {
   "display_name": "newenv",
   "language": "python",
   "name": "newenv"
  },
  "language_info": {
   "codemirror_mode": {
    "name": "ipython",
    "version": 3
   },
   "file_extension": ".py",
   "mimetype": "text/x-python",
   "name": "python",
   "nbconvert_exporter": "python",
   "pygments_lexer": "ipython3",
   "version": "3.10.4"
  },
  "widgets": {
   "application/vnd.jupyter.widget-state+json": {
    "state": {},
    "version_major": 2,
    "version_minor": 0
   }
  }
 },
 "nbformat": 4,
 "nbformat_minor": 2
}
