{
 "cells": [
  {
   "cell_type": "code",
   "execution_count": 8,
   "metadata": {},
   "outputs": [
    {
     "data": {
      "text/html": [
       "<style type='text/css'>\n",
       ".CodeMirror{\n",
       "    font-size: 12px;\n",
       "}\n",
       "\n",
       "div.output_area pre {\n",
       "    font-size: 12px;\n",
       "}\n",
       "</style>\n"
      ],
      "text/plain": [
       "<IPython.core.display.HTML object>"
      ]
     },
     "metadata": {},
     "output_type": "display_data"
    }
   ],
   "source": [
    "%%html\n",
    "<style type='text/css'>\n",
    ".CodeMirror{\n",
    "    font-size: 12px;\n",
    "}\n",
    "\n",
    "div.output_area pre {\n",
    "    font-size: 12px;\n",
    "}\n",
    "</style>"
   ]
  },
  {
   "cell_type": "code",
   "execution_count": 9,
   "metadata": {},
   "outputs": [],
   "source": [
    "#!jt -l\n",
    "'''\n",
    "Available Themes: \n",
    "   chesterish\n",
    "   grade3\n",
    "   gruvboxd\n",
    "   gruvboxl\n",
    "   monokai\n",
    "   oceans16\n",
    "   onedork\n",
    "   solarizedd\n",
    "   solarizedl\n",
    "'''\n",
    "# https://github.com/dunovank/jupyter-themes\n",
    "!jt -t gruvboxd -f roboto -fs 12"
   ]
  },
  {
   "cell_type": "code",
   "execution_count": 10,
   "metadata": {
    "code_folding": []
   },
   "outputs": [
    {
     "name": "stdout",
     "output_type": "stream",
     "text": [
      "3.10.4 | packaged by conda-forge | (main, Mar 30 2022, 08:38:02) [MSC v.1916 64 bit (AMD64)]\n"
     ]
    },
    {
     "data": {
      "text/html": [
       "\n",
       "<h3>Classes</h3>\n",
       "<h3>Methods vs Functions</h3>\n",
       "<h4>Instance methods</h4>\n",
       "<h4>Class methods</h4>\n",
       "<h4>Static methods</h4>\n",
       "<h3>Inheritance and Overriding</h3>\n"
      ],
      "text/plain": [
       "<IPython.core.display.HTML object>"
      ]
     },
     "metadata": {},
     "output_type": "display_data"
    }
   ],
   "source": [
    "# Reference:\n",
    "    # https://stackoverflow.com/questions/42449814/running-jupyter-notebook-in-a-virtualenv-installed-sklearn-module-not-available\n",
    "import sys\n",
    "print(sys.version)\n",
    "\n",
    "#Classes overview (instance methods, class methods, static methods)\n",
    "from IPython.display import display,HTML\n",
    "display(HTML('''\n",
    "<h3>Classes</h3>\n",
    "<h3>Methods vs Functions</h3>\n",
    "<h4>Instance methods</h4>\n",
    "<h4>Class methods</h4>\n",
    "<h4>Static methods</h4>\n",
    "<h3>Inheritance and Overriding</h3>\n",
    "'''))  "
   ]
  },
  {
   "cell_type": "code",
   "execution_count": null,
   "metadata": {},
   "outputs": [],
   "source": []
  },
  {
   "cell_type": "code",
   "execution_count": 3,
   "metadata": {},
   "outputs": [
    {
     "name": "stdout",
     "output_type": "stream",
     "text": [
      "3.9.13 (main, May 24 2022, 21:28:12) \n",
      "[Clang 12.0.0 (clang-1200.0.32.29)]\n"
     ]
    },
    {
     "name": "stderr",
     "output_type": "stream",
     "text": [
      "DEPRECATION: Configuring installation scheme with distutils config files is deprecated and will no longer work in the near future. If you are using a Homebrew or Linuxbrew Python, please see discussion at https://github.com/Homebrew/homebrew-core/issues/76621\n"
     ]
    },
    {
     "name": "stdout",
     "output_type": "stream",
     "text": [
      "Collecting fancyimpute\n",
      "  Using cached fancyimpute-0.7.0.tar.gz (25 kB)\n",
      "  Preparing metadata (setup.py): started\n",
      "  Preparing metadata (setup.py): finished with status 'done'\n",
      "Collecting knnimpute>=0.1.0\n",
      "  Using cached knnimpute-0.1.0.tar.gz (8.3 kB)\n",
      "  Preparing metadata (setup.py): started\n",
      "  Preparing metadata (setup.py): finished with status 'done'\n",
      "Requirement already satisfied: scikit-learn>=0.24.2 in /usr/local/lib/python3.9/site-packages (from fancyimpute) (1.0.2)\n",
      "Collecting cvxpy\n",
      "  Using cached cvxpy-1.2.1-1-cp39-cp39-macosx_10_9_x86_64.whl (880 kB)\n",
      "Collecting cvxopt\n",
      "  Using cached cvxopt-1.3.0-cp39-cp39-macosx_10_9_x86_64.whl (3.1 MB)\n",
      "Collecting pytest\n",
      "  Using cached pytest-7.1.2-py3-none-any.whl (297 kB)\n",
      "Collecting nose\n",
      "  Using cached nose-1.3.7-py3-none-any.whl (154 kB)\n",
      "Requirement already satisfied: six in /usr/local/lib/python3.9/site-packages (from knnimpute>=0.1.0->fancyimpute) (1.16.0)\n",
      "Requirement already satisfied: numpy>=1.10 in /usr/local/lib/python3.9/site-packages (from knnimpute>=0.1.0->fancyimpute) (1.22.3)\n",
      "Requirement already satisfied: scipy>=1.1.0 in /usr/local/lib/python3.9/site-packages (from scikit-learn>=0.24.2->fancyimpute) (1.8.0)\n",
      "Requirement already satisfied: threadpoolctl>=2.0.0 in /usr/local/lib/python3.9/site-packages (from scikit-learn>=0.24.2->fancyimpute) (3.1.0)\n",
      "Requirement already satisfied: joblib>=0.11 in /usr/local/lib/python3.9/site-packages (from scikit-learn>=0.24.2->fancyimpute) (1.1.0)\n",
      "Collecting ecos>=2\n",
      "  Downloading ecos-2.0.10-cp39-cp39-macosx_10_9_x86_64.whl (88 kB)\n",
      "     ━━━━━━━━━━━━━━━━━━━━━━━━━━━━━━━━━━━━━━━ 89.0/89.0 kB 282.1 kB/s eta 0:00:00\n",
      "Collecting scs>=1.1.6\n",
      "  Downloading scs-3.2.0-cp39-cp39-macosx_10_9_x86_64.whl (11.4 MB)\n",
      "     ━━━━━━━━━━━━━━━━━━━━━━━━━━━━━━━━━━━━━━━━ 11.4/11.4 MB 1.4 MB/s eta 0:00:00\n",
      "Collecting osqp>=0.4.1\n",
      "  Using cached osqp-0.6.2.post5-cp39-cp39-macosx_10_9_x86_64.whl (249 kB)\n",
      "Requirement already satisfied: packaging in /usr/local/lib/python3.9/site-packages (from pytest->fancyimpute) (21.3)\n",
      "Collecting pluggy<2.0,>=0.12\n",
      "  Downloading pluggy-1.0.0-py2.py3-none-any.whl (13 kB)\n",
      "Requirement already satisfied: tomli>=1.0.0 in /usr/local/lib/python3.9/site-packages (from pytest->fancyimpute) (2.0.1)\n",
      "Collecting iniconfig\n",
      "  Using cached iniconfig-1.1.1-py2.py3-none-any.whl (5.0 kB)\n",
      "Collecting py>=1.8.2\n",
      "  Downloading py-1.11.0-py2.py3-none-any.whl (98 kB)\n",
      "     ━━━━━━━━━━━━━━━━━━━━━━━━━━━━━━━━━━━━━━━━ 98.7/98.7 kB 1.2 MB/s eta 0:00:00\n",
      "Requirement already satisfied: attrs>=19.2.0 in /usr/local/lib/python3.9/site-packages (from pytest->fancyimpute) (21.4.0)\n",
      "Collecting qdldl\n",
      "  Downloading qdldl-0.1.5.post2-cp39-cp39-macosx_10_9_x86_64.whl (98 kB)\n",
      "     ━━━━━━━━━━━━━━━━━━━━━━━━━━━━━━━━━━━━━━━━ 98.1/98.1 kB 1.1 MB/s eta 0:00:00\n",
      "Requirement already satisfied: pyparsing!=3.0.5,>=2.0.2 in /usr/local/lib/python3.9/site-packages (from packaging->pytest->fancyimpute) (3.0.7)\n",
      "Building wheels for collected packages: fancyimpute, knnimpute\n",
      "  Building wheel for fancyimpute (setup.py): started\n",
      "  Building wheel for fancyimpute (setup.py): finished with status 'done'\n",
      "  Created wheel for fancyimpute: filename=fancyimpute-0.7.0-py3-none-any.whl size=29881 sha256=56ff77049b5dfbd8b316547ac769c426f31c55a6d026fdb12fea1c3cf1a12962\n",
      "  Stored in directory: /Users/sreedhar.k/Library/Caches/pip/wheels/f9/fc/6a/b0406b906bce293abe23c3b6da5a72637d2d04146ef1125a0b\n",
      "  Building wheel for knnimpute (setup.py): started\n",
      "  Building wheel for knnimpute (setup.py): finished with status 'done'\n",
      "  Created wheel for knnimpute: filename=knnimpute-0.1.0-py3-none-any.whl size=11334 sha256=8eb33d8e533172d4fbab3122a67d3838b59b0683679df90dcc1492990f6439c1\n",
      "  Stored in directory: /Users/sreedhar.k/Library/Caches/pip/wheels/88/c4/be/e232c750d9bc360abf9a5e2cafe0d3e08e3605d2801bb11684\n",
      "Successfully built fancyimpute knnimpute\n",
      "Installing collected packages: nose, iniconfig, py, pluggy, knnimpute, cvxopt, scs, qdldl, pytest, ecos, osqp, cvxpy, fancyimpute\n"
     ]
    },
    {
     "name": "stderr",
     "output_type": "stream",
     "text": [
      "  DEPRECATION: Configuring installation scheme with distutils config files is deprecated and will no longer work in the near future. If you are using a Homebrew or Linuxbrew Python, please see discussion at https://github.com/Homebrew/homebrew-core/issues/76621\n",
      "ERROR: Could not install packages due to an OSError: [Errno 13] Permission denied: '/usr/local/man/man1/nosetests.1'\n",
      "Consider using the `--user` option or check the permissions.\n",
      "\n",
      "WARNING: There was an error checking the latest version of pip.\n"
     ]
    },
    {
     "ename": "CalledProcessError",
     "evalue": "Command '['/usr/local/opt/python@3.9/bin/python3.9', '-m', 'pip', 'install', 'fancyimpute']' returned non-zero exit status 1.",
     "output_type": "error",
     "traceback": [
      "\u001b[0;31m---------------------------------------------------------------------------\u001b[0m",
      "\u001b[0;31mCalledProcessError\u001b[0m                        Traceback (most recent call last)",
      "Input \u001b[0;32mIn [3]\u001b[0m, in \u001b[0;36m<cell line: 7>\u001b[0;34m()\u001b[0m\n\u001b[1;32m      4\u001b[0m \u001b[38;5;28;01mdef\u001b[39;00m \u001b[38;5;21minstall\u001b[39m(package):\n\u001b[1;32m      5\u001b[0m     subprocess\u001b[38;5;241m.\u001b[39mcheck_call([sys\u001b[38;5;241m.\u001b[39mexecutable, \u001b[38;5;124m\"\u001b[39m\u001b[38;5;124m-m\u001b[39m\u001b[38;5;124m\"\u001b[39m, \u001b[38;5;124m\"\u001b[39m\u001b[38;5;124mpip\u001b[39m\u001b[38;5;124m\"\u001b[39m, \u001b[38;5;124m\"\u001b[39m\u001b[38;5;124minstall\u001b[39m\u001b[38;5;124m\"\u001b[39m, package])\n\u001b[0;32m----> 7\u001b[0m \u001b[43minstall\u001b[49m\u001b[43m(\u001b[49m\u001b[38;5;124;43m\"\u001b[39;49m\u001b[38;5;124;43mfancyimpute\u001b[39;49m\u001b[38;5;124;43m\"\u001b[39;49m\u001b[43m)\u001b[49m\n",
      "Input \u001b[0;32mIn [3]\u001b[0m, in \u001b[0;36minstall\u001b[0;34m(package)\u001b[0m\n\u001b[1;32m      4\u001b[0m \u001b[38;5;28;01mdef\u001b[39;00m \u001b[38;5;21minstall\u001b[39m(package):\n\u001b[0;32m----> 5\u001b[0m     \u001b[43msubprocess\u001b[49m\u001b[38;5;241;43m.\u001b[39;49m\u001b[43mcheck_call\u001b[49m\u001b[43m(\u001b[49m\u001b[43m[\u001b[49m\u001b[43msys\u001b[49m\u001b[38;5;241;43m.\u001b[39;49m\u001b[43mexecutable\u001b[49m\u001b[43m,\u001b[49m\u001b[43m \u001b[49m\u001b[38;5;124;43m\"\u001b[39;49m\u001b[38;5;124;43m-m\u001b[39;49m\u001b[38;5;124;43m\"\u001b[39;49m\u001b[43m,\u001b[49m\u001b[43m \u001b[49m\u001b[38;5;124;43m\"\u001b[39;49m\u001b[38;5;124;43mpip\u001b[39;49m\u001b[38;5;124;43m\"\u001b[39;49m\u001b[43m,\u001b[49m\u001b[43m \u001b[49m\u001b[38;5;124;43m\"\u001b[39;49m\u001b[38;5;124;43minstall\u001b[39;49m\u001b[38;5;124;43m\"\u001b[39;49m\u001b[43m,\u001b[49m\u001b[43m \u001b[49m\u001b[43mpackage\u001b[49m\u001b[43m]\u001b[49m\u001b[43m)\u001b[49m\n",
      "File \u001b[0;32m/usr/local/Cellar/python@3.9/3.9.13_1/Frameworks/Python.framework/Versions/3.9/lib/python3.9/subprocess.py:373\u001b[0m, in \u001b[0;36mcheck_call\u001b[0;34m(*popenargs, **kwargs)\u001b[0m\n\u001b[1;32m    371\u001b[0m     \u001b[38;5;28;01mif\u001b[39;00m cmd \u001b[38;5;129;01mis\u001b[39;00m \u001b[38;5;28;01mNone\u001b[39;00m:\n\u001b[1;32m    372\u001b[0m         cmd \u001b[38;5;241m=\u001b[39m popenargs[\u001b[38;5;241m0\u001b[39m]\n\u001b[0;32m--> 373\u001b[0m     \u001b[38;5;28;01mraise\u001b[39;00m CalledProcessError(retcode, cmd)\n\u001b[1;32m    374\u001b[0m \u001b[38;5;28;01mreturn\u001b[39;00m \u001b[38;5;241m0\u001b[39m\n",
      "\u001b[0;31mCalledProcessError\u001b[0m: Command '['/usr/local/opt/python@3.9/bin/python3.9', '-m', 'pip', 'install', 'fancyimpute']' returned non-zero exit status 1."
     ]
    }
   ],
   "source": [
    "import subprocess\n",
    "import sys\n",
    "print(sys.version)\n",
    "def install(package):\n",
    "    subprocess.check_call([sys.executable, \"-m\", \"pip\", \"install\", package])\n",
    "    \n",
    "install(\"fancyimpute\")"
   ]
  },
  {
   "cell_type": "code",
   "execution_count": 12,
   "metadata": {},
   "outputs": [
    {
     "name": "stdout",
     "output_type": "stream",
     "text": [
      "Available Themes: \n",
      "   chesterish\n",
      "   grade3\n",
      "   gruvboxd\n",
      "   gruvboxl\n",
      "   monokai\n",
      "   oceans16\n",
      "   onedork\n",
      "   solarizedd\n",
      "   solarizedl\n"
     ]
    }
   ],
   "source": [
    "# Jupyter themes\n",
    "# https://towardsdatascience.com/customize-your-jupyter-notebook-theme-in-2-lines-of-code-fc726cea1513#:~:text=By%20default%2C%20Jupyter%20Notebook%20uses,the%20theme%20of%20the%20notebook.\n",
    "\n",
    "# !jt -r    # to restore the default jupyter theme\n",
    "!jt -l\n",
    "!jt -t chesterish"
   ]
  },
  {
   "cell_type": "code",
   "execution_count": 13,
   "metadata": {},
   "outputs": [
    {
     "name": "stdout",
     "output_type": "stream",
     "text": [
      "Enter a number, or press enter to exit: 34\n",
      "Enter a number, or press enter to exit: 43\n",
      "Enter a number, or press enter to exit: \n",
      "77\n"
     ]
    }
   ],
   "source": [
    "sum_ = 0\n",
    "while True:\n",
    "    i = input(\"Enter a number, or press enter to exit: \")\n",
    "    if not i:\n",
    "        break\n",
    "    sum_ += int(i)\n",
    "print(sum_)"
   ]
  },
  {
   "cell_type": "code",
   "execution_count": 14,
   "metadata": {
    "code_folding": [
     3,
     33
    ]
   },
   "outputs": [
    {
     "name": "stdout",
     "output_type": "stream",
     "text": [
      "33\n"
     ]
    }
   ],
   "source": [
    "#Classes overview (instance methods, class methods, static methods)\n",
    "\n",
    "\n",
    "def classes():\n",
    "    class rectangle:\n",
    "        '''\n",
    "        Parameterised constructor:\n",
    "        dynamically assign the attributes during object creation\n",
    "        '''\n",
    "        # class variables\n",
    "        length = 54  \n",
    "        breadth = 43\n",
    "        pi = 3.14\n",
    "        def __init__(self,length,breadth):\n",
    "            self.length = length\n",
    "            self.breadth = breadth\n",
    "        print(length)\n",
    "        l = 40\n",
    "        b = 30\n",
    "        def area(self):\n",
    "            pi = 3.1234567\n",
    "            print(\"self.pi:\",self.pi, \"\\npi:\",pi)\n",
    "            return self.b*self.l\n",
    "    print(rectangle(0,0).area())  \n",
    "    # 0,0 above is to only fill up the parameters \n",
    "    # (number of parameters here should be equal to \n",
    "    # the number of parameters in init constructor of the class \n",
    "    # (other than self))\n",
    "    rect2 = (rectangle(56,67))\n",
    "    print(rect2.length,rect2.breadth)  # instance variables\n",
    "    print(rectangle.pi, rectangle(0,0).area())\n",
    "#classes()\n",
    "\n",
    "def classes_2():\n",
    "    class Circle:\n",
    "        pi = 3.141592653589\n",
    "        def __init__(self,radius):\n",
    "            self.radius = radius\n",
    "        \n",
    "        # instance method\n",
    "        def calculate_area(self):\n",
    "            return Circle.pi * (self.radius**2)\n",
    "        # class method (cannot access radius)\n",
    "        @classmethod\n",
    "        def access_pi(self):\n",
    "            pi = 3.14\n",
    "            return pi\n",
    "        # static method - cannot access - pi and radius\n",
    "        @staticmethod\n",
    "        def circle_static_method():\n",
    "            return (\"This is circle's static method\")\n",
    "    print(Circle(5).calculate_area()) # required parameter here\n",
    "    print(Circle.access_pi())\n",
    "    print(Circle.circle_static_method())\n",
    "#classes_2()\n",
    "\n",
    "class A :\n",
    "    x = 10\n",
    "    def __init__(self, y,z):\n",
    "        self.y = y\n",
    "        self.z = z\n",
    "           \n",
    "    def update_y(self):\n",
    "        self.y = self.y * self.z\n",
    "       \n",
    "A1 = A(3,4)\n",
    "A2 = A(5,6)\n",
    "A.x = 30\n",
    "print(A1.y + A2.x)"
   ]
  },
  {
   "cell_type": "code",
   "execution_count": 15,
   "metadata": {},
   "outputs": [
    {
     "name": "stdout",
     "output_type": "stream",
     "text": [
      "4\n",
      "78.539816339725\n",
      "3.141592653589 5 red\n"
     ]
    }
   ],
   "source": [
    "# Overriding:\n",
    "\n",
    "class Shape:\n",
    "    def set_color(self,color):\n",
    "        self.color = color\n",
    "        \n",
    "    def calculate_area(self):\n",
    "        return 2**2\n",
    "    \n",
    "    def color_the_shape(self):\n",
    "        color_price = {\"red\":10,\"blue\":15,\"green\":5}\n",
    "        return self.calculate_area() + color_price(self.color)\n",
    "    \n",
    "    \n",
    "\n",
    "class Circle(Shape):\n",
    "    pi = 3.141592653589\n",
    "    def __init__(self,radius):\n",
    "        self.radius = radius\n",
    "\n",
    "    # Overriding (changing the functionality of this function in the parent class)\n",
    "    def calculate_area(self):\n",
    "        return Circle.pi * (self.radius**2)\n",
    "    \n",
    "print(Shape().calculate_area())\n",
    "print(Circle(5).calculate_area())\n",
    "\n",
    "c = Circle(5)\n",
    "\n",
    "#Inheritance\n",
    "c.set_color(\"red\")\n",
    "print(c.pi,c.radius,c.color)\n"
   ]
  },
  {
   "cell_type": "code",
   "execution_count": 16,
   "metadata": {},
   "outputs": [
    {
     "name": "stdout",
     "output_type": "stream",
     "text": [
      "3 6 blue\n"
     ]
    }
   ],
   "source": [
    "#Inheritance (continued):\n",
    "class Rectangle(Shape):\n",
    "    \n",
    "    def __init__(self,length,breadth):\n",
    "        self.length = length\n",
    "        self.breadth = breadth\n",
    "        \n",
    "    #Overriding\n",
    "    def calculate_area(self):\n",
    "        return self.length*self.breadth\n",
    "    \n",
    "    #Overriding the default Python method\n",
    "    def __str__(self):\n",
    "        return \"area of rectangle:\" + str(self.calculate_area())\n",
    "    \n",
    "r = Rectangle(3,6)\n",
    "\n",
    "r.set_color(\"blue\")\n",
    "print(r.length, r.breadth, r.color)"
   ]
  },
  {
   "cell_type": "code",
   "execution_count": null,
   "metadata": {},
   "outputs": [],
   "source": []
  },
  {
   "cell_type": "code",
   "execution_count": null,
   "metadata": {},
   "outputs": [],
   "source": []
  }
 ],
 "metadata": {
  "kernelspec": {
   "display_name": "Python 3 (ipykernel)",
   "language": "python",
   "name": "python3"
  },
  "language_info": {
   "codemirror_mode": {
    "name": "ipython",
    "version": 3
   },
   "file_extension": ".py",
   "mimetype": "text/x-python",
   "name": "python",
   "nbconvert_exporter": "python",
   "pygments_lexer": "ipython3",
   "version": "3.9.13"
  },
  "widgets": {
   "application/vnd.jupyter.widget-state+json": {
    "state": {},
    "version_major": 2,
    "version_minor": 0
   }
  }
 },
 "nbformat": 4,
 "nbformat_minor": 2
}
