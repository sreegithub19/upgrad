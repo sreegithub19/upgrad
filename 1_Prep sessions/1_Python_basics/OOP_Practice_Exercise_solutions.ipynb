{
 "cells": [
  {
   "cell_type": "markdown",
   "metadata": {
    "colab_type": "text",
    "id": "InnU1V8XehdM"
   },
   "source": [
    "# Ice Cream Sundae - Ordering Menu"
   ]
  },
  {
   "cell_type": "markdown",
   "metadata": {
    "colab_type": "text",
    "id": "pxXIJCwUehdQ"
   },
   "source": [
    "You are expected to build an interactive application to order ice cream Sundays in an ice-cream parlour.\n",
    "You are expected to use the concepts you learnt from the Object-Oriented programming session. The complete building process is divided into questions given below after you solve all the questions you will the complete ordering application.\n",
    "\n",
    "Let's get started!!\n"
   ]
  },
  {
   "cell_type": "markdown",
   "metadata": {
    "colab_type": "text",
    "id": "QFZg_Uz3ehdT"
   },
   "source": [
    "### Question \n",
    "\n",
    "Declare a class \"ice_cream\". It needs to have the following constants and instance methods defined. \n",
    "\n",
    "1. Radius of a small scoop (r_small = 1.5)\n",
    "2. Radius of large scoop (r_large = 2.5)\n",
    "3. Value of pie (pi = 3.14)\n",
    "4. An instance method \"flavour\" - it should print enter your flavour.\n",
    "\n",
    "Given below is the example of a sample class and its methods and variables for reference:\n",
    "\n",
    "class chocolate:\n",
    "\n",
    "    chocolate_length=10\n",
    "    chocolate_breadth=2\n",
    "    \n",
    "    def area(self):\n",
    "        print(\"Enter your favourite chocolate\")"
   ]
  },
  {
   "cell_type": "code",
   "execution_count": null,
   "metadata": {
    "colab": {},
    "colab_type": "code",
    "id": "19skItu3ehdU"
   },
   "outputs": [],
   "source": [
    "# Declare class here:\n",
    "class ice_cream:\n",
    "    # Declare class variables:\n",
    "    r_small = 1.5\n",
    "    r_large = 2.5\n",
    "    pi = 3.14\n",
    "    \n",
    "    # Declare instance methods:\n",
    "    def flavour(self):\n",
    "        print(\"Enter your flavour\")"
   ]
  },
  {
   "cell_type": "code",
   "execution_count": null,
   "metadata": {
    "colab": {},
    "colab_type": "code",
    "id": "mKxnFSpfehdj"
   },
   "outputs": [],
   "source": [
    "# Call the class:\n",
    "order = ice_cream()"
   ]
  },
  {
   "cell_type": "code",
   "execution_count": null,
   "metadata": {
    "colab": {},
    "colab_type": "code",
    "id": "bFm0EmI_eheI",
    "outputId": "46558c13-6bb9-4bc9-9a0b-56d90265f040"
   },
   "outputs": [
    {
     "name": "stdout",
     "output_type": "stream",
     "text": [
      "Enter your flavour\n"
     ]
    }
   ],
   "source": [
    "order.flavour()"
   ]
  },
  {
   "cell_type": "markdown",
   "metadata": {
    "colab_type": "text",
    "id": "6b3ianiTeheY"
   },
   "source": [
    "### Question\n",
    "\n",
    "Modify the class \"ice_cream\" to add a method which can calculate the cost of the Ice cream based on its size. \n",
    "\n",
    "Cost of ice cream is 0.5$ per unit volume. Take the input from the user about what size of ice cream scoops they want small or large. Based on that calculate the volume of the scoop and use the volume and the cost per volume to calculate the cost of ice cream. \n",
    "\n",
    "Hint: Declare a class similar to example above. Add new function that calculates the cost depending on the scope size. Use If-else statement to calculate ice-cream cost."
   ]
  },
  {
   "cell_type": "code",
   "execution_count": null,
   "metadata": {
    "colab": {},
    "colab_type": "code",
    "id": "6JNnWB3oehed"
   },
   "outputs": [],
   "source": [
    "class ice_cream:\n",
    "    r_small = 1.75\n",
    "    r_large = 2.5\n",
    "    pi = 3.14\n",
    "        \n",
    "    def flavour(self):\n",
    "        print(\"Enter your flavour\")\n",
    "        size = input(\"Would you like a small scoop or a large scoop (enter s/l)\")\n",
    "        cost = self.cost_ice_cream(size)\n",
    "        print (\"The cost of ice cream is \", cost)\n",
    "        \n",
    "    def cost_ice_cream(self, size):\n",
    "        if size==\"s\":\n",
    "            vol = 4/3 *(self.pi)* (self.r_small**3)\n",
    "            cost = vol * 0.5\n",
    "            return cost\n",
    "        elif size==\"l\":\n",
    "            vol = 4/3 *(self.pi)* (self.r_large**3)\n",
    "            cost = vol * 0.5\n",
    "            return cost\n",
    "        else:\n",
    "            print(\"Please enter a valid size\")"
   ]
  },
  {
   "cell_type": "code",
   "execution_count": null,
   "metadata": {
    "colab": {},
    "colab_type": "code",
    "id": "Q4XrTgkjehe4",
    "outputId": "1eae630d-2d99-4191-be31-22d874ce40b0"
   },
   "outputs": [
    {
     "name": "stdout",
     "output_type": "stream",
     "text": [
      "Enter your flavour\n",
      "Would you like a small scoop or a large scoop (enter s/l)l\n",
      "The cost of ice cream is  10.416666666666666\n"
     ]
    }
   ],
   "source": [
    "# Call the function:\n",
    "order = ice_cream()\n",
    "order.flavour()"
   ]
  },
  {
   "cell_type": "markdown",
   "metadata": {
    "colab_type": "text",
    "id": "JLEdGXEEehfJ"
   },
   "source": [
    "### Question \n",
    "\n",
    "In the above function find a way to round up the cost to the next integer value. \n",
    "\n",
    "Hint: In the same class as above, add a additional element to the cost variable that rounds up the cost to the next nearest integer.\n",
    "For example: if the cost is 10.41, the output should be 11$\n",
    "##### For rounding up an integer value you could use either the ceil() or round()"
   ]
  },
  {
   "cell_type": "code",
   "execution_count": null,
   "metadata": {
    "colab": {},
    "colab_type": "code",
    "id": "CYQnSXVfehfL"
   },
   "outputs": [],
   "source": [
    "import math\n",
    "\n",
    "class ice_cream:\n",
    "    r_small = 1.75\n",
    "    r_large = 2.5\n",
    "    pi = 3.14\n",
    "        \n",
    "    def flavour(self):\n",
    "        print(\"Enter your flavour\")\n",
    "        size = input(\"Would you like a small scoop or a large scoop (enter s/l)\")\n",
    "        cost = self.cost_ice_cream(size)\n",
    "        print (\"The cost of ice cream is \", math.ceil(cost))\n",
    "        \n",
    "    def cost_ice_cream(self, size):\n",
    "        if size==\"s\":\n",
    "            vol = 4/3 *(self.pi)* (self.r_small**3)\n",
    "            cost = vol * 0.5\n",
    "            return cost\n",
    "        elif size==\"l\":\n",
    "            vol = 4/3 *(self.pi)* (self.r_large**3)\n",
    "            cost = vol * 0.5\n",
    "            return cost\n",
    "        else:\n",
    "            print(\"Please enter a valid size\")"
   ]
  },
  {
   "cell_type": "code",
   "execution_count": null,
   "metadata": {
    "colab": {},
    "colab_type": "code",
    "id": "W2ba9HHsehfq",
    "outputId": "11571136-6a85-4884-e003-e2824f741f55"
   },
   "outputs": [
    {
     "name": "stdout",
     "output_type": "stream",
     "text": [
      "Enter your flavour\n",
      "Would you like a small scoop or a large scoop (enter s/l)l\n",
      "The cost of ice cream is  11\n"
     ]
    }
   ],
   "source": [
    "# Call the function:\n",
    "order = ice_cream()\n",
    "order.flavour()"
   ]
  },
  {
   "cell_type": "markdown",
   "metadata": {
    "colab_type": "text",
    "id": "tj6l0rB9ehf1"
   },
   "source": [
    "### Question \n",
    "\n",
    "Modify the flavour function to give the options of available flavours and take as input the choice of the customer. \n",
    "\n",
    "The available options are Vanilla, Chocolate, Butterscotch, Blue_berry.\n",
    "\n",
    "Hint: Add a new function that asks the user to input the choice of flavour."
   ]
  },
  {
   "cell_type": "code",
   "execution_count": null,
   "metadata": {
    "colab": {},
    "colab_type": "code",
    "id": "x7I5T-t5ehf5"
   },
   "outputs": [],
   "source": [
    "import math\n",
    "\n",
    "class ice_cream:\n",
    "    r_small = 1.5\n",
    "    r_large = 2.5\n",
    "    pi = 3.14\n",
    "        \n",
    "    def flavour(self):\n",
    "        print (\"Available flavours of ice cream are Vanilla, Chocolate, Butterscotch, Blue_berry\")\n",
    "        flv = input(\"Which flavour of ice cream would you like \")\n",
    "        size = input(\"Would you like a small scoop or a large scoop (enter s/l)\")\n",
    "        i_cost = self.cost_ice_cream(size)\n",
    "        print (\"The cost of ice cream is \", math.ceil(i_cost))\n",
    "        \n",
    "    def cost_ice_cream(self, size):\n",
    "        if size==\"s\":\n",
    "            vol = 4/3 *(self.pi)* (self.r_small**3)\n",
    "            cost = vol * 0.5\n",
    "        elif size==\"l\":\n",
    "            vol = 4/3 *(self.pi)* (self.r_large**3)\n",
    "            cost = vol * 0.5\n",
    "        else:\n",
    "            print(\"Please enter a valid size\")\n",
    "        return cost"
   ]
  },
  {
   "cell_type": "code",
   "execution_count": null,
   "metadata": {
    "colab": {},
    "colab_type": "code",
    "id": "JZyP9-jOehgJ",
    "outputId": "2de46ca0-633c-483c-f9a5-67698fab9c24"
   },
   "outputs": [
    {
     "name": "stdout",
     "output_type": "stream",
     "text": [
      "Available flavours of ice cream are Vanilla, Chocolate, Butterscotch, Blue_berry\n",
      "Which flavour of ice cream would you like Chocolate\n",
      "Would you like a small scoop or a large scoop (enter s/l)l\n",
      "The cost of ice cream is  11\n"
     ]
    }
   ],
   "source": [
    "order = ice_cream()\n",
    "order.flavour()"
   ]
  },
  {
   "cell_type": "markdown",
   "metadata": {
    "colab_type": "text",
    "id": "mGcPv1p-ehga"
   },
   "source": [
    "### Question \n",
    "\n",
    "Build a new class called \"toppings\". It should have all the functionality of the ice_cream class.\n",
    "\n",
    "The toppings class will also have a method which will take as input the choice of toppings that the customer wants.\n",
    "The available choices of toppings are: Hot_fudge, Sprinkles, Caramel, Oreos, Nuts\n",
    "\n",
    "Hint: Create a new class that ask the user to choose one or more toppings"
   ]
  },
  {
   "cell_type": "code",
   "execution_count": null,
   "metadata": {
    "colab": {},
    "colab_type": "code",
    "id": "HSon-XXGehgb"
   },
   "outputs": [],
   "source": [
    "class toppings(ice_cream):\n",
    "    \n",
    "    def sel_toppings(self):\n",
    "        print (\"Available toppings are Hot_fudge, Sprinkles, Caramel, Oreos, Nuts\")\n",
    "        top = input (\"Enter any number of toppings of your choice separated by a comma: \")\n",
    "        top_list = top.split(\",\")\n",
    "        print (\"The toppings you selected are : \",top_list)"
   ]
  },
  {
   "cell_type": "code",
   "execution_count": null,
   "metadata": {
    "colab": {},
    "colab_type": "code",
    "id": "8HU6rV_Xehgo",
    "outputId": "78fefd00-b58c-47d3-f76c-911e039ffbbe"
   },
   "outputs": [
    {
     "name": "stdout",
     "output_type": "stream",
     "text": [
      "Available toppings are Hot_fudge, Sprinkles, Caramel, Oreos, Nuts\n",
      "Enter any number of toppings of your choice separated by a comma: Hot_fudge, Sprinkles, Caramel, Oreos, Nuts\n",
      "The toppings you selected are :  ['Hot_fudge', ' Sprinkles', ' Caramel', ' Oreos', ' Nuts']\n"
     ]
    }
   ],
   "source": [
    "sundae = toppings()\n",
    "sundae.sel_toppings()"
   ]
  },
  {
   "cell_type": "markdown",
   "metadata": {
    "colab_type": "text",
    "id": "pdPW4jBHehgv"
   },
   "source": [
    "### Question \n",
    "\n",
    "Add a method to calculate the cost of selected toppings, given the cost of each of the topping is 2$. \n",
    "\n",
    "Hint: Now in the class for toppings, add a function to calculate the cost per topping added."
   ]
  },
  {
   "cell_type": "code",
   "execution_count": null,
   "metadata": {
    "colab": {},
    "colab_type": "code",
    "id": "S5Y9ujuCehgw"
   },
   "outputs": [],
   "source": [
    "class toppings(ice_cream):\n",
    "    \n",
    "    def sel_toppings(self):\n",
    "        print (\"Available toppings are Hot_fudge, Sprinkles, Caramel, Oreos, Nuts\")\n",
    "        top = input (\"Enter any number of toppings of your choice separated by a comma: \")\n",
    "        top_list = top.split(\",\")\n",
    "        t_cost = self.top_cost(top_list)\n",
    "        print (\"The cost for selected toppings is \",t_cost)\n",
    "        \n",
    "    def top_cost(self, top_list):\n",
    "        cost = len(top_list) * 2\n",
    "        return cost"
   ]
  },
  {
   "cell_type": "code",
   "execution_count": null,
   "metadata": {
    "colab": {},
    "colab_type": "code",
    "id": "UQ4UqB-0ehg7",
    "outputId": "6cce5fa7-2c74-46fd-dfbe-a9095374fc19"
   },
   "outputs": [
    {
     "name": "stdout",
     "output_type": "stream",
     "text": [
      "Available toppings are Hot_fudge, Sprinkles, Caramel, Oreos, Nuts\n",
      "Enter any number of toppings of your choice separated by a comma: Hot_fudge, Sprinkles, Caramel, Oreos, Nuts\n",
      "The cost for selected toppings is  10\n"
     ]
    }
   ],
   "source": [
    "sundae = toppings()\n",
    "sundae.sel_toppings()"
   ]
  },
  {
   "cell_type": "markdown",
   "metadata": {
    "colab_type": "text",
    "id": "EqTkLcwRehhA"
   },
   "source": [
    "### Question: \n",
    "Now you have all the functionality needed to create the ordering menu. \n",
    " \n",
    "1. An order can be for simply Ice Cream or an Ice Cream sundae. \n",
    "2. There can be multiple items in an order. \n",
    "3. Calculate the cost of each order placed.\n",
    "\n",
    "Hint: Club both the class you have created above and finally create an Ice-cream ordereing machine that display a welcome message: \"Welcome to  Ice Cream parlour\". Asks the user if he/she wants and ice cream or ice cream-sundae. Ask the choice of flavour and toppings and returns the total cost. Dont forget to ask if the user wants another item after he finishes ordering the first one!"
   ]
  },
  {
   "cell_type": "code",
   "execution_count": null,
   "metadata": {
    "colab": {},
    "colab_type": "code",
    "id": "cLVxYEl3ehhB",
    "outputId": "8d5853ba-65f7-44e2-97de-963248e7f61d"
   },
   "outputs": [
    {
     "name": "stdout",
     "output_type": "stream",
     "text": [
      "Welcome to the upGrad Ice Cream parlour\n",
      "Would like an ice cream(i) or a Sundae(s)?\n",
      "Enter your response (i/s)s\n",
      "Available toppings are Hot_fudge, Sprinkles, Caramel, Oreos, Nuts\n",
      "Enter any number of toppings of your choice separated by a comma: Hot_fudge, Sprinkles, Caramel, Oreos, Nuts\n",
      "Available flavours of ice cream are Vanilla, Chocolate, Butterscotch, Blue_berry\n",
      "Which flavour of ice cream would you like Chocolate\n",
      "Would you like a small scoop or a large scoop (enter s/l)l\n",
      "The cost for sunday is  21\n",
      "Would like to order anything else\n",
      "Enter your response as (y/n)n\n"
     ]
    }
   ],
   "source": [
    "import math\n",
    "\n",
    "class ice_cream:\n",
    "    r_small = 1.5\n",
    "    r_large = 2.5\n",
    "    pi = 3.14\n",
    "        \n",
    "    def flavour(self):\n",
    "        print (\"Available flavours of ice cream are Vanilla, Chocolate, Butterscotch, Blue_berry\")\n",
    "        flv = input(\"Which flavour of ice cream would you like \")\n",
    "        size = input(\"Would you like a small scoop or a large scoop (enter s/l)\")\n",
    "        i_cost = self.cost_ice_cream(size)\n",
    "        if order_type == \"i\":\n",
    "            print (\"The cost of the ice Cream is \", math.ceil(i_cost))\n",
    "        return math.ceil(i_cost)\n",
    "        \n",
    "    def cost_ice_cream(self, size):\n",
    "        if size==\"s\":\n",
    "            vol = 4/3 *(self.pi)* (self.r_small**3)\n",
    "            cost = vol * 0.5\n",
    "        elif size==\"l\":\n",
    "            vol = 4/3 *(self.pi)* (self.r_large**3)\n",
    "            cost = vol * 0.5\n",
    "        else:\n",
    "            print(\"Please enter a valid size\")\n",
    "        return cost\n",
    "            \n",
    "    \n",
    "class toppings(ice_cream):\n",
    "    \n",
    "    def sel_toppings(self):\n",
    "        print (\"Available toppings are Hot_fudge, Sprinkles, Caramel, Oreos, Nuts\")\n",
    "        top = input (\"Enter any number of toppings of your choice separated by a comma: \")\n",
    "        top_list = top.split(\",\")\n",
    "        i_cost = self.flavour()\n",
    "        t_cost = self.top_cost(top_list)\n",
    "        print (\"The cost for sunday is \",t_cost+ i_cost)\n",
    "        \n",
    "    def top_cost(self, top_list):\n",
    "        cost = len(top_list) * 2\n",
    "        return cost\n",
    "    \n",
    "\n",
    "print (\"Welcome to the upGrad Ice Cream parlour\")\n",
    " \n",
    "while True:     \n",
    "    print (\"Would like an ice cream(i) or a Sundae(s)?\")\n",
    "    order_type = input(\"Enter your response (i/s)\")\n",
    "    if order_type == \"i\":\n",
    "        order = ice_cream()\n",
    "        order.flavour()\n",
    "    elif order_type == \"s\":\n",
    "        sundae = toppings()\n",
    "        sundae.sel_toppings()\n",
    "    else:\n",
    "        print (\"Enter a valid choice\")\n",
    "        \n",
    "    print (\"Would like to order anything else\")\n",
    "    more = input (\"Enter your response as (y/n)\")\n",
    "    \n",
    "    if more == \"n\":\n",
    "        break  "
   ]
  },
  {
   "cell_type": "markdown",
   "metadata": {
    "colab_type": "text",
    "id": "Q2Qj-7_gjwAq"
   },
   "source": [
    "Great job! You have learned the skills to create a real-world application, in case of any doubts please feel free to put in up on the discussion forum or reach out to your TA(teaching assistant).\n",
    "#####Happy Learning!!"
   ]
  }
 ],
 "metadata": {
  "colab": {
   "name": "Session 4 Practice Exercise solutions (1).ipynb",
   "provenance": []
  },
  "kernelspec": {
   "display_name": "Python 3",
   "language": "python",
   "name": "python3"
  },
  "language_info": {
   "codemirror_mode": {
    "name": "ipython",
    "version": 3
   },
   "file_extension": ".py",
   "mimetype": "text/x-python",
   "name": "python",
   "nbconvert_exporter": "python",
   "pygments_lexer": "ipython3",
   "version": "3.7.3"
  }
 },
 "nbformat": 4,
 "nbformat_minor": 1
}
