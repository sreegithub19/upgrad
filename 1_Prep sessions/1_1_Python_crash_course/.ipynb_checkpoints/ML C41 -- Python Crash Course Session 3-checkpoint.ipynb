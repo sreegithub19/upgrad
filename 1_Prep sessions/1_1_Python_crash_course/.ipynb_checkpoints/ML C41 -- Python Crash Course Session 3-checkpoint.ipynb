{
 "cells": [
  {
   "cell_type": "code",
   "execution_count": 1,
   "metadata": {},
   "outputs": [
    {
     "data": {
      "text/html": [
       "\n",
       "<h3>Topics covered today:</h3>\n",
       "<ul>\n",
       "    <li>Range</li>\n",
       "    <li> List Comprehension</li>\n",
       "</ul>\n"
      ],
      "text/plain": [
       "<IPython.core.display.HTML object>"
      ]
     },
     "metadata": {},
     "output_type": "display_data"
    }
   ],
   "source": [
    "# older - from IPython.core.display import display,HTML\n",
    "from IPython.display import display,HTML\n",
    "import copy\n",
    "\n",
    "# Data structures\n",
    "\n",
    "display(HTML('''\n",
    "<h3>Topics covered today:</h3>\n",
    "<ul>\n",
    "    <li>Range</li>\n",
    "    <li> List Comprehension</li>\n",
    "</ul>\n",
    "'''))\n"
   ]
  },
  {
   "cell_type": "code",
   "execution_count": 2,
   "metadata": {},
   "outputs": [
    {
     "name": "stdout",
     "output_type": "stream",
     "text": [
      "[]\n",
      "[1.0, 0.1111111111111111]\n",
      "[1.0, 0.8027415617602307]\n",
      "6.123233995736766e-17\n",
      "1.0\n",
      "(6.123233995736766e-17-1j)\n"
     ]
    },
    {
     "data": {
      "text/plain": [
       "'\\nAnswers:\\n[]\\n[1.0, 0.1111111111111111]\\n[1.0, 0.8027415617602307]\\n6.123233995736766e-17\\n1.0\\n\\n'"
      ]
     },
     "execution_count": 2,
     "metadata": {},
     "output_type": "execute_result"
    }
   ],
   "source": [
    "li = []\n",
    "print([(i**2) for i in range(1,4,-2)]) \n",
    "print([(i**-2) for i in range(1,4,2)]) \n",
    "print([(i**-0.2) for i in range(1,4,2)]) \n",
    "print(((-1)**0.5).real)\n",
    "print(((-1)**0.5).imag)\n",
    "print(((-1)**-0.5))\n",
    "\n",
    "\n",
    "'''\n",
    "Answers:\n",
    "[]\n",
    "[1.0, 0.1111111111111111]\n",
    "[1.0, 0.8027415617602307]\n",
    "6.123233995736766e-17\n",
    "1.0\n",
    "\n",
    "'''"
   ]
  },
  {
   "cell_type": "code",
   "execution_count": null,
   "metadata": {},
   "outputs": [],
   "source": []
  }
 ],
 "metadata": {
  "kernelspec": {
   "display_name": "newenv",
   "language": "python",
   "name": "newenv"
  },
  "language_info": {
   "codemirror_mode": {
    "name": "ipython",
    "version": 3
   },
   "file_extension": ".py",
   "mimetype": "text/x-python",
   "name": "python",
   "nbconvert_exporter": "python",
   "pygments_lexer": "ipython3",
   "version": "3.10.4"
  }
 },
 "nbformat": 4,
 "nbformat_minor": 2
}
