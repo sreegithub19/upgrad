{
 "cells": [
  {
   "cell_type": "markdown",
   "metadata": {},
   "source": [
    "## Contents:\n",
    "\n",
    "1. [Session_1](#Session_1)<br>\n",
    "2. [Session_2](#Session_2)<br>\n",
    "3. [Session_3](#Session_3)<br>\n",
    "4. [Session_4](#Session_4)<br>"
   ]
  },
  {
   "cell_type": "markdown",
   "metadata": {},
   "source": [
    "<a id='Session_1'>Session-1</a>"
   ]
  },
  {
   "cell_type": "code",
   "execution_count": 1,
   "metadata": {},
   "outputs": [
    {
     "name": "stdout",
     "output_type": "stream",
     "text": [
      "Welcome to ML C41!! Python Crash course\n",
      "4Saturday\n",
      "Hi from nested child process\n",
      "3\n",
      "Hi from child process\n",
      "2\n",
      "The exit code was: 0\n",
      "None\n",
      "None\n",
      "The exit code was: 0\n",
      "None\n",
      "None\n"
     ]
    }
   ],
   "source": [
    "from IPython.display import display,HTML\n",
    "\n",
    "# Print statement\n",
    "\n",
    "print(\"Welcome to ML C41!!\" + \" Python Crash course\")\n",
    "print(str(4)+\"Saturday\")\n",
    "\n",
    "# child process outputs are coming in the Anaconda terminal\n",
    "import subprocess\n",
    "import sys\n",
    "list_files_1 = subprocess.run([\"python\",\"-c\",'''\n",
    "import numpy;\n",
    "import flask;\n",
    "print(\"Hi from child process\");\n",
    "print(2+5%5);\n",
    "import subprocess\n",
    "import sys\n",
    "list_files_1 = subprocess.run([\"python\",\"-c\",\\'''\n",
    "import numpy;\n",
    "import flask;\n",
    "print(\"Hi from nested child process\");\n",
    "print(3+5%5);\n",
    "\\''']);\n",
    "print(\"The exit code was: %d\" % list_files_1.returncode);\n",
    "print(list_files_1.stdout);\n",
    "print(list_files_1.stderr);\n",
    "''']);\n",
    "print(\"The exit code was: %d\" % list_files_1.returncode);\n",
    "print(list_files_1.stdout);\n",
    "print(list_files_1.stderr);"
   ]
  },
  {
   "cell_type": "code",
   "execution_count": 2,
   "metadata": {},
   "outputs": [
    {
     "data": {
      "text/html": [
       "<h3>Variables</h3>"
      ],
      "text/plain": [
       "<IPython.core.display.HTML object>"
      ]
     },
     "metadata": {},
     "output_type": "display_data"
    },
    {
     "name": "stdout",
     "output_type": "stream",
     "text": [
      "3 4 5\n"
     ]
    },
    {
     "data": {
      "text/plain": [
       "34"
      ]
     },
     "execution_count": 2,
     "metadata": {},
     "output_type": "execute_result"
    }
   ],
   "source": [
    "# Variables\n",
    "    # 1. Variable name can have only alphanumeric or underscore\n",
    "    # 2. Variable can start only with alphabet or underscore\n",
    "    # 3. Variable names are case-sensitive\n",
    "    # 4. In Python, the highest possible length of an identifier is 79 characters.\n",
    "display(HTML('<h3>Variables</h3>'))   \n",
    "var, Var, _var = 3,4,5\n",
    "print(var, Var, _var)\n",
    "__var__ = 34\n",
    "__var__"
   ]
  },
  {
   "cell_type": "code",
   "execution_count": 3,
   "metadata": {},
   "outputs": [
    {
     "data": {
      "text/html": [
       "<h3>Data types</h3>"
      ],
      "text/plain": [
       "<IPython.core.display.HTML object>"
      ]
     },
     "metadata": {},
     "output_type": "display_data"
    },
    {
     "name": "stdout",
     "output_type": "stream",
     "text": [
      "<class 'int'>\n",
      "<class 'float'>\n",
      "6\n",
      "HelloHelloHello\n"
     ]
    },
    {
     "data": {
      "text/html": [
       "\n",
       "<h4>Boolean</h4>\n"
      ],
      "text/plain": [
       "<IPython.core.display.HTML object>"
      ]
     },
     "metadata": {},
     "output_type": "display_data"
    },
    {
     "name": "stdout",
     "output_type": "stream",
     "text": [
      "<class 'bool'>\n"
     ]
    }
   ],
   "source": [
    "# Data types:\n",
    "display(HTML('<h3>Data types</h3>'))\n",
    "# https://www.w3schools.com/python/python_datatypes.asp\n",
    "\n",
    "num =8; print(type(num))\n",
    "num =8.0; print(type(num))\n",
    "a: int = 6; print(a)  # for type declaration in Python\n",
    "b: str = \"Hello\"; print(b*3)\n",
    "\n",
    "display(HTML('''\n",
    "<h4>Boolean</h4>\n",
    "'''))\n",
    "print(type(True))"
   ]
  },
  {
   "cell_type": "code",
   "execution_count": 4,
   "metadata": {
    "scrolled": true
   },
   "outputs": [
    {
     "data": {
      "text/html": [
       "<h3>Arithmetic operations</h3>"
      ],
      "text/plain": [
       "<IPython.core.display.HTML object>"
      ]
     },
     "metadata": {},
     "output_type": "display_data"
    },
    {
     "name": "stdout",
     "output_type": "stream",
     "text": [
      "9\n",
      "-3\n",
      "18\n",
      "0.5\n",
      "0\n",
      "3\n",
      "729\n",
      "36\n",
      "0\n",
      "1\n",
      "0\n",
      "0\n"
     ]
    }
   ],
   "source": [
    "# Arithmetic operations\n",
    "display(HTML('<h3>Arithmetic operations</h3>'))\n",
    "from math import ceil, floor, trunc\n",
    "\n",
    "x = 3\n",
    "y = 6\n",
    "print(x+y)  \n",
    "print(x-y)  \n",
    "print(x*y)\n",
    "print(x/y)  # float type division\n",
    "print(x//y) # integer type division\n",
    "print(x%y)  # modulus (remainder)\n",
    "print(x**y) # exponent\n",
    "print(int(str(x)+str(y))) # string concatenation\n",
    "print(round(x/y))\n",
    "\n",
    "print(ceil(x/y))\n",
    "print(floor(x/y))\n",
    "print(trunc(x/y)) #equivalent to math.floor for positive numbers, equivalent to math.ceil for negative numbers"
   ]
  },
  {
   "cell_type": "code",
   "execution_count": 20,
   "metadata": {},
   "outputs": [
    {
     "data": {
      "text/html": [
       "<h3>Data type conversion</h3>"
      ],
      "text/plain": [
       "<IPython.core.display.HTML object>"
      ]
     },
     "metadata": {},
     "output_type": "display_data"
    },
    {
     "name": "stdout",
     "output_type": "stream",
     "text": [
      "4444\n"
     ]
    }
   ],
   "source": [
    "# Data type conversion\n",
    "display(HTML('<h3>Data type conversion</h3>'))\n",
    "\n",
    "var = 4\n",
    "print(str(var)*int(var))"
   ]
  },
  {
   "cell_type": "code",
   "execution_count": 21,
   "metadata": {
    "scrolled": true
   },
   "outputs": [
    {
     "data": {
      "text/html": [
       "<h3>ASCII values</h3>"
      ],
      "text/plain": [
       "<IPython.core.display.HTML object>"
      ]
     },
     "metadata": {},
     "output_type": "display_data"
    },
    {
     "name": "stdout",
     "output_type": "stream",
     "text": [
      "51\n",
      "a\n",
      "`\n"
     ]
    }
   ],
   "source": [
    "# ASCII values\n",
    "display(HTML('<h3>ASCII values</h3>'))\n",
    "print(ord(\"3\"))\n",
    "print(chr(97))\n",
    "#print(chr(\"3\")) # TypeError: an integer is required (got type str)\n",
    "print(chr(96))   # does not get printed (if the error above is uncommented)"
   ]
  },
  {
   "cell_type": "code",
   "execution_count": 22,
   "metadata": {},
   "outputs": [
    {
     "data": {
      "text/html": [
       "<h3>String operations</h3>"
      ],
      "text/plain": [
       "<IPython.core.display.HTML object>"
      ]
     },
     "metadata": {},
     "output_type": "display_data"
    },
    {
     "name": "stdout",
     "output_type": "stream",
     "text": [
      "b is: python class\n",
      "this is python class\n",
      "False\n",
      "False\n",
      "False\n",
      "True\n",
      "False\n",
      "PYTHON CLASS\n",
      "python class\n",
      "PYTHON CLASS\n",
      "Python class\n",
      "Python Class\n",
      "['python', 'class']\n",
      "['python', 'class']\n",
      "['', 'ython class']\n"
     ]
    }
   ],
   "source": [
    "#String operations\n",
    "display(HTML('<h3>String operations</h3>'))\n",
    "\n",
    "a = \"python class\"\n",
    "b = print(\"b is:\",a)\n",
    "str = \"this is \"\n",
    "b\n",
    "print(str + a)\n",
    "del str          # to delete a variable\n",
    "#print(str + a)  # error (because \"str\" is now a datatype and not variable)\n",
    "\n",
    "# isalpha, isnum, isalnum\n",
    "print(a.isalpha())\n",
    "print(\"python class\".isalpha())  # also works\n",
    "#print(43.isnum())  # invalid syntax\n",
    "print((a*2).isalnum())\n",
    "\n",
    "#Replace, swapcase, islower, isupper, lower, upper\n",
    "print(a.replace(\" \",\"\").islower()) # every character has to be lower\n",
    "print(a.replace(\" \",\"\").isupper()) # every character has to be upper\n",
    "swap = a.swapcase()\n",
    "print(swap)  # PYTHON CLASS\n",
    "print(swap.lower())\n",
    "print(swap.upper())\n",
    "\n",
    "\n",
    "# title vs capitalize\n",
    "print(a.capitalize())\n",
    "print(a.title())\n",
    "\n",
    "# split\n",
    "print(a.split())\n",
    "print(a.split(\" \"))\n",
    "print(a.split(\"p\"))"
   ]
  },
  {
   "cell_type": "code",
   "execution_count": 6,
   "metadata": {},
   "outputs": [
    {
     "name": "stdout",
     "output_type": "stream",
     "text": [
      "Enter a number:The exit code was: 1\n",
      "None\n",
      "None\n"
     ]
    },
    {
     "name": "stderr",
     "output_type": "stream",
     "text": [
      "Traceback (most recent call last):\n",
      "  File \"<string>\", line 2, in <module>\n",
      "EOFError: EOF when reading a line\n"
     ]
    }
   ],
   "source": [
    "# not working for subprocess input\n",
    "import subprocess\n",
    "import sys\n",
    "list_files_1 = subprocess.run([\"python3\",\"-c\",'''\n",
    "print(input(\"Enter a number:\"))\n",
    "''']);\n",
    "print(\"The exit code was: %d\" % list_files_1.returncode);\n",
    "print(list_files_1.stdout);\n",
    "print(list_files_1.stderr);"
   ]
  },
  {
   "cell_type": "markdown",
   "metadata": {},
   "source": [
    "<a id='Session_2'>Session-2</a>"
   ]
  },
  {
   "cell_type": "code",
   "execution_count": null,
   "metadata": {},
   "outputs": [],
   "source": [
    "from IPython.core.display import display,HTML\n",
    "import copy\n",
    "\n",
    "# Data structures\n",
    "\n",
    "display(HTML('''\n",
    "<h3>Topics covered today:</h3>\n",
    "<h4>Data structures</h4>\n",
    "<ul>\n",
    "    <li>List</li>\n",
    "    <li>Tuple</li>\n",
    "    <li>Dictionary</li>\n",
    "    <li>Set</li>\n",
    "</ul>\n",
    "<h4>Input in Python</h4>\n",
    "<ul>\n",
    "    <li>ast - Abstract Syntax Tree</li>\n",
    "</ul>\n",
    "'''))\n",
    "\n",
    "\n",
    "\n",
    "# Note:\n",
    "'''\n",
    "1. jovian:\n",
    "\n",
    "import jovian\n",
    "jovian.commit()\n",
    "'''\n",
    "\n",
    "display(HTML('''\n",
    "<h3>List</h3>\n",
    "'''))\n",
    "\n",
    "list = [1,2,3,4,5]\n",
    "list = [i for i in\"123445\"]\n",
    "print(list)\n",
    "\n",
    "#Normal copy (both copies pointing to same location in memory)\n",
    "lis = list\n",
    "print(lis)\n",
    "\n",
    "display(HTML('''\n",
    "<h4>Normal copy</h4>\n",
    "'''))\n",
    "lis[0] = 0\n",
    "print(\"Normal copy:\",lis)\n",
    "print(\"Original of normal copy:\",list)\n",
    "# both ids are same\n",
    "print('ID of New normal-copied List:', id(lis)) \n",
    "print('ID of original List of normal copying:', id(list)) \n",
    "lis[0] = -2\n",
    "print(\"Copy affecting original:\",lis,list)\n",
    "\n",
    "#################################################################\n",
    "#Shallow copy\n",
    "display(HTML('''\n",
    "<h4>Shallow copy</h4>\n",
    "'''))\n",
    "li3 = copy.copy(list)\n",
    "print(list)\n",
    "# both ids are different for the lists, but same for the list items (before updating)\n",
    "print('ID of New shallow-copied List:', id(li3)) \n",
    "print('ID of original List of shallow copying:', id(list)) \n",
    "print('ID of New shallow-copied List item:', id(li3[0])) \n",
    "print('ID of item of original List of shallow copying:', id(list[0])) \n",
    "li3[0] = -3\n",
    "print(\"Copy not affecting original:\",li3,list)\n",
    "\n",
    "#################################################################\n",
    "#Normal copy - 2\n",
    "display(HTML('''\n",
    "<h4>Normal copy - 2</h4>\n",
    "'''))\n",
    "li = [i for i in list]\n",
    "print(\"Normal copied:\",li)\n",
    "print(\"Original of Normal copy:\",list)\n",
    "# both ids are different for the lists, but same for the list items (before updating)\n",
    "print('ID of New Normal-copied List:', id(li)) \n",
    "print('ID of original List of Normal copying:', id(list)) \n",
    "print('ID of New Normal-copied List item:', id(li[0])) \n",
    "print('ID of item of original List of Normal copying:', id(list[0])) \n",
    "li[0] = -33\n",
    "print(\"Copy not affecting original:\",li,list)\n",
    "\n",
    "#################################################################\n",
    "# Deepcopy (no change in original)\n",
    "display(HTML('''\n",
    "<h4>Deep copy</h4>\n",
    "'''))\n",
    "li4 = copy.deepcopy(list)\n",
    "print(\"Deep copied:\",li4)\n",
    "print(\"Original of deep copy:\",list)\n",
    "# both ids are different for the lists, but same for the list items (before updating)\n",
    "print('ID of New deep-copied List:', id(li4)) \n",
    "print('ID of original List of deep copying:', id(list))\n",
    "print('ID of New deep-copied List item:', id(li4[0])) \n",
    "print('ID of item of original List of deep copying:', id(list[0])) \n",
    "li4[0] = -22\n",
    "print(\"Copy not affecting original:\",li4,list)\n",
    "\n",
    "display(HTML('''\n",
    "<h3>List (continued -> append, extend, insert, del, remove)</h3>\n",
    "'''))\n",
    "\n",
    "lis = [1,2,3,4,5]\n",
    "lis.append(2) #single element at a time\n",
    "lis.extend([2,3,4])  # multiple added elements\n",
    "print(lis)\n",
    "\n",
    "lis.insert(11,34)  # (index, element) (if index is more than size, element is appended in the end)\n",
    "lis.insert(13,[4,5,6])\n",
    "print(lis)\n",
    "\n",
    "# delete by value\n",
    "lis.remove(34)  # remove(element_value)\n",
    "print(lis)\n",
    "\n",
    "# delete by index\n",
    "del lis[-1]\n",
    "print(lis)\n",
    "\n",
    "display(HTML('''\n",
    "<h3>List (continued -> slicing)</h3>\n",
    "'''))\n",
    "lis = [1,2,3,4,5,6,7]\n",
    "print(lis[-9:])\n",
    "\n",
    "\n",
    "display(HTML('''\n",
    "<h3>Dictionary</h3>\n",
    "<h5>Mutable</h5>\n",
    "'''))\n",
    "\n",
    "keyval = dict()\n",
    "for i in range(10):\n",
    "    keyval[i] = str(i)\n",
    "print(keyval)\n",
    "print(keyval.keys())\n",
    "print(keyval.values())\n",
    "del list\n",
    "print(list(keyval.values()))\n",
    "\n",
    "\n",
    "display(HTML('''\n",
    "<h3>Tuple</h3>\n",
    "<h5>Immutable</h5>\n",
    "'''))\n",
    "\n",
    "tup = (1,2,3,4)\n",
    "tup1 = tuple([1,2,3,4])\n",
    "print(tup==tup1)  # true\n",
    "\n",
    "display(HTML('''\n",
    "<h3>Set</h3>\n",
    "<h5>Mutable, and not ordered</h5>\n",
    "'''))\n",
    "\n",
    "set_ = set([1,1,1,3,4,2])\n",
    "print(set_)\n",
    "# since not ordered, set does not support indexing\n",
    "# set / list cannot be used as key in dictionary (because it is mutable)\n",
    "\n",
    "set_.add(30)\n",
    "set1_ = set_\n",
    "print(set1_) # {1, 2, 3, 4, 30}\n",
    "\n",
    "\n",
    "\n",
    "\n",
    "\n",
    "\n",
    "# display(HTML('''\n",
    "# <h3>Input in Python</h3>\n",
    "# '''))\n",
    "\n",
    "import ast,sys\n",
    "input_list = sys.stdin.readline()    # for input passed separately\n",
    "input_list = input()  \n",
    "# Write code to remove 'SPSS'\n",
    "# Write code to append 'SPARK'\n",
    "#input_list[input_list.index('SPSS')] = 'SPARK'\n",
    "print(input_list)"
   ]
  },
  {
   "cell_type": "markdown",
   "metadata": {},
   "source": [
    "<a id='Session_3'>Session-3</a>"
   ]
  },
  {
   "cell_type": "code",
   "execution_count": null,
   "metadata": {},
   "outputs": [],
   "source": [
    "# older - from IPython.core.display import display,HTML\n",
    "from IPython.display import display,HTML\n",
    "import copy\n",
    "\n",
    "# Data structures\n",
    "\n",
    "display(HTML('''\n",
    "<h3>Topics covered today:</h3>\n",
    "<ul>\n",
    "    <li>Range</li>\n",
    "    <li> List Comprehension</li>\n",
    "</ul>\n",
    "'''))\n",
    "\n",
    "\n",
    "li = []\n",
    "print([(i**2) for i in range(1,4,-2)]) \n",
    "print([(i**-2) for i in range(1,4,2)]) \n",
    "print([(i**-0.2) for i in range(1,4,2)]) \n",
    "print(((-1)**0.5).real)\n",
    "print(((-1)**0.5).imag)\n",
    "print(((-1)**-0.5))\n",
    "\n",
    "\n",
    "'''\n",
    "Answers:\n",
    "[]\n",
    "[1.0, 0.1111111111111111]\n",
    "[1.0, 0.8027415617602307]\n",
    "6.123233995736766e-17\n",
    "1.0\n",
    "\n",
    "'''"
   ]
  },
  {
   "cell_type": "markdown",
   "metadata": {},
   "source": [
    "<a id='Session_4'>Session-4</a>"
   ]
  },
  {
   "cell_type": "code",
   "execution_count": null,
   "metadata": {},
   "outputs": [],
   "source": [
    "#!/usr/bin/env python\n",
    "# coding: utf-8\n",
    "\n",
    "# In[1]:\n",
    "\n",
    "\n",
    "from IPython.display import display,HTML\n",
    "import copy\n",
    "\n",
    "# Problem solving\n",
    "\n",
    "display(HTML('''\n",
    "<h3>Problem solving</h3>\n",
    "'''))\n",
    "\n",
    "# https://jovian.ai/shvmgrg98/ml-c41-python-crash-course-session-4\n",
    "\n",
    "\n",
    "# In[2]:\n",
    "\n",
    "\n",
    "principal = float(input(\"Enter the principal amount:\"))\n",
    "rate = float(input(\"Enter rate in percentage:\"))\n",
    "time = float(input(\"Enter time in years:\"))\n",
    "print(\"Simple Interest:\",principal*rate*time/100)\n",
    "\n",
    "\n",
    "# In[3]:\n",
    "\n",
    "\n",
    "# li = []\n",
    "# for i in range(2000,3201):\n",
    "#     if(i%7==0):\n",
    "#         if(i%5!=0):\n",
    "#             li.append(str(i))\n",
    "# for i in li[:-1]:\n",
    "#     print(i,end=\",\")\n",
    "# #print(li[-1])\n",
    "# #print(\",\".join(li))  also correct\n",
    "            \n",
    "            \n",
    "print(\",\".join([str(i) for i in range(2000,3201) if(i%7==0 and i%5!=0)]))\n",
    "    \n",
    "\n",
    "\n",
    "# In[4]:\n",
    "\n",
    "\n",
    "# factorial\n",
    "\n",
    "#Method 1:\n",
    "# factorial = 1\n",
    "# num = int(input(\"Enter the number:\"))\n",
    "# if(num==0 or num==1):\n",
    "#     print(1)\n",
    "# else:\n",
    "#     for i in range(2,num+1):\n",
    "#         factorial*=i\n",
    "#     print(factorial)\n",
    "\n",
    "# Method 2:\n",
    "n_list = range(1,int(input(\"Enter a number:\"))+1)\n",
    "from functools import reduce\n",
    "factorial = reduce(lambda x,y:x*y,n_list)\n",
    "print(factorial)\n",
    "\n",
    "\n",
    "# In[5]:\n",
    "\n",
    "\n",
    "import sys\n",
    "sys.version\n",
    "\n",
    "\n",
    "# In[6]:\n",
    "\n",
    "\n",
    "string = input(\"Enter a string:\").split(\",\")\n",
    "print(\",\".join(sorted(string)))\n",
    "\n",
    "\n",
    "# In[7]:\n",
    "\n",
    "\n",
    "string = list(input(\"Enter a string:\"))\n",
    "print(\"No of alphabets:\",len(list(filter(lambda x: x.isalpha(), string))))\n",
    "print(\"No of digits:\",len(list(filter(lambda x: x.isdecimal(), string))))\n",
    "print(\"No of characters:\",len(list(map(lambda x: x.isdecimal(), string))))\n",
    "print(\"Truth value of characters:\",(list(map(lambda x: x.isdecimal(), string))))\n",
    "print(\"All digits from input string:\",(list(filter(lambda x: x.isdecimal(), string))))\n",
    "\n",
    "\n",
    "# In[8]:\n",
    "\n",
    "\n",
    "import sys\n",
    "sys.stdout.write(\"hello\\n\")\n",
    "sys.stdout.write(\"hello\")\n",
    "\n",
    "\n",
    "# In[9]:\n",
    "\n",
    "\n",
    "#print(\",\".join([str(i**2) for i in [int(i) for i in input(\"Enter the list:\").split(\",\")] if(i%2!=0)]))\n",
    "\n",
    "li = input(\"Enter the list:\").split(\",\")\n",
    "print([int(i)**2 for i in li if(int(i)%2!=0)])\n",
    "\n",
    "\n",
    "# In[10]:\n",
    "\n",
    "\n",
    "li = [1,2,3,4,5,6,7]\n",
    "print(type(li[0]))\n",
    "\n",
    "# method 1 (looping)\n",
    "for i in li:\n",
    "    print(str(i),end=\",\")    \n",
    "print()\n",
    "\n",
    "# method 2 (list comprehension)\n",
    "print([str(i) for i in li])\n",
    "\n",
    "# method 3 (lambda)\n",
    "print([i() for i in (lambda x=x:str(x) for x in li)])\n",
    "\n",
    "\n",
    "# In[11]:\n",
    "\n",
    "\n",
    "# yield vs return\n",
    "\n",
    "def simpleGeneratorFun():\n",
    "    yield 1\n",
    "    return 2   # execution stops before return\n",
    "    yield 3\n",
    "  \n",
    "# Driver code to check above generator function\n",
    "for value in simpleGeneratorFun(): \n",
    "    print(value)\n",
    "    \n",
    "\n",
    "\n",
    "# In[12]:\n",
    "\n",
    "\n",
    "def print_():\n",
    "    return 5\n",
    "display(print_())\n",
    "print(print_())\n",
    "display(3)\n"
   ]
  }
 ],
 "metadata": {
  "kernelspec": {
   "display_name": "Python 3 (ipykernel)",
   "language": "python",
   "name": "python3"
  },
  "language_info": {
   "codemirror_mode": {
    "name": "ipython",
    "version": 3
   },
   "file_extension": ".py",
   "mimetype": "text/x-python",
   "name": "python",
   "nbconvert_exporter": "python",
   "pygments_lexer": "ipython3",
   "version": "3.9.14"
  }
 },
 "nbformat": 4,
 "nbformat_minor": 2
}
