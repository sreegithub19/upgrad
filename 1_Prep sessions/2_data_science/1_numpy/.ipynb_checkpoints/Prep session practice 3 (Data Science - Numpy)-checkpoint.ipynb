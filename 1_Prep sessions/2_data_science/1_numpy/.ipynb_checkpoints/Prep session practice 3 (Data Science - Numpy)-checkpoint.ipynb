{
 "cells": [
  {
   "cell_type": "code",
   "execution_count": 22,
   "id": "950de8f1",
   "metadata": {},
   "outputs": [
    {
     "data": {
      "text/html": [
       "\n",
       "<h3>Data Science</h3>\n",
       "<h4>Numpy</h4>\n",
       "<h4>Pandas</h4>\n"
      ],
      "text/plain": [
       "<IPython.core.display.HTML object>"
      ]
     },
     "metadata": {},
     "output_type": "display_data"
    },
    {
     "data": {
      "text/plain": [
       "'\\nImportant numpy links:\\n1. https://numpy.org/doc/stable/reference/\\n'"
      ]
     },
     "execution_count": 22,
     "metadata": {},
     "output_type": "execute_result"
    }
   ],
   "source": [
    "import numpy as np, pandas\n",
    "\n",
    "#Classes overview (instance methods, class methods, static methods)\n",
    "from IPython.display import display,HTML\n",
    "display(HTML('''\n",
    "<h3>Data Science</h3>\n",
    "<h4>Numpy</h4>\n",
    "<h4>Pandas</h4>\n",
    "''')) \n",
    "\n",
    "\n",
    "'''\n",
    "Important numpy links and references:\n",
    "1. https://numpy.org/doc/stable/reference/\n",
    "'''"
   ]
  },
  {
   "cell_type": "code",
   "execution_count": 14,
   "id": "0abddb75",
   "metadata": {},
   "outputs": [
    {
     "name": "stdout",
     "output_type": "stream",
     "text": [
      "[ 2.54  5.08  7.62 10.16 12.7  15.24]\n",
      "[1.         0.17194273 0.06139203 0.0295643  0.01677321 0.01055591]\n"
     ]
    }
   ],
   "source": [
    "heights = [1,2,3,4,5,6]\n",
    "#print(heights*2.54)   # TypeError: can't multiply sequence by non-int of type 'float'\n",
    "\n",
    "print(np.array(heights)*2.54) # homogeneous\n",
    "print(np.array(heights)**---------------------------------------------2.54)\n"
   ]
  },
  {
   "cell_type": "code",
   "execution_count": 31,
   "id": "8490f0b3",
   "metadata": {},
   "outputs": [
    {
     "data": {
      "text/html": [
       "\n",
       "<h3>Numpy arithmetic operations</h3>\n",
       "\n"
      ],
      "text/plain": [
       "<IPython.core.display.HTML object>"
      ]
     },
     "metadata": {},
     "output_type": "display_data"
    },
    {
     "name": "stdout",
     "output_type": "stream",
     "text": [
      "[1, 2, 3, 4, 7, 8, 9, 0]\n",
      "[ 8 10 12  4]\n",
      "[0.0254 0.0508 0.0762 0.1016]\n",
      "4\n",
      "4\n",
      "(4,)\n",
      "[0.5 1.  1.5 2. ]\n",
      "[0 1 1 2]\n",
      "[ 1  4  9 16]\n",
      "[3 4 5 6]\n",
      "[-1  0  1  2]\n",
      "[1 2 3 4]\n"
     ]
    },
    {
     "data": {
      "text/html": [
       "<h3>Trigonometric:</h3>"
      ],
      "text/plain": [
       "<IPython.core.display.HTML object>"
      ]
     },
     "metadata": {},
     "output_type": "display_data"
    },
    {
     "name": "stdout",
     "output_type": "stream",
     "text": [
      "[0.42289408 0.27865714 0.83598528 0.55323453]\n",
      "[ 1.18839511  1.09975017  7.0861674  -1.32134871]\n"
     ]
    },
    {
     "data": {
      "text/html": [
       "<h3>Median,mean,std</h3>"
      ],
      "text/plain": [
       "<IPython.core.display.HTML object>"
      ]
     },
     "metadata": {},
     "output_type": "display_data"
    },
    {
     "name": "stdout",
     "output_type": "stream",
     "text": [
      "2.5 2.5\n",
      "1 4\n",
      "1.118033988749895\n"
     ]
    },
    {
     "ename": "TypeError",
     "evalue": "_repeat_dispatcher() missing 1 required positional argument: 'repeats'",
     "output_type": "error",
     "traceback": [
      "\u001b[1;31m---------------------------------------------------------------------------\u001b[0m",
      "\u001b[1;31mTypeError\u001b[0m                                 Traceback (most recent call last)",
      "Input \u001b[1;32mIn [31]\u001b[0m, in \u001b[0;36m<cell line: 35>\u001b[1;34m()\u001b[0m\n\u001b[0;32m     33\u001b[0m \u001b[38;5;28mprint\u001b[39m(np\u001b[38;5;241m.\u001b[39mmin(list_1), np\u001b[38;5;241m.\u001b[39mmax(list_1))\n\u001b[0;32m     34\u001b[0m \u001b[38;5;28mprint\u001b[39m(np\u001b[38;5;241m.\u001b[39mstd(list_1))\n\u001b[1;32m---> 35\u001b[0m \u001b[38;5;28mprint\u001b[39m(\u001b[43mnp\u001b[49m\u001b[38;5;241;43m.\u001b[39;49m\u001b[43mrepeat\u001b[49m\u001b[43m(\u001b[49m\u001b[43mlist_1\u001b[49m\u001b[43m)\u001b[49m,\u001b[38;5;241m2\u001b[39m)\n",
      "File \u001b[1;32m<__array_function__ internals>:179\u001b[0m, in \u001b[0;36mrepeat\u001b[1;34m(*args, **kwargs)\u001b[0m\n",
      "\u001b[1;31mTypeError\u001b[0m: _repeat_dispatcher() missing 1 required positional argument: 'repeats'"
     ]
    }
   ],
   "source": [
    "# Numpy arithmetic operations\n",
    "\n",
    "display(HTML('''\n",
    "<h3>Numpy arithmetic operations</h3>\n",
    "\n",
    "''')) \n",
    "\n",
    "list_1 = [1,2,3,4]\n",
    "list_2 = [7,8,9,0]\n",
    "\n",
    "print(list_1 + list_2)\n",
    "print(np.array(list_1) + np.array(list_2))\n",
    "np_1 = np.array(list_1)\n",
    "\n",
    "print(np_1*0.0254)\n",
    "print(len(np_1))\n",
    "print(np_1.size)\n",
    "print(np_1.shape)\n",
    "print(np_1/2)\n",
    "print(np_1//2)\n",
    "print(np_1**2)\n",
    "print(np_1+2)\n",
    "print(np_1-2)\n",
    "print(np_1)\n",
    "\n",
    "display(HTML(\"<h3>Trigonometric:</h3>\"))\n",
    "print(np.sin(np.cos(np.tan(np.sin(np_1)))))\n",
    "print(1/np.sin(np_1))   # cosec\n",
    "\n",
    "\n",
    "display(HTML(\"<h3>Median,mean,std</h3>\"))\n",
    "print(np.mean(list_1), np.median(list_1))\n",
    "print(np.min(list_1), np.max(list_1))\n",
    "print(np.std(list_1))"
   ]
  },
  {
   "cell_type": "code",
   "execution_count": 5,
   "id": "78996016",
   "metadata": {},
   "outputs": [
    {
     "data": {
      "text/html": [
       "\n",
       "<h3>Indexing, splitting, slicing</h3>\n",
       "\n"
      ],
      "text/plain": [
       "<IPython.core.display.HTML object>"
      ]
     },
     "metadata": {},
     "output_type": "display_data"
    },
    {
     "name": "stdout",
     "output_type": "stream",
     "text": [
      "1\n",
      "1\n",
      "4\n",
      "2\n",
      "[1 2 3]\n",
      "[1 2 3 4]\n",
      "[4 2]\n"
     ]
    }
   ],
   "source": [
    "display(HTML('''\n",
    "<h3>Indexing, splitting, slicing</h3>\n",
    "\n",
    "''')) \n",
    "print(np_1[0])\n",
    "print(np_1[-0])\n",
    "print(np_1[-----1])\n",
    "print(np_1[---+---1])\n",
    "print(np_1[-4:-1])\n",
    "print(np_1[-4:])\n",
    "print(np_1[::-2])"
   ]
  },
  {
   "cell_type": "code",
   "execution_count": 45,
   "id": "2e7084b6",
   "metadata": {},
   "outputs": [
    {
     "data": {
      "text/html": [
       "\n",
       "<h3>Conditional sub-setting arrays</h3>\n"
      ],
      "text/plain": [
       "<IPython.core.display.HTML object>"
      ]
     },
     "metadata": {},
     "output_type": "display_data"
    },
    {
     "name": "stdout",
     "output_type": "stream",
     "text": [
      "[ True  True False False]\n",
      "[1 2]\n",
      "4\n"
     ]
    },
    {
     "data": {
      "text/html": [
       "\n",
       "<h4>Multiple-Conditioned sub-setting arrays</h4>\n"
      ],
      "text/plain": [
       "<IPython.core.display.HTML object>"
      ]
     },
     "metadata": {},
     "output_type": "display_data"
    },
    {
     "name": "stdout",
     "output_type": "stream",
     "text": [
      "[2]\n",
      "[1 2 3 4]\n"
     ]
    }
   ],
   "source": [
    "display(HTML('''\n",
    "<h3>Conditional sub-setting arrays</h3>\n",
    "''')) \n",
    "\n",
    "print(np_1<3)\n",
    "print(np_1[np_1<3])\n",
    "print((np_1<3).size)\n",
    "\n",
    "display(HTML('''\n",
    "<h4>Multiple-Conditioned sub-setting arrays</h4>\n",
    "''')) \n",
    "print(np_1[np.where((np_1%2==0) & (np_1<4))])\n",
    "print(np_1[np.where((np_1%2==0) | (np_1<4))])"
   ]
  },
  {
   "cell_type": "code",
   "execution_count": 47,
   "id": "07b81093",
   "metadata": {},
   "outputs": [
    {
     "data": {
      "text/html": [
       "\n",
       "<h3>Numpy functions</h3>\n"
      ],
      "text/plain": [
       "<IPython.core.display.HTML object>"
      ]
     },
     "metadata": {},
     "output_type": "display_data"
    },
    {
     "name": "stdout",
     "output_type": "stream",
     "text": [
      "[1 2 3 4]\n",
      "10\n",
      "4\n",
      "1\n",
      "1\n",
      "4\n",
      "2.5\n",
      "<class 'numpy.ndarray'>\n"
     ]
    }
   ],
   "source": [
    "display(HTML('''\n",
    "<h3>Numpy functions</h3>\n",
    "''')) \n",
    "\n",
    "print(np_1)\n",
    "print(sum(np_1))\n",
    "print(max(np_1))\n",
    "print(min(np_1))\n",
    "print((np_1).min())\n",
    "print((np_1).max())\n",
    "print((np_1).mean())\n",
    "print(type(np_1))"
   ]
  },
  {
   "cell_type": "code",
   "execution_count": 8,
   "id": "74dce717",
   "metadata": {},
   "outputs": [
    {
     "data": {
      "text/html": [
       "\n",
       "<h3>Multidimensional arrays</h3>\n"
      ],
      "text/plain": [
       "<IPython.core.display.HTML object>"
      ]
     },
     "metadata": {},
     "output_type": "display_data"
    },
    {
     "name": "stdout",
     "output_type": "stream",
     "text": [
      "[[12 23]\n",
      " [23 34]\n",
      " [34 45]\n",
      " [45 56]\n",
      " [56 67]\n",
      " [67 78]\n",
      " [78 89]]\n",
      "[[12 23]\n",
      " [23 34]\n",
      " [34 45]\n",
      " [45 56]\n",
      " [56 67]\n",
      " [67 78]\n",
      " [78 89]]\n",
      "[{12, 23} {34, 23} {34, 45} {56, 45} {56, 67} {67, 78} {89, 78}]\n"
     ]
    }
   ],
   "source": [
    "display(HTML('''\n",
    "<h3>Multidimensional arrays</h3>\n",
    "''')) \n",
    "\n",
    "players = [[12,23],[23,34],[34,45],[45,56],[56,67],[67,78],[78,89]]\n",
    "print(np.array(players))\n",
    "players = [(12,23),(23,34),(34,45),(45,56),(56,67),(67,78),(78,89)]\n",
    "print(np.array(players))\n",
    "players0 = [{12,23},{23,34},{34,45},{45,56},{56,67},{67,78},{78,89}]\n",
    "print(np.array(players0))"
   ]
  },
  {
   "cell_type": "code",
   "execution_count": 9,
   "id": "071b896f",
   "metadata": {},
   "outputs": [
    {
     "data": {
      "text/html": [
       "\n",
       "<h3>Multidimensional arrays (continued)</h3>\n"
      ],
      "text/plain": [
       "<IPython.core.display.HTML object>"
      ]
     },
     "metadata": {},
     "output_type": "display_data"
    },
    {
     "name": "stdout",
     "output_type": "stream",
     "text": [
      "[{12, 23} {34, 23} (34, 45) (45, 56) (56, 67) (67, 78) (78, 89)]\n"
     ]
    },
    {
     "name": "stderr",
     "output_type": "stream",
     "text": [
      "C:\\Users\\Padmaja\\AppData\\Local\\Temp\\ipykernel_24684\\3558071355.py:7: VisibleDeprecationWarning: Creating an ndarray from ragged nested sequences (which is a list-or-tuple of lists-or-tuples-or ndarrays with different lengths or shapes) is deprecated. If you meant to do this, you must specify 'dtype=object' when creating the ndarray.\n",
      "  print(np.array(players1))\n"
     ]
    }
   ],
   "source": [
    "display(HTML('''\n",
    "<h3>Multidimensional arrays (continued)</h3>\n",
    "''')) \n",
    "\n",
    "\n",
    "players1 = [{12,23},{23,34},(34,45),(45,56),(56,67),(67,78),(78,89)]\n",
    "print(np.array(players1))"
   ]
  },
  {
   "cell_type": "code",
   "execution_count": 10,
   "id": "2ec8efed",
   "metadata": {},
   "outputs": [
    {
     "name": "stdout",
     "output_type": "stream",
     "text": [
      "2\n",
      "int32\n",
      "int64\n",
      "4\n",
      "[[12 23]\n",
      " [23 34]\n",
      " [34 45]\n",
      " [45 56]\n",
      " [56 67]\n",
      " [67 78]\n",
      " [78 89]]\n",
      "8\n",
      "[[ 24 115]\n",
      " [ 46 170]\n",
      " [ 68 225]\n",
      " [ 90 280]\n",
      " [112 335]\n",
      " [134 390]\n",
      " [156 445]]\n"
     ]
    }
   ],
   "source": [
    "np_players = np.array(players)\n",
    "print(np_players.ndim)  # dimension\n",
    "print(np_players.dtype)\n",
    "print(np_players.astype('int64').dtype)  # to change dtype\n",
    "print(np_players.itemsize)\n",
    "print(np_players)\n",
    "np_players_64 = np_players.astype('int64')\n",
    "print(np_players_64.itemsize)\n",
    "\n",
    "print(np_players_64*[2,5])"
   ]
  },
  {
   "cell_type": "code",
   "execution_count": 11,
   "id": "7fb1ba7d",
   "metadata": {},
   "outputs": [
    {
     "name": "stdout",
     "output_type": "stream",
     "text": [
      "[[12 23]\n",
      " [23 34]\n",
      " [34 45]\n",
      " [45 56]\n",
      " [56 67]\n",
      " [67 78]\n",
      " [78 89]]\n",
      "[[False  True]\n",
      " [ True  True]\n",
      " [ True  True]\n",
      " [ True  True]\n",
      " [ True  True]\n",
      " [ True  True]\n",
      " [ True  True]]\n",
      "[[False False]\n",
      " [ True  True]\n",
      " [ True  True]\n",
      " [ True  True]\n",
      " [ True  True]\n",
      " [ True  True]\n",
      " [ True  True]]\n"
     ]
    }
   ],
   "source": [
    "print(np_players_64[:,:2]) \n",
    "print(np_players_64[:,:2]>22) \n",
    "print(np_players_64[:,:2]>[22,32]) "
   ]
  },
  {
   "cell_type": "code",
   "execution_count": 48,
   "id": "380b4864",
   "metadata": {},
   "outputs": [
    {
     "name": "stdout",
     "output_type": "stream",
     "text": [
      "[4,6,4,2,6,9,0]\n",
      "4\n",
      "5\n",
      "[]\n"
     ]
    }
   ],
   "source": [
    "# Extracting elements from an array\n",
    "\n",
    "import ast, numpy as np\n",
    "input_array=np.array(ast.literal_eval(input()))\n",
    "m=int(input())\n",
    "n=int(input())\n",
    "print(input_array[np.where((input_array<n)&(input_array>m))])"
   ]
  },
  {
   "cell_type": "code",
   "execution_count": null,
   "id": "25c745c0",
   "metadata": {},
   "outputs": [],
   "source": []
  },
  {
   "cell_type": "code",
   "execution_count": null,
   "id": "1ce76fa6",
   "metadata": {},
   "outputs": [],
   "source": []
  },
  {
   "cell_type": "code",
   "execution_count": null,
   "id": "82265aef",
   "metadata": {},
   "outputs": [],
   "source": []
  },
  {
   "cell_type": "code",
   "execution_count": null,
   "id": "c998f67a",
   "metadata": {},
   "outputs": [],
   "source": []
  },
  {
   "cell_type": "code",
   "execution_count": null,
   "id": "a84c865a",
   "metadata": {},
   "outputs": [],
   "source": []
  }
 ],
 "metadata": {
  "kernelspec": {
   "display_name": "newenv",
   "language": "python",
   "name": "newenv"
  },
  "language_info": {
   "codemirror_mode": {
    "name": "ipython",
    "version": 3
   },
   "file_extension": ".py",
   "mimetype": "text/x-python",
   "name": "python",
   "nbconvert_exporter": "python",
   "pygments_lexer": "ipython3",
   "version": "3.10.4"
  }
 },
 "nbformat": 4,
 "nbformat_minor": 5
}
