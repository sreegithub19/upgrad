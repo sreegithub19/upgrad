{
 "cells": [
  {
   "cell_type": "code",
   "execution_count": 6,
   "metadata": {},
   "outputs": [
    {
     "data": {
      "text/html": [
       "\n",
       "<h3>Data Science</h3>\n",
       "<h4>Numpy</h4>\n",
       "<h4>Pandas</h4>\n"
      ],
      "text/plain": [
       "<IPython.core.display.HTML object>"
      ]
     },
     "metadata": {},
     "output_type": "display_data"
    }
   ],
   "source": [
    "import numpy as np, pandas\n",
    "\n",
    "#Classes overview (instance methods, class methods, static methods)\n",
    "from IPython.display import display,HTML\n",
    "display(HTML('''\n",
    "<h3>Data Science</h3>\n",
    "<h4>Numpy</h4>\n",
    "<h4>Pandas</h4>\n",
    "''')) "
   ]
  },
  {
   "cell_type": "code",
   "execution_count": 8,
   "metadata": {},
   "outputs": [
    {
     "name": "stdout",
     "output_type": "stream",
     "text": [
      "[ 2.54  5.08  7.62 10.16 12.7  15.24]\n"
     ]
    }
   ],
   "source": [
    "heights = [1,2,3,4,5,6]\n",
    "#print(heights*2.54)   # TypeError: can't multiply sequence by non-int of type 'float'\n",
    "\n",
    "print(np.array(heights)*2.54) # homogeneous\n",
    "\n"
   ]
  },
  {
   "cell_type": "code",
   "execution_count": 46,
   "metadata": {},
   "outputs": [
    {
     "data": {
      "text/html": [
       "\n",
       "<h3>Numpy arithmetic operations</h3>\n",
       "\n"
      ],
      "text/plain": [
       "<IPython.core.display.HTML object>"
      ]
     },
     "metadata": {},
     "output_type": "display_data"
    },
    {
     "name": "stdout",
     "output_type": "stream",
     "text": [
      "[1, 2, 3, 4, 7, 8, 9, 0]\n",
      "[ 8 10 12  4]\n",
      "[0.0254 0.0508 0.0762 0.1016]\n",
      "4\n",
      "4\n",
      "(4,)\n",
      "[0.5 1.  1.5 2. ]\n",
      "[0 1 1 2]\n",
      "[ 1  4  9 16]\n",
      "[3 4 5 6]\n",
      "[-1  0  1  2]\n",
      "[1 2 3 4]\n"
     ]
    }
   ],
   "source": [
    "# Numpy arithmetic operations\n",
    "\n",
    "display(HTML('''\n",
    "<h3>Numpy arithmetic operations</h3>\n",
    "\n",
    "''')) \n",
    "\n",
    "list_1 = [1,2,3,4]\n",
    "list_2 = [7,8,9,0]\n",
    "\n",
    "print(list_1 + list_2)\n",
    "print(np.array(list_1) + np.array(list_2))\n",
    "np_1 = np.array(list_1)\n",
    "\n",
    "print(np_1*0.0254)\n",
    "print(len(np_1))\n",
    "print(np_1.size)\n",
    "print(np_1.shape)\n",
    "print(np_1/2)\n",
    "print(np_1//2)\n",
    "print(np_1**2)\n",
    "print(np_1+2)\n",
    "print(np_1-2)\n",
    "print(np_1)"
   ]
  },
  {
   "cell_type": "code",
   "execution_count": 53,
   "metadata": {},
   "outputs": [
    {
     "data": {
      "text/html": [
       "\n",
       "<h3>Indexing, splitting, slicing</h3>\n",
       "\n"
      ],
      "text/plain": [
       "<IPython.core.display.HTML object>"
      ]
     },
     "metadata": {},
     "output_type": "display_data"
    },
    {
     "name": "stdout",
     "output_type": "stream",
     "text": [
      "1\n",
      "1\n",
      "4\n",
      "2\n",
      "[1 2 3]\n",
      "[1 2 3 4]\n",
      "[4 2]\n"
     ]
    }
   ],
   "source": [
    "display(HTML('''\n",
    "<h3>Indexing, splitting, slicing</h3>\n",
    "\n",
    "''')) \n",
    "print(np_1[0])\n",
    "print(np_1[-0])\n",
    "print(np_1[-----1])\n",
    "print(np_1[---+---1])\n",
    "print(np_1[-4:-1])\n",
    "print(np_1[-4:])\n",
    "print(np_1[::-2])"
   ]
  },
  {
   "cell_type": "code",
   "execution_count": 55,
   "metadata": {},
   "outputs": [
    {
     "data": {
      "text/html": [
       "\n",
       "<h3>Conditional sub-setting arrays</h3>\n"
      ],
      "text/plain": [
       "<IPython.core.display.HTML object>"
      ]
     },
     "metadata": {},
     "output_type": "display_data"
    },
    {
     "name": "stdout",
     "output_type": "stream",
     "text": [
      "[ True  True False False]\n",
      "[1 2]\n",
      "4\n"
     ]
    }
   ],
   "source": [
    "display(HTML('''\n",
    "<h3>Conditional sub-setting arrays</h3>\n",
    "''')) \n",
    "\n",
    "print(np_1<3)\n",
    "print(np_1[np_1<3])\n",
    "print((np_1<3).size)"
   ]
  },
  {
   "cell_type": "code",
   "execution_count": 52,
   "metadata": {},
   "outputs": [
    {
     "data": {
      "text/html": [
       "\n",
       "<h3>Numpy functions</h3>\n"
      ],
      "text/plain": [
       "<IPython.core.display.HTML object>"
      ]
     },
     "metadata": {},
     "output_type": "display_data"
    },
    {
     "name": "stdout",
     "output_type": "stream",
     "text": [
      "4\n",
      "1\n",
      "1\n",
      "4\n",
      "2.5\n"
     ]
    }
   ],
   "source": [
    "display(HTML('''\n",
    "<h3>Numpy functions</h3>\n",
    "''')) \n",
    "\n",
    "print(max(np_1))\n",
    "print(min(np_1))\n",
    "print((np_1).min())\n",
    "print((np_1).max())\n",
    "print((np_1).mean())"
   ]
  },
  {
   "cell_type": "code",
   "execution_count": null,
   "metadata": {},
   "outputs": [],
   "source": []
  }
 ],
 "metadata": {
  "kernelspec": {
   "display_name": "newenv",
   "language": "python",
   "name": "newenv"
  },
  "language_info": {
   "codemirror_mode": {
    "name": "ipython",
    "version": 3
   },
   "file_extension": ".py",
   "mimetype": "text/x-python",
   "name": "python",
   "nbconvert_exporter": "python",
   "pygments_lexer": "ipython3",
   "version": "3.10.4"
  }
 },
 "nbformat": 4,
 "nbformat_minor": 5
}
