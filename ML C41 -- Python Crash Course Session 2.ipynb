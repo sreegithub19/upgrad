{
 "cells": [
  {
   "cell_type": "code",
   "execution_count": 1,
   "metadata": {},
   "outputs": [
    {
     "data": {
      "text/html": [
       "\n",
       "<h3>Topics covered today:</h3>\n",
       "<h4>Data structures</h4>\n",
       "<ul>\n",
       "    <li>List</li>\n",
       "    <li>Tuple</li>\n",
       "    <li>Dictionary</li>\n",
       "    <li>Set</li>\n",
       "</ul>\n",
       "<h4>Input in Python</h4>\n",
       "<ul>\n",
       "    <li>ast - Abstract Syntax Tree</li>\n",
       "</ul>\n"
      ],
      "text/plain": [
       "<IPython.core.display.HTML object>"
      ]
     },
     "metadata": {},
     "output_type": "display_data"
    },
    {
     "data": {
      "text/plain": [
       "'\\n1. jovian:\\n\\nimport jovian\\njovian.commit()\\n'"
      ]
     },
     "execution_count": 1,
     "metadata": {},
     "output_type": "execute_result"
    }
   ],
   "source": [
    "from IPython.core.display import display,HTML\n",
    "import copy\n",
    "\n",
    "# Data structures\n",
    "\n",
    "display(HTML('''\n",
    "<h3>Topics covered today:</h3>\n",
    "<h4>Data structures</h4>\n",
    "<ul>\n",
    "    <li>List</li>\n",
    "    <li>Tuple</li>\n",
    "    <li>Dictionary</li>\n",
    "    <li>Set</li>\n",
    "</ul>\n",
    "<h4>Input in Python</h4>\n",
    "<ul>\n",
    "    <li>ast - Abstract Syntax Tree</li>\n",
    "</ul>\n",
    "'''))\n",
    "\n",
    "\n",
    "\n",
    "# Note:\n",
    "'''\n",
    "1. jovian:\n",
    "\n",
    "import jovian\n",
    "jovian.commit()\n",
    "'''"
   ]
  },
  {
   "cell_type": "code",
   "execution_count": 2,
   "metadata": {
    "scrolled": true
   },
   "outputs": [
    {
     "data": {
      "text/html": [
       "\n",
       "<h3>List</h3>\n"
      ],
      "text/plain": [
       "<IPython.core.display.HTML object>"
      ]
     },
     "metadata": {},
     "output_type": "display_data"
    },
    {
     "name": "stdout",
     "output_type": "stream",
     "text": [
      "['1', '2', '3', '4', '4', '5']\n",
      "['1', '2', '3', '4', '4', '5']\n"
     ]
    },
    {
     "data": {
      "text/html": [
       "\n",
       "<h4>Normal copy</h4>\n"
      ],
      "text/plain": [
       "<IPython.core.display.HTML object>"
      ]
     },
     "metadata": {},
     "output_type": "display_data"
    },
    {
     "name": "stdout",
     "output_type": "stream",
     "text": [
      "Normal copy: [0, '2', '3', '4', '4', '5']\n",
      "Original of normal copy: [0, '2', '3', '4', '4', '5']\n",
      "ID of New normal-copied List: 2399339800392\n",
      "ID of original List of normal copying: 2399339800392\n",
      "Copy affecting original: [-2, '2', '3', '4', '4', '5'] [-2, '2', '3', '4', '4', '5']\n"
     ]
    },
    {
     "data": {
      "text/html": [
       "\n",
       "<h4>Shallow copy</h4>\n"
      ],
      "text/plain": [
       "<IPython.core.display.HTML object>"
      ]
     },
     "metadata": {},
     "output_type": "display_data"
    },
    {
     "name": "stdout",
     "output_type": "stream",
     "text": [
      "[-2, '2', '3', '4', '4', '5']\n",
      "ID of New shallow-copied List: 2399340803336\n",
      "ID of original List of shallow copying: 2399339800392\n",
      "ID of New shallow-copied List item: 140721602474736\n",
      "ID of item of original List of shallow copying: 140721602474736\n",
      "Copy not affecting original: [-3, '2', '3', '4', '4', '5'] [-2, '2', '3', '4', '4', '5']\n"
     ]
    },
    {
     "data": {
      "text/html": [
       "\n",
       "<h4>Normal copy - 2</h4>\n"
      ],
      "text/plain": [
       "<IPython.core.display.HTML object>"
      ]
     },
     "metadata": {},
     "output_type": "display_data"
    },
    {
     "name": "stdout",
     "output_type": "stream",
     "text": [
      "Normal copied: [-2, '2', '3', '4', '4', '5']\n",
      "Original of Normal copy: [-2, '2', '3', '4', '4', '5']\n",
      "ID of New Normal-copied List: 2399339800648\n",
      "ID of original List of Normal copying: 2399339800392\n",
      "ID of New Normal-copied List item: 140721602474736\n",
      "ID of item of original List of Normal copying: 140721602474736\n",
      "Copy not affecting original: [-33, '2', '3', '4', '4', '5'] [-2, '2', '3', '4', '4', '5']\n"
     ]
    },
    {
     "data": {
      "text/html": [
       "\n",
       "<h4>Deep copy</h4>\n"
      ],
      "text/plain": [
       "<IPython.core.display.HTML object>"
      ]
     },
     "metadata": {},
     "output_type": "display_data"
    },
    {
     "name": "stdout",
     "output_type": "stream",
     "text": [
      "Deep copied: [-2, '2', '3', '4', '4', '5']\n",
      "Original of deep copy: [-2, '2', '3', '4', '4', '5']\n",
      "ID of New deep-copied List: 2399340803208\n",
      "ID of original List of deep copying: 2399339800392\n",
      "ID of New deep-copied List item: 140721602474736\n",
      "ID of item of original List of deep copying: 140721602474736\n",
      "Copy not affecting original: [-22, '2', '3', '4', '4', '5'] [-2, '2', '3', '4', '4', '5']\n"
     ]
    }
   ],
   "source": [
    "display(HTML('''\n",
    "<h3>List</h3>\n",
    "'''))\n",
    "\n",
    "list = [1,2,3,4,5]\n",
    "list = [i for i in\"123445\"]\n",
    "print(list)\n",
    "\n",
    "#Normal copy (both copies pointing to same location in memory)\n",
    "lis = list\n",
    "print(lis)\n",
    "\n",
    "display(HTML('''\n",
    "<h4>Normal copy</h4>\n",
    "'''))\n",
    "lis[0] = 0\n",
    "print(\"Normal copy:\",lis)\n",
    "print(\"Original of normal copy:\",list)\n",
    "# both ids are same\n",
    "print('ID of New normal-copied List:', id(lis)) \n",
    "print('ID of original List of normal copying:', id(list)) \n",
    "lis[0] = -2\n",
    "print(\"Copy affecting original:\",lis,list)\n",
    "\n",
    "#################################################################\n",
    "#Shallow copy\n",
    "display(HTML('''\n",
    "<h4>Shallow copy</h4>\n",
    "'''))\n",
    "li3 = copy.copy(list)\n",
    "print(list)\n",
    "# both ids are different for the lists, but same for the list items (before updating)\n",
    "print('ID of New shallow-copied List:', id(li3)) \n",
    "print('ID of original List of shallow copying:', id(list)) \n",
    "print('ID of New shallow-copied List item:', id(li3[0])) \n",
    "print('ID of item of original List of shallow copying:', id(list[0])) \n",
    "li3[0] = -3\n",
    "print(\"Copy not affecting original:\",li3,list)\n",
    "\n",
    "#################################################################\n",
    "#Normal copy - 2\n",
    "display(HTML('''\n",
    "<h4>Normal copy - 2</h4>\n",
    "'''))\n",
    "li = [i for i in list]\n",
    "print(\"Normal copied:\",li)\n",
    "print(\"Original of Normal copy:\",list)\n",
    "# both ids are different for the lists, but same for the list items (before updating)\n",
    "print('ID of New Normal-copied List:', id(li)) \n",
    "print('ID of original List of Normal copying:', id(list)) \n",
    "print('ID of New Normal-copied List item:', id(li[0])) \n",
    "print('ID of item of original List of Normal copying:', id(list[0])) \n",
    "li[0] = -33\n",
    "print(\"Copy not affecting original:\",li,list)\n",
    "\n",
    "#################################################################\n",
    "# Deepcopy (no change in original)\n",
    "display(HTML('''\n",
    "<h4>Deep copy</h4>\n",
    "'''))\n",
    "li4 = copy.deepcopy(list)\n",
    "print(\"Deep copied:\",li4)\n",
    "print(\"Original of deep copy:\",list)\n",
    "# both ids are different for the lists, but same for the list items (before updating)\n",
    "print('ID of New deep-copied List:', id(li4)) \n",
    "print('ID of original List of deep copying:', id(list))\n",
    "print('ID of New deep-copied List item:', id(li4[0])) \n",
    "print('ID of item of original List of deep copying:', id(list[0])) \n",
    "li4[0] = -22\n",
    "print(\"Copy not affecting original:\",li4,list)"
   ]
  },
  {
   "cell_type": "code",
   "execution_count": 3,
   "metadata": {},
   "outputs": [
    {
     "data": {
      "text/html": [
       "\n",
       "<h3>List (continued -> append, extend, insert, del, remove)</h3>\n"
      ],
      "text/plain": [
       "<IPython.core.display.HTML object>"
      ]
     },
     "metadata": {},
     "output_type": "display_data"
    },
    {
     "name": "stdout",
     "output_type": "stream",
     "text": [
      "[1, 2, 3, 4, 5, 2, 2, 3, 4]\n",
      "[1, 2, 3, 4, 5, 2, 2, 3, 4, 34, [4, 5, 6]]\n",
      "[1, 2, 3, 4, 5, 2, 2, 3, 4, [4, 5, 6]]\n",
      "[1, 2, 3, 4, 5, 2, 2, 3, 4]\n"
     ]
    }
   ],
   "source": [
    "display(HTML('''\n",
    "<h3>List (continued -> append, extend, insert, del, remove)</h3>\n",
    "'''))\n",
    "\n",
    "lis = [1,2,3,4,5]\n",
    "lis.append(2) #single element at a time\n",
    "lis.extend([2,3,4])  # multiple added elements\n",
    "print(lis)\n",
    "\n",
    "lis.insert(11,34)  # (index, element) (if index is more than size, element is appended in the end)\n",
    "lis.insert(13,[4,5,6])\n",
    "print(lis)\n",
    "\n",
    "# delete by value\n",
    "lis.remove(34)  # remove(element_value)\n",
    "print(lis)\n",
    "\n",
    "# delete by index\n",
    "del lis[-1]\n",
    "print(lis)"
   ]
  },
  {
   "cell_type": "code",
   "execution_count": 4,
   "metadata": {},
   "outputs": [
    {
     "data": {
      "text/html": [
       "\n",
       "<h3>List (continued -> slicing)</h3>\n"
      ],
      "text/plain": [
       "<IPython.core.display.HTML object>"
      ]
     },
     "metadata": {},
     "output_type": "display_data"
    },
    {
     "name": "stdout",
     "output_type": "stream",
     "text": [
      "[1, 2, 3, 4, 5, 6, 7]\n"
     ]
    }
   ],
   "source": [
    "display(HTML('''\n",
    "<h3>List (continued -> slicing)</h3>\n",
    "'''))\n",
    "lis = [1,2,3,4,5,6,7]\n",
    "print(lis[-9:])\n"
   ]
  },
  {
   "cell_type": "code",
   "execution_count": 5,
   "metadata": {},
   "outputs": [
    {
     "data": {
      "text/html": [
       "\n",
       "<h3>Dictionary</h3>\n",
       "<h5>Mutable</h5>\n"
      ],
      "text/plain": [
       "<IPython.core.display.HTML object>"
      ]
     },
     "metadata": {},
     "output_type": "display_data"
    },
    {
     "name": "stdout",
     "output_type": "stream",
     "text": [
      "{0: '0', 1: '1', 2: '2', 3: '3', 4: '4', 5: '5', 6: '6', 7: '7', 8: '8', 9: '9'}\n",
      "dict_keys([0, 1, 2, 3, 4, 5, 6, 7, 8, 9])\n",
      "dict_values(['0', '1', '2', '3', '4', '5', '6', '7', '8', '9'])\n",
      "['0', '1', '2', '3', '4', '5', '6', '7', '8', '9']\n"
     ]
    }
   ],
   "source": [
    "display(HTML('''\n",
    "<h3>Dictionary</h3>\n",
    "<h5>Mutable</h5>\n",
    "'''))\n",
    "\n",
    "keyval = dict()\n",
    "for i in range(10):\n",
    "    keyval[i] = str(i)\n",
    "print(keyval)\n",
    "print(keyval.keys())\n",
    "print(keyval.values())\n",
    "del list\n",
    "print(list(keyval.values()))\n"
   ]
  },
  {
   "cell_type": "code",
   "execution_count": 6,
   "metadata": {},
   "outputs": [
    {
     "data": {
      "text/html": [
       "\n",
       "<h3>Tuple</h3>\n",
       "<h5>Immutable</h5>\n"
      ],
      "text/plain": [
       "<IPython.core.display.HTML object>"
      ]
     },
     "metadata": {},
     "output_type": "display_data"
    },
    {
     "name": "stdout",
     "output_type": "stream",
     "text": [
      "True\n"
     ]
    }
   ],
   "source": [
    "display(HTML('''\n",
    "<h3>Tuple</h3>\n",
    "<h5>Immutable</h5>\n",
    "'''))\n",
    "\n",
    "tup = (1,2,3,4)\n",
    "tup1 = tuple([1,2,3,4])\n",
    "print(tup==tup1)  # true"
   ]
  },
  {
   "cell_type": "code",
   "execution_count": 7,
   "metadata": {},
   "outputs": [
    {
     "data": {
      "text/html": [
       "\n",
       "<h3>Set</h3>\n",
       "<h5>Mutable, and not ordered</h5>\n"
      ],
      "text/plain": [
       "<IPython.core.display.HTML object>"
      ]
     },
     "metadata": {},
     "output_type": "display_data"
    },
    {
     "name": "stdout",
     "output_type": "stream",
     "text": [
      "{1, 2, 3, 4}\n",
      "{1, 2, 3, 4, 30}\n"
     ]
    }
   ],
   "source": [
    "display(HTML('''\n",
    "<h3>Set</h3>\n",
    "<h5>Mutable, and not ordered</h5>\n",
    "'''))\n",
    "\n",
    "set_ = set([1,1,1,3,4,2])\n",
    "print(set_)\n",
    "# since not ordered, set does not support indexing\n",
    "# set / list cannot be used as key in dictionary (because it is mutable)\n",
    "\n",
    "set_.add(30)\n",
    "set1_ = set_\n",
    "print(set1_) # {1, 2, 3, 4, 30}\n"
   ]
  },
  {
   "cell_type": "code",
   "execution_count": null,
   "metadata": {},
   "outputs": [],
   "source": []
  },
  {
   "cell_type": "code",
   "execution_count": null,
   "metadata": {},
   "outputs": [],
   "source": []
  },
  {
   "cell_type": "code",
   "execution_count": 14,
   "metadata": {},
   "outputs": [
    {
     "name": "stdout",
     "output_type": "stream",
     "text": [
      "\n"
     ]
    }
   ],
   "source": [
    "# display(HTML('''\n",
    "# <h3>Input in Python</h3>\n",
    "# '''))\n",
    "\n",
    "import ast,sys\n",
    "input_list = sys.stdin.readline()\n",
    "# Write code to remove 'SPSS'\n",
    "# Write code to append 'SPARK'\n",
    "#input_list[input_list.index('SPSS')] = 'SPARK'\n",
    "print(input_list)"
   ]
  },
  {
   "cell_type": "code",
   "execution_count": null,
   "metadata": {},
   "outputs": [],
   "source": []
  }
 ],
 "metadata": {
  "kernelspec": {
   "display_name": "Python 3",
   "language": "python",
   "name": "python3"
  },
  "language_info": {
   "codemirror_mode": {
    "name": "ipython",
    "version": 3
   },
   "file_extension": ".py",
   "mimetype": "text/x-python",
   "name": "python",
   "nbconvert_exporter": "python",
   "pygments_lexer": "ipython3",
   "version": "3.7.1"
  }
 },
 "nbformat": 4,
 "nbformat_minor": 2
}
