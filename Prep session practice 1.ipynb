{
 "cells": [
  {
   "cell_type": "code",
   "execution_count": 1,
   "metadata": {
    "code_folding": []
   },
   "outputs": [],
   "source": [
    "def trials_1():\n",
    "    # tuples\n",
    "    print(type(2))\n",
    "    print(type('2'))\n",
    "    x = 2,3,\n",
    "    print(type(x))\n",
    "    ###################################################\n",
    "    # dictionaries\n",
    "    # THESE ALL ARE DICTIONARIES\n",
    "    d = {}\n",
    "    d = {'a':1, 'b':2}\n",
    "    for i in d:\n",
    "        print(i)\n",
    "    d = dict(a=1, b=2)\n",
    "    print(type(d))\n",
    "    print(d)\n",
    "    ###################################################\n",
    "    # exercise\n",
    "    # List of order ID’s which are processed \n",
    "    processed_orders = [1152, 1154, 1155, 1156, 1157, 1160, 1161, 1162, 1166, 1169, 1170, 1172, 1176, 1050, 1178, 1051, 1052, 1054, 1058, 1060, 1061, 1062, 1065, 1066, 1067, 1068, 1069, 1076, 1077, 1080, 1081, 1083, 1091, 1085, 1088, 1089, 1131, 1092, 1094, 1095, 1099, 1102, 1103, 1104, 1106, 1107, 1108, 1109, 1111, 1117, 1119, 1121, 1150, 1128, 1129, 1136, 1137, 1139, 1140, 1141, 1144, 1148, 1124]\n",
    "    # List of order ID’s which are returned\n",
    "    returned_orders = [1153, 1158, 1159, 1163, 1164, 1165, 1167, 1168, 1171, 1173, 1174, 1175, 1177, 1053, 1055, 1056, 1057, 1059, 1063, 1064, 1070, 1071, 1072, 1073, 1074, 1075, 1078, 1079, 1082, 1084, 1086, 1087, 1090, 1093, 1096, 1097, 1098, 1100, 1101, 1105, 1110, 1112, 1113, 1114, 1115, 1116, 1118, 1120, 1122, 1123, 1125, 1126, 1127, 1130, 1132, 1133, 1134, 1135, 1138, 1142, 1143, 1145, 1146, 1147, 1149, 1151]\n",
    "    # Consider the information available in the above two lists and answer the question given below\n",
    "    sum_orders = []\n",
    "    for i in range(len(processed_orders)):\n",
    "        sum_orders.append(processed_orders[i] + returned_orders[i])\n",
    "    print(sum_orders[49])\n",
    "    print(sorted(processed_orders)[:4])\n",
    "    print(sorted(processed_orders + returned_orders)[:4])\n",
    "    ###################################################\n",
    "    # exercise - 2\n",
    "    dic ={101: 43, 102: 25, 103: 43, 104: 31, 105: 26, 106: 28, 107: 29, 108: 43, 109: 25, 110: 22, 111: 22, 112: 25, 113: 30, 115: 45, 116: 23, 117: 29, 118: 28, 119: 30, 120: 28, 121: 42, 122: 39, 123: 29, 124: 42, 125: 43, 126: 42, 127: 40, 128: 27, 129: 23, 130: 30, 131: 37, 132: 20, 133: 36, 134: 27, 135: 27, 136: 22, 137: 28, 138: 23, 139: 45, 140: 39, 141: 29, 142: 33, 143: 39, 145: 34, 146: 26, 147: 30, 148: 38, 149: 29, 150: 24, 151: 28, 152: 34, 153: 42, 154: 29, 155: 23, 156: 31, 158: 25, 160: 45, 161: 42, 162: 27, 163: 24, 164: 20, 166: 24, 167: 28, 168: 20, 169: 33, 170: 34, 171: 37, 172: 45, 173: 35, 174: 23, 175: 44, 176: 27, 177: 30, 178: 26, 179: 27} \n",
    "    print(sorted(list(dic.values()))[-1])\n",
    "    print(sum(list(dic.values()))/len(dic))\n",
    "    dic[104] = 27\n",
    "    dic[140] = 27\n",
    "    dic[164] = 27\n",
    "    del dic[143]\n",
    "    print(sum(list(dic.values()))/len(dic))\n",
    "    ###################################################\n",
    "#trials_1()\n",
    "\n",
    "\n",
    "\n",
    "def trials_2():\n",
    "    ###################################################\n",
    "    # comprehension:\n",
    "        # list comprehension\n",
    "        # dictionary comprehension\n",
    "    ###################################################\n",
    "    # exercise\n",
    "    def func(x = 1 ,y = 2):\n",
    "        z = x * y + x + y\n",
    "        return z\n",
    "    print(func(2, func(3)))\n",
    "    print((101*99, 102*98))\n",
    "    ###################################################\n",
    "    #lambda, map, filter, reduce\n",
    "    x = lambda x:x.upper()\n",
    "    print(x(\"hello\"))\n",
    "    li = ([1,2,3,4,5,6,7])\n",
    "    print([i() for i in (lambda x=x:x**2 for x in li)])\n",
    "    # print(tuple([i() for i in (lambda x=x:x**2 for x in li)]))\n",
    "    # print(set([i() for i in (lambda x=x:x**2 for x in li)]))\n",
    "    # map\n",
    "                #same above thing using map\n",
    "    print(list(map(lambda x=x:x**2,li)))\n",
    "    # filter\n",
    "    print(list(filter(lambda x=x:x**2!=x,li)))\n",
    "    print(list(map(lambda x=x:x**2!=x,li)))\n",
    "    print(list(filter(lambda x=x:x**2,li)))\n",
    "    #reduce\n",
    "    from functools import reduce\n",
    "    print(reduce(lambda x,y:x*y,li))\n",
    "    ###################################################\n",
    "#trials_2()"
   ]
  },
  {
   "cell_type": "code",
   "execution_count": 2,
   "metadata": {},
   "outputs": [
    {
     "name": "stdout",
     "output_type": "stream",
     "text": [
      "3.10.4 | packaged by conda-forge | (main, Mar 30 2022, 08:38:02) [MSC v.1916 64 bit (AMD64)]\n"
     ]
    }
   ],
   "source": [
    "import sys\n",
    "print(sys.version)"
   ]
  },
  {
   "cell_type": "code",
   "execution_count": null,
   "metadata": {},
   "outputs": [],
   "source": []
  }
 ],
 "metadata": {
  "kernelspec": {
   "display_name": "newenv",
   "language": "python",
   "name": "newenv"
  },
  "language_info": {
   "codemirror_mode": {
    "name": "ipython",
    "version": 3
   },
   "file_extension": ".py",
   "mimetype": "text/x-python",
   "name": "python",
   "nbconvert_exporter": "python",
   "pygments_lexer": "ipython3",
   "version": "3.10.4"
  }
 },
 "nbformat": 4,
 "nbformat_minor": 2
}
