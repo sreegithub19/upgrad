{
 "cells": [
  {
   "cell_type": "markdown",
   "id": "4f7b7e03",
   "metadata": {},
   "source": [
    "## Contents:\n",
    "\n",
    "1. [Importing required packages](#Importing_required_packages)<br>\n",
    "2. [Reading the training data:](#Reading_the_training_data)<br>\n",
    "    (i) [Renaming columns for better interpretation](#Renaming_columns_for_better_interpretation)<br>\n",
    "    (ii) [Typecasting the datetime and numerical attributes to category](#Typecasting_the_datetime_and_numerical_attributes_to_category)<br>\n",
    "3. [Missing value analysis](#Missing_value_analysis)<br>\n",
    "4. [Attributes distributions and trends:](#Attributes_distributions_and_trends)<br>\n",
    "    (i). [Monthly distribution of counts](#[Monthly_distribution_of_counts)<br>\n",
    "    (ii). [Yearly wise distribution of counts](#Yearly_wise_distribution_of_counts)<br>\n",
    "    (iii). [Holiday wise distribution of counts](#Holiday_wise_distribution_of_counts)<br>\n",
    "    (iv). [Workingday-wise distribution of counts](#Workingday_wise_distribution_of_counts)<br>\n",
    "    (v). [Weather_condition_wise distribution of counts](#Weather_condition_wise_distribution_of_counts)<br>\n",
    "5. [Outlier analysis: ](#Outlier_analysis)<br>\n",
    "    (i) [Total_count_outliers](#Total_count_outliers)<br>\n",
    "    (ii) [Temp_windspeed_humidity_outliers](#Temp_windspeed_humidity_outliers)<br>\n",
    "    (iii) [Replace and impute the outliers](#Replace_and_impute_the_outliers)<br>\n",
    "    (iv) [Replace the original dataset to imputated data](#Replace_the_original_dataset_to_imputated_data)<br>\n",
    "6. [Normal Probability plot](#Normal_Probability_plot)\n",
    "7. [Correlation matrix](#Correlation_matrix)\n",
    "8. [Modelling the dataset:](#Modelling_the_dataset)<br>\n",
    "    (i) [Split the dataset into train and test in the ratio of 70:30](#Split_the_dataset_into_train_and_test_in_the_ratio_of_70_30)<br>\n",
    "    (ii) [Split the features into categorical and numerical features](#Split_the_features_into_categorical_and_numerical_features)<br>\n",
    "    (iii) [Decoding the training attributes](#Decoding_the_training_attributes)<br>\n",
    "9. [Models covered:](#Models_covered)<br>\n",
    "    (i) [Linear Regression model](#Linear_Regression_model)<br>\n",
    "10. [Linear Regression model](#Linear_Regression_model)<br>\n",
    "    <b><u>[Training model](#Training_model)</u><br></b>\n",
    "    (i)[Fit the training model](#Fit_the_training_model)<br>\n",
    "    (ii) [Accuracy of model](#Accuracy_of_model)<br>\n",
    "    (iii) [Cross validation prediction](#Cross_validation_prediction)<br>\n",
    "    (iv) [Cross validation prediction plot](#Cross_validation_prediction_plot)<br>\n",
    "    (v) [Model evalution metrics:-](#Model_evalution_metrics)    [R-squared and mean squared error score](#R_squared_and_mean_squared_error_score)<br>\n",
    "        \n",
    "     <b><u>[Testing model](#Testing_model)</u><br></b>\n",
    "    (vii) [Decoding the test attributes](#Decoding_the_test_attributes)<br>\n",
    "    (viii) [Model performance on test dataset (Predict the model)](#Model_performance_on_test_dataset)<br>\n",
    "    (x) [Model evaluation metrics:-](#Model_evaluation_metrics) [Root mean square error and mean absolute error scores](#Root_mean_square_error_and_mean_absolute_error_scores)<br>\n",
    "    (v) [Residual plot](#Residual_plot)<br>\n",
    "11. [Observations and explanations](#Observations_and_explanations)   \n",
    "<hr>\n",
    "<hr>"
   ]
  },
  {
   "cell_type": "markdown",
   "id": "74fe0e88",
   "metadata": {},
   "source": [
    "  <a id='Importing_required_packages'></a>\n",
    "  ### 1. Importing required packages"
   ]
  },
  {
   "cell_type": "code",
   "execution_count": 1,
   "id": "34ddca4f",
   "metadata": {},
   "outputs": [],
   "source": [
    "# Note: I have used dark mode for Jupyter Notebook\n",
    "\n",
    "import numpy as np\n",
    "import pandas as pd\n",
    "import matplotlib.pyplot as plt\n",
    "import seaborn as sns\n",
    "from sklearn.model_selection import train_test_split\n",
    "import warnings\n",
    "warnings.filterwarnings('ignore')\n",
    "import os\n"
   ]
  },
  {
   "cell_type": "markdown",
   "id": "de5bf8fb",
   "metadata": {},
   "source": [
    "<a id='Reading_the_training_data'></a>\n",
    "### 2. Reading the training data"
   ]
  },
  {
   "cell_type": "code",
   "execution_count": 2,
   "id": "09dfc9be",
   "metadata": {},
   "outputs": [
    {
     "data": {
      "text/html": [
       "<div>\n",
       "<style scoped>\n",
       "    .dataframe tbody tr th:only-of-type {\n",
       "        vertical-align: middle;\n",
       "    }\n",
       "\n",
       "    .dataframe tbody tr th {\n",
       "        vertical-align: top;\n",
       "    }\n",
       "\n",
       "    .dataframe thead th {\n",
       "        text-align: right;\n",
       "    }\n",
       "</style>\n",
       "<table border=\"1\" class=\"dataframe\">\n",
       "  <thead>\n",
       "    <tr style=\"text-align: right;\">\n",
       "      <th></th>\n",
       "      <th>instant</th>\n",
       "      <th>dteday</th>\n",
       "      <th>season</th>\n",
       "      <th>yr</th>\n",
       "      <th>mnth</th>\n",
       "      <th>holiday</th>\n",
       "      <th>weekday</th>\n",
       "      <th>workingday</th>\n",
       "      <th>weathersit</th>\n",
       "      <th>temp</th>\n",
       "      <th>atemp</th>\n",
       "      <th>hum</th>\n",
       "      <th>windspeed</th>\n",
       "      <th>casual</th>\n",
       "      <th>registered</th>\n",
       "      <th>cnt</th>\n",
       "    </tr>\n",
       "  </thead>\n",
       "  <tbody>\n",
       "    <tr>\n",
       "      <th>0</th>\n",
       "      <td>1</td>\n",
       "      <td>01-01-2018</td>\n",
       "      <td>1</td>\n",
       "      <td>0</td>\n",
       "      <td>1</td>\n",
       "      <td>0</td>\n",
       "      <td>6</td>\n",
       "      <td>0</td>\n",
       "      <td>2</td>\n",
       "      <td>14.110847</td>\n",
       "      <td>18.18125</td>\n",
       "      <td>80.5833</td>\n",
       "      <td>10.749882</td>\n",
       "      <td>331</td>\n",
       "      <td>654</td>\n",
       "      <td>985</td>\n",
       "    </tr>\n",
       "    <tr>\n",
       "      <th>1</th>\n",
       "      <td>2</td>\n",
       "      <td>02-01-2018</td>\n",
       "      <td>1</td>\n",
       "      <td>0</td>\n",
       "      <td>1</td>\n",
       "      <td>0</td>\n",
       "      <td>0</td>\n",
       "      <td>0</td>\n",
       "      <td>2</td>\n",
       "      <td>14.902598</td>\n",
       "      <td>17.68695</td>\n",
       "      <td>69.6087</td>\n",
       "      <td>16.652113</td>\n",
       "      <td>131</td>\n",
       "      <td>670</td>\n",
       "      <td>801</td>\n",
       "    </tr>\n",
       "    <tr>\n",
       "      <th>2</th>\n",
       "      <td>3</td>\n",
       "      <td>03-01-2018</td>\n",
       "      <td>1</td>\n",
       "      <td>0</td>\n",
       "      <td>1</td>\n",
       "      <td>0</td>\n",
       "      <td>1</td>\n",
       "      <td>1</td>\n",
       "      <td>1</td>\n",
       "      <td>8.050924</td>\n",
       "      <td>9.47025</td>\n",
       "      <td>43.7273</td>\n",
       "      <td>16.636703</td>\n",
       "      <td>120</td>\n",
       "      <td>1229</td>\n",
       "      <td>1349</td>\n",
       "    </tr>\n",
       "    <tr>\n",
       "      <th>3</th>\n",
       "      <td>4</td>\n",
       "      <td>04-01-2018</td>\n",
       "      <td>1</td>\n",
       "      <td>0</td>\n",
       "      <td>1</td>\n",
       "      <td>0</td>\n",
       "      <td>2</td>\n",
       "      <td>1</td>\n",
       "      <td>1</td>\n",
       "      <td>8.200000</td>\n",
       "      <td>10.60610</td>\n",
       "      <td>59.0435</td>\n",
       "      <td>10.739832</td>\n",
       "      <td>108</td>\n",
       "      <td>1454</td>\n",
       "      <td>1562</td>\n",
       "    </tr>\n",
       "    <tr>\n",
       "      <th>4</th>\n",
       "      <td>5</td>\n",
       "      <td>05-01-2018</td>\n",
       "      <td>1</td>\n",
       "      <td>0</td>\n",
       "      <td>1</td>\n",
       "      <td>0</td>\n",
       "      <td>3</td>\n",
       "      <td>1</td>\n",
       "      <td>1</td>\n",
       "      <td>9.305237</td>\n",
       "      <td>11.46350</td>\n",
       "      <td>43.6957</td>\n",
       "      <td>12.522300</td>\n",
       "      <td>82</td>\n",
       "      <td>1518</td>\n",
       "      <td>1600</td>\n",
       "    </tr>\n",
       "    <tr>\n",
       "      <th>...</th>\n",
       "      <td>...</td>\n",
       "      <td>...</td>\n",
       "      <td>...</td>\n",
       "      <td>...</td>\n",
       "      <td>...</td>\n",
       "      <td>...</td>\n",
       "      <td>...</td>\n",
       "      <td>...</td>\n",
       "      <td>...</td>\n",
       "      <td>...</td>\n",
       "      <td>...</td>\n",
       "      <td>...</td>\n",
       "      <td>...</td>\n",
       "      <td>...</td>\n",
       "      <td>...</td>\n",
       "      <td>...</td>\n",
       "    </tr>\n",
       "    <tr>\n",
       "      <th>725</th>\n",
       "      <td>726</td>\n",
       "      <td>27-12-2019</td>\n",
       "      <td>1</td>\n",
       "      <td>1</td>\n",
       "      <td>12</td>\n",
       "      <td>0</td>\n",
       "      <td>4</td>\n",
       "      <td>1</td>\n",
       "      <td>2</td>\n",
       "      <td>10.420847</td>\n",
       "      <td>11.33210</td>\n",
       "      <td>65.2917</td>\n",
       "      <td>23.458911</td>\n",
       "      <td>247</td>\n",
       "      <td>1867</td>\n",
       "      <td>2114</td>\n",
       "    </tr>\n",
       "    <tr>\n",
       "      <th>726</th>\n",
       "      <td>727</td>\n",
       "      <td>28-12-2019</td>\n",
       "      <td>1</td>\n",
       "      <td>1</td>\n",
       "      <td>12</td>\n",
       "      <td>0</td>\n",
       "      <td>5</td>\n",
       "      <td>1</td>\n",
       "      <td>2</td>\n",
       "      <td>10.386653</td>\n",
       "      <td>12.75230</td>\n",
       "      <td>59.0000</td>\n",
       "      <td>10.416557</td>\n",
       "      <td>644</td>\n",
       "      <td>2451</td>\n",
       "      <td>3095</td>\n",
       "    </tr>\n",
       "    <tr>\n",
       "      <th>727</th>\n",
       "      <td>728</td>\n",
       "      <td>29-12-2019</td>\n",
       "      <td>1</td>\n",
       "      <td>1</td>\n",
       "      <td>12</td>\n",
       "      <td>0</td>\n",
       "      <td>6</td>\n",
       "      <td>0</td>\n",
       "      <td>2</td>\n",
       "      <td>10.386653</td>\n",
       "      <td>12.12000</td>\n",
       "      <td>75.2917</td>\n",
       "      <td>8.333661</td>\n",
       "      <td>159</td>\n",
       "      <td>1182</td>\n",
       "      <td>1341</td>\n",
       "    </tr>\n",
       "    <tr>\n",
       "      <th>728</th>\n",
       "      <td>729</td>\n",
       "      <td>30-12-2019</td>\n",
       "      <td>1</td>\n",
       "      <td>1</td>\n",
       "      <td>12</td>\n",
       "      <td>0</td>\n",
       "      <td>0</td>\n",
       "      <td>0</td>\n",
       "      <td>1</td>\n",
       "      <td>10.489153</td>\n",
       "      <td>11.58500</td>\n",
       "      <td>48.3333</td>\n",
       "      <td>23.500518</td>\n",
       "      <td>364</td>\n",
       "      <td>1432</td>\n",
       "      <td>1796</td>\n",
       "    </tr>\n",
       "    <tr>\n",
       "      <th>729</th>\n",
       "      <td>730</td>\n",
       "      <td>31-12-2019</td>\n",
       "      <td>1</td>\n",
       "      <td>1</td>\n",
       "      <td>12</td>\n",
       "      <td>0</td>\n",
       "      <td>1</td>\n",
       "      <td>1</td>\n",
       "      <td>2</td>\n",
       "      <td>8.849153</td>\n",
       "      <td>11.17435</td>\n",
       "      <td>57.7500</td>\n",
       "      <td>10.374682</td>\n",
       "      <td>439</td>\n",
       "      <td>2290</td>\n",
       "      <td>2729</td>\n",
       "    </tr>\n",
       "  </tbody>\n",
       "</table>\n",
       "<p>730 rows × 16 columns</p>\n",
       "</div>"
      ],
      "text/plain": [
       "     instant      dteday  season  yr  mnth  holiday  weekday  workingday  \\\n",
       "0          1  01-01-2018       1   0     1        0        6           0   \n",
       "1          2  02-01-2018       1   0     1        0        0           0   \n",
       "2          3  03-01-2018       1   0     1        0        1           1   \n",
       "3          4  04-01-2018       1   0     1        0        2           1   \n",
       "4          5  05-01-2018       1   0     1        0        3           1   \n",
       "..       ...         ...     ...  ..   ...      ...      ...         ...   \n",
       "725      726  27-12-2019       1   1    12        0        4           1   \n",
       "726      727  28-12-2019       1   1    12        0        5           1   \n",
       "727      728  29-12-2019       1   1    12        0        6           0   \n",
       "728      729  30-12-2019       1   1    12        0        0           0   \n",
       "729      730  31-12-2019       1   1    12        0        1           1   \n",
       "\n",
       "     weathersit       temp     atemp      hum  windspeed  casual  registered  \\\n",
       "0             2  14.110847  18.18125  80.5833  10.749882     331         654   \n",
       "1             2  14.902598  17.68695  69.6087  16.652113     131         670   \n",
       "2             1   8.050924   9.47025  43.7273  16.636703     120        1229   \n",
       "3             1   8.200000  10.60610  59.0435  10.739832     108        1454   \n",
       "4             1   9.305237  11.46350  43.6957  12.522300      82        1518   \n",
       "..          ...        ...       ...      ...        ...     ...         ...   \n",
       "725           2  10.420847  11.33210  65.2917  23.458911     247        1867   \n",
       "726           2  10.386653  12.75230  59.0000  10.416557     644        2451   \n",
       "727           2  10.386653  12.12000  75.2917   8.333661     159        1182   \n",
       "728           1  10.489153  11.58500  48.3333  23.500518     364        1432   \n",
       "729           2   8.849153  11.17435  57.7500  10.374682     439        2290   \n",
       "\n",
       "      cnt  \n",
       "0     985  \n",
       "1     801  \n",
       "2    1349  \n",
       "3    1562  \n",
       "4    1600  \n",
       "..    ...  \n",
       "725  2114  \n",
       "726  3095  \n",
       "727  1341  \n",
       "728  1796  \n",
       "729  2729  \n",
       "\n",
       "[730 rows x 16 columns]"
      ]
     },
     "metadata": {},
     "output_type": "display_data"
    }
   ],
   "source": [
    "\n",
    "bikes_df = pd.read_csv(\"day.csv\")\n",
    "display(pd.read_csv(\"day.csv\"))"
   ]
  },
  {
   "cell_type": "code",
   "execution_count": 3,
   "id": "7f32bfce",
   "metadata": {},
   "outputs": [
    {
     "data": {
      "text/plain": [
       "(730, 16)"
      ]
     },
     "execution_count": 3,
     "metadata": {},
     "output_type": "execute_result"
    }
   ],
   "source": [
    "# shape of the dataset\n",
    "bikes_df.shape"
   ]
  },
  {
   "cell_type": "code",
   "execution_count": 4,
   "id": "a359cf1a",
   "metadata": {},
   "outputs": [
    {
     "data": {
      "text/plain": [
       "instant         int64\n",
       "dteday         object\n",
       "season          int64\n",
       "yr              int64\n",
       "mnth            int64\n",
       "holiday         int64\n",
       "weekday         int64\n",
       "workingday      int64\n",
       "weathersit      int64\n",
       "temp          float64\n",
       "atemp         float64\n",
       "hum           float64\n",
       "windspeed     float64\n",
       "casual          int64\n",
       "registered      int64\n",
       "cnt             int64\n",
       "dtype: object"
      ]
     },
     "metadata": {},
     "output_type": "display_data"
    }
   ],
   "source": [
    "# data types\n",
    "display(bikes_df.dtypes)"
   ]
  },
  {
   "cell_type": "code",
   "execution_count": 5,
   "id": "9f8b1067",
   "metadata": {},
   "outputs": [
    {
     "data": {
      "text/html": [
       "<div>\n",
       "<style scoped>\n",
       "    .dataframe tbody tr th:only-of-type {\n",
       "        vertical-align: middle;\n",
       "    }\n",
       "\n",
       "    .dataframe tbody tr th {\n",
       "        vertical-align: top;\n",
       "    }\n",
       "\n",
       "    .dataframe thead th {\n",
       "        text-align: right;\n",
       "    }\n",
       "</style>\n",
       "<table border=\"1\" class=\"dataframe\">\n",
       "  <thead>\n",
       "    <tr style=\"text-align: right;\">\n",
       "      <th></th>\n",
       "      <th>instant</th>\n",
       "      <th>dteday</th>\n",
       "      <th>season</th>\n",
       "      <th>yr</th>\n",
       "      <th>mnth</th>\n",
       "      <th>holiday</th>\n",
       "      <th>weekday</th>\n",
       "      <th>workingday</th>\n",
       "      <th>weathersit</th>\n",
       "      <th>temp</th>\n",
       "      <th>atemp</th>\n",
       "      <th>hum</th>\n",
       "      <th>windspeed</th>\n",
       "      <th>casual</th>\n",
       "      <th>registered</th>\n",
       "      <th>cnt</th>\n",
       "    </tr>\n",
       "  </thead>\n",
       "  <tbody>\n",
       "    <tr>\n",
       "      <th>0</th>\n",
       "      <td>1</td>\n",
       "      <td>01-01-2018</td>\n",
       "      <td>1</td>\n",
       "      <td>0</td>\n",
       "      <td>1</td>\n",
       "      <td>0</td>\n",
       "      <td>6</td>\n",
       "      <td>0</td>\n",
       "      <td>2</td>\n",
       "      <td>14.110847</td>\n",
       "      <td>18.18125</td>\n",
       "      <td>80.5833</td>\n",
       "      <td>10.749882</td>\n",
       "      <td>331</td>\n",
       "      <td>654</td>\n",
       "      <td>985</td>\n",
       "    </tr>\n",
       "    <tr>\n",
       "      <th>1</th>\n",
       "      <td>2</td>\n",
       "      <td>02-01-2018</td>\n",
       "      <td>1</td>\n",
       "      <td>0</td>\n",
       "      <td>1</td>\n",
       "      <td>0</td>\n",
       "      <td>0</td>\n",
       "      <td>0</td>\n",
       "      <td>2</td>\n",
       "      <td>14.902598</td>\n",
       "      <td>17.68695</td>\n",
       "      <td>69.6087</td>\n",
       "      <td>16.652113</td>\n",
       "      <td>131</td>\n",
       "      <td>670</td>\n",
       "      <td>801</td>\n",
       "    </tr>\n",
       "    <tr>\n",
       "      <th>2</th>\n",
       "      <td>3</td>\n",
       "      <td>03-01-2018</td>\n",
       "      <td>1</td>\n",
       "      <td>0</td>\n",
       "      <td>1</td>\n",
       "      <td>0</td>\n",
       "      <td>1</td>\n",
       "      <td>1</td>\n",
       "      <td>1</td>\n",
       "      <td>8.050924</td>\n",
       "      <td>9.47025</td>\n",
       "      <td>43.7273</td>\n",
       "      <td>16.636703</td>\n",
       "      <td>120</td>\n",
       "      <td>1229</td>\n",
       "      <td>1349</td>\n",
       "    </tr>\n",
       "    <tr>\n",
       "      <th>3</th>\n",
       "      <td>4</td>\n",
       "      <td>04-01-2018</td>\n",
       "      <td>1</td>\n",
       "      <td>0</td>\n",
       "      <td>1</td>\n",
       "      <td>0</td>\n",
       "      <td>2</td>\n",
       "      <td>1</td>\n",
       "      <td>1</td>\n",
       "      <td>8.200000</td>\n",
       "      <td>10.60610</td>\n",
       "      <td>59.0435</td>\n",
       "      <td>10.739832</td>\n",
       "      <td>108</td>\n",
       "      <td>1454</td>\n",
       "      <td>1562</td>\n",
       "    </tr>\n",
       "    <tr>\n",
       "      <th>4</th>\n",
       "      <td>5</td>\n",
       "      <td>05-01-2018</td>\n",
       "      <td>1</td>\n",
       "      <td>0</td>\n",
       "      <td>1</td>\n",
       "      <td>0</td>\n",
       "      <td>3</td>\n",
       "      <td>1</td>\n",
       "      <td>1</td>\n",
       "      <td>9.305237</td>\n",
       "      <td>11.46350</td>\n",
       "      <td>43.6957</td>\n",
       "      <td>12.522300</td>\n",
       "      <td>82</td>\n",
       "      <td>1518</td>\n",
       "      <td>1600</td>\n",
       "    </tr>\n",
       "    <tr>\n",
       "      <th>5</th>\n",
       "      <td>6</td>\n",
       "      <td>06-01-2018</td>\n",
       "      <td>1</td>\n",
       "      <td>0</td>\n",
       "      <td>1</td>\n",
       "      <td>0</td>\n",
       "      <td>4</td>\n",
       "      <td>1</td>\n",
       "      <td>1</td>\n",
       "      <td>8.378268</td>\n",
       "      <td>11.66045</td>\n",
       "      <td>51.8261</td>\n",
       "      <td>6.000868</td>\n",
       "      <td>88</td>\n",
       "      <td>1518</td>\n",
       "      <td>1606</td>\n",
       "    </tr>\n",
       "    <tr>\n",
       "      <th>6</th>\n",
       "      <td>7</td>\n",
       "      <td>07-01-2018</td>\n",
       "      <td>1</td>\n",
       "      <td>0</td>\n",
       "      <td>1</td>\n",
       "      <td>0</td>\n",
       "      <td>5</td>\n",
       "      <td>1</td>\n",
       "      <td>2</td>\n",
       "      <td>8.057402</td>\n",
       "      <td>10.44195</td>\n",
       "      <td>49.8696</td>\n",
       "      <td>11.304642</td>\n",
       "      <td>148</td>\n",
       "      <td>1362</td>\n",
       "      <td>1510</td>\n",
       "    </tr>\n",
       "    <tr>\n",
       "      <th>7</th>\n",
       "      <td>8</td>\n",
       "      <td>08-01-2018</td>\n",
       "      <td>1</td>\n",
       "      <td>0</td>\n",
       "      <td>1</td>\n",
       "      <td>0</td>\n",
       "      <td>6</td>\n",
       "      <td>0</td>\n",
       "      <td>2</td>\n",
       "      <td>6.765000</td>\n",
       "      <td>8.11270</td>\n",
       "      <td>53.5833</td>\n",
       "      <td>17.875868</td>\n",
       "      <td>68</td>\n",
       "      <td>891</td>\n",
       "      <td>959</td>\n",
       "    </tr>\n",
       "    <tr>\n",
       "      <th>8</th>\n",
       "      <td>9</td>\n",
       "      <td>09-01-2018</td>\n",
       "      <td>1</td>\n",
       "      <td>0</td>\n",
       "      <td>1</td>\n",
       "      <td>0</td>\n",
       "      <td>0</td>\n",
       "      <td>0</td>\n",
       "      <td>1</td>\n",
       "      <td>5.671653</td>\n",
       "      <td>5.80875</td>\n",
       "      <td>43.4167</td>\n",
       "      <td>24.250650</td>\n",
       "      <td>54</td>\n",
       "      <td>768</td>\n",
       "      <td>822</td>\n",
       "    </tr>\n",
       "    <tr>\n",
       "      <th>9</th>\n",
       "      <td>10</td>\n",
       "      <td>10-01-2018</td>\n",
       "      <td>1</td>\n",
       "      <td>0</td>\n",
       "      <td>1</td>\n",
       "      <td>0</td>\n",
       "      <td>1</td>\n",
       "      <td>1</td>\n",
       "      <td>1</td>\n",
       "      <td>6.184153</td>\n",
       "      <td>7.54440</td>\n",
       "      <td>48.2917</td>\n",
       "      <td>14.958889</td>\n",
       "      <td>41</td>\n",
       "      <td>1280</td>\n",
       "      <td>1321</td>\n",
       "    </tr>\n",
       "  </tbody>\n",
       "</table>\n",
       "</div>"
      ],
      "text/plain": [
       "   instant      dteday  season  yr  mnth  holiday  weekday  workingday  \\\n",
       "0        1  01-01-2018       1   0     1        0        6           0   \n",
       "1        2  02-01-2018       1   0     1        0        0           0   \n",
       "2        3  03-01-2018       1   0     1        0        1           1   \n",
       "3        4  04-01-2018       1   0     1        0        2           1   \n",
       "4        5  05-01-2018       1   0     1        0        3           1   \n",
       "5        6  06-01-2018       1   0     1        0        4           1   \n",
       "6        7  07-01-2018       1   0     1        0        5           1   \n",
       "7        8  08-01-2018       1   0     1        0        6           0   \n",
       "8        9  09-01-2018       1   0     1        0        0           0   \n",
       "9       10  10-01-2018       1   0     1        0        1           1   \n",
       "\n",
       "   weathersit       temp     atemp      hum  windspeed  casual  registered  \\\n",
       "0           2  14.110847  18.18125  80.5833  10.749882     331         654   \n",
       "1           2  14.902598  17.68695  69.6087  16.652113     131         670   \n",
       "2           1   8.050924   9.47025  43.7273  16.636703     120        1229   \n",
       "3           1   8.200000  10.60610  59.0435  10.739832     108        1454   \n",
       "4           1   9.305237  11.46350  43.6957  12.522300      82        1518   \n",
       "5           1   8.378268  11.66045  51.8261   6.000868      88        1518   \n",
       "6           2   8.057402  10.44195  49.8696  11.304642     148        1362   \n",
       "7           2   6.765000   8.11270  53.5833  17.875868      68         891   \n",
       "8           1   5.671653   5.80875  43.4167  24.250650      54         768   \n",
       "9           1   6.184153   7.54440  48.2917  14.958889      41        1280   \n",
       "\n",
       "    cnt  \n",
       "0   985  \n",
       "1   801  \n",
       "2  1349  \n",
       "3  1562  \n",
       "4  1600  \n",
       "5  1606  \n",
       "6  1510  \n",
       "7   959  \n",
       "8   822  \n",
       "9  1321  "
      ]
     },
     "metadata": {},
     "output_type": "display_data"
    }
   ],
   "source": [
    "display(bikes_df.head(10))"
   ]
  },
  {
   "cell_type": "markdown",
   "id": "fa422569",
   "metadata": {},
   "source": [
    "<a id='Renaming_columns_for_better_interpretation'></a>\n",
    "#### (i) Renaming columns for better interpretation"
   ]
  },
  {
   "cell_type": "code",
   "execution_count": 6,
   "id": "e80d2f06",
   "metadata": {},
   "outputs": [],
   "source": [
    "bikes_df.rename(columns={\n",
    "    'instant':'rec_id',\n",
    "    \"dteday\":\"datetime\",\n",
    "    \"yr\":\"year\",\n",
    "    \"mnth\":\"month\",\n",
    "    \"weathersit\":\"weather_condition\",\n",
    "    \"hum\":\"humidity\",\n",
    "    \"cnt\":\"total_count\"\n",
    "},inplace=True)"
   ]
  },
  {
   "cell_type": "code",
   "execution_count": 7,
   "id": "ef5d15bb",
   "metadata": {},
   "outputs": [
    {
     "data": {
      "text/html": [
       "<div>\n",
       "<style scoped>\n",
       "    .dataframe tbody tr th:only-of-type {\n",
       "        vertical-align: middle;\n",
       "    }\n",
       "\n",
       "    .dataframe tbody tr th {\n",
       "        vertical-align: top;\n",
       "    }\n",
       "\n",
       "    .dataframe thead th {\n",
       "        text-align: right;\n",
       "    }\n",
       "</style>\n",
       "<table border=\"1\" class=\"dataframe\">\n",
       "  <thead>\n",
       "    <tr style=\"text-align: right;\">\n",
       "      <th></th>\n",
       "      <th>rec_id</th>\n",
       "      <th>datetime</th>\n",
       "      <th>season</th>\n",
       "      <th>year</th>\n",
       "      <th>month</th>\n",
       "      <th>holiday</th>\n",
       "      <th>weekday</th>\n",
       "      <th>workingday</th>\n",
       "      <th>weather_condition</th>\n",
       "      <th>temp</th>\n",
       "      <th>atemp</th>\n",
       "      <th>humidity</th>\n",
       "      <th>windspeed</th>\n",
       "      <th>casual</th>\n",
       "      <th>registered</th>\n",
       "      <th>total_count</th>\n",
       "    </tr>\n",
       "  </thead>\n",
       "  <tbody>\n",
       "    <tr>\n",
       "      <th>0</th>\n",
       "      <td>1</td>\n",
       "      <td>01-01-2018</td>\n",
       "      <td>1</td>\n",
       "      <td>0</td>\n",
       "      <td>1</td>\n",
       "      <td>0</td>\n",
       "      <td>6</td>\n",
       "      <td>0</td>\n",
       "      <td>2</td>\n",
       "      <td>14.110847</td>\n",
       "      <td>18.18125</td>\n",
       "      <td>80.5833</td>\n",
       "      <td>10.749882</td>\n",
       "      <td>331</td>\n",
       "      <td>654</td>\n",
       "      <td>985</td>\n",
       "    </tr>\n",
       "    <tr>\n",
       "      <th>1</th>\n",
       "      <td>2</td>\n",
       "      <td>02-01-2018</td>\n",
       "      <td>1</td>\n",
       "      <td>0</td>\n",
       "      <td>1</td>\n",
       "      <td>0</td>\n",
       "      <td>0</td>\n",
       "      <td>0</td>\n",
       "      <td>2</td>\n",
       "      <td>14.902598</td>\n",
       "      <td>17.68695</td>\n",
       "      <td>69.6087</td>\n",
       "      <td>16.652113</td>\n",
       "      <td>131</td>\n",
       "      <td>670</td>\n",
       "      <td>801</td>\n",
       "    </tr>\n",
       "    <tr>\n",
       "      <th>2</th>\n",
       "      <td>3</td>\n",
       "      <td>03-01-2018</td>\n",
       "      <td>1</td>\n",
       "      <td>0</td>\n",
       "      <td>1</td>\n",
       "      <td>0</td>\n",
       "      <td>1</td>\n",
       "      <td>1</td>\n",
       "      <td>1</td>\n",
       "      <td>8.050924</td>\n",
       "      <td>9.47025</td>\n",
       "      <td>43.7273</td>\n",
       "      <td>16.636703</td>\n",
       "      <td>120</td>\n",
       "      <td>1229</td>\n",
       "      <td>1349</td>\n",
       "    </tr>\n",
       "    <tr>\n",
       "      <th>3</th>\n",
       "      <td>4</td>\n",
       "      <td>04-01-2018</td>\n",
       "      <td>1</td>\n",
       "      <td>0</td>\n",
       "      <td>1</td>\n",
       "      <td>0</td>\n",
       "      <td>2</td>\n",
       "      <td>1</td>\n",
       "      <td>1</td>\n",
       "      <td>8.200000</td>\n",
       "      <td>10.60610</td>\n",
       "      <td>59.0435</td>\n",
       "      <td>10.739832</td>\n",
       "      <td>108</td>\n",
       "      <td>1454</td>\n",
       "      <td>1562</td>\n",
       "    </tr>\n",
       "    <tr>\n",
       "      <th>4</th>\n",
       "      <td>5</td>\n",
       "      <td>05-01-2018</td>\n",
       "      <td>1</td>\n",
       "      <td>0</td>\n",
       "      <td>1</td>\n",
       "      <td>0</td>\n",
       "      <td>3</td>\n",
       "      <td>1</td>\n",
       "      <td>1</td>\n",
       "      <td>9.305237</td>\n",
       "      <td>11.46350</td>\n",
       "      <td>43.6957</td>\n",
       "      <td>12.522300</td>\n",
       "      <td>82</td>\n",
       "      <td>1518</td>\n",
       "      <td>1600</td>\n",
       "    </tr>\n",
       "  </tbody>\n",
       "</table>\n",
       "</div>"
      ],
      "text/plain": [
       "   rec_id    datetime  season  year  month  holiday  weekday  workingday  \\\n",
       "0       1  01-01-2018       1     0      1        0        6           0   \n",
       "1       2  02-01-2018       1     0      1        0        0           0   \n",
       "2       3  03-01-2018       1     0      1        0        1           1   \n",
       "3       4  04-01-2018       1     0      1        0        2           1   \n",
       "4       5  05-01-2018       1     0      1        0        3           1   \n",
       "\n",
       "   weather_condition       temp     atemp  humidity  windspeed  casual  \\\n",
       "0                  2  14.110847  18.18125   80.5833  10.749882     331   \n",
       "1                  2  14.902598  17.68695   69.6087  16.652113     131   \n",
       "2                  1   8.050924   9.47025   43.7273  16.636703     120   \n",
       "3                  1   8.200000  10.60610   59.0435  10.739832     108   \n",
       "4                  1   9.305237  11.46350   43.6957  12.522300      82   \n",
       "\n",
       "   registered  total_count  \n",
       "0         654          985  \n",
       "1         670          801  \n",
       "2        1229         1349  \n",
       "3        1454         1562  \n",
       "4        1518         1600  "
      ]
     },
     "metadata": {},
     "output_type": "display_data"
    }
   ],
   "source": [
    "display(bikes_df.head(5))"
   ]
  },
  {
   "cell_type": "markdown",
   "id": "a02bc800",
   "metadata": {},
   "source": [
    "<a id='Typecasting_the_datetime_and_numerical_attributes_to_category'></a>\n",
    "#### (ii) Typecasting the datetime and numerical attributes to category"
   ]
  },
  {
   "cell_type": "code",
   "execution_count": 8,
   "id": "b8ed2122",
   "metadata": {},
   "outputs": [],
   "source": [
    "\n",
    "\n",
    "bikes_df['datetime'] = pd.to_datetime(bikes_df.datetime)\n",
    "bikes_df['season'] = bikes_df.season.astype('category')\n",
    "bikes_df['year'] = bikes_df.year.astype('category')\n",
    "bikes_df['month'] = bikes_df.month.astype('category')\n",
    "bikes_df['holiday'] = bikes_df.holiday.astype('category')\n",
    "bikes_df['weekday'] = bikes_df.weekday.astype('category')\n",
    "bikes_df['workingday'] = bikes_df.workingday.astype('category')\n",
    "bikes_df['weather_condition'] = bikes_df.weather_condition.astype('category')"
   ]
  },
  {
   "cell_type": "markdown",
   "id": "91d1db28",
   "metadata": {},
   "source": [
    "#### Describe the dataframe"
   ]
  },
  {
   "cell_type": "code",
   "execution_count": 9,
   "id": "6c1c8bc9",
   "metadata": {},
   "outputs": [
    {
     "data": {
      "text/html": [
       "<div>\n",
       "<style scoped>\n",
       "    .dataframe tbody tr th:only-of-type {\n",
       "        vertical-align: middle;\n",
       "    }\n",
       "\n",
       "    .dataframe tbody tr th {\n",
       "        vertical-align: top;\n",
       "    }\n",
       "\n",
       "    .dataframe thead th {\n",
       "        text-align: right;\n",
       "    }\n",
       "</style>\n",
       "<table border=\"1\" class=\"dataframe\">\n",
       "  <thead>\n",
       "    <tr style=\"text-align: right;\">\n",
       "      <th></th>\n",
       "      <th>rec_id</th>\n",
       "      <th>temp</th>\n",
       "      <th>atemp</th>\n",
       "      <th>humidity</th>\n",
       "      <th>windspeed</th>\n",
       "      <th>casual</th>\n",
       "      <th>registered</th>\n",
       "      <th>total_count</th>\n",
       "    </tr>\n",
       "  </thead>\n",
       "  <tbody>\n",
       "    <tr>\n",
       "      <th>count</th>\n",
       "      <td>730.000000</td>\n",
       "      <td>730.000000</td>\n",
       "      <td>730.000000</td>\n",
       "      <td>730.000000</td>\n",
       "      <td>730.000000</td>\n",
       "      <td>730.000000</td>\n",
       "      <td>730.000000</td>\n",
       "      <td>730.000000</td>\n",
       "    </tr>\n",
       "    <tr>\n",
       "      <th>mean</th>\n",
       "      <td>365.500000</td>\n",
       "      <td>20.319259</td>\n",
       "      <td>23.726322</td>\n",
       "      <td>62.765175</td>\n",
       "      <td>12.763620</td>\n",
       "      <td>849.249315</td>\n",
       "      <td>3658.757534</td>\n",
       "      <td>4508.006849</td>\n",
       "    </tr>\n",
       "    <tr>\n",
       "      <th>std</th>\n",
       "      <td>210.877136</td>\n",
       "      <td>7.506729</td>\n",
       "      <td>8.150308</td>\n",
       "      <td>14.237589</td>\n",
       "      <td>5.195841</td>\n",
       "      <td>686.479875</td>\n",
       "      <td>1559.758728</td>\n",
       "      <td>1936.011647</td>\n",
       "    </tr>\n",
       "    <tr>\n",
       "      <th>min</th>\n",
       "      <td>1.000000</td>\n",
       "      <td>2.424346</td>\n",
       "      <td>3.953480</td>\n",
       "      <td>0.000000</td>\n",
       "      <td>1.500244</td>\n",
       "      <td>2.000000</td>\n",
       "      <td>20.000000</td>\n",
       "      <td>22.000000</td>\n",
       "    </tr>\n",
       "    <tr>\n",
       "      <th>25%</th>\n",
       "      <td>183.250000</td>\n",
       "      <td>13.811885</td>\n",
       "      <td>16.889713</td>\n",
       "      <td>52.000000</td>\n",
       "      <td>9.041650</td>\n",
       "      <td>316.250000</td>\n",
       "      <td>2502.250000</td>\n",
       "      <td>3169.750000</td>\n",
       "    </tr>\n",
       "    <tr>\n",
       "      <th>50%</th>\n",
       "      <td>365.500000</td>\n",
       "      <td>20.465826</td>\n",
       "      <td>24.368225</td>\n",
       "      <td>62.625000</td>\n",
       "      <td>12.125325</td>\n",
       "      <td>717.000000</td>\n",
       "      <td>3664.500000</td>\n",
       "      <td>4548.500000</td>\n",
       "    </tr>\n",
       "    <tr>\n",
       "      <th>75%</th>\n",
       "      <td>547.750000</td>\n",
       "      <td>26.880615</td>\n",
       "      <td>30.445775</td>\n",
       "      <td>72.989575</td>\n",
       "      <td>15.625589</td>\n",
       "      <td>1096.500000</td>\n",
       "      <td>4783.250000</td>\n",
       "      <td>5966.000000</td>\n",
       "    </tr>\n",
       "    <tr>\n",
       "      <th>max</th>\n",
       "      <td>730.000000</td>\n",
       "      <td>35.328347</td>\n",
       "      <td>42.044800</td>\n",
       "      <td>97.250000</td>\n",
       "      <td>34.000021</td>\n",
       "      <td>3410.000000</td>\n",
       "      <td>6946.000000</td>\n",
       "      <td>8714.000000</td>\n",
       "    </tr>\n",
       "  </tbody>\n",
       "</table>\n",
       "</div>"
      ],
      "text/plain": [
       "           rec_id        temp       atemp    humidity   windspeed  \\\n",
       "count  730.000000  730.000000  730.000000  730.000000  730.000000   \n",
       "mean   365.500000   20.319259   23.726322   62.765175   12.763620   \n",
       "std    210.877136    7.506729    8.150308   14.237589    5.195841   \n",
       "min      1.000000    2.424346    3.953480    0.000000    1.500244   \n",
       "25%    183.250000   13.811885   16.889713   52.000000    9.041650   \n",
       "50%    365.500000   20.465826   24.368225   62.625000   12.125325   \n",
       "75%    547.750000   26.880615   30.445775   72.989575   15.625589   \n",
       "max    730.000000   35.328347   42.044800   97.250000   34.000021   \n",
       "\n",
       "            casual   registered  total_count  \n",
       "count   730.000000   730.000000   730.000000  \n",
       "mean    849.249315  3658.757534  4508.006849  \n",
       "std     686.479875  1559.758728  1936.011647  \n",
       "min       2.000000    20.000000    22.000000  \n",
       "25%     316.250000  2502.250000  3169.750000  \n",
       "50%     717.000000  3664.500000  4548.500000  \n",
       "75%    1096.500000  4783.250000  5966.000000  \n",
       "max    3410.000000  6946.000000  8714.000000  "
      ]
     },
     "metadata": {},
     "output_type": "display_data"
    }
   ],
   "source": [
    "display(bikes_df.describe())"
   ]
  },
  {
   "cell_type": "markdown",
   "id": "23cbffc8",
   "metadata": {},
   "source": [
    "<a id='Missing_value_analysis'></a>\n",
    "### 3. Missing value analysis\n",
    "\n",
    "\n",
    "#### No missing values present in training dataset"
   ]
  },
  {
   "cell_type": "code",
   "execution_count": 10,
   "id": "dceeddd4",
   "metadata": {},
   "outputs": [
    {
     "data": {
      "text/plain": [
       "rec_id               0\n",
       "datetime             0\n",
       "season               0\n",
       "year                 0\n",
       "month                0\n",
       "holiday              0\n",
       "weekday              0\n",
       "workingday           0\n",
       "weather_condition    0\n",
       "temp                 0\n",
       "atemp                0\n",
       "humidity             0\n",
       "windspeed            0\n",
       "casual               0\n",
       "registered           0\n",
       "total_count          0\n",
       "dtype: int64"
      ]
     },
     "metadata": {},
     "output_type": "display_data"
    }
   ],
   "source": [
    "# missing values in dataset\n",
    "display(bikes_df.isnull().sum())"
   ]
  },
  {
   "cell_type": "markdown",
   "id": "8888398b",
   "metadata": {},
   "source": [
    "<a id='Attributes_distributions_and_trends'></a>\n",
    "### 4. Attributes distributions and trends\n",
    "\n",
    "#### (i). Monthly distribution of counts\n",
    "#### (ii). Yearly wise distribution of counts\n",
    "#### (iii). Holiday wise distribution of counts\n",
    "#### (iv). Workingday-wise distribution of counts\n",
    "#### (v). Weather_condition_wise distribution of counts\n",
    "<hr>"
   ]
  },
  {
   "cell_type": "markdown",
   "id": "e2ef4b2f",
   "metadata": {},
   "source": [
    "<a id='Monthly_distribution_of_counts'></a>\n",
    "(i) Monthly distribution of counts"
   ]
  },
  {
   "cell_type": "code",
   "execution_count": 11,
   "id": "2ef17253",
   "metadata": {},
   "outputs": [
    {
     "data": {
      "image/png": "[encoded data removed]",
      "text/plain": [
       "<Figure size 1152x576 with 1 Axes>"
      ]
     },
     "metadata": {
      "needs_background": "light"
     },
     "output_type": "display_data"
    }
   ],
   "source": [
    "fig,ax = plt.subplots(figsize=(16,8))\n",
    "sns.set_style('dark') # style must be one of white, dark, whitegrid, darkgrid, ticks\n",
    "\n",
    "# Barplot for seasonwise monthly distribution of counts\n",
    "\n",
    "sns.barplot(x='month',y = 'total_count',data=bikes_df[['month','total_count','season']],ax=ax, hue='season')\n",
    "ax.set_title('Seasonwise monthly distribution of counts')\n",
    "plt.show()"
   ]
  },
  {
   "cell_type": "code",
   "execution_count": 12,
   "id": "e30f9f1f",
   "metadata": {},
   "outputs": [
    {
     "data": {
      "image/png": "[encoded data removed]",
      "text/plain": [
       "<Figure size 1152x576 with 1 Axes>"
      ]
     },
     "metadata": {},
     "output_type": "display_data"
    }
   ],
   "source": [
    "# Barplot for weekday-wise monthly distribution of counts\n",
    "\n",
    "fig,ax1 = plt.subplots(figsize=(16,8))\n",
    "sns.set_style('dark') \n",
    "# Barplot for seasonwise monthly distribution of counts\n",
    "\n",
    "sns.barplot(data=bikes_df[['month','total_count','weekday']], x='month',y = 'total_count',ax=ax1, hue='weekday')\n",
    "ax1.set_title('Weekday-wise monthly distribution of counts')\n",
    "plt.show()"
   ]
  },
  {
   "cell_type": "markdown",
   "id": "bd1b7bda",
   "metadata": {},
   "source": [
    "From the above plots, we can observe that there is an increase in the bike rental count in spring and summer season , and then a decrease in the bike rental count in fall and winter season.\n",
    "\n",
    "Here,\n",
    "Season 1 -> Spring\n",
    "Season 2 -> Summer\n",
    "Season 3 -> Fall\n",
    "Season 4 -> Winter\n",
    "\n",
    "<hr>"
   ]
  },
  {
   "cell_type": "markdown",
   "id": "114724fc",
   "metadata": {},
   "source": [
    "<a id='Yearly_wise_distribution_of_counts'></a>\n",
    "(ii) Yearwise distribution of counts"
   ]
  },
  {
   "cell_type": "code",
   "execution_count": 13,
   "id": "28e2142c",
   "metadata": {},
   "outputs": [
    {
     "data": {
      "image/png": "[encoded data removed]",
      "text/plain": [
       "<Figure size 1152x576 with 1 Axes>"
      ]
     },
     "metadata": {},
     "output_type": "display_data"
    }
   ],
   "source": [
    "fig,ax = plt.subplots(figsize=(16,8))\n",
    "\n",
    "# Violin for yearwise distribution of counts\n",
    "\n",
    "sns.violinplot(data=bikes_df[['year','total_count']], x='year',y = 'total_count')\n",
    "ax.set_title('Yearwise distribution of counts')\n",
    "plt.show()"
   ]
  },
  {
   "cell_type": "markdown",
   "id": "9c854a4d",
   "metadata": {},
   "source": [
    "From the violin plot, we can observe that the bike rental count distribution is higher in 2019 than in 2018.\n",
    "<hr>"
   ]
  },
  {
   "cell_type": "markdown",
   "id": "21f6f307",
   "metadata": {},
   "source": [
    "<a id='Holiday_wise_distribution_of_counts'></a>\n",
    "(iii). Holiday wise distribution of counts"
   ]
  },
  {
   "cell_type": "code",
   "execution_count": 14,
   "id": "f8407ecc",
   "metadata": {},
   "outputs": [
    {
     "data": {
      "image/png": "[encoded data removed]",
      "text/plain": [
       "<Figure size 1152x576 with 1 Axes>"
      ]
     },
     "metadata": {},
     "output_type": "display_data"
    }
   ],
   "source": [
    "fig,ax = plt.subplots(figsize=(16,8))\n",
    "\n",
    "# Barplot for holiday distribution of counts\n",
    "sns.set_style('dark') \n",
    "sns.barplot(hue='season', data = bikes_df, x='holiday',y = 'total_count')\n",
    "ax.set_title('Holiday-wise distribution of counts')\n",
    "plt.show()"
   ]
  },
  {
   "cell_type": "markdown",
   "id": "795eb36b",
   "metadata": {},
   "source": [
    "From the above bar plot, we can observe that during no holidays, the bike rental counts is the highest, compared to during holidays for different seasons.\n",
    "\n",
    "Here, 0-> No holiday,\n",
    "1-> Holiday\n",
    "<hr>"
   ]
  },
  {
   "cell_type": "markdown",
   "id": "00968a8f",
   "metadata": {},
   "source": [
    "<a id='Workingday_wise_distribution_of_counts'></a>\n",
    "(iv). Workingday-wise distribution of counts"
   ]
  },
  {
   "cell_type": "code",
   "execution_count": 15,
   "id": "cb7dc069",
   "metadata": {},
   "outputs": [
    {
     "data": {
      "image/png": "[encoded data removed]",
      "text/plain": [
       "<Figure size 1152x576 with 1 Axes>"
      ]
     },
     "metadata": {},
     "output_type": "display_data"
    }
   ],
   "source": [
    "fig,ax = plt.subplots(figsize=(16,8))\n",
    "\n",
    "# Barplot for workingday distribution of counts\n",
    "ax.set_title('Workingday-wise distribution of counts')\n",
    "sns.barplot(data = bikes_df, hue='season', x='workingday',y = 'total_count')\n",
    "plt.show()"
   ]
  },
  {
   "cell_type": "markdown",
   "id": "73dd7e22",
   "metadata": {},
   "source": [
    "From the above bar plot, we can observe that there is no significant change in bike demand with working days and non working days.\n",
    "\n",
    "Here, 0-> No working day,\n",
    "1-> Working day\n",
    "<hr>"
   ]
  },
  {
   "cell_type": "markdown",
   "id": "85fe4179",
   "metadata": {},
   "source": [
    "<a id='Weather_condition_wise_distribution_of_counts'></a>\n",
    "(v). Weather_condition_wise distribution of counts"
   ]
  },
  {
   "cell_type": "code",
   "execution_count": 16,
   "id": "a33233b3",
   "metadata": {},
   "outputs": [
    {
     "data": {
      "image/png": "[encoded data removed]",
      "text/plain": [
       "<Figure size 1152x576 with 1 Axes>"
      ]
     },
     "metadata": {},
     "output_type": "display_data"
    }
   ],
   "source": [
    "fig,ax1 = plt.subplots(figsize=(16,8))\n",
    "\n",
    "# Barplot for Weather_condition_wise distribution of counts\n",
    "ax.set_title('Weather_condition_wise distribution of counts')\n",
    "sns.barplot(ax=ax1, data = bikes_df[['month','total_count','weather_condition']], x='weather_condition',y = 'total_count')\n",
    "\n",
    "plt.show()"
   ]
  },
  {
   "cell_type": "markdown",
   "id": "effc45e0",
   "metadata": {},
   "source": [
    "From the above bar plot, we can observe that during clear, partly cloudy weather, the bike rental count is the highest, second-highest during misty cloudy weather, and followed by 3rd highest, during light snow and light rain weather\n",
    "\n",
    "<hr>\n",
    "<hr>"
   ]
  },
  {
   "cell_type": "markdown",
   "id": "c58bdfcf",
   "metadata": {},
   "source": [
    "<a id='Outlier_analysis'></a>\n",
    "### 5. Outlier analysis"
   ]
  },
  {
   "cell_type": "markdown",
   "id": "5d147be2",
   "metadata": {},
   "source": [
    "<a id='Total_count_outliers'></a>\n",
    "#### (i) Total_count_outliers"
   ]
  },
  {
   "cell_type": "code",
   "execution_count": 17,
   "id": "72c9d499",
   "metadata": {},
   "outputs": [
    {
     "data": {
      "image/png": "[encoded data removed]",
      "text/plain": [
       "<Figure size 1152x576 with 1 Axes>"
      ]
     },
     "metadata": {},
     "output_type": "display_data"
    }
   ],
   "source": [
    "fig,ax=plt.subplots(figsize=(16,8))\n",
    "#Boxplot for total_count outliers\n",
    "ax.set_title('total_count outliers')\n",
    "sns.boxplot(data=bikes_df[['total_count']])\n",
    "\n",
    "plt.show()"
   ]
  },
  {
   "cell_type": "markdown",
   "id": "fe937dbc",
   "metadata": {},
   "source": [
    "From the box plot, we can observe that no outliers are present in total_count variable.\n",
    "<hr>"
   ]
  },
  {
   "cell_type": "markdown",
   "id": "38ff1e73",
   "metadata": {},
   "source": [
    "<a id='Temp_windspeed_humidity_outliers'></a>\n",
    "#### (ii) Temp_windspeed_humidity_outliers"
   ]
  },
  {
   "cell_type": "code",
   "execution_count": 18,
   "id": "34035fa8",
   "metadata": {},
   "outputs": [
    {
     "data": {
      "image/png": "[encoded data removed]",
      "text/plain": [
       "<Figure size 1152x576 with 1 Axes>"
      ]
     },
     "metadata": {},
     "output_type": "display_data"
    }
   ],
   "source": [
    "fig,ax=plt.subplots(figsize=(16,8))\n",
    "#Box plot for Temp_windspeed_humidity_outliers\n",
    "ax.set_title('Temp_windspeed_humidity_outiers')\n",
    "sns.boxplot(data=bikes_df[['temp','windspeed','humidity']])\n",
    "\n",
    "plt.show()"
   ]
  },
  {
   "cell_type": "markdown",
   "id": "336c3ffc",
   "metadata": {},
   "source": [
    "From the box plot, we can observe that no outliers are present in normalized temp , but few outliers are present in normalized windspeed and humidity variables.\n",
    "<hr>"
   ]
  },
  {
   "cell_type": "markdown",
   "id": "99bfdc1c",
   "metadata": {},
   "source": [
    "<a id='Replace_and_impute_the_outliers'></a>\n",
    "#### (iii) Replace and impute the outliers\n",
    "\n",
    "Data imputation is the substitution of estimated values for missing or inconsistent data items (fields)."
   ]
  },
  {
   "cell_type": "code",
   "execution_count": 19,
   "id": "62bfe813",
   "metadata": {},
   "outputs": [],
   "source": [
    "#create dataframe for outliers\n",
    "wind_hum=pd.DataFrame(bikes_df,columns=['windspeed','humidity'])\n",
    " #Cnames for outliers                     \n",
    "cnames=['windspeed','humidity']       \n",
    "                      \n",
    "for i in cnames:\n",
    "    q75,q25=np.percentile(wind_hum.loc[:,i],[75,25]) # Divide data into 75%quantile and 25%quantile.\n",
    "    iqr=q75-q25 #Inter quantile range\n",
    "    max=q75+(iqr*1.5) #outer fence\n",
    "    min=q25-(iqr*1.5) #inner fence\n",
    "    wind_hum.loc[wind_hum.loc[:,i]<min,:i]=np.nan  #Replace with NA\n",
    "    wind_hum.loc[wind_hum.loc[:,i]>max,:i]=np.nan  #Replace with NA\n",
    "#Imputating the outliers by mean Imputation\n",
    "wind_hum['humidity']=wind_hum['humidity'].fillna(wind_hum['humidity'].mean())\n",
    "wind_hum['windspeed']=wind_hum['windspeed'].fillna(wind_hum['windspeed'].mean())"
   ]
  },
  {
   "cell_type": "markdown",
   "id": "d0ae05c6",
   "metadata": {},
   "source": [
    "<a id='Replace_the_original_dataset_to_imputated_data'></a>\n",
    "#### (iv) Replace the original dataset to imputated data"
   ]
  },
  {
   "cell_type": "code",
   "execution_count": 20,
   "id": "9f68110b",
   "metadata": {},
   "outputs": [
    {
     "data": {
      "text/html": [
       "<div>\n",
       "<style scoped>\n",
       "    .dataframe tbody tr th:only-of-type {\n",
       "        vertical-align: middle;\n",
       "    }\n",
       "\n",
       "    .dataframe tbody tr th {\n",
       "        vertical-align: top;\n",
       "    }\n",
       "\n",
       "    .dataframe thead th {\n",
       "        text-align: right;\n",
       "    }\n",
       "</style>\n",
       "<table border=\"1\" class=\"dataframe\">\n",
       "  <thead>\n",
       "    <tr style=\"text-align: right;\">\n",
       "      <th></th>\n",
       "      <th>rec_id</th>\n",
       "      <th>datetime</th>\n",
       "      <th>season</th>\n",
       "      <th>year</th>\n",
       "      <th>month</th>\n",
       "      <th>holiday</th>\n",
       "      <th>weekday</th>\n",
       "      <th>workingday</th>\n",
       "      <th>weather_condition</th>\n",
       "      <th>temp</th>\n",
       "      <th>atemp</th>\n",
       "      <th>humidity</th>\n",
       "      <th>windspeed</th>\n",
       "      <th>casual</th>\n",
       "      <th>registered</th>\n",
       "      <th>total_count</th>\n",
       "    </tr>\n",
       "  </thead>\n",
       "  <tbody>\n",
       "    <tr>\n",
       "      <th>0</th>\n",
       "      <td>1</td>\n",
       "      <td>2018-01-01</td>\n",
       "      <td>1</td>\n",
       "      <td>0</td>\n",
       "      <td>1</td>\n",
       "      <td>0</td>\n",
       "      <td>6</td>\n",
       "      <td>0</td>\n",
       "      <td>2</td>\n",
       "      <td>14.110847</td>\n",
       "      <td>18.18125</td>\n",
       "      <td>80.5833</td>\n",
       "      <td>10.749882</td>\n",
       "      <td>331</td>\n",
       "      <td>654</td>\n",
       "      <td>985</td>\n",
       "    </tr>\n",
       "    <tr>\n",
       "      <th>1</th>\n",
       "      <td>2</td>\n",
       "      <td>2018-02-01</td>\n",
       "      <td>1</td>\n",
       "      <td>0</td>\n",
       "      <td>1</td>\n",
       "      <td>0</td>\n",
       "      <td>0</td>\n",
       "      <td>0</td>\n",
       "      <td>2</td>\n",
       "      <td>14.902598</td>\n",
       "      <td>17.68695</td>\n",
       "      <td>69.6087</td>\n",
       "      <td>16.652113</td>\n",
       "      <td>131</td>\n",
       "      <td>670</td>\n",
       "      <td>801</td>\n",
       "    </tr>\n",
       "    <tr>\n",
       "      <th>2</th>\n",
       "      <td>3</td>\n",
       "      <td>2018-03-01</td>\n",
       "      <td>1</td>\n",
       "      <td>0</td>\n",
       "      <td>1</td>\n",
       "      <td>0</td>\n",
       "      <td>1</td>\n",
       "      <td>1</td>\n",
       "      <td>1</td>\n",
       "      <td>8.050924</td>\n",
       "      <td>9.47025</td>\n",
       "      <td>43.7273</td>\n",
       "      <td>16.636703</td>\n",
       "      <td>120</td>\n",
       "      <td>1229</td>\n",
       "      <td>1349</td>\n",
       "    </tr>\n",
       "    <tr>\n",
       "      <th>3</th>\n",
       "      <td>4</td>\n",
       "      <td>2018-04-01</td>\n",
       "      <td>1</td>\n",
       "      <td>0</td>\n",
       "      <td>1</td>\n",
       "      <td>0</td>\n",
       "      <td>2</td>\n",
       "      <td>1</td>\n",
       "      <td>1</td>\n",
       "      <td>8.200000</td>\n",
       "      <td>10.60610</td>\n",
       "      <td>59.0435</td>\n",
       "      <td>10.739832</td>\n",
       "      <td>108</td>\n",
       "      <td>1454</td>\n",
       "      <td>1562</td>\n",
       "    </tr>\n",
       "    <tr>\n",
       "      <th>4</th>\n",
       "      <td>5</td>\n",
       "      <td>2018-05-01</td>\n",
       "      <td>1</td>\n",
       "      <td>0</td>\n",
       "      <td>1</td>\n",
       "      <td>0</td>\n",
       "      <td>3</td>\n",
       "      <td>1</td>\n",
       "      <td>1</td>\n",
       "      <td>9.305237</td>\n",
       "      <td>11.46350</td>\n",
       "      <td>43.6957</td>\n",
       "      <td>12.522300</td>\n",
       "      <td>82</td>\n",
       "      <td>1518</td>\n",
       "      <td>1600</td>\n",
       "    </tr>\n",
       "  </tbody>\n",
       "</table>\n",
       "</div>"
      ],
      "text/plain": [
       "   rec_id   datetime season year month holiday weekday workingday  \\\n",
       "0       1 2018-01-01      1    0     1       0       6          0   \n",
       "1       2 2018-02-01      1    0     1       0       0          0   \n",
       "2       3 2018-03-01      1    0     1       0       1          1   \n",
       "3       4 2018-04-01      1    0     1       0       2          1   \n",
       "4       5 2018-05-01      1    0     1       0       3          1   \n",
       "\n",
       "  weather_condition       temp     atemp  humidity  windspeed  casual  \\\n",
       "0                 2  14.110847  18.18125   80.5833  10.749882     331   \n",
       "1                 2  14.902598  17.68695   69.6087  16.652113     131   \n",
       "2                 1   8.050924   9.47025   43.7273  16.636703     120   \n",
       "3                 1   8.200000  10.60610   59.0435  10.739832     108   \n",
       "4                 1   9.305237  11.46350   43.6957  12.522300      82   \n",
       "\n",
       "   registered  total_count  \n",
       "0         654          985  \n",
       "1         670          801  \n",
       "2        1229         1349  \n",
       "3        1454         1562  \n",
       "4        1518         1600  "
      ]
     },
     "execution_count": 20,
     "metadata": {},
     "output_type": "execute_result"
    }
   ],
   "source": [
    "#Replacing the imputated humidity\n",
    "bikes_df['humidity']=bikes_df['humidity'].replace(wind_hum['humidity'])\n",
    "#Replacing the imputated windspeed\n",
    "bikes_df['windspeed']=bikes_df['windspeed'].replace(wind_hum['windspeed'])\n",
    "bikes_df.head(5)"
   ]
  },
  {
   "cell_type": "markdown",
   "id": "fa937ec0",
   "metadata": {},
   "source": [
    "<a id='Normal_Probability_plot'></a>\n",
    "### 6. Normal Probability Plot\n",
    "\n",
    "Normal probability plot is a graphical technique to identify substantive departures from normality and also it tells about goodness of fit."
   ]
  },
  {
   "cell_type": "code",
   "execution_count": 23,
   "id": "acbb8c25",
   "metadata": {},
   "outputs": [
    {
     "data": {
      "image/png": "[encoded data removed]",
      "text/plain": [
       "<Figure size 1152x576 with 1 Axes>"
      ]
     },
     "metadata": {},
     "output_type": "display_data"
    }
   ],
   "source": [
    "from scipy import stats\n",
    "#Normal plot\n",
    "fig=plt.figure(figsize=(16,8))\n",
    "stats.probplot(bikes_df.total_count.tolist(),dist='norm',plot=plt)\n",
    "plt.show()"
   ]
  },
  {
   "cell_type": "markdown",
   "id": "f8b5acdc",
   "metadata": {},
   "source": [
    "In the above probability plot, some target variable data points are deviating from normality.\n",
    "<hr>"
   ]
  },
  {
   "cell_type": "markdown",
   "id": "e0f76aa9",
   "metadata": {},
   "source": [
    "<a id='Correlation_matrix'></a>\n",
    "### 7. Correlation matrix\n",
    "\n",
    "Correlation matrix tells about linear relationship between attributes and helps us to build better models.\n"
   ]
  },
  {
   "cell_type": "code",
   "execution_count": 24,
   "id": "86bd8251",
   "metadata": {},
   "outputs": [
    {
     "data": {
      "image/png": "[encoded data removed]",
      "text/plain": [
       "<Figure size 1152x576 with 2 Axes>"
      ]
     },
     "metadata": {},
     "output_type": "display_data"
    }
   ],
   "source": [
    "#Create the correlation matrix\n",
    "correMtr=bikes_df[[\"temp\",\"atemp\",\"humidity\",\"windspeed\",\"casual\",\"registered\",\"total_count\"]].corr()\n",
    "mask=np.array(correMtr)\n",
    "mask[np.tril_indices_from(mask)]=False\n",
    "#Heat map for correlation matrix of attributes\n",
    "fig,ax=plt.subplots(figsize=(16,8))\n",
    "ax.set_title('Correlation matrix of attributes')\n",
    "sns.heatmap(correMtr,mask=mask,vmax=0.8,square=True,annot=True,ax=ax)\n",
    "\n",
    "plt.show()"
   ]
  },
  {
   "cell_type": "markdown",
   "id": "4a617a60",
   "metadata": {},
   "source": [
    "From the above correlation plot, we can observe that some features are positively correlated , and some are negatively correlated to each other. The temp and atemp are highly positively correlated to each other, it means that both are carrying same information.The total_count,casual and registered are highly positively correlated to each other. So, we are going to ignore atemp,casual and registered variable for further analysis.\n",
    "<hr>\n",
    "<hr>"
   ]
  },
  {
   "cell_type": "markdown",
   "id": "b15dfc52",
   "metadata": {},
   "source": [
    "<a id='Modelling_the_dataset'></a>\n",
    "#### 8. Modelling the dataset"
   ]
  },
  {
   "cell_type": "code",
   "execution_count": 25,
   "id": "996aa951",
   "metadata": {},
   "outputs": [],
   "source": [
    "#load the required libraries\n",
    "from sklearn import preprocessing,metrics,linear_model\n",
    "from sklearn.model_selection import cross_val_score,cross_val_predict,train_test_split"
   ]
  },
  {
   "cell_type": "markdown",
   "id": "70ce3f1a",
   "metadata": {},
   "source": [
    "<a id='Split_the_dataset_into_train_and_test_in_the_ratio_of_70_30'></a>\n",
    "(i) Split the dataset into train and test in the ratio of 70:30"
   ]
  },
  {
   "cell_type": "code",
   "execution_count": 26,
   "id": "420635fb",
   "metadata": {},
   "outputs": [
    {
     "data": {
      "text/plain": [
       "(511, 14)"
      ]
     },
     "metadata": {},
     "output_type": "display_data"
    },
    {
     "data": {
      "text/plain": [
       "(219, 14)"
      ]
     },
     "metadata": {},
     "output_type": "display_data"
    },
    {
     "data": {
      "text/plain": [
       "(511, 2)"
      ]
     },
     "metadata": {},
     "output_type": "display_data"
    },
    {
     "data": {
      "text/plain": [
       "(219, 2)"
      ]
     },
     "metadata": {},
     "output_type": "display_data"
    },
    {
     "data": {
      "text/html": [
       "<div>\n",
       "<style scoped>\n",
       "    .dataframe tbody tr th:only-of-type {\n",
       "        vertical-align: middle;\n",
       "    }\n",
       "\n",
       "    .dataframe tbody tr th {\n",
       "        vertical-align: top;\n",
       "    }\n",
       "\n",
       "    .dataframe thead th {\n",
       "        text-align: right;\n",
       "    }\n",
       "</style>\n",
       "<table border=\"1\" class=\"dataframe\">\n",
       "  <thead>\n",
       "    <tr style=\"text-align: right;\">\n",
       "      <th></th>\n",
       "      <th>index</th>\n",
       "      <th>total_count</th>\n",
       "    </tr>\n",
       "  </thead>\n",
       "  <tbody>\n",
       "    <tr>\n",
       "      <th>0</th>\n",
       "      <td>683</td>\n",
       "      <td>5445</td>\n",
       "    </tr>\n",
       "    <tr>\n",
       "      <th>1</th>\n",
       "      <td>645</td>\n",
       "      <td>5478</td>\n",
       "    </tr>\n",
       "    <tr>\n",
       "      <th>2</th>\n",
       "      <td>163</td>\n",
       "      <td>5020</td>\n",
       "    </tr>\n",
       "    <tr>\n",
       "      <th>3</th>\n",
       "      <td>360</td>\n",
       "      <td>1162</td>\n",
       "    </tr>\n",
       "    <tr>\n",
       "      <th>4</th>\n",
       "      <td>640</td>\n",
       "      <td>7572</td>\n",
       "    </tr>\n",
       "  </tbody>\n",
       "</table>\n",
       "</div>"
      ],
      "text/plain": [
       "   index  total_count\n",
       "0    683         5445\n",
       "1    645         5478\n",
       "2    163         5020\n",
       "3    360         1162\n",
       "4    640         7572"
      ]
     },
     "metadata": {},
     "output_type": "display_data"
    },
    {
     "data": {
      "text/html": [
       "<div>\n",
       "<style scoped>\n",
       "    .dataframe tbody tr th:only-of-type {\n",
       "        vertical-align: middle;\n",
       "    }\n",
       "\n",
       "    .dataframe tbody tr th {\n",
       "        vertical-align: top;\n",
       "    }\n",
       "\n",
       "    .dataframe thead th {\n",
       "        text-align: right;\n",
       "    }\n",
       "</style>\n",
       "<table border=\"1\" class=\"dataframe\">\n",
       "  <thead>\n",
       "    <tr style=\"text-align: right;\">\n",
       "      <th></th>\n",
       "      <th>index</th>\n",
       "      <th>total_count</th>\n",
       "    </tr>\n",
       "  </thead>\n",
       "  <tbody>\n",
       "    <tr>\n",
       "      <th>0</th>\n",
       "      <td>468</td>\n",
       "      <td>7460</td>\n",
       "    </tr>\n",
       "    <tr>\n",
       "      <th>1</th>\n",
       "      <td>148</td>\n",
       "      <td>4788</td>\n",
       "    </tr>\n",
       "    <tr>\n",
       "      <th>2</th>\n",
       "      <td>302</td>\n",
       "      <td>3331</td>\n",
       "    </tr>\n",
       "    <tr>\n",
       "      <th>3</th>\n",
       "      <td>355</td>\n",
       "      <td>3068</td>\n",
       "    </tr>\n",
       "    <tr>\n",
       "      <th>4</th>\n",
       "      <td>515</td>\n",
       "      <td>7338</td>\n",
       "    </tr>\n",
       "  </tbody>\n",
       "</table>\n",
       "</div>"
      ],
      "text/plain": [
       "   index  total_count\n",
       "0    468         7460\n",
       "1    148         4788\n",
       "2    302         3331\n",
       "3    355         3068\n",
       "4    515         7338"
      ]
     },
     "metadata": {},
     "output_type": "display_data"
    }
   ],
   "source": [
    "#Split the dataset into the train and test data\n",
    "from sklearn.model_selection import train_test_split\n",
    "X_train,X_test,y_train,y_test=train_test_split(bikes_df.iloc[:,0:-3],bikes_df.iloc[:,-1],test_size=0.3, random_state=42)\n",
    "\n",
    "#Reset train index values\n",
    "X_train.reset_index(inplace=True)\n",
    "y_train=y_train.reset_index()\n",
    "\n",
    "# Reset train index values\n",
    "X_test.reset_index(inplace=True)\n",
    "y_test=y_test.reset_index()\n",
    "\n",
    "display(X_train.shape,X_test.shape,y_train.shape,y_test.shape)\n",
    "display(y_train.head())\n",
    "display(y_test.head())"
   ]
  },
  {
   "cell_type": "markdown",
   "id": "1eb64b53",
   "metadata": {},
   "source": [
    "<a id='Split_the_features_into_categorical_and_numerical_features'></a>\n",
    "(ii) Split the features into categorical and numerical features"
   ]
  },
  {
   "cell_type": "code",
   "execution_count": 27,
   "id": "63b30008",
   "metadata": {},
   "outputs": [],
   "source": [
    "#Create a new dataset for train attributes\n",
    "train_attributes=X_train[['season','month','year','weekday','holiday','workingday','weather_condition','humidity','temp','windspeed']]\n",
    "#Create a new dataset for test attributes\n",
    "test_attributes=X_test[['season','month','year','weekday','holiday','workingday','humidity','temp','windspeed','weather_condition']]\n",
    "#categorical attributes\n",
    "cat_attributes=['season','holiday','workingday','weather_condition','year']\n",
    "#numerical attributes\n",
    "num_attributes=['temp','windspeed','humidity','month','weekday']"
   ]
  },
  {
   "cell_type": "markdown",
   "id": "68212521",
   "metadata": {},
   "source": [
    "<a id='Decoding_the_training_attributes'></a>\n",
    "(iii) Decoding the training attributes\n"
   ]
  },
  {
   "cell_type": "code",
   "execution_count": 28,
   "id": "91fccf55",
   "metadata": {},
   "outputs": [
    {
     "name": "stdout",
     "output_type": "stream",
     "text": [
      "Shape of transfomed dataframe:: (511, 18)\n"
     ]
    },
    {
     "data": {
      "text/html": [
       "<div>\n",
       "<style scoped>\n",
       "    .dataframe tbody tr th:only-of-type {\n",
       "        vertical-align: middle;\n",
       "    }\n",
       "\n",
       "    .dataframe tbody tr th {\n",
       "        vertical-align: top;\n",
       "    }\n",
       "\n",
       "    .dataframe thead th {\n",
       "        text-align: right;\n",
       "    }\n",
       "</style>\n",
       "<table border=\"1\" class=\"dataframe\">\n",
       "  <thead>\n",
       "    <tr style=\"text-align: right;\">\n",
       "      <th></th>\n",
       "      <th>month</th>\n",
       "      <th>weekday</th>\n",
       "      <th>humidity</th>\n",
       "      <th>temp</th>\n",
       "      <th>windspeed</th>\n",
       "      <th>season_1</th>\n",
       "      <th>season_2</th>\n",
       "      <th>season_3</th>\n",
       "      <th>season_4</th>\n",
       "      <th>holiday_0</th>\n",
       "      <th>holiday_1</th>\n",
       "      <th>workingday_0</th>\n",
       "      <th>workingday_1</th>\n",
       "      <th>weather_condition_1</th>\n",
       "      <th>weather_condition_2</th>\n",
       "      <th>weather_condition_3</th>\n",
       "      <th>year_0</th>\n",
       "      <th>year_1</th>\n",
       "    </tr>\n",
       "  </thead>\n",
       "  <tbody>\n",
       "    <tr>\n",
       "      <th>0</th>\n",
       "      <td>11</td>\n",
       "      <td>4</td>\n",
       "      <td>62.0417</td>\n",
       "      <td>13.188347</td>\n",
       "      <td>10.250129</td>\n",
       "      <td>0</td>\n",
       "      <td>0</td>\n",
       "      <td>0</td>\n",
       "      <td>1</td>\n",
       "      <td>1</td>\n",
       "      <td>0</td>\n",
       "      <td>0</td>\n",
       "      <td>1</td>\n",
       "      <td>0</td>\n",
       "      <td>1</td>\n",
       "      <td>0</td>\n",
       "      <td>0</td>\n",
       "      <td>1</td>\n",
       "    </tr>\n",
       "    <tr>\n",
       "      <th>1</th>\n",
       "      <td>10</td>\n",
       "      <td>1</td>\n",
       "      <td>70.9583</td>\n",
       "      <td>15.716653</td>\n",
       "      <td>12.708493</td>\n",
       "      <td>0</td>\n",
       "      <td>0</td>\n",
       "      <td>0</td>\n",
       "      <td>1</td>\n",
       "      <td>0</td>\n",
       "      <td>1</td>\n",
       "      <td>1</td>\n",
       "      <td>0</td>\n",
       "      <td>0</td>\n",
       "      <td>1</td>\n",
       "      <td>0</td>\n",
       "      <td>0</td>\n",
       "      <td>1</td>\n",
       "    </tr>\n",
       "    <tr>\n",
       "      <th>2</th>\n",
       "      <td>6</td>\n",
       "      <td>1</td>\n",
       "      <td>49.4583</td>\n",
       "      <td>26.035000</td>\n",
       "      <td>20.458450</td>\n",
       "      <td>0</td>\n",
       "      <td>1</td>\n",
       "      <td>0</td>\n",
       "      <td>0</td>\n",
       "      <td>1</td>\n",
       "      <td>0</td>\n",
       "      <td>0</td>\n",
       "      <td>1</td>\n",
       "      <td>1</td>\n",
       "      <td>0</td>\n",
       "      <td>0</td>\n",
       "      <td>1</td>\n",
       "      <td>0</td>\n",
       "    </tr>\n",
       "    <tr>\n",
       "      <th>3</th>\n",
       "      <td>12</td>\n",
       "      <td>2</td>\n",
       "      <td>76.2500</td>\n",
       "      <td>13.325000</td>\n",
       "      <td>12.626150</td>\n",
       "      <td>1</td>\n",
       "      <td>0</td>\n",
       "      <td>0</td>\n",
       "      <td>0</td>\n",
       "      <td>1</td>\n",
       "      <td>0</td>\n",
       "      <td>0</td>\n",
       "      <td>1</td>\n",
       "      <td>0</td>\n",
       "      <td>1</td>\n",
       "      <td>0</td>\n",
       "      <td>1</td>\n",
       "      <td>0</td>\n",
       "    </tr>\n",
       "    <tr>\n",
       "      <th>4</th>\n",
       "      <td>10</td>\n",
       "      <td>3</td>\n",
       "      <td>79.3750</td>\n",
       "      <td>26.957500</td>\n",
       "      <td>4.458569</td>\n",
       "      <td>0</td>\n",
       "      <td>0</td>\n",
       "      <td>0</td>\n",
       "      <td>1</td>\n",
       "      <td>1</td>\n",
       "      <td>0</td>\n",
       "      <td>0</td>\n",
       "      <td>1</td>\n",
       "      <td>0</td>\n",
       "      <td>1</td>\n",
       "      <td>0</td>\n",
       "      <td>0</td>\n",
       "      <td>1</td>\n",
       "    </tr>\n",
       "  </tbody>\n",
       "</table>\n",
       "</div>"
      ],
      "text/plain": [
       "  month weekday  humidity       temp  windspeed  season_1  season_2  season_3  \\\n",
       "0    11       4   62.0417  13.188347  10.250129         0         0         0   \n",
       "1    10       1   70.9583  15.716653  12.708493         0         0         0   \n",
       "2     6       1   49.4583  26.035000  20.458450         0         1         0   \n",
       "3    12       2   76.2500  13.325000  12.626150         1         0         0   \n",
       "4    10       3   79.3750  26.957500   4.458569         0         0         0   \n",
       "\n",
       "   season_4  holiday_0  holiday_1  workingday_0  workingday_1  \\\n",
       "0         1          1          0             0             1   \n",
       "1         1          0          1             1             0   \n",
       "2         0          1          0             0             1   \n",
       "3         0          1          0             0             1   \n",
       "4         1          1          0             0             1   \n",
       "\n",
       "   weather_condition_1  weather_condition_2  weather_condition_3  year_0  \\\n",
       "0                    0                    1                    0       0   \n",
       "1                    0                    1                    0       0   \n",
       "2                    1                    0                    0       1   \n",
       "3                    0                    1                    0       1   \n",
       "4                    0                    1                    0       0   \n",
       "\n",
       "   year_1  \n",
       "0       1  \n",
       "1       1  \n",
       "2       0  \n",
       "3       0  \n",
       "4       1  "
      ]
     },
     "execution_count": 28,
     "metadata": {},
     "output_type": "execute_result"
    }
   ],
   "source": [
    "#To get dummy variables to encode the categorical features to numeric. \n",
    "# A dummy variable is a binary variable that takes a value of 0 or 1. \n",
    "# One adds such variables to a regression model to represent factors which are of a binary nature \n",
    "# i.e. they are either observed or not observed.\n",
    "\n",
    "train_encoded_attributes=pd.get_dummies(train_attributes,columns=cat_attributes)\n",
    "print('Shape of transfomed dataframe::',train_encoded_attributes.shape)\n",
    "train_encoded_attributes.head(5)"
   ]
  },
  {
   "cell_type": "markdown",
   "id": "e3d8c52b",
   "metadata": {},
   "source": [
    "<a id='Models_covered'></a>\n",
    "### 9. Models covered in this assignment:\n",
    "(i) Linear Regression model<br>\n",
    "<hr>"
   ]
  },
  {
   "cell_type": "markdown",
   "id": "a7546497",
   "metadata": {},
   "source": [
    "<a id='Linear_Regression_model'></a>\n",
    "### 10. Linear Regression model"
   ]
  },
  {
   "cell_type": "markdown",
   "id": "612a7152",
   "metadata": {},
   "source": [
    "<a id='Training_model'></a>\n",
    "<u>Training dataset</u>"
   ]
  },
  {
   "cell_type": "code",
   "execution_count": 29,
   "id": "fc6e2e45",
   "metadata": {},
   "outputs": [],
   "source": [
    "#Training dataset for modelling\n",
    "X_train=train_encoded_attributes\n",
    "y_train=y_train.total_count.values"
   ]
  },
  {
   "cell_type": "markdown",
   "id": "7a8cfb2d",
   "metadata": {},
   "source": [
    "<a id='Fit_the_training_model'></a>\n",
    "(i) Fit the training model"
   ]
  },
  {
   "cell_type": "code",
   "execution_count": 30,
   "id": "4cdc691d",
   "metadata": {},
   "outputs": [
    {
     "data": {
      "text/html": [
       "<style>#sk-container-id-1 {color: black;background-color: white;}#sk-container-id-1 pre{padding: 0;}#sk-container-id-1 div.sk-toggleable {background-color: white;}#sk-container-id-1 label.sk-toggleable__label {cursor: pointer;display: block;width: 100%;margin-bottom: 0;padding: 0.3em;box-sizing: border-box;text-align: center;}#sk-container-id-1 label.sk-toggleable__label-arrow:before {content: \"▸\";float: left;margin-right: 0.25em;color: #696969;}#sk-container-id-1 label.sk-toggleable__label-arrow:hover:before {color: black;}#sk-container-id-1 div.sk-estimator:hover label.sk-toggleable__label-arrow:before {color: black;}#sk-container-id-1 div.sk-toggleable__content {max-height: 0;max-width: 0;overflow: hidden;text-align: left;background-color: #f0f8ff;}#sk-container-id-1 div.sk-toggleable__content pre {margin: 0.2em;color: black;border-radius: 0.25em;background-color: #f0f8ff;}#sk-container-id-1 input.sk-toggleable__control:checked~div.sk-toggleable__content {max-height: 200px;max-width: 100%;overflow: auto;}#sk-container-id-1 input.sk-toggleable__control:checked~label.sk-toggleable__label-arrow:before {content: \"▾\";}#sk-container-id-1 div.sk-estimator input.sk-toggleable__control:checked~label.sk-toggleable__label {background-color: #d4ebff;}#sk-container-id-1 div.sk-label input.sk-toggleable__control:checked~label.sk-toggleable__label {background-color: #d4ebff;}#sk-container-id-1 input.sk-hidden--visually {border: 0;clip: rect(1px 1px 1px 1px);clip: rect(1px, 1px, 1px, 1px);height: 1px;margin: -1px;overflow: hidden;padding: 0;position: absolute;width: 1px;}#sk-container-id-1 div.sk-estimator {font-family: monospace;background-color: #f0f8ff;border: 1px dotted black;border-radius: 0.25em;box-sizing: border-box;margin-bottom: 0.5em;}#sk-container-id-1 div.sk-estimator:hover {background-color: #d4ebff;}#sk-container-id-1 div.sk-parallel-item::after {content: \"\";width: 100%;border-bottom: 1px solid gray;flex-grow: 1;}#sk-container-id-1 div.sk-label:hover label.sk-toggleable__label {background-color: #d4ebff;}#sk-container-id-1 div.sk-serial::before {content: \"\";position: absolute;border-left: 1px solid gray;box-sizing: border-box;top: 0;bottom: 0;left: 50%;z-index: 0;}#sk-container-id-1 div.sk-serial {display: flex;flex-direction: column;align-items: center;background-color: white;padding-right: 0.2em;padding-left: 0.2em;position: relative;}#sk-container-id-1 div.sk-item {position: relative;z-index: 1;}#sk-container-id-1 div.sk-parallel {display: flex;align-items: stretch;justify-content: center;background-color: white;position: relative;}#sk-container-id-1 div.sk-item::before, #sk-container-id-1 div.sk-parallel-item::before {content: \"\";position: absolute;border-left: 1px solid gray;box-sizing: border-box;top: 0;bottom: 0;left: 50%;z-index: -1;}#sk-container-id-1 div.sk-parallel-item {display: flex;flex-direction: column;z-index: 1;position: relative;background-color: white;}#sk-container-id-1 div.sk-parallel-item:first-child::after {align-self: flex-end;width: 50%;}#sk-container-id-1 div.sk-parallel-item:last-child::after {align-self: flex-start;width: 50%;}#sk-container-id-1 div.sk-parallel-item:only-child::after {width: 0;}#sk-container-id-1 div.sk-dashed-wrapped {border: 1px dashed gray;margin: 0 0.4em 0.5em 0.4em;box-sizing: border-box;padding-bottom: 0.4em;background-color: white;}#sk-container-id-1 div.sk-label label {font-family: monospace;font-weight: bold;display: inline-block;line-height: 1.2em;}#sk-container-id-1 div.sk-label-container {text-align: center;}#sk-container-id-1 div.sk-container {/* jupyter's `normalize.less` sets `[hidden] { display: none; }` but bootstrap.min.css set `[hidden] { display: none !important; }` so we also need the `!important` here to be able to override the default hidden behavior on the sphinx rendered scikit-learn.org. See: https://github.com/scikit-learn/scikit-learn/issues/21755 */display: inline-block !important;position: relative;}#sk-container-id-1 div.sk-text-repr-fallback {display: none;}</style><div id=\"sk-container-id-1\" class=\"sk-top-container\"><div class=\"sk-text-repr-fallback\"><pre>LinearRegression()</pre><b>In a Jupyter environment, please rerun this cell to show the HTML representation or trust the notebook. <br />On GitHub, the HTML representation is unable to render, please try loading this page with nbviewer.org.</b></div><div class=\"sk-container\" hidden><div class=\"sk-item\"><div class=\"sk-estimator sk-toggleable\"><input class=\"sk-toggleable__control sk-hidden--visually\" id=\"sk-estimator-id-1\" type=\"checkbox\" checked><label for=\"sk-estimator-id-1\" class=\"sk-toggleable__label sk-toggleable__label-arrow\">LinearRegression</label><div class=\"sk-toggleable__content\"><pre>LinearRegression()</pre></div></div></div></div></div>"
      ],
      "text/plain": [
       "LinearRegression()"
      ]
     },
     "execution_count": 30,
     "metadata": {},
     "output_type": "execute_result"
    }
   ],
   "source": [
    "#fit the trained model\n",
    "lr_model=linear_model.LinearRegression()\n",
    "lr_model\n",
    "lr_model.fit(X_train,y_train)\n",
    "lr_model"
   ]
  },
  {
   "cell_type": "markdown",
   "id": "b56797fb",
   "metadata": {},
   "source": [
    "<a id='Accuracy_of_model'></a>\n",
    "(ii) Accuracy of the model"
   ]
  },
  {
   "cell_type": "code",
   "execution_count": 31,
   "id": "fbfba9b7",
   "metadata": {},
   "outputs": [
    {
     "name": "stdout",
     "output_type": "stream",
     "text": [
      "Accuracy of the model : 0.8235146581358161\n",
      "Model coefficients : [  -34.97049205    60.43458209    -8.71287554   121.73963622\n",
      "   -37.09175176 -1067.52997878   220.84667408    11.86386013\n",
      "   834.81944457   241.59235767  -241.59235767   -74.74603934\n",
      "    74.74603934   802.85526546   297.38891277 -1100.24417823\n",
      "  -991.82798863   991.82798863]\n",
      "Model intercept value : 2232.8811280208724\n"
     ]
    }
   ],
   "source": [
    "#Accuracy of the model\n",
    "lr=lr_model.score(X_train,y_train)\n",
    "print('Accuracy of the model :',lr)\n",
    "print('Model coefficients :',lr_model.coef_)\n",
    "print('Model intercept value :',lr_model.intercept_)"
   ]
  },
  {
   "cell_type": "markdown",
   "id": "adbb88b3",
   "metadata": {},
   "source": [
    "<a id='Cross_validation_prediction'></a>\n",
    "(iii) Cross validation prediction"
   ]
  },
  {
   "cell_type": "code",
   "execution_count": 32,
   "id": "09af6d83",
   "metadata": {},
   "outputs": [
    {
     "data": {
      "text/plain": [
       "array([ 5127.33627997,  4228.60957556,  4358.97511059,   951.82647252,\n",
       "        6738.15993482,  5192.07541405,  5611.36685645,  4061.08303567,\n",
       "        3410.02275908,  5435.02694728,  2998.54995338,  4319.70818682,\n",
       "        5873.19497686,  4220.77446392,  6354.9734542 ,  7379.33197622,\n",
       "        3312.98456935,   758.72590423,   572.30034427,  6663.03041178,\n",
       "        7159.32121163,  4060.47042157,  5665.8336118 ,  6170.65459025,\n",
       "        6332.34246093,  3520.52548661,  5126.90534824,  4870.44579026,\n",
       "        1655.0133012 ,  1645.21643783,  1712.0629697 ,  1232.18698491,\n",
       "        4892.45046667,  6325.65821334,  5980.80389078,  1985.70727338,\n",
       "        1049.51602595,  1332.99158628,  5015.69407378,  6112.63928038,\n",
       "        6335.22660425,  4116.81942975,  6443.74808089,  7281.74283424,\n",
       "        3404.72966034,  6330.99960979,  1391.18793197,  5357.10648469,\n",
       "        4585.61000719,  4093.39292219,  3357.7276068 ,  2904.09914501,\n",
       "        4746.16332281,  6777.46256957,  5969.99397983,  2331.83970277,\n",
       "        1033.81452569,  1997.42418082,   660.0936024 ,  5182.13710778,\n",
       "        5315.67256734,  4919.78697647,  6029.91589637,  5993.77401582,\n",
       "        5962.17541948,  6250.24914059,  4002.63442093,  4279.03836151,\n",
       "        6138.87844951,  5967.19041044,  2104.48206919,  3514.83672045,\n",
       "        6703.06593949,  4126.9624103 ,  4797.139616  ,  2423.00626711,\n",
       "        7167.4068512 ,  4622.01240567,  -167.06040833,  3721.27239028,\n",
       "        4223.02995216,  5073.73479474,  4019.12717535,  2562.55810713,\n",
       "        6290.16887599,  3801.6420288 ,  4072.77448822,  6799.27394456,\n",
       "        4498.94908673,  3994.60291976,  1642.70665359,  3268.93500386,\n",
       "        5882.85315703,  6639.52174085,  6238.55453455,  4590.76337422,\n",
       "        3660.67727007,  4982.78159903,  3535.00938429,  1589.97742497,\n",
       "        2726.40571331,  3823.03586616,  5681.46279182,  4825.25692754,\n",
       "        3405.42155338,  3713.91020887,  6478.59100072,  6984.89570763,\n",
       "        4436.21807295,  6215.16716734,  3349.094124  ,  3918.01212981,\n",
       "        1948.3988959 ,  3317.59298317,  4786.28437386,  2554.79671037,\n",
       "        5716.45703886,  4074.23337858,  1591.42497316,  7399.08004249,\n",
       "        6392.0690044 ,  3447.37300114,  4233.62524623,  5725.92318036,\n",
       "        6713.15299735,  3614.53857474,  4876.4393299 ,  3918.45983079,\n",
       "        1862.09235114,  3680.47767487,  6118.29301754,  4218.35984043,\n",
       "        3828.60170319,  6758.96320543,  6996.7449633 ,  5067.95079983,\n",
       "        4149.81370588,  6461.56690587,  5900.83056264,  2969.98117238,\n",
       "        3991.45514618,  3599.83138134,  3446.7363108 ,  5408.32526549,\n",
       "        3690.05067861,  4276.03197957,  4051.77738725,  2941.73771605,\n",
       "        1229.59232485,  4934.15073842,  6392.14901514,  4086.51410411,\n",
       "        6338.74292856,  1186.30370805,  3966.36775838,  1391.81677537,\n",
       "       -1117.41575273,  7293.63911047,  4271.70707077,  1105.02596221,\n",
       "        5912.98191469,  4725.43855902,  3786.52361671,  6631.67174258,\n",
       "        4867.93365809,  5113.22043022,  4454.77807846,  6355.26731367,\n",
       "        3057.44488303,  4632.1638106 ,  3480.69973824,  4182.60088121,\n",
       "        4305.80021449,   958.29716429,  5847.47593698,  1785.74109785,\n",
       "        5938.77236419,  5182.65567247,  4905.53006978,   870.59826153,\n",
       "        5453.12505217,  3627.28602614,  4468.54028821,  5309.93616088,\n",
       "        5147.47687161,  4570.49807854,  5409.013145  ,  5227.92604018,\n",
       "        3762.29613598,  2598.57471972,  5084.30775727,   766.99778501,\n",
       "        5974.70533909,  7667.78359063,  6202.65280897,  5203.39103222,\n",
       "        6431.00135862,  5702.22965224,  1962.32803675,  5345.34504894,\n",
       "        1684.56532259,  6543.65202274,  7620.20446305,  4083.37809039,\n",
       "         288.66953419,  2960.04629567,  5321.82537316,  4868.59010515,\n",
       "        1519.42462796,  6916.09074508,  5195.53451347,  3624.28508216,\n",
       "        5085.63967126,  4261.68997707,  4052.33948225,  4414.27947058,\n",
       "        6498.92867771,  3347.05197924,  1669.54175165,  7453.53448851,\n",
       "        3949.62458066,  5498.8212648 ,  1444.41780525,  1864.73870565,\n",
       "        4709.21591889,  1947.80685754,  5046.34054304,  5061.6321225 ,\n",
       "         918.73009056,  3897.77682643,  4386.22035436,  4862.83119294,\n",
       "        4780.61965009,  6469.05138105,  4106.01473217,  6997.11811653,\n",
       "        4762.49402489,  6749.61225685,  6073.3248196 ,  5851.66723689,\n",
       "        6075.9570876 ,  6068.83756912,  5566.98724073,  7295.13478922,\n",
       "        6287.1741512 ,  1105.63906518,  7482.74508987,  5089.15764993,\n",
       "        5978.52904993,  6806.64985529,  4454.12751089,  3475.24364731,\n",
       "        5130.39951561,  6421.96507982,  3685.74527328,  3528.21163549,\n",
       "        6650.44982043,  5985.78889286,  5203.40059989,  6580.0968391 ,\n",
       "        6289.31272514,  2852.8213495 ,  4306.11110607,  7162.5044872 ,\n",
       "        6534.56198625,  4414.44845268,  3374.81733737,  3795.33128705,\n",
       "        6868.13679808,  7666.32615758,  1482.93407919,  4206.47240913,\n",
       "        2086.98379183,  5933.61853706,  3929.02495692,  2025.96862174,\n",
       "        4752.86363029,  3279.58137584,  6218.9899859 ,  5388.17259475,\n",
       "        6853.30076652,  7151.15313601,  2762.92302553,  5778.22548363,\n",
       "         342.06723781,  6596.6867818 ,  6812.94160616,  1527.06743023,\n",
       "        6056.55113337,  4542.09655774,  4120.53172922,  3833.85961903,\n",
       "        7435.86114468,  7843.11856528,  6929.14395899,  5695.9911455 ,\n",
       "        3407.02779791,  4422.36825388,  2737.09331477,  5591.69167672,\n",
       "        7216.9070792 ,  6624.04765608,  6845.74551216,  4537.25079613,\n",
       "        4944.09984512,  7029.35191127,  4806.66665165,  7210.88781893,\n",
       "        3446.76272193,  5805.46893107,  2154.07190305,  4877.67728359,\n",
       "        2709.25741816,  6685.09135479,  4165.28560183,  4673.33157794,\n",
       "        4224.17542882,  5180.23150298,  4300.16125218,  2725.02969211,\n",
       "        3596.73110091,  3692.95337318,  5835.86998881,  5314.71501838,\n",
       "        4078.04645013,  3161.78642828,  6085.29112937,  4588.66058953,\n",
       "        4352.87679458,  5727.19834231,  6103.09393061,  4948.49475789,\n",
       "        6388.68723263,  6188.30015283,  4756.62419968,  6100.96654085,\n",
       "        2090.67515229,  5305.86569068,  7148.71286468,  4419.20803726,\n",
       "        3653.88341725,  6602.00782247,  3031.62693688,  4620.49561336,\n",
       "        6991.6821963 ,  3110.26532001,  4518.77941925,  6884.66166999,\n",
       "        4324.03621584,  4242.61212216,  6115.02131614,  1190.93252679,\n",
       "        3164.31974005,  4518.33314965,  3804.4907271 ,  3316.62924633,\n",
       "        4044.9184343 ,  4958.62552919,  5810.20505947,  5456.39318877,\n",
       "        3276.01936224,  5705.30860919,  5163.57656083,  5385.64681092,\n",
       "        6413.99360876,  6120.31229074,  5590.19058303,  6922.95607008,\n",
       "        6878.11593774,  2156.15570629,  4799.55096258,  5388.16969898,\n",
       "        7349.5725485 ,   877.4620782 ,  6624.54035459,  4156.54160773,\n",
       "        5474.81630155,  5905.45363469,  5571.41724236,  3424.53421305,\n",
       "        7423.92342627,  4461.55621059,  6652.88283497,  5520.37720459,\n",
       "        7354.32271953,  5132.39601371,  5186.68359994,  4001.04562825,\n",
       "        3955.89110223,  5894.70915919,  4149.78307012,  1730.03782494,\n",
       "        6106.22189516,  6776.64961323,  7261.06967759,  2639.13422292,\n",
       "        7120.08957524,  1306.28242374,  6631.27732707,  2706.01967274,\n",
       "         923.84529649,  5275.32284768,  3520.09512083,  1061.72558393,\n",
       "        7008.83229889,  4321.95420816,  6135.67492676,  3393.64707195,\n",
       "        4228.81587276,  4815.88560985,  3734.99907158,  7062.97502755,\n",
       "        5638.01631726,  3789.52580507,  1267.89164731,  6569.89733944,\n",
       "        4188.93313982,  4873.29464048,  5624.67458163,   918.83743107,\n",
       "        1294.94133866,  5198.56642494,  1197.72748054,  5610.11927904,\n",
       "        2957.65180948,  5153.28844278,  4898.80762641,  1266.13873406,\n",
       "        3402.39110427,  3962.5899255 ,  3979.31950139,  5775.30467751,\n",
       "        4888.73485501,  2817.69410884,  4752.31923856,  4852.1539626 ,\n",
       "        5254.97606955,  6408.84501201,  3793.69244149,  2835.49887873,\n",
       "        1267.66372774,  5936.9187655 ,  3937.13640862,  1371.13563803,\n",
       "        5644.81023091,  7056.39353374,  3655.78854163,  5071.88387388,\n",
       "        1236.54849172,  6830.14584284,  3560.99825338,  4911.97210329,\n",
       "        2976.0189418 ,  2527.11142228,  2022.67681972,  7248.48163197,\n",
       "        3219.81248622,  4605.5577167 ,  1510.15587713,  3701.00287055,\n",
       "        6632.00413667,  2868.06074844,  3191.32656805,  4166.25408979,\n",
       "        2329.34624666,  5569.93669621,  5275.66497616,  5432.30202715,\n",
       "        6306.72881011,  4615.36747598,  4090.68000324,  7637.83832313,\n",
       "        5181.70109861,  5018.00357099,  6103.76295602,  4686.06153392,\n",
       "        6897.14678237,  1496.07683935,  6283.70603593,  6711.9193622 ,\n",
       "        4454.69158617,   832.72745084,  3251.07361624,  5852.43981044,\n",
       "        5595.97121376,  4448.85393162,  4814.2017782 ,  2479.83460104,\n",
       "        4188.18477327,  5507.67379298,  3207.34091497,  3623.03143371,\n",
       "        7239.10126271,  4420.22471903,  6331.65269894,  2840.9259566 ,\n",
       "        3993.56366187,  3164.17910147,  6404.39299596,  3900.18394174,\n",
       "        4561.66469503,  5395.56933162,  3736.39578805,  6719.05509274,\n",
       "        1117.7914656 ,  4843.71799045,  1970.58295838,  3416.65114046,\n",
       "        4740.80153537,  4742.6403375 ,  2803.83109062])"
      ]
     },
     "execution_count": 32,
     "metadata": {},
     "output_type": "execute_result"
    }
   ],
   "source": [
    "#Cross validation prediction\n",
    "predict=cross_val_predict(lr_model,X_train,y_train,cv=3)\n",
    "predict"
   ]
  },
  {
   "cell_type": "markdown",
   "id": "e6f4e6a7",
   "metadata": {},
   "source": [
    "<a id='Cross_validation_prediction_plot'></a>\n",
    "(iv) Cross validation prediction plot"
   ]
  },
  {
   "cell_type": "code",
   "execution_count": 33,
   "id": "2d293d59",
   "metadata": {},
   "outputs": [
    {
     "data": {
      "image/png": "[encoded data removed]",
      "text/plain": [
       "<Figure size 1152x576 with 1 Axes>"
      ]
     },
     "metadata": {},
     "output_type": "display_data"
    }
   ],
   "source": [
    "#Cross validation plot\n",
    "fig,ax=plt.subplots(figsize=(16,8))\n",
    "ax.set_title('Cross validation prediction plot')\n",
    "ax.set_xlabel('Observed')\n",
    "ax.set_ylabel('Residual')\n",
    "ax.scatter(y_train,y_train-predict)\n",
    "ax.axhline(lw=2,color='red')\n",
    "\n",
    "plt.show()"
   ]
  },
  {
   "cell_type": "markdown",
   "id": "e5563a7a",
   "metadata": {},
   "source": [
    "Cross validation prediction plot tells about finite variance between actual target value and predicted target value. In this plot, some data points have same finite variance between them,  and some are not having it."
   ]
  },
  {
   "cell_type": "markdown",
   "id": "5f31ec89",
   "metadata": {},
   "source": [
    "<a id='Model_evalution_metrics'></a>\n",
    "(v) Model evalution metrics\n",
    "\n",
    "<a id='R_squared_and_mean_squared_error_score'></a>\n",
    "(a) R-squared and mean squared error score"
   ]
  },
  {
   "cell_type": "code",
   "execution_count": 34,
   "id": "ce999fbb",
   "metadata": {},
   "outputs": [
    {
     "name": "stdout",
     "output_type": "stream",
     "text": [
      "R-squared scores : 0.8113458473924906\n"
     ]
    }
   ],
   "source": [
    "#R-squared scores\n",
    "r2_scores = cross_val_score(lr_model, X_train, y_train, cv=3)\n",
    "print('R-squared scores :',np.average(r2_scores))"
   ]
  },
  {
   "cell_type": "markdown",
   "id": "74aae792",
   "metadata": {},
   "source": [
    "The R-squared or coefficient of determination is 0.81 on average , it means that predictor is only able to predict 81% of the variance in the target variable which is contributed by independent variables."
   ]
  },
  {
   "cell_type": "markdown",
   "id": "97a6e67c",
   "metadata": {},
   "source": [
    "<a id='Testing_model'></a>\n",
    "<u> Testing model</u>\n",
    "\n",
    "<a id='Decoding_the_test_attributes'></a>\n",
    "(vii) Decoding the test attributes"
   ]
  },
  {
   "cell_type": "code",
   "execution_count": 35,
   "id": "e561fbf5",
   "metadata": {},
   "outputs": [
    {
     "name": "stdout",
     "output_type": "stream",
     "text": [
      "Shape of transformed dataframe : (219, 18)\n"
     ]
    },
    {
     "data": {
      "text/html": [
       "<div>\n",
       "<style scoped>\n",
       "    .dataframe tbody tr th:only-of-type {\n",
       "        vertical-align: middle;\n",
       "    }\n",
       "\n",
       "    .dataframe tbody tr th {\n",
       "        vertical-align: top;\n",
       "    }\n",
       "\n",
       "    .dataframe thead th {\n",
       "        text-align: right;\n",
       "    }\n",
       "</style>\n",
       "<table border=\"1\" class=\"dataframe\">\n",
       "  <thead>\n",
       "    <tr style=\"text-align: right;\">\n",
       "      <th></th>\n",
       "      <th>month</th>\n",
       "      <th>weekday</th>\n",
       "      <th>humidity</th>\n",
       "      <th>temp</th>\n",
       "      <th>windspeed</th>\n",
       "      <th>season_1</th>\n",
       "      <th>season_2</th>\n",
       "      <th>season_3</th>\n",
       "      <th>season_4</th>\n",
       "      <th>holiday_0</th>\n",
       "      <th>holiday_1</th>\n",
       "      <th>workingday_0</th>\n",
       "      <th>workingday_1</th>\n",
       "      <th>weather_condition_1</th>\n",
       "      <th>weather_condition_2</th>\n",
       "      <th>weather_condition_3</th>\n",
       "      <th>year_0</th>\n",
       "      <th>year_1</th>\n",
       "    </tr>\n",
       "  </thead>\n",
       "  <tbody>\n",
       "    <tr>\n",
       "      <th>0</th>\n",
       "      <td>4</td>\n",
       "      <td>6</td>\n",
       "      <td>50.2917</td>\n",
       "      <td>20.295000</td>\n",
       "      <td>12.791439</td>\n",
       "      <td>0</td>\n",
       "      <td>1</td>\n",
       "      <td>0</td>\n",
       "      <td>0</td>\n",
       "      <td>1</td>\n",
       "      <td>0</td>\n",
       "      <td>1</td>\n",
       "      <td>0</td>\n",
       "      <td>1</td>\n",
       "      <td>0</td>\n",
       "      <td>0</td>\n",
       "      <td>0</td>\n",
       "      <td>1</td>\n",
       "    </tr>\n",
       "    <tr>\n",
       "      <th>1</th>\n",
       "      <td>5</td>\n",
       "      <td>0</td>\n",
       "      <td>81.8750</td>\n",
       "      <td>27.367500</td>\n",
       "      <td>14.333846</td>\n",
       "      <td>0</td>\n",
       "      <td>1</td>\n",
       "      <td>0</td>\n",
       "      <td>0</td>\n",
       "      <td>1</td>\n",
       "      <td>0</td>\n",
       "      <td>1</td>\n",
       "      <td>0</td>\n",
       "      <td>1</td>\n",
       "      <td>0</td>\n",
       "      <td>0</td>\n",
       "      <td>1</td>\n",
       "      <td>0</td>\n",
       "    </tr>\n",
       "    <tr>\n",
       "      <th>2</th>\n",
       "      <td>10</td>\n",
       "      <td>0</td>\n",
       "      <td>62.3750</td>\n",
       "      <td>13.085847</td>\n",
       "      <td>11.833339</td>\n",
       "      <td>0</td>\n",
       "      <td>0</td>\n",
       "      <td>0</td>\n",
       "      <td>1</td>\n",
       "      <td>1</td>\n",
       "      <td>0</td>\n",
       "      <td>1</td>\n",
       "      <td>0</td>\n",
       "      <td>1</td>\n",
       "      <td>0</td>\n",
       "      <td>0</td>\n",
       "      <td>1</td>\n",
       "      <td>0</td>\n",
       "    </tr>\n",
       "    <tr>\n",
       "      <th>3</th>\n",
       "      <td>12</td>\n",
       "      <td>4</td>\n",
       "      <td>75.7500</td>\n",
       "      <td>17.356653</td>\n",
       "      <td>3.167425</td>\n",
       "      <td>1</td>\n",
       "      <td>0</td>\n",
       "      <td>0</td>\n",
       "      <td>0</td>\n",
       "      <td>1</td>\n",
       "      <td>0</td>\n",
       "      <td>0</td>\n",
       "      <td>1</td>\n",
       "      <td>0</td>\n",
       "      <td>1</td>\n",
       "      <td>0</td>\n",
       "      <td>1</td>\n",
       "      <td>0</td>\n",
       "    </tr>\n",
       "    <tr>\n",
       "      <th>4</th>\n",
       "      <td>5</td>\n",
       "      <td>4</td>\n",
       "      <td>49.2917</td>\n",
       "      <td>27.880000</td>\n",
       "      <td>13.083693</td>\n",
       "      <td>0</td>\n",
       "      <td>1</td>\n",
       "      <td>0</td>\n",
       "      <td>0</td>\n",
       "      <td>1</td>\n",
       "      <td>0</td>\n",
       "      <td>0</td>\n",
       "      <td>1</td>\n",
       "      <td>1</td>\n",
       "      <td>0</td>\n",
       "      <td>0</td>\n",
       "      <td>0</td>\n",
       "      <td>1</td>\n",
       "    </tr>\n",
       "  </tbody>\n",
       "</table>\n",
       "</div>"
      ],
      "text/plain": [
       "  month weekday  humidity       temp  windspeed  season_1  season_2  season_3  \\\n",
       "0     4       6   50.2917  20.295000  12.791439         0         1         0   \n",
       "1     5       0   81.8750  27.367500  14.333846         0         1         0   \n",
       "2    10       0   62.3750  13.085847  11.833339         0         0         0   \n",
       "3    12       4   75.7500  17.356653   3.167425         1         0         0   \n",
       "4     5       4   49.2917  27.880000  13.083693         0         1         0   \n",
       "\n",
       "   season_4  holiday_0  holiday_1  workingday_0  workingday_1  \\\n",
       "0         0          1          0             1             0   \n",
       "1         0          1          0             1             0   \n",
       "2         1          1          0             1             0   \n",
       "3         0          1          0             0             1   \n",
       "4         0          1          0             0             1   \n",
       "\n",
       "   weather_condition_1  weather_condition_2  weather_condition_3  year_0  \\\n",
       "0                    1                    0                    0       0   \n",
       "1                    1                    0                    0       1   \n",
       "2                    1                    0                    0       1   \n",
       "3                    0                    1                    0       1   \n",
       "4                    1                    0                    0       0   \n",
       "\n",
       "   year_1  \n",
       "0       1  \n",
       "1       0  \n",
       "2       0  \n",
       "3       0  \n",
       "4       1  "
      ]
     },
     "execution_count": 35,
     "metadata": {},
     "output_type": "execute_result"
    }
   ],
   "source": [
    "#To get dummy variables to encode the categorical features to numeric\n",
    "test_encoded_attributes=pd.get_dummies(test_attributes,columns=cat_attributes)\n",
    "print('Shape of transformed dataframe :',test_encoded_attributes.shape)\n",
    "test_encoded_attributes.head(5)"
   ]
  },
  {
   "cell_type": "code",
   "execution_count": 36,
   "id": "fdfe4e0a",
   "metadata": {},
   "outputs": [],
   "source": [
    "#Test dataset for prediction\n",
    "X_test=test_encoded_attributes\n",
    "y_test=y_test.total_count.values"
   ]
  },
  {
   "cell_type": "markdown",
   "id": "c6d38995",
   "metadata": {},
   "source": [
    "<a id='Model_performance_on_test_dataset'></a>\n",
    "(viii) Model performance on test dataset (Predict the model)"
   ]
  },
  {
   "cell_type": "code",
   "execution_count": 37,
   "id": "f42445eb",
   "metadata": {
    "scrolled": true
   },
   "outputs": [
    {
     "data": {
      "text/plain": [
       "array([6196.04661286, 4343.42428846, 3306.55061595, 1944.84985206,\n",
       "       7110.96683875, 4669.77352708, 2098.22996151, 2570.11892772,\n",
       "       3574.40348857, 3717.4014786 , 3014.66899407, 5045.86762577,\n",
       "       1768.93908372, 3953.24671072, 5220.27615663, 3065.42472795,\n",
       "       5776.45313988, 1325.95033476, 6088.43218144, 4294.11754971,\n",
       "       3518.06685534, 4063.52153021, 4509.91665186, 5761.01268669,\n",
       "       5233.52337804, 5208.93764229, 3727.80142777,  670.96798767,\n",
       "       4939.9021794 , 1842.30786884, 3490.91253839, 3121.85019543,\n",
       "       1204.59548476, 1226.01002727, 5425.0809158 , 5227.27610161,\n",
       "       3221.1766013 , 3237.61334338,  815.60086314, 6746.23076099,\n",
       "       1759.20738765, 5799.82964097, 5027.71078114, 6260.88717647,\n",
       "       4740.34706134, 3447.80101989, 6296.38204948, 4985.5534277 ,\n",
       "       4478.33471489, 6718.80789438, 3858.79799517, 4456.01833916,\n",
       "       5853.88874918, 5474.62296493, 5491.10141876, 6916.25728827,\n",
       "       3684.66222042, 6280.56707085, 4222.51238553, 5306.3339384 ,\n",
       "       2999.93075787, 5183.49794576, 4039.16767058, 4620.09448554,\n",
       "       3506.65327613, 2679.54074321, 1499.42885387, 5969.91435377,\n",
       "       2514.00912432, 2003.41343097, 6317.31680298, 5441.55646807,\n",
       "       2288.6551744 , 2621.44695406, 6923.84211855, 3620.78271756,\n",
       "        982.37309842, 5256.26887484, 2882.80758094, 4672.4670298 ,\n",
       "       6542.3278363 , 3633.2434609 , 2633.5794215 , 4083.9243772 ,\n",
       "       4675.50895885, 3212.64480086, 6599.15354986, 3077.40061498,\n",
       "        724.07128248, 6825.89314381, 5896.98798025, 4737.84877408,\n",
       "       3572.76004591, 4170.08432253, 4852.22933516, 3360.299427  ,\n",
       "       6550.31770804, 6638.11428441, 5542.98540138, 3151.90871447,\n",
       "       2819.44332879, 6449.4453748 , 4211.01249522, 3191.6307745 ,\n",
       "       3065.39362323,  942.34975038, 4003.26240463, 1342.91786339,\n",
       "       5597.58185848, 4285.95274233, 6193.55793814, 7001.63819449,\n",
       "       1356.35288232, 6707.19639459, 5919.61777313, 1377.84020666,\n",
       "       7026.64332973, 5367.85967165, 3153.5674783 , 1300.22249159,\n",
       "       5970.4831743 , 6236.06315557, 7643.2279848 , 1884.47655442,\n",
       "       2422.61843482, 4454.31882056, 2817.76827871, 5797.4115826 ,\n",
       "       6920.62718255, 5391.34703748, 4396.71054483, 4650.29487062,\n",
       "       6537.53011488, 2494.46700154, 3709.71293753, 5841.93259529,\n",
       "       1419.45342067, 5529.57777379, 4195.70037175, 1988.58874973,\n",
       "       1977.18908692, 3798.92482985, 3830.11788256, 4492.18142318,\n",
       "       4347.37042662, 3391.88022752, 3123.2301629 , 3850.03383832,\n",
       "       6182.93920337, 4511.82138995, 3405.77419689, 3728.9227829 ,\n",
       "       1181.54148411, 3634.21168916, 2262.44250086, 5435.47880738,\n",
       "       6871.96414768, 5097.06250651, 6793.8123832 , 3562.14727058,\n",
       "       6475.41905282, 5100.14633052, 1757.81200308, 3608.67803986,\n",
       "       4603.7982706 , 1913.60377236, 7774.78785513, 6915.60792737,\n",
       "       3380.98258539, 6927.52494333, 1128.49134639, 4233.70860244,\n",
       "       4810.87876455, 7138.87640695, 4520.23636786, 3858.36453224,\n",
       "       3811.80118732, 2327.02273948,  366.92923936, 3250.45376202,\n",
       "       6633.92388924, 6991.59226082, 4388.83580584, 6348.17408577,\n",
       "       5294.20269827, 5835.99396286, 5135.0233845 , 1227.95273643,\n",
       "       6894.77408904, 3825.47927635, 2442.83638278, 5550.26777043,\n",
       "       3092.22531809, 1581.09661344, 6226.28343065, 4294.46612223,\n",
       "       1375.90706042, 5086.32597617, 5171.47120435, 4250.51959863,\n",
       "       6367.887053  , 5352.38699417, 6578.01638712, 2656.54203978,\n",
       "       4840.15055257, 3231.672006  , 6460.48500065, 4225.43460523,\n",
       "       3388.62126856, 5708.45056989, 4030.2625235 , 5210.54432116,\n",
       "       4724.70685292, 3227.22681195, 3348.19153842, 6281.00331765,\n",
       "       6935.44319244, 4052.84009545, 2927.08401003])"
      ]
     },
     "metadata": {},
     "output_type": "display_data"
    }
   ],
   "source": [
    "#predict the model\n",
    "lr_pred=lr_model.predict(X_test)\n",
    "display(lr_pred)"
   ]
  },
  {
   "cell_type": "markdown",
   "id": "4e23bce8",
   "metadata": {},
   "source": [
    "<a id='Model_evaluation_metrics'></a>\n",
    "(v) Model evaluation metrics\n",
    "\n",
    "<a id='Root_mean_square_error_and_mean_absolute_error_scores'></a>\n",
    "(a) Root mean square error and mean absolute error scores"
   ]
  },
  {
   "cell_type": "code",
   "execution_count": 38,
   "id": "ce589559",
   "metadata": {},
   "outputs": [
    {
     "name": "stdout",
     "output_type": "stream",
     "text": [
      "Root mean square error : 802.4291866599553\n",
      "Mean absolute error : 595.2441391283483\n"
     ]
    }
   ],
   "source": [
    "import math\n",
    "#Root mean square error \n",
    "rmse=math.sqrt(metrics.mean_squared_error(y_test,lr_pred))\n",
    "#Mean absolute error\n",
    "mae=metrics.mean_absolute_error(y_test,lr_pred)\n",
    "print('Root mean square error :',rmse)\n",
    "print('Mean absolute error :',mae)"
   ]
  },
  {
   "cell_type": "markdown",
   "id": "6a62b02e",
   "metadata": {},
   "source": [
    "<a id='Residual_plot'></a>\n",
    "(v) Residual plot"
   ]
  },
  {
   "cell_type": "code",
   "execution_count": 39,
   "id": "d43fc173",
   "metadata": {},
   "outputs": [
    {
     "data": {
      "image/png": "[encoded data removed]",
      "text/plain": [
       "<Figure size 1152x576 with 1 Axes>"
      ]
     },
     "metadata": {},
     "output_type": "display_data"
    }
   ],
   "source": [
    "#Residual plot\n",
    "fig, ax = plt.subplots(figsize=(16,8))\n",
    "ax.set_xlabel('Observed')\n",
    "ax.set_ylabel('Residuals')\n",
    "ax.title.set_text(\"Residual Plot\")\n",
    "ax.scatter(y_test, y_test-lr_pred)\n",
    "ax.axhline(lw=2,color='black')\n",
    "\n",
    "plt.show()"
   ]
  },
  {
   "cell_type": "markdown",
   "id": "6ab608ca",
   "metadata": {},
   "source": [
    "Residual plot tells about finite variance between actual target value and predicted target value. In this plot,very less data points are having the same finite variance between them.\n",
    "<hr>\n",
    "<hr>"
   ]
  },
  {
   "cell_type": "markdown",
   "id": "08eebeb9",
   "metadata": {},
   "source": [
    "<a id='Observations_and_explanations'></a>\n",
    "Observations and explanations:\n",
    "\n",
    "1. There is an increase in the bike rental count in spring and summer season , and then decrease in the bike rental count in fall and winter season.\n",
    "\n",
    "2. The bike rental count distribution is higher in 2019 than in 2018.\n",
    "3. During no holidays, the bike rental counts is the highest, compared to during holidays for different seasons.\n",
    "4. There is no significant change in bike demand with working days and non working days.\n",
    "5. During clear, partly cloudy weather, the bike rental count is the highest, second-highest during misty cloudy weather, and followed by 3rd highest, during light snow and light rain weather.\n",
    "6. Outlier analysis:<br>\n",
    "    (i) No outliers are present in total_count variable.<br>\n",
    "    (ii) No outliers are present in normalized temp but few outliers are present in normalized windspeed and humidity variables.\n",
    "7. Normal probability plot is a graphical technique to identify substantive departures from normality and also it tells about goodness of fit. In our normal probability plot, some target variable data points are deviating from normality.\n",
    "8. Correlation matrix tells about linear relationship between attributes and helps us to build better models. \n",
    "From our correlation plot, we can observe that some features are positively correlated and some are negatively correlated to each other. The temp and atemp are highly positively correlated to each other, it means that both are carrying same information.The total_count,casual and registered are highly positively correlated to each other. So, we have ignored atemp,casual and registered variable for further analysis.\n",
    "9. For modelling the datset, we split the dataset into train and test in the ratio of 70:30.\n",
    "10. Training dataset:<br>\n",
    "    (i) While fitting Linear regression to our trained dataset, Accuracy of the model: 82.4 %<br>\n",
    "    (ii) Cross validation prediction plot tells about finite variance between actual target value and predicted target value. In our Cross validation prediction plot for training dataset, some data points are have same finite variance between them and some are not having it.<br>\n",
    "    (iii) Model Evaluation metrics: R-Squared (R² or the coefficient of determination) is a statistical measure in a regression model that determines the proportion of variance in the dependent variable that can be explained by the independent variable.The R-squared or coefficient of determination for our model is 0.81 on average , it means that predictor is only able to predict 81% of the variance in the target variable which is contributed by independent variables.<br>\n",
    "11. Testing dataset:<br>\n",
    "    (i) Model Evaluation metrics: Root Mean Square Error (RMSE) is the standard deviation of the residuals (prediction errors), and The mean absolute error of a model with respect to a test set is the mean of the absolute values of the individual prediction errors on over all instances in the test set.<br>\n",
    "        For our model, \n",
    "        Root mean square error : 802.4291866599553\n",
    "        Mean absolute error : 595.2441391283483\n",
    "12. Residual plot tells about finite variance between actual target value and predicted target values. In our Residual plot,very less data points are having the same finite variance between them."
   ]
  },
  {
   "cell_type": "code",
   "execution_count": null,
   "id": "a5094368",
   "metadata": {},
   "outputs": [],
   "source": []
  }
 ],
 "metadata": {
  "kernelspec": {
   "display_name": "Python 3 (ipykernel)",
   "language": "python",
   "name": "python3"
  },
  "language_info": {
   "codemirror_mode": {
    "name": "ipython",
    "version": 3
   },
   "file_extension": ".py",
   "mimetype": "text/x-python",
   "name": "python",
   "nbconvert_exporter": "python",
   "pygments_lexer": "ipython3",
   "version": "3.10.4"
  }
 },
 "nbformat": 4,
 "nbformat_minor": 5
}
