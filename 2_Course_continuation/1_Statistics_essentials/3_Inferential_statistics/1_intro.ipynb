{
 "cells": [
  {
   "cell_type": "code",
   "execution_count": 4,
   "id": "5b9033a8",
   "metadata": {},
   "outputs": [
    {
     "name": "stdout",
     "output_type": "stream",
     "text": [
      "0    100\n",
      "1     25\n",
      "2     32\n",
      "3    118\n",
      "4     24\n",
      "5     65\n",
      "dtype: int64\n",
      "40.72182052249956\n"
     ]
    }
   ],
   "source": [
    "# importing pandas as pd\n",
    "import pandas as pd\n",
    "  \n",
    "# Creating the Series\n",
    "sr = pd.Series([100, 25, 32, 118, 24, 65])\n",
    "  \n",
    "# Print the series\n",
    "print(sr)\n",
    "print(sr.std())  # 40.72182052249956\n",
    "\n",
    "\n",
    "# Formula\n",
    "# \\sigma={\\sqrt {\\frac {\\sum(x_{i}-{\\mu})^{2}}{N}}}\n",
    "# \\sigma\t=\tpopulation standard deviation\n",
    "# N\t=\tthe size of the population\n",
    "# x_i\t=\teach value from the population\n",
    "# \\mu\t=\tthe population mean\n"
   ]
  },
  {
   "cell_type": "code",
   "execution_count": null,
   "id": "477ffad2",
   "metadata": {},
   "outputs": [],
   "source": [
    "# Central limit theorem"
   ]
  }
 ],
 "metadata": {
  "kernelspec": {
   "display_name": "newenv",
   "language": "python",
   "name": "newenv"
  },
  "language_info": {
   "codemirror_mode": {
    "name": "ipython",
    "version": 3
   },
   "file_extension": ".py",
   "mimetype": "text/x-python",
   "name": "python",
   "nbconvert_exporter": "python",
   "pygments_lexer": "ipython3",
   "version": "3.10.4"
  }
 },
 "nbformat": 4,
 "nbformat_minor": 5
}
