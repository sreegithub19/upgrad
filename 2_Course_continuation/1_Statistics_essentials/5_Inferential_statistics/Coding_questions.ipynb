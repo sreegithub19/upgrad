{
 "cells": [
  {
   "cell_type": "markdown",
   "id": "75a9de49",
   "metadata": {},
   "source": [
    "1.....Description.......\n",
    "Generate a binomial distribution, tested 10 times, given the number of trials(n) and probability(p) of each trial.\n",
    "The input will contain seed, n and p in the same order.\n",
    "The output should contain a numpy array with 10 numbers representing the required binomial distribution.\n",
    "Hint: You can use numpy's random number generator here too. Remember to set the seed before generating numbers to ensure correct output.\n",
    "Sample Input:\n",
    "0\n",
    "10\n",
    "0.5\n",
    "Sample Output:\n",
    "\n",
    "[5 6 5 5 5 6 5 7 8 5]"
   ]
  },
  {
   "cell_type": "code",
   "execution_count": 3,
   "id": "a19ceb3e",
   "metadata": {},
   "outputs": [
    {
     "name": "stdout",
     "output_type": "stream",
     "text": [
      "2\n",
      "14\n",
      "0.3\n",
      "[4 1 4 4 4 3 3 5 3 3]\n"
     ]
    }
   ],
   "source": [
    "import numpy as np \n",
    "import pandas as pd \n",
    "pd.set_option('display.max_columns', 500)\n",
    "seed=int(input())\n",
    "n=int(input())\n",
    "p=float(input())\n",
    "np.random.seed(seed) # np.random.seed(seed) makes the random numbers predictable\n",
    "s = np.random.binomial(n,p,10)\n",
    "print(s)"
   ]
  },
  {
   "cell_type": "markdown",
   "id": "9b72834d",
   "metadata": {},
   "source": [
    "2.....Description.....\n",
    "A card stack contains white and black cards. Two cards are drawn randomly without replacement. The probability of selecting a white and then a black card is x. The probability of selecting a white card in the first draw is y. You have to find the probability of drawing a black card, given that the first card drawn was white.\n",
    "The input will contain two lines with x and y respectively.  \n",
    "The output should be displayed as a float(no need to round it off).\n",
    "Sample Input:\n",
    "0.2\n",
    "0.5\n",
    "Sample Output:\n",
    "0.4"
   ]
  },
  {
   "cell_type": "code",
   "execution_count": null,
   "id": "97b46585",
   "metadata": {},
   "outputs": [],
   "source": [
    "x=float(input())\n",
    "y=float(input())\n",
    "#write your code here\n",
    "print(x/y)"
   ]
  },
  {
   "cell_type": "markdown",
   "id": "169cf13f",
   "metadata": {},
   "source": [
    "3......Description......\n",
    "Consider that the scores of an entrance test are normally distributed. \n",
    "If the test has a mean of m and a standard deviation of s.\n",
    "You have set the cut off as 90 marks for the test. What is the probability of a student passing the test?\n",
    "The input will contain m and s in two lines in the same order. The output has to be rounded off to two decimal places.\n",
    "\n",
    "Please note that if the answer is 3.6, it is to be reported as 3.6 and not 3.60\n",
    "\n",
    "Sample Input:\n",
    "100\n",
    "10\n",
    "Sample Output:\n",
    "0.84"
   ]
  },
  {
   "cell_type": "code",
   "execution_count": 7,
   "id": "85ef9edc",
   "metadata": {},
   "outputs": [
    {
     "name": "stdout",
     "output_type": "stream",
     "text": [
      "45\n",
      "4\n",
      "0.0\n"
     ]
    }
   ],
   "source": [
    "import scipy.stats\n",
    "m=float(input())#mean\n",
    "sd=float(input())#standard deviation\n",
    "\n",
    "print(round(scipy.stats.norm.sf(90,m,sd),2))"
   ]
  },
  {
   "cell_type": "markdown",
   "id": "fd5a5814",
   "metadata": {},
   "source": [
    "##### https://brainly.in/question/11866628\n",
    "4.....Seating Arrangement.....\n",
    "Description\n",
    "N people sit around a circular table. You have to find the probability that two particular people won't be sitting together.\n",
    "\n",
    "The input will have the number N and the output should have the probability printed as a float type number rounded off to four decimal places.\n",
    "\n",
    "Hint: This problem follows the logic of circular permutation which you can read about here.\n",
    "\n",
    "Please note that if the answer is 3.6, it is to be reported as 3.6 and not 3.6000\n",
    "\n",
    "Sample Input:\n",
    "15"
   ]
  },
  {
   "cell_type": "code",
   "execution_count": null,
   "id": "56bc06bc",
   "metadata": {},
   "outputs": [],
   "source": [
    "n=int(input())\n",
    "print(round((n-3)/(n-1),4))"
   ]
  }
 ],
 "metadata": {
  "kernelspec": {
   "display_name": "newenv",
   "language": "python",
   "name": "newenv"
  },
  "language_info": {
   "codemirror_mode": {
    "name": "ipython",
    "version": 3
   },
   "file_extension": ".py",
   "mimetype": "text/x-python",
   "name": "python",
   "nbconvert_exporter": "python",
   "pygments_lexer": "ipython3",
   "version": "3.10.4"
  }
 },
 "nbformat": 4,
 "nbformat_minor": 5
}
