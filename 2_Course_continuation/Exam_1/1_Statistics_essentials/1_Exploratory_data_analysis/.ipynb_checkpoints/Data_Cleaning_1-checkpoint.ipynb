{
 "cells": [
  {
   "cell_type": "code",
   "execution_count": 1,
   "id": "509f7cdb",
   "metadata": {},
   "outputs": [
    {
     "name": "stdout",
     "output_type": "stream",
     "text": [
      "Prefix         0\n",
      "Assignment     2\n",
      "Tutorial      12\n",
      "Midterm       16\n",
      "TakeHome       9\n",
      "Final          5\n",
      "dtype: int64\n"
     ]
    }
   ],
   "source": [
    "import pandas as pd\n",
    "marks = pd.read_csv('https://media-doselect.s3.amazonaws.com/generic/GZVBQG5pzJeNaL1ve50Rv9YNV/class-grades.csv')\n",
    "print(marks.isnull().sum())"
   ]
  },
  {
   "cell_type": "code",
   "execution_count": 2,
   "id": "e0a54f7d",
   "metadata": {},
   "outputs": [
    {
     "name": "stdout",
     "output_type": "stream",
     "text": [
      "Prefix        0\n",
      "Assignment    2\n",
      "Tutorial      2\n",
      "Midterm       2\n",
      "TakeHome      2\n",
      "Final         2\n",
      "dtype: int64\n"
     ]
    }
   ],
   "source": [
    "import pandas as pd\n",
    "marks = pd.read_csv('https://media-doselect.s3.amazonaws.com/generic/VodvGKvJAaeNrG7kvOQV38aog/class-grades.csv')\n",
    "\n",
    "#Type your code here to remove rows with missing value equal to 5\n",
    "marks = marks[marks.isnull().sum(axis=1)==5]\n",
    "print(marks.isna().sum())"
   ]
  },
  {
   "cell_type": "code",
   "execution_count": null,
   "id": "0356b004",
   "metadata": {},
   "outputs": [],
   "source": []
  }
 ],
 "metadata": {
  "kernelspec": {
   "display_name": "newenv",
   "language": "python",
   "name": "newenv"
  },
  "language_info": {
   "codemirror_mode": {
    "name": "ipython",
    "version": 3
   },
   "file_extension": ".py",
   "mimetype": "text/x-python",
   "name": "python",
   "nbconvert_exporter": "python",
   "pygments_lexer": "ipython3",
   "version": "3.10.4"
  }
 },
 "nbformat": 4,
 "nbformat_minor": 5
}
