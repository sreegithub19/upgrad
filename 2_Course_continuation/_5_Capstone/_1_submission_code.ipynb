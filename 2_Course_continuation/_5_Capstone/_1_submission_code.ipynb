{
 "cells": [
  {
   "cell_type": "code",
   "execution_count": 1,
   "id": "f507949e",
   "metadata": {
    "_cell_guid": "b1076dfc-b9ad-4769-8c92-a6c4dae69d19",
    "_uuid": "8f2839f25d086af736a60e9eeb907d3b93b6e0e5",
    "execution": {
     "iopub.execute_input": "2023-07-24T08:49:46.547142Z",
     "iopub.status.busy": "2023-07-24T08:49:46.546752Z",
     "iopub.status.idle": "2023-07-24T08:49:46.565156Z",
     "shell.execute_reply": "2023-07-24T08:49:46.563995Z"
    },
    "papermill": {
     "duration": 0.032146,
     "end_time": "2023-07-24T08:49:46.567345",
     "exception": false,
     "start_time": "2023-07-24T08:49:46.535199",
     "status": "completed"
    },
    "tags": []
   },
   "outputs": [
    {
     "name": "stdout",
     "output_type": "stream",
     "text": [
      "/kaggle/input/creditcardfraud/creditcard.csv\n"
     ]
    }
   ],
   "source": [
    "# This Python 3 environment comes with many helpful analytics libraries installed\n",
    "# It is defined by the kaggle/python Docker image: https://github.com/kaggle/docker-python\n",
    "# For example, here's several helpful packages to load\n",
    "\n",
    "import numpy as np # linear algebra\n",
    "import pandas as pd # data processing, CSV file I/O (e.g. pd.read_csv)\n",
    "\n",
    "# Input data files are available in the read-only \"../input/\" directory\n",
    "# For example, running this (by clicking run or pressing Shift+Enter) will list all files under the input directory\n",
    "\n",
    "import os\n",
    "for dirname, _, filenames in os.walk('/kaggle/input'):\n",
    "    for filename in filenames:\n",
    "        print(os.path.join(dirname, filename))\n",
    "\n",
    "# You can write up to 20GB to the current directory (/kaggle/working/) that gets preserved as output when you create a version using \"Save & Run All\" \n",
    "# You can also write temporary files to /kaggle/temp/, but they won't be saved outside of the current session"
   ]
  },
  {
   "cell_type": "code",
   "execution_count": 2,
   "id": "6b02acc0",
   "metadata": {
    "execution": {
     "iopub.execute_input": "2023-07-24T08:49:46.590024Z",
     "iopub.status.busy": "2023-07-24T08:49:46.589303Z",
     "iopub.status.idle": "2023-07-24T08:49:47.936127Z",
     "shell.execute_reply": "2023-07-24T08:49:47.934915Z"
    },
    "papermill": {
     "duration": 1.361327,
     "end_time": "2023-07-24T08:49:47.938968",
     "exception": false,
     "start_time": "2023-07-24T08:49:46.577641",
     "status": "completed"
    },
    "tags": []
   },
   "outputs": [
    {
     "name": "stderr",
     "output_type": "stream",
     "text": [
      "/opt/conda/lib/python3.10/site-packages/scipy/__init__.py:146: UserWarning: A NumPy version >=1.16.5 and <1.23.0 is required for this version of SciPy (detected version 1.23.5\n",
      "  warnings.warn(f\"A NumPy version >={np_minversion} and <{np_maxversion}\"\n"
     ]
    }
   ],
   "source": [
    "import matplotlib.pyplot as plt\n",
    "import seaborn as sns\n",
    "\n",
    "import warnings\n",
    "warnings.filterwarnings('ignore')"
   ]
  },
  {
   "cell_type": "code",
   "execution_count": 3,
   "id": "d906309b",
   "metadata": {
    "execution": {
     "iopub.execute_input": "2023-07-24T08:49:47.961640Z",
     "iopub.status.busy": "2023-07-24T08:49:47.961216Z",
     "iopub.status.idle": "2023-07-24T08:49:52.454124Z",
     "shell.execute_reply": "2023-07-24T08:49:52.453278Z"
    },
    "papermill": {
     "duration": 4.507676,
     "end_time": "2023-07-24T08:49:52.456544",
     "exception": false,
     "start_time": "2023-07-24T08:49:47.948868",
     "status": "completed"
    },
    "tags": []
   },
   "outputs": [
    {
     "data": {
      "text/html": [
       "<div>\n",
       "<style scoped>\n",
       "    .dataframe tbody tr th:only-of-type {\n",
       "        vertical-align: middle;\n",
       "    }\n",
       "\n",
       "    .dataframe tbody tr th {\n",
       "        vertical-align: top;\n",
       "    }\n",
       "\n",
       "    .dataframe thead th {\n",
       "        text-align: right;\n",
       "    }\n",
       "</style>\n",
       "<table border=\"1\" class=\"dataframe\">\n",
       "  <thead>\n",
       "    <tr style=\"text-align: right;\">\n",
       "      <th></th>\n",
       "      <th>Time</th>\n",
       "      <th>V1</th>\n",
       "      <th>V2</th>\n",
       "      <th>V3</th>\n",
       "      <th>V4</th>\n",
       "      <th>V5</th>\n",
       "      <th>V6</th>\n",
       "      <th>V7</th>\n",
       "      <th>V8</th>\n",
       "      <th>V9</th>\n",
       "      <th>...</th>\n",
       "      <th>V21</th>\n",
       "      <th>V22</th>\n",
       "      <th>V23</th>\n",
       "      <th>V24</th>\n",
       "      <th>V25</th>\n",
       "      <th>V26</th>\n",
       "      <th>V27</th>\n",
       "      <th>V28</th>\n",
       "      <th>Amount</th>\n",
       "      <th>Class</th>\n",
       "    </tr>\n",
       "  </thead>\n",
       "  <tbody>\n",
       "    <tr>\n",
       "      <th>0</th>\n",
       "      <td>0.0</td>\n",
       "      <td>-1.359807</td>\n",
       "      <td>-0.072781</td>\n",
       "      <td>2.536347</td>\n",
       "      <td>1.378155</td>\n",
       "      <td>-0.338321</td>\n",
       "      <td>0.462388</td>\n",
       "      <td>0.239599</td>\n",
       "      <td>0.098698</td>\n",
       "      <td>0.363787</td>\n",
       "      <td>...</td>\n",
       "      <td>-0.018307</td>\n",
       "      <td>0.277838</td>\n",
       "      <td>-0.110474</td>\n",
       "      <td>0.066928</td>\n",
       "      <td>0.128539</td>\n",
       "      <td>-0.189115</td>\n",
       "      <td>0.133558</td>\n",
       "      <td>-0.021053</td>\n",
       "      <td>149.62</td>\n",
       "      <td>0</td>\n",
       "    </tr>\n",
       "    <tr>\n",
       "      <th>1</th>\n",
       "      <td>0.0</td>\n",
       "      <td>1.191857</td>\n",
       "      <td>0.266151</td>\n",
       "      <td>0.166480</td>\n",
       "      <td>0.448154</td>\n",
       "      <td>0.060018</td>\n",
       "      <td>-0.082361</td>\n",
       "      <td>-0.078803</td>\n",
       "      <td>0.085102</td>\n",
       "      <td>-0.255425</td>\n",
       "      <td>...</td>\n",
       "      <td>-0.225775</td>\n",
       "      <td>-0.638672</td>\n",
       "      <td>0.101288</td>\n",
       "      <td>-0.339846</td>\n",
       "      <td>0.167170</td>\n",
       "      <td>0.125895</td>\n",
       "      <td>-0.008983</td>\n",
       "      <td>0.014724</td>\n",
       "      <td>2.69</td>\n",
       "      <td>0</td>\n",
       "    </tr>\n",
       "    <tr>\n",
       "      <th>2</th>\n",
       "      <td>1.0</td>\n",
       "      <td>-1.358354</td>\n",
       "      <td>-1.340163</td>\n",
       "      <td>1.773209</td>\n",
       "      <td>0.379780</td>\n",
       "      <td>-0.503198</td>\n",
       "      <td>1.800499</td>\n",
       "      <td>0.791461</td>\n",
       "      <td>0.247676</td>\n",
       "      <td>-1.514654</td>\n",
       "      <td>...</td>\n",
       "      <td>0.247998</td>\n",
       "      <td>0.771679</td>\n",
       "      <td>0.909412</td>\n",
       "      <td>-0.689281</td>\n",
       "      <td>-0.327642</td>\n",
       "      <td>-0.139097</td>\n",
       "      <td>-0.055353</td>\n",
       "      <td>-0.059752</td>\n",
       "      <td>378.66</td>\n",
       "      <td>0</td>\n",
       "    </tr>\n",
       "    <tr>\n",
       "      <th>3</th>\n",
       "      <td>1.0</td>\n",
       "      <td>-0.966272</td>\n",
       "      <td>-0.185226</td>\n",
       "      <td>1.792993</td>\n",
       "      <td>-0.863291</td>\n",
       "      <td>-0.010309</td>\n",
       "      <td>1.247203</td>\n",
       "      <td>0.237609</td>\n",
       "      <td>0.377436</td>\n",
       "      <td>-1.387024</td>\n",
       "      <td>...</td>\n",
       "      <td>-0.108300</td>\n",
       "      <td>0.005274</td>\n",
       "      <td>-0.190321</td>\n",
       "      <td>-1.175575</td>\n",
       "      <td>0.647376</td>\n",
       "      <td>-0.221929</td>\n",
       "      <td>0.062723</td>\n",
       "      <td>0.061458</td>\n",
       "      <td>123.50</td>\n",
       "      <td>0</td>\n",
       "    </tr>\n",
       "    <tr>\n",
       "      <th>4</th>\n",
       "      <td>2.0</td>\n",
       "      <td>-1.158233</td>\n",
       "      <td>0.877737</td>\n",
       "      <td>1.548718</td>\n",
       "      <td>0.403034</td>\n",
       "      <td>-0.407193</td>\n",
       "      <td>0.095921</td>\n",
       "      <td>0.592941</td>\n",
       "      <td>-0.270533</td>\n",
       "      <td>0.817739</td>\n",
       "      <td>...</td>\n",
       "      <td>-0.009431</td>\n",
       "      <td>0.798278</td>\n",
       "      <td>-0.137458</td>\n",
       "      <td>0.141267</td>\n",
       "      <td>-0.206010</td>\n",
       "      <td>0.502292</td>\n",
       "      <td>0.219422</td>\n",
       "      <td>0.215153</td>\n",
       "      <td>69.99</td>\n",
       "      <td>0</td>\n",
       "    </tr>\n",
       "    <tr>\n",
       "      <th>5</th>\n",
       "      <td>2.0</td>\n",
       "      <td>-0.425966</td>\n",
       "      <td>0.960523</td>\n",
       "      <td>1.141109</td>\n",
       "      <td>-0.168252</td>\n",
       "      <td>0.420987</td>\n",
       "      <td>-0.029728</td>\n",
       "      <td>0.476201</td>\n",
       "      <td>0.260314</td>\n",
       "      <td>-0.568671</td>\n",
       "      <td>...</td>\n",
       "      <td>-0.208254</td>\n",
       "      <td>-0.559825</td>\n",
       "      <td>-0.026398</td>\n",
       "      <td>-0.371427</td>\n",
       "      <td>-0.232794</td>\n",
       "      <td>0.105915</td>\n",
       "      <td>0.253844</td>\n",
       "      <td>0.081080</td>\n",
       "      <td>3.67</td>\n",
       "      <td>0</td>\n",
       "    </tr>\n",
       "    <tr>\n",
       "      <th>6</th>\n",
       "      <td>4.0</td>\n",
       "      <td>1.229658</td>\n",
       "      <td>0.141004</td>\n",
       "      <td>0.045371</td>\n",
       "      <td>1.202613</td>\n",
       "      <td>0.191881</td>\n",
       "      <td>0.272708</td>\n",
       "      <td>-0.005159</td>\n",
       "      <td>0.081213</td>\n",
       "      <td>0.464960</td>\n",
       "      <td>...</td>\n",
       "      <td>-0.167716</td>\n",
       "      <td>-0.270710</td>\n",
       "      <td>-0.154104</td>\n",
       "      <td>-0.780055</td>\n",
       "      <td>0.750137</td>\n",
       "      <td>-0.257237</td>\n",
       "      <td>0.034507</td>\n",
       "      <td>0.005168</td>\n",
       "      <td>4.99</td>\n",
       "      <td>0</td>\n",
       "    </tr>\n",
       "    <tr>\n",
       "      <th>7</th>\n",
       "      <td>7.0</td>\n",
       "      <td>-0.644269</td>\n",
       "      <td>1.417964</td>\n",
       "      <td>1.074380</td>\n",
       "      <td>-0.492199</td>\n",
       "      <td>0.948934</td>\n",
       "      <td>0.428118</td>\n",
       "      <td>1.120631</td>\n",
       "      <td>-3.807864</td>\n",
       "      <td>0.615375</td>\n",
       "      <td>...</td>\n",
       "      <td>1.943465</td>\n",
       "      <td>-1.015455</td>\n",
       "      <td>0.057504</td>\n",
       "      <td>-0.649709</td>\n",
       "      <td>-0.415267</td>\n",
       "      <td>-0.051634</td>\n",
       "      <td>-1.206921</td>\n",
       "      <td>-1.085339</td>\n",
       "      <td>40.80</td>\n",
       "      <td>0</td>\n",
       "    </tr>\n",
       "    <tr>\n",
       "      <th>8</th>\n",
       "      <td>7.0</td>\n",
       "      <td>-0.894286</td>\n",
       "      <td>0.286157</td>\n",
       "      <td>-0.113192</td>\n",
       "      <td>-0.271526</td>\n",
       "      <td>2.669599</td>\n",
       "      <td>3.721818</td>\n",
       "      <td>0.370145</td>\n",
       "      <td>0.851084</td>\n",
       "      <td>-0.392048</td>\n",
       "      <td>...</td>\n",
       "      <td>-0.073425</td>\n",
       "      <td>-0.268092</td>\n",
       "      <td>-0.204233</td>\n",
       "      <td>1.011592</td>\n",
       "      <td>0.373205</td>\n",
       "      <td>-0.384157</td>\n",
       "      <td>0.011747</td>\n",
       "      <td>0.142404</td>\n",
       "      <td>93.20</td>\n",
       "      <td>0</td>\n",
       "    </tr>\n",
       "    <tr>\n",
       "      <th>9</th>\n",
       "      <td>9.0</td>\n",
       "      <td>-0.338262</td>\n",
       "      <td>1.119593</td>\n",
       "      <td>1.044367</td>\n",
       "      <td>-0.222187</td>\n",
       "      <td>0.499361</td>\n",
       "      <td>-0.246761</td>\n",
       "      <td>0.651583</td>\n",
       "      <td>0.069539</td>\n",
       "      <td>-0.736727</td>\n",
       "      <td>...</td>\n",
       "      <td>-0.246914</td>\n",
       "      <td>-0.633753</td>\n",
       "      <td>-0.120794</td>\n",
       "      <td>-0.385050</td>\n",
       "      <td>-0.069733</td>\n",
       "      <td>0.094199</td>\n",
       "      <td>0.246219</td>\n",
       "      <td>0.083076</td>\n",
       "      <td>3.68</td>\n",
       "      <td>0</td>\n",
       "    </tr>\n",
       "  </tbody>\n",
       "</table>\n",
       "<p>10 rows × 31 columns</p>\n",
       "</div>"
      ],
      "text/plain": [
       "   Time        V1        V2        V3        V4        V5        V6        V7  \\\n",
       "0   0.0 -1.359807 -0.072781  2.536347  1.378155 -0.338321  0.462388  0.239599   \n",
       "1   0.0  1.191857  0.266151  0.166480  0.448154  0.060018 -0.082361 -0.078803   \n",
       "2   1.0 -1.358354 -1.340163  1.773209  0.379780 -0.503198  1.800499  0.791461   \n",
       "3   1.0 -0.966272 -0.185226  1.792993 -0.863291 -0.010309  1.247203  0.237609   \n",
       "4   2.0 -1.158233  0.877737  1.548718  0.403034 -0.407193  0.095921  0.592941   \n",
       "5   2.0 -0.425966  0.960523  1.141109 -0.168252  0.420987 -0.029728  0.476201   \n",
       "6   4.0  1.229658  0.141004  0.045371  1.202613  0.191881  0.272708 -0.005159   \n",
       "7   7.0 -0.644269  1.417964  1.074380 -0.492199  0.948934  0.428118  1.120631   \n",
       "8   7.0 -0.894286  0.286157 -0.113192 -0.271526  2.669599  3.721818  0.370145   \n",
       "9   9.0 -0.338262  1.119593  1.044367 -0.222187  0.499361 -0.246761  0.651583   \n",
       "\n",
       "         V8        V9  ...       V21       V22       V23       V24       V25  \\\n",
       "0  0.098698  0.363787  ... -0.018307  0.277838 -0.110474  0.066928  0.128539   \n",
       "1  0.085102 -0.255425  ... -0.225775 -0.638672  0.101288 -0.339846  0.167170   \n",
       "2  0.247676 -1.514654  ...  0.247998  0.771679  0.909412 -0.689281 -0.327642   \n",
       "3  0.377436 -1.387024  ... -0.108300  0.005274 -0.190321 -1.175575  0.647376   \n",
       "4 -0.270533  0.817739  ... -0.009431  0.798278 -0.137458  0.141267 -0.206010   \n",
       "5  0.260314 -0.568671  ... -0.208254 -0.559825 -0.026398 -0.371427 -0.232794   \n",
       "6  0.081213  0.464960  ... -0.167716 -0.270710 -0.154104 -0.780055  0.750137   \n",
       "7 -3.807864  0.615375  ...  1.943465 -1.015455  0.057504 -0.649709 -0.415267   \n",
       "8  0.851084 -0.392048  ... -0.073425 -0.268092 -0.204233  1.011592  0.373205   \n",
       "9  0.069539 -0.736727  ... -0.246914 -0.633753 -0.120794 -0.385050 -0.069733   \n",
       "\n",
       "        V26       V27       V28  Amount  Class  \n",
       "0 -0.189115  0.133558 -0.021053  149.62      0  \n",
       "1  0.125895 -0.008983  0.014724    2.69      0  \n",
       "2 -0.139097 -0.055353 -0.059752  378.66      0  \n",
       "3 -0.221929  0.062723  0.061458  123.50      0  \n",
       "4  0.502292  0.219422  0.215153   69.99      0  \n",
       "5  0.105915  0.253844  0.081080    3.67      0  \n",
       "6 -0.257237  0.034507  0.005168    4.99      0  \n",
       "7 -0.051634 -1.206921 -1.085339   40.80      0  \n",
       "8 -0.384157  0.011747  0.142404   93.20      0  \n",
       "9  0.094199  0.246219  0.083076    3.68      0  \n",
       "\n",
       "[10 rows x 31 columns]"
      ]
     },
     "execution_count": 3,
     "metadata": {},
     "output_type": "execute_result"
    }
   ],
   "source": [
    "df=pd.read_csv('/kaggle/input/creditcardfraud/creditcard.csv')\n",
    "df.head(10)"
   ]
  },
  {
   "cell_type": "code",
   "execution_count": 4,
   "id": "68a7f986",
   "metadata": {
    "execution": {
     "iopub.execute_input": "2023-07-24T08:49:52.479421Z",
     "iopub.status.busy": "2023-07-24T08:49:52.478768Z",
     "iopub.status.idle": "2023-07-24T08:49:52.506388Z",
     "shell.execute_reply": "2023-07-24T08:49:52.505272Z"
    },
    "papermill": {
     "duration": 0.041988,
     "end_time": "2023-07-24T08:49:52.508937",
     "exception": false,
     "start_time": "2023-07-24T08:49:52.466949",
     "status": "completed"
    },
    "tags": []
   },
   "outputs": [
    {
     "data": {
      "text/html": [
       "<div>\n",
       "<style scoped>\n",
       "    .dataframe tbody tr th:only-of-type {\n",
       "        vertical-align: middle;\n",
       "    }\n",
       "\n",
       "    .dataframe tbody tr th {\n",
       "        vertical-align: top;\n",
       "    }\n",
       "\n",
       "    .dataframe thead th {\n",
       "        text-align: right;\n",
       "    }\n",
       "</style>\n",
       "<table border=\"1\" class=\"dataframe\">\n",
       "  <thead>\n",
       "    <tr style=\"text-align: right;\">\n",
       "      <th></th>\n",
       "      <th>Time</th>\n",
       "      <th>V1</th>\n",
       "      <th>V2</th>\n",
       "      <th>V3</th>\n",
       "      <th>V4</th>\n",
       "      <th>V5</th>\n",
       "      <th>V6</th>\n",
       "      <th>V7</th>\n",
       "      <th>V8</th>\n",
       "      <th>V9</th>\n",
       "      <th>...</th>\n",
       "      <th>V21</th>\n",
       "      <th>V22</th>\n",
       "      <th>V23</th>\n",
       "      <th>V24</th>\n",
       "      <th>V25</th>\n",
       "      <th>V26</th>\n",
       "      <th>V27</th>\n",
       "      <th>V28</th>\n",
       "      <th>Amount</th>\n",
       "      <th>Class</th>\n",
       "    </tr>\n",
       "  </thead>\n",
       "  <tbody>\n",
       "    <tr>\n",
       "      <th>284797</th>\n",
       "      <td>172782.0</td>\n",
       "      <td>-0.241923</td>\n",
       "      <td>0.712247</td>\n",
       "      <td>0.399806</td>\n",
       "      <td>-0.463406</td>\n",
       "      <td>0.244531</td>\n",
       "      <td>-1.343668</td>\n",
       "      <td>0.929369</td>\n",
       "      <td>-0.206210</td>\n",
       "      <td>0.106234</td>\n",
       "      <td>...</td>\n",
       "      <td>-0.228876</td>\n",
       "      <td>-0.514376</td>\n",
       "      <td>0.279598</td>\n",
       "      <td>0.371441</td>\n",
       "      <td>-0.559238</td>\n",
       "      <td>0.113144</td>\n",
       "      <td>0.131507</td>\n",
       "      <td>0.081265</td>\n",
       "      <td>5.49</td>\n",
       "      <td>0</td>\n",
       "    </tr>\n",
       "    <tr>\n",
       "      <th>284798</th>\n",
       "      <td>172782.0</td>\n",
       "      <td>0.219529</td>\n",
       "      <td>0.881246</td>\n",
       "      <td>-0.635891</td>\n",
       "      <td>0.960928</td>\n",
       "      <td>-0.152971</td>\n",
       "      <td>-1.014307</td>\n",
       "      <td>0.427126</td>\n",
       "      <td>0.121340</td>\n",
       "      <td>-0.285670</td>\n",
       "      <td>...</td>\n",
       "      <td>0.099936</td>\n",
       "      <td>0.337120</td>\n",
       "      <td>0.251791</td>\n",
       "      <td>0.057688</td>\n",
       "      <td>-1.508368</td>\n",
       "      <td>0.144023</td>\n",
       "      <td>0.181205</td>\n",
       "      <td>0.215243</td>\n",
       "      <td>24.05</td>\n",
       "      <td>0</td>\n",
       "    </tr>\n",
       "    <tr>\n",
       "      <th>284799</th>\n",
       "      <td>172783.0</td>\n",
       "      <td>-1.775135</td>\n",
       "      <td>-0.004235</td>\n",
       "      <td>1.189786</td>\n",
       "      <td>0.331096</td>\n",
       "      <td>1.196063</td>\n",
       "      <td>5.519980</td>\n",
       "      <td>-1.518185</td>\n",
       "      <td>2.080825</td>\n",
       "      <td>1.159498</td>\n",
       "      <td>...</td>\n",
       "      <td>0.103302</td>\n",
       "      <td>0.654850</td>\n",
       "      <td>-0.348929</td>\n",
       "      <td>0.745323</td>\n",
       "      <td>0.704545</td>\n",
       "      <td>-0.127579</td>\n",
       "      <td>0.454379</td>\n",
       "      <td>0.130308</td>\n",
       "      <td>79.99</td>\n",
       "      <td>0</td>\n",
       "    </tr>\n",
       "    <tr>\n",
       "      <th>284800</th>\n",
       "      <td>172784.0</td>\n",
       "      <td>2.039560</td>\n",
       "      <td>-0.175233</td>\n",
       "      <td>-1.196825</td>\n",
       "      <td>0.234580</td>\n",
       "      <td>-0.008713</td>\n",
       "      <td>-0.726571</td>\n",
       "      <td>0.017050</td>\n",
       "      <td>-0.118228</td>\n",
       "      <td>0.435402</td>\n",
       "      <td>...</td>\n",
       "      <td>-0.268048</td>\n",
       "      <td>-0.717211</td>\n",
       "      <td>0.297930</td>\n",
       "      <td>-0.359769</td>\n",
       "      <td>-0.315610</td>\n",
       "      <td>0.201114</td>\n",
       "      <td>-0.080826</td>\n",
       "      <td>-0.075071</td>\n",
       "      <td>2.68</td>\n",
       "      <td>0</td>\n",
       "    </tr>\n",
       "    <tr>\n",
       "      <th>284801</th>\n",
       "      <td>172785.0</td>\n",
       "      <td>0.120316</td>\n",
       "      <td>0.931005</td>\n",
       "      <td>-0.546012</td>\n",
       "      <td>-0.745097</td>\n",
       "      <td>1.130314</td>\n",
       "      <td>-0.235973</td>\n",
       "      <td>0.812722</td>\n",
       "      <td>0.115093</td>\n",
       "      <td>-0.204064</td>\n",
       "      <td>...</td>\n",
       "      <td>-0.314205</td>\n",
       "      <td>-0.808520</td>\n",
       "      <td>0.050343</td>\n",
       "      <td>0.102800</td>\n",
       "      <td>-0.435870</td>\n",
       "      <td>0.124079</td>\n",
       "      <td>0.217940</td>\n",
       "      <td>0.068803</td>\n",
       "      <td>2.69</td>\n",
       "      <td>0</td>\n",
       "    </tr>\n",
       "    <tr>\n",
       "      <th>284802</th>\n",
       "      <td>172786.0</td>\n",
       "      <td>-11.881118</td>\n",
       "      <td>10.071785</td>\n",
       "      <td>-9.834783</td>\n",
       "      <td>-2.066656</td>\n",
       "      <td>-5.364473</td>\n",
       "      <td>-2.606837</td>\n",
       "      <td>-4.918215</td>\n",
       "      <td>7.305334</td>\n",
       "      <td>1.914428</td>\n",
       "      <td>...</td>\n",
       "      <td>0.213454</td>\n",
       "      <td>0.111864</td>\n",
       "      <td>1.014480</td>\n",
       "      <td>-0.509348</td>\n",
       "      <td>1.436807</td>\n",
       "      <td>0.250034</td>\n",
       "      <td>0.943651</td>\n",
       "      <td>0.823731</td>\n",
       "      <td>0.77</td>\n",
       "      <td>0</td>\n",
       "    </tr>\n",
       "    <tr>\n",
       "      <th>284803</th>\n",
       "      <td>172787.0</td>\n",
       "      <td>-0.732789</td>\n",
       "      <td>-0.055080</td>\n",
       "      <td>2.035030</td>\n",
       "      <td>-0.738589</td>\n",
       "      <td>0.868229</td>\n",
       "      <td>1.058415</td>\n",
       "      <td>0.024330</td>\n",
       "      <td>0.294869</td>\n",
       "      <td>0.584800</td>\n",
       "      <td>...</td>\n",
       "      <td>0.214205</td>\n",
       "      <td>0.924384</td>\n",
       "      <td>0.012463</td>\n",
       "      <td>-1.016226</td>\n",
       "      <td>-0.606624</td>\n",
       "      <td>-0.395255</td>\n",
       "      <td>0.068472</td>\n",
       "      <td>-0.053527</td>\n",
       "      <td>24.79</td>\n",
       "      <td>0</td>\n",
       "    </tr>\n",
       "    <tr>\n",
       "      <th>284804</th>\n",
       "      <td>172788.0</td>\n",
       "      <td>1.919565</td>\n",
       "      <td>-0.301254</td>\n",
       "      <td>-3.249640</td>\n",
       "      <td>-0.557828</td>\n",
       "      <td>2.630515</td>\n",
       "      <td>3.031260</td>\n",
       "      <td>-0.296827</td>\n",
       "      <td>0.708417</td>\n",
       "      <td>0.432454</td>\n",
       "      <td>...</td>\n",
       "      <td>0.232045</td>\n",
       "      <td>0.578229</td>\n",
       "      <td>-0.037501</td>\n",
       "      <td>0.640134</td>\n",
       "      <td>0.265745</td>\n",
       "      <td>-0.087371</td>\n",
       "      <td>0.004455</td>\n",
       "      <td>-0.026561</td>\n",
       "      <td>67.88</td>\n",
       "      <td>0</td>\n",
       "    </tr>\n",
       "    <tr>\n",
       "      <th>284805</th>\n",
       "      <td>172788.0</td>\n",
       "      <td>-0.240440</td>\n",
       "      <td>0.530483</td>\n",
       "      <td>0.702510</td>\n",
       "      <td>0.689799</td>\n",
       "      <td>-0.377961</td>\n",
       "      <td>0.623708</td>\n",
       "      <td>-0.686180</td>\n",
       "      <td>0.679145</td>\n",
       "      <td>0.392087</td>\n",
       "      <td>...</td>\n",
       "      <td>0.265245</td>\n",
       "      <td>0.800049</td>\n",
       "      <td>-0.163298</td>\n",
       "      <td>0.123205</td>\n",
       "      <td>-0.569159</td>\n",
       "      <td>0.546668</td>\n",
       "      <td>0.108821</td>\n",
       "      <td>0.104533</td>\n",
       "      <td>10.00</td>\n",
       "      <td>0</td>\n",
       "    </tr>\n",
       "    <tr>\n",
       "      <th>284806</th>\n",
       "      <td>172792.0</td>\n",
       "      <td>-0.533413</td>\n",
       "      <td>-0.189733</td>\n",
       "      <td>0.703337</td>\n",
       "      <td>-0.506271</td>\n",
       "      <td>-0.012546</td>\n",
       "      <td>-0.649617</td>\n",
       "      <td>1.577006</td>\n",
       "      <td>-0.414650</td>\n",
       "      <td>0.486180</td>\n",
       "      <td>...</td>\n",
       "      <td>0.261057</td>\n",
       "      <td>0.643078</td>\n",
       "      <td>0.376777</td>\n",
       "      <td>0.008797</td>\n",
       "      <td>-0.473649</td>\n",
       "      <td>-0.818267</td>\n",
       "      <td>-0.002415</td>\n",
       "      <td>0.013649</td>\n",
       "      <td>217.00</td>\n",
       "      <td>0</td>\n",
       "    </tr>\n",
       "  </tbody>\n",
       "</table>\n",
       "<p>10 rows × 31 columns</p>\n",
       "</div>"
      ],
      "text/plain": [
       "            Time         V1         V2        V3        V4        V5  \\\n",
       "284797  172782.0  -0.241923   0.712247  0.399806 -0.463406  0.244531   \n",
       "284798  172782.0   0.219529   0.881246 -0.635891  0.960928 -0.152971   \n",
       "284799  172783.0  -1.775135  -0.004235  1.189786  0.331096  1.196063   \n",
       "284800  172784.0   2.039560  -0.175233 -1.196825  0.234580 -0.008713   \n",
       "284801  172785.0   0.120316   0.931005 -0.546012 -0.745097  1.130314   \n",
       "284802  172786.0 -11.881118  10.071785 -9.834783 -2.066656 -5.364473   \n",
       "284803  172787.0  -0.732789  -0.055080  2.035030 -0.738589  0.868229   \n",
       "284804  172788.0   1.919565  -0.301254 -3.249640 -0.557828  2.630515   \n",
       "284805  172788.0  -0.240440   0.530483  0.702510  0.689799 -0.377961   \n",
       "284806  172792.0  -0.533413  -0.189733  0.703337 -0.506271 -0.012546   \n",
       "\n",
       "              V6        V7        V8        V9  ...       V21       V22  \\\n",
       "284797 -1.343668  0.929369 -0.206210  0.106234  ... -0.228876 -0.514376   \n",
       "284798 -1.014307  0.427126  0.121340 -0.285670  ...  0.099936  0.337120   \n",
       "284799  5.519980 -1.518185  2.080825  1.159498  ...  0.103302  0.654850   \n",
       "284800 -0.726571  0.017050 -0.118228  0.435402  ... -0.268048 -0.717211   \n",
       "284801 -0.235973  0.812722  0.115093 -0.204064  ... -0.314205 -0.808520   \n",
       "284802 -2.606837 -4.918215  7.305334  1.914428  ...  0.213454  0.111864   \n",
       "284803  1.058415  0.024330  0.294869  0.584800  ...  0.214205  0.924384   \n",
       "284804  3.031260 -0.296827  0.708417  0.432454  ...  0.232045  0.578229   \n",
       "284805  0.623708 -0.686180  0.679145  0.392087  ...  0.265245  0.800049   \n",
       "284806 -0.649617  1.577006 -0.414650  0.486180  ...  0.261057  0.643078   \n",
       "\n",
       "             V23       V24       V25       V26       V27       V28  Amount  \\\n",
       "284797  0.279598  0.371441 -0.559238  0.113144  0.131507  0.081265    5.49   \n",
       "284798  0.251791  0.057688 -1.508368  0.144023  0.181205  0.215243   24.05   \n",
       "284799 -0.348929  0.745323  0.704545 -0.127579  0.454379  0.130308   79.99   \n",
       "284800  0.297930 -0.359769 -0.315610  0.201114 -0.080826 -0.075071    2.68   \n",
       "284801  0.050343  0.102800 -0.435870  0.124079  0.217940  0.068803    2.69   \n",
       "284802  1.014480 -0.509348  1.436807  0.250034  0.943651  0.823731    0.77   \n",
       "284803  0.012463 -1.016226 -0.606624 -0.395255  0.068472 -0.053527   24.79   \n",
       "284804 -0.037501  0.640134  0.265745 -0.087371  0.004455 -0.026561   67.88   \n",
       "284805 -0.163298  0.123205 -0.569159  0.546668  0.108821  0.104533   10.00   \n",
       "284806  0.376777  0.008797 -0.473649 -0.818267 -0.002415  0.013649  217.00   \n",
       "\n",
       "        Class  \n",
       "284797      0  \n",
       "284798      0  \n",
       "284799      0  \n",
       "284800      0  \n",
       "284801      0  \n",
       "284802      0  \n",
       "284803      0  \n",
       "284804      0  \n",
       "284805      0  \n",
       "284806      0  \n",
       "\n",
       "[10 rows x 31 columns]"
      ]
     },
     "execution_count": 4,
     "metadata": {},
     "output_type": "execute_result"
    }
   ],
   "source": [
    "df.tail(10)"
   ]
  },
  {
   "cell_type": "code",
   "execution_count": 5,
   "id": "d8bcf46b",
   "metadata": {
    "execution": {
     "iopub.execute_input": "2023-07-24T08:49:52.532854Z",
     "iopub.status.busy": "2023-07-24T08:49:52.532451Z",
     "iopub.status.idle": "2023-07-24T08:49:52.538634Z",
     "shell.execute_reply": "2023-07-24T08:49:52.537449Z"
    },
    "papermill": {
     "duration": 0.020768,
     "end_time": "2023-07-24T08:49:52.540833",
     "exception": false,
     "start_time": "2023-07-24T08:49:52.520065",
     "status": "completed"
    },
    "tags": []
   },
   "outputs": [
    {
     "data": {
      "text/plain": [
       "(284807, 31)"
      ]
     },
     "execution_count": 5,
     "metadata": {},
     "output_type": "execute_result"
    }
   ],
   "source": [
    "df.shape"
   ]
  },
  {
   "cell_type": "code",
   "execution_count": 6,
   "id": "66f54ed0",
   "metadata": {
    "execution": {
     "iopub.execute_input": "2023-07-24T08:49:52.564545Z",
     "iopub.status.busy": "2023-07-24T08:49:52.563698Z",
     "iopub.status.idle": "2023-07-24T08:49:52.603203Z",
     "shell.execute_reply": "2023-07-24T08:49:52.601809Z"
    },
    "papermill": {
     "duration": 0.054454,
     "end_time": "2023-07-24T08:49:52.606041",
     "exception": false,
     "start_time": "2023-07-24T08:49:52.551587",
     "status": "completed"
    },
    "tags": []
   },
   "outputs": [
    {
     "name": "stdout",
     "output_type": "stream",
     "text": [
      "<class 'pandas.core.frame.DataFrame'>\n",
      "RangeIndex: 284807 entries, 0 to 284806\n",
      "Data columns (total 31 columns):\n",
      " #   Column  Non-Null Count   Dtype  \n",
      "---  ------  --------------   -----  \n",
      " 0   Time    284807 non-null  float64\n",
      " 1   V1      284807 non-null  float64\n",
      " 2   V2      284807 non-null  float64\n",
      " 3   V3      284807 non-null  float64\n",
      " 4   V4      284807 non-null  float64\n",
      " 5   V5      284807 non-null  float64\n",
      " 6   V6      284807 non-null  float64\n",
      " 7   V7      284807 non-null  float64\n",
      " 8   V8      284807 non-null  float64\n",
      " 9   V9      284807 non-null  float64\n",
      " 10  V10     284807 non-null  float64\n",
      " 11  V11     284807 non-null  float64\n",
      " 12  V12     284807 non-null  float64\n",
      " 13  V13     284807 non-null  float64\n",
      " 14  V14     284807 non-null  float64\n",
      " 15  V15     284807 non-null  float64\n",
      " 16  V16     284807 non-null  float64\n",
      " 17  V17     284807 non-null  float64\n",
      " 18  V18     284807 non-null  float64\n",
      " 19  V19     284807 non-null  float64\n",
      " 20  V20     284807 non-null  float64\n",
      " 21  V21     284807 non-null  float64\n",
      " 22  V22     284807 non-null  float64\n",
      " 23  V23     284807 non-null  float64\n",
      " 24  V24     284807 non-null  float64\n",
      " 25  V25     284807 non-null  float64\n",
      " 26  V26     284807 non-null  float64\n",
      " 27  V27     284807 non-null  float64\n",
      " 28  V28     284807 non-null  float64\n",
      " 29  Amount  284807 non-null  float64\n",
      " 30  Class   284807 non-null  int64  \n",
      "dtypes: float64(30), int64(1)\n",
      "memory usage: 67.4 MB\n"
     ]
    }
   ],
   "source": [
    "df.info()"
   ]
  },
  {
   "cell_type": "code",
   "execution_count": 7,
   "id": "dd2758e2",
   "metadata": {
    "execution": {
     "iopub.execute_input": "2023-07-24T08:49:52.630062Z",
     "iopub.status.busy": "2023-07-24T08:49:52.629695Z",
     "iopub.status.idle": "2023-07-24T08:49:52.641135Z",
     "shell.execute_reply": "2023-07-24T08:49:52.639974Z"
    },
    "papermill": {
     "duration": 0.02606,
     "end_time": "2023-07-24T08:49:52.643293",
     "exception": false,
     "start_time": "2023-07-24T08:49:52.617233",
     "status": "completed"
    },
    "tags": []
   },
   "outputs": [
    {
     "data": {
      "text/plain": [
       "0    284315\n",
       "1       492\n",
       "Name: Class, dtype: int64"
      ]
     },
     "execution_count": 7,
     "metadata": {},
     "output_type": "execute_result"
    }
   ],
   "source": [
    "df[\"Class\"].value_counts()"
   ]
  },
  {
   "cell_type": "code",
   "execution_count": 8,
   "id": "76d06cf3",
   "metadata": {
    "execution": {
     "iopub.execute_input": "2023-07-24T08:49:52.667644Z",
     "iopub.status.busy": "2023-07-24T08:49:52.667205Z",
     "iopub.status.idle": "2023-07-24T08:49:52.722235Z",
     "shell.execute_reply": "2023-07-24T08:49:52.721160Z"
    },
    "papermill": {
     "duration": 0.06986,
     "end_time": "2023-07-24T08:49:52.724721",
     "exception": false,
     "start_time": "2023-07-24T08:49:52.654861",
     "status": "completed"
    },
    "tags": []
   },
   "outputs": [
    {
     "data": {
      "text/html": [
       "<div>\n",
       "<style scoped>\n",
       "    .dataframe tbody tr th:only-of-type {\n",
       "        vertical-align: middle;\n",
       "    }\n",
       "\n",
       "    .dataframe tbody tr th {\n",
       "        vertical-align: top;\n",
       "    }\n",
       "\n",
       "    .dataframe thead th {\n",
       "        text-align: right;\n",
       "    }\n",
       "</style>\n",
       "<table border=\"1\" class=\"dataframe\">\n",
       "  <thead>\n",
       "    <tr style=\"text-align: right;\">\n",
       "      <th></th>\n",
       "      <th>V1</th>\n",
       "      <th>V2</th>\n",
       "      <th>V3</th>\n",
       "      <th>V4</th>\n",
       "      <th>V5</th>\n",
       "      <th>V6</th>\n",
       "      <th>V7</th>\n",
       "      <th>V8</th>\n",
       "      <th>V9</th>\n",
       "      <th>V10</th>\n",
       "      <th>...</th>\n",
       "      <th>V21</th>\n",
       "      <th>V22</th>\n",
       "      <th>V23</th>\n",
       "      <th>V24</th>\n",
       "      <th>V25</th>\n",
       "      <th>V26</th>\n",
       "      <th>V27</th>\n",
       "      <th>V28</th>\n",
       "      <th>Amount</th>\n",
       "      <th>Class</th>\n",
       "    </tr>\n",
       "  </thead>\n",
       "  <tbody>\n",
       "    <tr>\n",
       "      <th>0</th>\n",
       "      <td>-1.359807</td>\n",
       "      <td>-0.072781</td>\n",
       "      <td>2.536347</td>\n",
       "      <td>1.378155</td>\n",
       "      <td>-0.338321</td>\n",
       "      <td>0.462388</td>\n",
       "      <td>0.239599</td>\n",
       "      <td>0.098698</td>\n",
       "      <td>0.363787</td>\n",
       "      <td>0.090794</td>\n",
       "      <td>...</td>\n",
       "      <td>-0.018307</td>\n",
       "      <td>0.277838</td>\n",
       "      <td>-0.110474</td>\n",
       "      <td>0.066928</td>\n",
       "      <td>0.128539</td>\n",
       "      <td>-0.189115</td>\n",
       "      <td>0.133558</td>\n",
       "      <td>-0.021053</td>\n",
       "      <td>149.62</td>\n",
       "      <td>0</td>\n",
       "    </tr>\n",
       "    <tr>\n",
       "      <th>1</th>\n",
       "      <td>1.191857</td>\n",
       "      <td>0.266151</td>\n",
       "      <td>0.166480</td>\n",
       "      <td>0.448154</td>\n",
       "      <td>0.060018</td>\n",
       "      <td>-0.082361</td>\n",
       "      <td>-0.078803</td>\n",
       "      <td>0.085102</td>\n",
       "      <td>-0.255425</td>\n",
       "      <td>-0.166974</td>\n",
       "      <td>...</td>\n",
       "      <td>-0.225775</td>\n",
       "      <td>-0.638672</td>\n",
       "      <td>0.101288</td>\n",
       "      <td>-0.339846</td>\n",
       "      <td>0.167170</td>\n",
       "      <td>0.125895</td>\n",
       "      <td>-0.008983</td>\n",
       "      <td>0.014724</td>\n",
       "      <td>2.69</td>\n",
       "      <td>0</td>\n",
       "    </tr>\n",
       "    <tr>\n",
       "      <th>2</th>\n",
       "      <td>-1.358354</td>\n",
       "      <td>-1.340163</td>\n",
       "      <td>1.773209</td>\n",
       "      <td>0.379780</td>\n",
       "      <td>-0.503198</td>\n",
       "      <td>1.800499</td>\n",
       "      <td>0.791461</td>\n",
       "      <td>0.247676</td>\n",
       "      <td>-1.514654</td>\n",
       "      <td>0.207643</td>\n",
       "      <td>...</td>\n",
       "      <td>0.247998</td>\n",
       "      <td>0.771679</td>\n",
       "      <td>0.909412</td>\n",
       "      <td>-0.689281</td>\n",
       "      <td>-0.327642</td>\n",
       "      <td>-0.139097</td>\n",
       "      <td>-0.055353</td>\n",
       "      <td>-0.059752</td>\n",
       "      <td>378.66</td>\n",
       "      <td>0</td>\n",
       "    </tr>\n",
       "    <tr>\n",
       "      <th>3</th>\n",
       "      <td>-0.966272</td>\n",
       "      <td>-0.185226</td>\n",
       "      <td>1.792993</td>\n",
       "      <td>-0.863291</td>\n",
       "      <td>-0.010309</td>\n",
       "      <td>1.247203</td>\n",
       "      <td>0.237609</td>\n",
       "      <td>0.377436</td>\n",
       "      <td>-1.387024</td>\n",
       "      <td>-0.054952</td>\n",
       "      <td>...</td>\n",
       "      <td>-0.108300</td>\n",
       "      <td>0.005274</td>\n",
       "      <td>-0.190321</td>\n",
       "      <td>-1.175575</td>\n",
       "      <td>0.647376</td>\n",
       "      <td>-0.221929</td>\n",
       "      <td>0.062723</td>\n",
       "      <td>0.061458</td>\n",
       "      <td>123.50</td>\n",
       "      <td>0</td>\n",
       "    </tr>\n",
       "    <tr>\n",
       "      <th>4</th>\n",
       "      <td>-1.158233</td>\n",
       "      <td>0.877737</td>\n",
       "      <td>1.548718</td>\n",
       "      <td>0.403034</td>\n",
       "      <td>-0.407193</td>\n",
       "      <td>0.095921</td>\n",
       "      <td>0.592941</td>\n",
       "      <td>-0.270533</td>\n",
       "      <td>0.817739</td>\n",
       "      <td>0.753074</td>\n",
       "      <td>...</td>\n",
       "      <td>-0.009431</td>\n",
       "      <td>0.798278</td>\n",
       "      <td>-0.137458</td>\n",
       "      <td>0.141267</td>\n",
       "      <td>-0.206010</td>\n",
       "      <td>0.502292</td>\n",
       "      <td>0.219422</td>\n",
       "      <td>0.215153</td>\n",
       "      <td>69.99</td>\n",
       "      <td>0</td>\n",
       "    </tr>\n",
       "  </tbody>\n",
       "</table>\n",
       "<p>5 rows × 30 columns</p>\n",
       "</div>"
      ],
      "text/plain": [
       "         V1        V2        V3        V4        V5        V6        V7  \\\n",
       "0 -1.359807 -0.072781  2.536347  1.378155 -0.338321  0.462388  0.239599   \n",
       "1  1.191857  0.266151  0.166480  0.448154  0.060018 -0.082361 -0.078803   \n",
       "2 -1.358354 -1.340163  1.773209  0.379780 -0.503198  1.800499  0.791461   \n",
       "3 -0.966272 -0.185226  1.792993 -0.863291 -0.010309  1.247203  0.237609   \n",
       "4 -1.158233  0.877737  1.548718  0.403034 -0.407193  0.095921  0.592941   \n",
       "\n",
       "         V8        V9       V10  ...       V21       V22       V23       V24  \\\n",
       "0  0.098698  0.363787  0.090794  ... -0.018307  0.277838 -0.110474  0.066928   \n",
       "1  0.085102 -0.255425 -0.166974  ... -0.225775 -0.638672  0.101288 -0.339846   \n",
       "2  0.247676 -1.514654  0.207643  ...  0.247998  0.771679  0.909412 -0.689281   \n",
       "3  0.377436 -1.387024 -0.054952  ... -0.108300  0.005274 -0.190321 -1.175575   \n",
       "4 -0.270533  0.817739  0.753074  ... -0.009431  0.798278 -0.137458  0.141267   \n",
       "\n",
       "        V25       V26       V27       V28  Amount  Class  \n",
       "0  0.128539 -0.189115  0.133558 -0.021053  149.62      0  \n",
       "1  0.167170  0.125895 -0.008983  0.014724    2.69      0  \n",
       "2 -0.327642 -0.139097 -0.055353 -0.059752  378.66      0  \n",
       "3  0.647376 -0.221929  0.062723  0.061458  123.50      0  \n",
       "4 -0.206010  0.502292  0.219422  0.215153   69.99      0  \n",
       "\n",
       "[5 rows x 30 columns]"
      ]
     },
     "execution_count": 8,
     "metadata": {},
     "output_type": "execute_result"
    }
   ],
   "source": [
    "df = df.drop(['Time'],axis=1)\n",
    "df.head()"
   ]
  },
  {
   "cell_type": "code",
   "execution_count": 9,
   "id": "efaeb244",
   "metadata": {
    "execution": {
     "iopub.execute_input": "2023-07-24T08:49:52.750387Z",
     "iopub.status.busy": "2023-07-24T08:49:52.749735Z",
     "iopub.status.idle": "2023-07-24T08:49:52.756708Z",
     "shell.execute_reply": "2023-07-24T08:49:52.755853Z"
    },
    "papermill": {
     "duration": 0.022531,
     "end_time": "2023-07-24T08:49:52.758728",
     "exception": false,
     "start_time": "2023-07-24T08:49:52.736197",
     "status": "completed"
    },
    "tags": []
   },
   "outputs": [
    {
     "data": {
      "text/plain": [
       "(284807, 30)"
      ]
     },
     "execution_count": 9,
     "metadata": {},
     "output_type": "execute_result"
    }
   ],
   "source": [
    "df.shape"
   ]
  },
  {
   "cell_type": "code",
   "execution_count": 10,
   "id": "6aeadf02",
   "metadata": {
    "execution": {
     "iopub.execute_input": "2023-07-24T08:49:52.784634Z",
     "iopub.status.busy": "2023-07-24T08:49:52.783905Z",
     "iopub.status.idle": "2023-07-24T08:49:53.746009Z",
     "shell.execute_reply": "2023-07-24T08:49:53.744996Z"
    },
    "papermill": {
     "duration": 0.977959,
     "end_time": "2023-07-24T08:49:53.748380",
     "exception": false,
     "start_time": "2023-07-24T08:49:52.770421",
     "status": "completed"
    },
    "tags": []
   },
   "outputs": [
    {
     "data": {
      "text/plain": [
       "True"
      ]
     },
     "execution_count": 10,
     "metadata": {},
     "output_type": "execute_result"
    }
   ],
   "source": [
    "df.duplicated().any()"
   ]
  },
  {
   "cell_type": "code",
   "execution_count": 11,
   "id": "c01030e9",
   "metadata": {
    "execution": {
     "iopub.execute_input": "2023-07-24T08:49:53.774328Z",
     "iopub.status.busy": "2023-07-24T08:49:53.773668Z",
     "iopub.status.idle": "2023-07-24T08:49:54.698535Z",
     "shell.execute_reply": "2023-07-24T08:49:54.697748Z"
    },
    "papermill": {
     "duration": 0.939945,
     "end_time": "2023-07-24T08:49:54.700724",
     "exception": false,
     "start_time": "2023-07-24T08:49:53.760779",
     "status": "completed"
    },
    "tags": []
   },
   "outputs": [
    {
     "data": {
      "text/plain": [
       "(275663, 30)"
      ]
     },
     "execution_count": 11,
     "metadata": {},
     "output_type": "execute_result"
    }
   ],
   "source": [
    "df = df.drop_duplicates()\n",
    "df.shape"
   ]
  },
  {
   "cell_type": "code",
   "execution_count": 12,
   "id": "3ca2f233",
   "metadata": {
    "execution": {
     "iopub.execute_input": "2023-07-24T08:49:54.726373Z",
     "iopub.status.busy": "2023-07-24T08:49:54.725768Z",
     "iopub.status.idle": "2023-07-24T08:49:55.017052Z",
     "shell.execute_reply": "2023-07-24T08:49:55.015985Z"
    },
    "papermill": {
     "duration": 0.306857,
     "end_time": "2023-07-24T08:49:55.019525",
     "exception": false,
     "start_time": "2023-07-24T08:49:54.712668",
     "status": "completed"
    },
    "tags": []
   },
   "outputs": [
    {
     "data": {
      "image/png": "[encoded data removed]",
      "text/plain": [
       "<Figure size 640x480 with 1 Axes>"
      ]
     },
     "metadata": {},
     "output_type": "display_data"
    }
   ],
   "source": [
    "df[\"Class\"].value_counts(normalize=True).plot(\n",
    "    kind=\"bar\", xlabel=\"Class\", ylabel=\"Relative Frequency\", title=\"Class Balance\"\n",
    ");"
   ]
  },
  {
   "cell_type": "code",
   "execution_count": 13,
   "id": "1c3be7fb",
   "metadata": {
    "execution": {
     "iopub.execute_input": "2023-07-24T08:49:55.046448Z",
     "iopub.status.busy": "2023-07-24T08:49:55.045414Z",
     "iopub.status.idle": "2023-07-24T08:50:03.659690Z",
     "shell.execute_reply": "2023-07-24T08:50:03.658870Z"
    },
    "papermill": {
     "duration": 8.632907,
     "end_time": "2023-07-24T08:50:03.664803",
     "exception": false,
     "start_time": "2023-07-24T08:49:55.031896",
     "status": "completed"
    },
    "tags": []
   },
   "outputs": [
    {
     "data": {
      "text/plain": [
       "array([[<Axes: title={'center': 'V1'}>, <Axes: title={'center': 'V2'}>,\n",
       "        <Axes: title={'center': 'V3'}>, <Axes: title={'center': 'V4'}>,\n",
       "        <Axes: title={'center': 'V5'}>],\n",
       "       [<Axes: title={'center': 'V6'}>, <Axes: title={'center': 'V7'}>,\n",
       "        <Axes: title={'center': 'V8'}>, <Axes: title={'center': 'V9'}>,\n",
       "        <Axes: title={'center': 'V10'}>],\n",
       "       [<Axes: title={'center': 'V11'}>, <Axes: title={'center': 'V12'}>,\n",
       "        <Axes: title={'center': 'V13'}>, <Axes: title={'center': 'V14'}>,\n",
       "        <Axes: title={'center': 'V15'}>],\n",
       "       [<Axes: title={'center': 'V16'}>, <Axes: title={'center': 'V17'}>,\n",
       "        <Axes: title={'center': 'V18'}>, <Axes: title={'center': 'V19'}>,\n",
       "        <Axes: title={'center': 'V20'}>],\n",
       "       [<Axes: title={'center': 'V21'}>, <Axes: title={'center': 'V22'}>,\n",
       "        <Axes: title={'center': 'V23'}>, <Axes: title={'center': 'V24'}>,\n",
       "        <Axes: title={'center': 'V25'}>],\n",
       "       [<Axes: title={'center': 'V26'}>, <Axes: title={'center': 'V27'}>,\n",
       "        <Axes: title={'center': 'V28'}>,\n",
       "        <Axes: title={'center': 'Amount'}>,\n",
       "        <Axes: title={'center': 'Class'}>]], dtype=object)"
      ]
     },
     "execution_count": 13,
     "metadata": {},
     "output_type": "execute_result"
    },
    {
     "data": {
      "image/png": "[encoded data removed]",
      "text/plain": [
       "<Figure size 3000x3000 with 30 Axes>"
      ]
     },
     "metadata": {},
     "output_type": "display_data"
    }
   ],
   "source": [
    "df.hist(bins=30, figsize=(30, 30))"
   ]
  },
  {
   "cell_type": "code",
   "execution_count": 14,
   "id": "fa316476",
   "metadata": {
    "execution": {
     "iopub.execute_input": "2023-07-24T08:50:03.699797Z",
     "iopub.status.busy": "2023-07-24T08:50:03.699398Z",
     "iopub.status.idle": "2023-07-24T08:50:04.162243Z",
     "shell.execute_reply": "2023-07-24T08:50:04.161127Z"
    },
    "papermill": {
     "duration": 0.483004,
     "end_time": "2023-07-24T08:50:04.164586",
     "exception": false,
     "start_time": "2023-07-24T08:50:03.681582",
     "status": "completed"
    },
    "tags": []
   },
   "outputs": [
    {
     "data": {
      "text/html": [
       "<div>\n",
       "<style scoped>\n",
       "    .dataframe tbody tr th:only-of-type {\n",
       "        vertical-align: middle;\n",
       "    }\n",
       "\n",
       "    .dataframe tbody tr th {\n",
       "        vertical-align: top;\n",
       "    }\n",
       "\n",
       "    .dataframe thead th {\n",
       "        text-align: right;\n",
       "    }\n",
       "</style>\n",
       "<table border=\"1\" class=\"dataframe\">\n",
       "  <thead>\n",
       "    <tr style=\"text-align: right;\">\n",
       "      <th></th>\n",
       "      <th>V1</th>\n",
       "      <th>V2</th>\n",
       "      <th>V3</th>\n",
       "      <th>V4</th>\n",
       "      <th>V5</th>\n",
       "      <th>V6</th>\n",
       "      <th>V7</th>\n",
       "      <th>V8</th>\n",
       "      <th>V9</th>\n",
       "      <th>V10</th>\n",
       "      <th>...</th>\n",
       "      <th>V21</th>\n",
       "      <th>V22</th>\n",
       "      <th>V23</th>\n",
       "      <th>V24</th>\n",
       "      <th>V25</th>\n",
       "      <th>V26</th>\n",
       "      <th>V27</th>\n",
       "      <th>V28</th>\n",
       "      <th>Amount</th>\n",
       "      <th>Class</th>\n",
       "    </tr>\n",
       "  </thead>\n",
       "  <tbody>\n",
       "    <tr>\n",
       "      <th>count</th>\n",
       "      <td>275663.000000</td>\n",
       "      <td>275663.000000</td>\n",
       "      <td>275663.000000</td>\n",
       "      <td>275663.000000</td>\n",
       "      <td>275663.000000</td>\n",
       "      <td>275663.000000</td>\n",
       "      <td>275663.000000</td>\n",
       "      <td>275663.000000</td>\n",
       "      <td>275663.000000</td>\n",
       "      <td>275663.000000</td>\n",
       "      <td>...</td>\n",
       "      <td>275663.000000</td>\n",
       "      <td>275663.000000</td>\n",
       "      <td>275663.000000</td>\n",
       "      <td>275663.000000</td>\n",
       "      <td>275663.000000</td>\n",
       "      <td>275663.000000</td>\n",
       "      <td>275663.000000</td>\n",
       "      <td>275663.000000</td>\n",
       "      <td>275663.000000</td>\n",
       "      <td>275663.000000</td>\n",
       "    </tr>\n",
       "    <tr>\n",
       "      <th>mean</th>\n",
       "      <td>-0.037460</td>\n",
       "      <td>-0.002430</td>\n",
       "      <td>0.025520</td>\n",
       "      <td>-0.004359</td>\n",
       "      <td>-0.010660</td>\n",
       "      <td>-0.014206</td>\n",
       "      <td>0.008586</td>\n",
       "      <td>-0.005698</td>\n",
       "      <td>-0.012363</td>\n",
       "      <td>0.003114</td>\n",
       "      <td>...</td>\n",
       "      <td>0.002579</td>\n",
       "      <td>0.005827</td>\n",
       "      <td>-0.001941</td>\n",
       "      <td>-0.006868</td>\n",
       "      <td>-0.004812</td>\n",
       "      <td>-0.000240</td>\n",
       "      <td>0.001921</td>\n",
       "      <td>0.000904</td>\n",
       "      <td>90.578380</td>\n",
       "      <td>0.001716</td>\n",
       "    </tr>\n",
       "    <tr>\n",
       "      <th>std</th>\n",
       "      <td>1.952522</td>\n",
       "      <td>1.667260</td>\n",
       "      <td>1.507538</td>\n",
       "      <td>1.424323</td>\n",
       "      <td>1.378117</td>\n",
       "      <td>1.313213</td>\n",
       "      <td>1.240348</td>\n",
       "      <td>1.191596</td>\n",
       "      <td>1.100108</td>\n",
       "      <td>1.087025</td>\n",
       "      <td>...</td>\n",
       "      <td>0.733089</td>\n",
       "      <td>0.726378</td>\n",
       "      <td>0.631451</td>\n",
       "      <td>0.605550</td>\n",
       "      <td>0.524175</td>\n",
       "      <td>0.484139</td>\n",
       "      <td>0.401271</td>\n",
       "      <td>0.332649</td>\n",
       "      <td>253.213954</td>\n",
       "      <td>0.041388</td>\n",
       "    </tr>\n",
       "    <tr>\n",
       "      <th>min</th>\n",
       "      <td>-56.407510</td>\n",
       "      <td>-72.715728</td>\n",
       "      <td>-48.325589</td>\n",
       "      <td>-5.683171</td>\n",
       "      <td>-113.743307</td>\n",
       "      <td>-26.160506</td>\n",
       "      <td>-43.557242</td>\n",
       "      <td>-73.216718</td>\n",
       "      <td>-13.434066</td>\n",
       "      <td>-24.588262</td>\n",
       "      <td>...</td>\n",
       "      <td>-34.830382</td>\n",
       "      <td>-10.933144</td>\n",
       "      <td>-44.807735</td>\n",
       "      <td>-2.836627</td>\n",
       "      <td>-10.295397</td>\n",
       "      <td>-2.604551</td>\n",
       "      <td>-22.565679</td>\n",
       "      <td>-15.430084</td>\n",
       "      <td>0.000000</td>\n",
       "      <td>0.000000</td>\n",
       "    </tr>\n",
       "    <tr>\n",
       "      <th>25%</th>\n",
       "      <td>-0.941105</td>\n",
       "      <td>-0.614040</td>\n",
       "      <td>-0.843168</td>\n",
       "      <td>-0.862847</td>\n",
       "      <td>-0.700192</td>\n",
       "      <td>-0.765861</td>\n",
       "      <td>-0.552047</td>\n",
       "      <td>-0.209618</td>\n",
       "      <td>-0.659904</td>\n",
       "      <td>-0.538968</td>\n",
       "      <td>...</td>\n",
       "      <td>-0.225021</td>\n",
       "      <td>-0.532173</td>\n",
       "      <td>-0.165440</td>\n",
       "      <td>-0.361062</td>\n",
       "      <td>-0.323597</td>\n",
       "      <td>-0.328290</td>\n",
       "      <td>-0.071729</td>\n",
       "      <td>-0.052654</td>\n",
       "      <td>6.300000</td>\n",
       "      <td>0.000000</td>\n",
       "    </tr>\n",
       "    <tr>\n",
       "      <th>50%</th>\n",
       "      <td>-0.059659</td>\n",
       "      <td>0.070249</td>\n",
       "      <td>0.200736</td>\n",
       "      <td>-0.035098</td>\n",
       "      <td>-0.060556</td>\n",
       "      <td>-0.270931</td>\n",
       "      <td>0.044848</td>\n",
       "      <td>0.022980</td>\n",
       "      <td>-0.064724</td>\n",
       "      <td>-0.091752</td>\n",
       "      <td>...</td>\n",
       "      <td>-0.025637</td>\n",
       "      <td>0.013397</td>\n",
       "      <td>-0.013655</td>\n",
       "      <td>0.037569</td>\n",
       "      <td>0.009909</td>\n",
       "      <td>-0.056667</td>\n",
       "      <td>0.002615</td>\n",
       "      <td>0.011788</td>\n",
       "      <td>23.740000</td>\n",
       "      <td>0.000000</td>\n",
       "    </tr>\n",
       "    <tr>\n",
       "      <th>75%</th>\n",
       "      <td>1.294471</td>\n",
       "      <td>0.819067</td>\n",
       "      <td>1.048461</td>\n",
       "      <td>0.753943</td>\n",
       "      <td>0.604521</td>\n",
       "      <td>0.387704</td>\n",
       "      <td>0.583885</td>\n",
       "      <td>0.322319</td>\n",
       "      <td>0.593098</td>\n",
       "      <td>0.470702</td>\n",
       "      <td>...</td>\n",
       "      <td>0.189118</td>\n",
       "      <td>0.534272</td>\n",
       "      <td>0.145482</td>\n",
       "      <td>0.432931</td>\n",
       "      <td>0.347151</td>\n",
       "      <td>0.244196</td>\n",
       "      <td>0.094730</td>\n",
       "      <td>0.081355</td>\n",
       "      <td>79.910000</td>\n",
       "      <td>0.000000</td>\n",
       "    </tr>\n",
       "    <tr>\n",
       "      <th>max</th>\n",
       "      <td>2.454930</td>\n",
       "      <td>22.057729</td>\n",
       "      <td>9.382558</td>\n",
       "      <td>16.875344</td>\n",
       "      <td>34.801666</td>\n",
       "      <td>73.301626</td>\n",
       "      <td>120.589494</td>\n",
       "      <td>20.007208</td>\n",
       "      <td>15.594995</td>\n",
       "      <td>23.745136</td>\n",
       "      <td>...</td>\n",
       "      <td>27.202839</td>\n",
       "      <td>10.503090</td>\n",
       "      <td>22.528412</td>\n",
       "      <td>4.584549</td>\n",
       "      <td>7.519589</td>\n",
       "      <td>3.517346</td>\n",
       "      <td>31.612198</td>\n",
       "      <td>33.847808</td>\n",
       "      <td>25691.160000</td>\n",
       "      <td>1.000000</td>\n",
       "    </tr>\n",
       "  </tbody>\n",
       "</table>\n",
       "<p>8 rows × 30 columns</p>\n",
       "</div>"
      ],
      "text/plain": [
       "                  V1             V2             V3             V4  \\\n",
       "count  275663.000000  275663.000000  275663.000000  275663.000000   \n",
       "mean       -0.037460      -0.002430       0.025520      -0.004359   \n",
       "std         1.952522       1.667260       1.507538       1.424323   \n",
       "min       -56.407510     -72.715728     -48.325589      -5.683171   \n",
       "25%        -0.941105      -0.614040      -0.843168      -0.862847   \n",
       "50%        -0.059659       0.070249       0.200736      -0.035098   \n",
       "75%         1.294471       0.819067       1.048461       0.753943   \n",
       "max         2.454930      22.057729       9.382558      16.875344   \n",
       "\n",
       "                  V5             V6             V7             V8  \\\n",
       "count  275663.000000  275663.000000  275663.000000  275663.000000   \n",
       "mean       -0.010660      -0.014206       0.008586      -0.005698   \n",
       "std         1.378117       1.313213       1.240348       1.191596   \n",
       "min      -113.743307     -26.160506     -43.557242     -73.216718   \n",
       "25%        -0.700192      -0.765861      -0.552047      -0.209618   \n",
       "50%        -0.060556      -0.270931       0.044848       0.022980   \n",
       "75%         0.604521       0.387704       0.583885       0.322319   \n",
       "max        34.801666      73.301626     120.589494      20.007208   \n",
       "\n",
       "                  V9            V10  ...            V21            V22  \\\n",
       "count  275663.000000  275663.000000  ...  275663.000000  275663.000000   \n",
       "mean       -0.012363       0.003114  ...       0.002579       0.005827   \n",
       "std         1.100108       1.087025  ...       0.733089       0.726378   \n",
       "min       -13.434066     -24.588262  ...     -34.830382     -10.933144   \n",
       "25%        -0.659904      -0.538968  ...      -0.225021      -0.532173   \n",
       "50%        -0.064724      -0.091752  ...      -0.025637       0.013397   \n",
       "75%         0.593098       0.470702  ...       0.189118       0.534272   \n",
       "max        15.594995      23.745136  ...      27.202839      10.503090   \n",
       "\n",
       "                 V23            V24            V25            V26  \\\n",
       "count  275663.000000  275663.000000  275663.000000  275663.000000   \n",
       "mean       -0.001941      -0.006868      -0.004812      -0.000240   \n",
       "std         0.631451       0.605550       0.524175       0.484139   \n",
       "min       -44.807735      -2.836627     -10.295397      -2.604551   \n",
       "25%        -0.165440      -0.361062      -0.323597      -0.328290   \n",
       "50%        -0.013655       0.037569       0.009909      -0.056667   \n",
       "75%         0.145482       0.432931       0.347151       0.244196   \n",
       "max        22.528412       4.584549       7.519589       3.517346   \n",
       "\n",
       "                 V27            V28         Amount          Class  \n",
       "count  275663.000000  275663.000000  275663.000000  275663.000000  \n",
       "mean        0.001921       0.000904      90.578380       0.001716  \n",
       "std         0.401271       0.332649     253.213954       0.041388  \n",
       "min       -22.565679     -15.430084       0.000000       0.000000  \n",
       "25%        -0.071729      -0.052654       6.300000       0.000000  \n",
       "50%         0.002615       0.011788      23.740000       0.000000  \n",
       "75%         0.094730       0.081355      79.910000       0.000000  \n",
       "max        31.612198      33.847808   25691.160000       1.000000  \n",
       "\n",
       "[8 rows x 30 columns]"
      ]
     },
     "execution_count": 14,
     "metadata": {},
     "output_type": "execute_result"
    }
   ],
   "source": [
    "df.describe()"
   ]
  },
  {
   "cell_type": "markdown",
   "id": "189c83b0",
   "metadata": {
    "execution": {
     "iopub.execute_input": "2023-07-23T12:41:50.382994Z",
     "iopub.status.busy": "2023-07-23T12:41:50.382530Z",
     "iopub.status.idle": "2023-07-23T12:41:50.391984Z",
     "shell.execute_reply": "2023-07-23T12:41:50.390206Z",
     "shell.execute_reply.started": "2023-07-23T12:41:50.382959Z"
    },
    "papermill": {
     "duration": 0.01817,
     "end_time": "2023-07-24T08:50:04.200295",
     "exception": false,
     "start_time": "2023-07-24T08:50:04.182125",
     "status": "completed"
    },
    "tags": []
   },
   "source": [
    "Scaling the dataset"
   ]
  },
  {
   "cell_type": "code",
   "execution_count": 15,
   "id": "e31cd5cb",
   "metadata": {
    "execution": {
     "iopub.execute_input": "2023-07-24T08:50:04.237860Z",
     "iopub.status.busy": "2023-07-24T08:50:04.237154Z",
     "iopub.status.idle": "2023-07-24T08:50:04.727274Z",
     "shell.execute_reply": "2023-07-24T08:50:04.726174Z"
    },
    "papermill": {
     "duration": 0.511271,
     "end_time": "2023-07-24T08:50:04.729698",
     "exception": false,
     "start_time": "2023-07-24T08:50:04.218427",
     "status": "completed"
    },
    "tags": []
   },
   "outputs": [
    {
     "data": {
      "image/png": "[encoded data removed]",
      "text/plain": [
       "<Figure size 640x480 with 1 Axes>"
      ]
     },
     "metadata": {},
     "output_type": "display_data"
    }
   ],
   "source": [
    "from sklearn.preprocessing import RobustScaler\n",
    "new_df = df.copy()\n",
    "new_df['Amount'] = RobustScaler().fit_transform(new_df['Amount'].to_numpy().reshape(-1, 1))\n",
    "new_df['Amount'].hist();"
   ]
  },
  {
   "cell_type": "code",
   "execution_count": 16,
   "id": "a77a6222",
   "metadata": {
    "execution": {
     "iopub.execute_input": "2023-07-24T08:50:04.767623Z",
     "iopub.status.busy": "2023-07-24T08:50:04.767204Z",
     "iopub.status.idle": "2023-07-24T08:50:04.792531Z",
     "shell.execute_reply": "2023-07-24T08:50:04.791335Z"
    },
    "papermill": {
     "duration": 0.047416,
     "end_time": "2023-07-24T08:50:04.794957",
     "exception": false,
     "start_time": "2023-07-24T08:50:04.747541",
     "status": "completed"
    },
    "tags": []
   },
   "outputs": [
    {
     "data": {
      "text/plain": [
       "count    275663.000000\n",
       "mean          0.908007\n",
       "std           3.439940\n",
       "min          -0.322511\n",
       "25%          -0.236924\n",
       "50%           0.000000\n",
       "75%           0.763076\n",
       "max         348.694743\n",
       "Name: Amount, dtype: float64"
      ]
     },
     "execution_count": 16,
     "metadata": {},
     "output_type": "execute_result"
    }
   ],
   "source": [
    "new_df['Amount'].describe()"
   ]
  },
  {
   "cell_type": "markdown",
   "id": "3fe42613",
   "metadata": {
    "papermill": {
     "duration": 0.017306,
     "end_time": "2023-07-24T08:50:04.830277",
     "exception": false,
     "start_time": "2023-07-24T08:50:04.812971",
     "status": "completed"
    },
    "tags": []
   },
   "source": [
    "Copying the contents of the data into new_df"
   ]
  },
  {
   "cell_type": "code",
   "execution_count": 17,
   "id": "265395f6",
   "metadata": {
    "execution": {
     "iopub.execute_input": "2023-07-24T08:50:04.867469Z",
     "iopub.status.busy": "2023-07-24T08:50:04.866643Z",
     "iopub.status.idle": "2023-07-24T08:50:04.892327Z",
     "shell.execute_reply": "2023-07-24T08:50:04.891199Z"
    },
    "papermill": {
     "duration": 0.046387,
     "end_time": "2023-07-24T08:50:04.894425",
     "exception": false,
     "start_time": "2023-07-24T08:50:04.848038",
     "status": "completed"
    },
    "tags": []
   },
   "outputs": [
    {
     "data": {
      "text/html": [
       "<div>\n",
       "<style scoped>\n",
       "    .dataframe tbody tr th:only-of-type {\n",
       "        vertical-align: middle;\n",
       "    }\n",
       "\n",
       "    .dataframe tbody tr th {\n",
       "        vertical-align: top;\n",
       "    }\n",
       "\n",
       "    .dataframe thead th {\n",
       "        text-align: right;\n",
       "    }\n",
       "</style>\n",
       "<table border=\"1\" class=\"dataframe\">\n",
       "  <thead>\n",
       "    <tr style=\"text-align: right;\">\n",
       "      <th></th>\n",
       "      <th>V1</th>\n",
       "      <th>V2</th>\n",
       "      <th>V3</th>\n",
       "      <th>V4</th>\n",
       "      <th>V5</th>\n",
       "      <th>V6</th>\n",
       "      <th>V7</th>\n",
       "      <th>V8</th>\n",
       "      <th>V9</th>\n",
       "      <th>V10</th>\n",
       "      <th>...</th>\n",
       "      <th>V21</th>\n",
       "      <th>V22</th>\n",
       "      <th>V23</th>\n",
       "      <th>V24</th>\n",
       "      <th>V25</th>\n",
       "      <th>V26</th>\n",
       "      <th>V27</th>\n",
       "      <th>V28</th>\n",
       "      <th>Amount</th>\n",
       "      <th>Class</th>\n",
       "    </tr>\n",
       "  </thead>\n",
       "  <tbody>\n",
       "    <tr>\n",
       "      <th>0</th>\n",
       "      <td>-1.359807</td>\n",
       "      <td>-0.072781</td>\n",
       "      <td>2.536347</td>\n",
       "      <td>1.378155</td>\n",
       "      <td>-0.338321</td>\n",
       "      <td>0.462388</td>\n",
       "      <td>0.239599</td>\n",
       "      <td>0.098698</td>\n",
       "      <td>0.363787</td>\n",
       "      <td>0.090794</td>\n",
       "      <td>...</td>\n",
       "      <td>-0.018307</td>\n",
       "      <td>0.277838</td>\n",
       "      <td>-0.110474</td>\n",
       "      <td>0.066928</td>\n",
       "      <td>0.128539</td>\n",
       "      <td>-0.189115</td>\n",
       "      <td>0.133558</td>\n",
       "      <td>-0.021053</td>\n",
       "      <td>1.710094</td>\n",
       "      <td>0</td>\n",
       "    </tr>\n",
       "    <tr>\n",
       "      <th>1</th>\n",
       "      <td>1.191857</td>\n",
       "      <td>0.266151</td>\n",
       "      <td>0.166480</td>\n",
       "      <td>0.448154</td>\n",
       "      <td>0.060018</td>\n",
       "      <td>-0.082361</td>\n",
       "      <td>-0.078803</td>\n",
       "      <td>0.085102</td>\n",
       "      <td>-0.255425</td>\n",
       "      <td>-0.166974</td>\n",
       "      <td>...</td>\n",
       "      <td>-0.225775</td>\n",
       "      <td>-0.638672</td>\n",
       "      <td>0.101288</td>\n",
       "      <td>-0.339846</td>\n",
       "      <td>0.167170</td>\n",
       "      <td>0.125895</td>\n",
       "      <td>-0.008983</td>\n",
       "      <td>0.014724</td>\n",
       "      <td>-0.285967</td>\n",
       "      <td>0</td>\n",
       "    </tr>\n",
       "    <tr>\n",
       "      <th>2</th>\n",
       "      <td>-1.358354</td>\n",
       "      <td>-1.340163</td>\n",
       "      <td>1.773209</td>\n",
       "      <td>0.379780</td>\n",
       "      <td>-0.503198</td>\n",
       "      <td>1.800499</td>\n",
       "      <td>0.791461</td>\n",
       "      <td>0.247676</td>\n",
       "      <td>-1.514654</td>\n",
       "      <td>0.207643</td>\n",
       "      <td>...</td>\n",
       "      <td>0.247998</td>\n",
       "      <td>0.771679</td>\n",
       "      <td>0.909412</td>\n",
       "      <td>-0.689281</td>\n",
       "      <td>-0.327642</td>\n",
       "      <td>-0.139097</td>\n",
       "      <td>-0.055353</td>\n",
       "      <td>-0.059752</td>\n",
       "      <td>4.821627</td>\n",
       "      <td>0</td>\n",
       "    </tr>\n",
       "    <tr>\n",
       "      <th>3</th>\n",
       "      <td>-0.966272</td>\n",
       "      <td>-0.185226</td>\n",
       "      <td>1.792993</td>\n",
       "      <td>-0.863291</td>\n",
       "      <td>-0.010309</td>\n",
       "      <td>1.247203</td>\n",
       "      <td>0.237609</td>\n",
       "      <td>0.377436</td>\n",
       "      <td>-1.387024</td>\n",
       "      <td>-0.054952</td>\n",
       "      <td>...</td>\n",
       "      <td>-0.108300</td>\n",
       "      <td>0.005274</td>\n",
       "      <td>-0.190321</td>\n",
       "      <td>-1.175575</td>\n",
       "      <td>0.647376</td>\n",
       "      <td>-0.221929</td>\n",
       "      <td>0.062723</td>\n",
       "      <td>0.061458</td>\n",
       "      <td>1.355251</td>\n",
       "      <td>0</td>\n",
       "    </tr>\n",
       "    <tr>\n",
       "      <th>4</th>\n",
       "      <td>-1.158233</td>\n",
       "      <td>0.877737</td>\n",
       "      <td>1.548718</td>\n",
       "      <td>0.403034</td>\n",
       "      <td>-0.407193</td>\n",
       "      <td>0.095921</td>\n",
       "      <td>0.592941</td>\n",
       "      <td>-0.270533</td>\n",
       "      <td>0.817739</td>\n",
       "      <td>0.753074</td>\n",
       "      <td>...</td>\n",
       "      <td>-0.009431</td>\n",
       "      <td>0.798278</td>\n",
       "      <td>-0.137458</td>\n",
       "      <td>0.141267</td>\n",
       "      <td>-0.206010</td>\n",
       "      <td>0.502292</td>\n",
       "      <td>0.219422</td>\n",
       "      <td>0.215153</td>\n",
       "      <td>0.628311</td>\n",
       "      <td>0</td>\n",
       "    </tr>\n",
       "  </tbody>\n",
       "</table>\n",
       "<p>5 rows × 30 columns</p>\n",
       "</div>"
      ],
      "text/plain": [
       "         V1        V2        V3        V4        V5        V6        V7  \\\n",
       "0 -1.359807 -0.072781  2.536347  1.378155 -0.338321  0.462388  0.239599   \n",
       "1  1.191857  0.266151  0.166480  0.448154  0.060018 -0.082361 -0.078803   \n",
       "2 -1.358354 -1.340163  1.773209  0.379780 -0.503198  1.800499  0.791461   \n",
       "3 -0.966272 -0.185226  1.792993 -0.863291 -0.010309  1.247203  0.237609   \n",
       "4 -1.158233  0.877737  1.548718  0.403034 -0.407193  0.095921  0.592941   \n",
       "\n",
       "         V8        V9       V10  ...       V21       V22       V23       V24  \\\n",
       "0  0.098698  0.363787  0.090794  ... -0.018307  0.277838 -0.110474  0.066928   \n",
       "1  0.085102 -0.255425 -0.166974  ... -0.225775 -0.638672  0.101288 -0.339846   \n",
       "2  0.247676 -1.514654  0.207643  ...  0.247998  0.771679  0.909412 -0.689281   \n",
       "3  0.377436 -1.387024 -0.054952  ... -0.108300  0.005274 -0.190321 -1.175575   \n",
       "4 -0.270533  0.817739  0.753074  ... -0.009431  0.798278 -0.137458  0.141267   \n",
       "\n",
       "        V25       V26       V27       V28    Amount  Class  \n",
       "0  0.128539 -0.189115  0.133558 -0.021053  1.710094      0  \n",
       "1  0.167170  0.125895 -0.008983  0.014724 -0.285967      0  \n",
       "2 -0.327642 -0.139097 -0.055353 -0.059752  4.821627      0  \n",
       "3  0.647376 -0.221929  0.062723  0.061458  1.355251      0  \n",
       "4 -0.206010  0.502292  0.219422  0.215153  0.628311      0  \n",
       "\n",
       "[5 rows x 30 columns]"
      ]
     },
     "execution_count": 17,
     "metadata": {},
     "output_type": "execute_result"
    }
   ],
   "source": [
    "new_df.head()"
   ]
  },
  {
   "cell_type": "markdown",
   "id": "0cf21813",
   "metadata": {
    "papermill": {
     "duration": 0.017968,
     "end_time": "2023-07-24T08:50:04.930695",
     "exception": false,
     "start_time": "2023-07-24T08:50:04.912727",
     "status": "completed"
    },
    "tags": []
   },
   "source": [
    "Spliting the dataset into training and testing data"
   ]
  },
  {
   "cell_type": "code",
   "execution_count": 18,
   "id": "8d8bed85",
   "metadata": {
    "execution": {
     "iopub.execute_input": "2023-07-24T08:50:04.968766Z",
     "iopub.status.busy": "2023-07-24T08:50:04.968384Z",
     "iopub.status.idle": "2023-07-24T08:50:04.997743Z",
     "shell.execute_reply": "2023-07-24T08:50:04.996381Z"
    },
    "papermill": {
     "duration": 0.05112,
     "end_time": "2023-07-24T08:50:04.999905",
     "exception": false,
     "start_time": "2023-07-24T08:50:04.948785",
     "status": "completed"
    },
    "tags": []
   },
   "outputs": [],
   "source": [
    "X = new_df.drop('Class',axis=1)\n",
    "y = new_df['Class']"
   ]
  },
  {
   "cell_type": "code",
   "execution_count": 19,
   "id": "4608d527",
   "metadata": {
    "execution": {
     "iopub.execute_input": "2023-07-24T08:50:05.039119Z",
     "iopub.status.busy": "2023-07-24T08:50:05.038752Z",
     "iopub.status.idle": "2023-07-24T08:50:05.296006Z",
     "shell.execute_reply": "2023-07-24T08:50:05.294650Z"
    },
    "papermill": {
     "duration": 0.279476,
     "end_time": "2023-07-24T08:50:05.298352",
     "exception": false,
     "start_time": "2023-07-24T08:50:05.018876",
     "status": "completed"
    },
    "tags": []
   },
   "outputs": [
    {
     "name": "stdout",
     "output_type": "stream",
     "text": [
      "X_train shape: (220530, 29)\n",
      "y_train shape: (220530,)\n",
      "X_test shape: (55133, 29)\n",
      "y_test shape: (55133,)\n"
     ]
    }
   ],
   "source": [
    "from sklearn.model_selection import train_test_split\n",
    "\n",
    "X_train,X_test,y_train,y_test = train_test_split(X,y,test_size=0.20, random_state=42)\n",
    "\n",
    "print(\"X_train shape:\", X_train.shape)\n",
    "print(\"y_train shape:\", y_train.shape)\n",
    "print(\"X_test shape:\", X_test.shape)\n",
    "print(\"y_test shape:\", y_test.shape)"
   ]
  },
  {
   "cell_type": "markdown",
   "id": "b7c4922a",
   "metadata": {
    "papermill": {
     "duration": 0.018388,
     "end_time": "2023-07-24T08:50:05.335327",
     "exception": false,
     "start_time": "2023-07-24T08:50:05.316939",
     "status": "completed"
    },
    "tags": []
   },
   "source": [
    " Building Models with the unbalanced dataset"
   ]
  },
  {
   "cell_type": "markdown",
   "id": "85d83481",
   "metadata": {
    "papermill": {
     "duration": 0.017785,
     "end_time": "2023-07-24T08:50:05.371300",
     "exception": false,
     "start_time": "2023-07-24T08:50:05.353515",
     "status": "completed"
    },
    "tags": []
   },
   "source": [
    "Logistic Regression"
   ]
  },
  {
   "cell_type": "code",
   "execution_count": 20,
   "id": "86935230",
   "metadata": {
    "execution": {
     "iopub.execute_input": "2023-07-24T08:50:05.410673Z",
     "iopub.status.busy": "2023-07-24T08:50:05.409901Z",
     "iopub.status.idle": "2023-07-24T08:50:08.978977Z",
     "shell.execute_reply": "2023-07-24T08:50:08.977483Z"
    },
    "papermill": {
     "duration": 3.592678,
     "end_time": "2023-07-24T08:50:08.982062",
     "exception": false,
     "start_time": "2023-07-24T08:50:05.389384",
     "status": "completed"
    },
    "tags": []
   },
   "outputs": [
    {
     "data": {
      "text/plain": [
       "0.999183784519113"
      ]
     },
     "execution_count": 20,
     "metadata": {},
     "output_type": "execute_result"
    }
   ],
   "source": [
    "from sklearn.linear_model import LogisticRegression\n",
    "\n",
    "logistic_model = LogisticRegression(max_iter=1000)\n",
    "logistic_model.fit(X_train, y_train)\n",
    "logistic_model.score(X_train, y_train)"
   ]
  },
  {
   "cell_type": "code",
   "execution_count": 21,
   "id": "b32fa4f9",
   "metadata": {
    "execution": {
     "iopub.execute_input": "2023-07-24T08:50:09.061068Z",
     "iopub.status.busy": "2023-07-24T08:50:09.060084Z",
     "iopub.status.idle": "2023-07-24T08:50:09.070427Z",
     "shell.execute_reply": "2023-07-24T08:50:09.069231Z"
    },
    "papermill": {
     "duration": 0.059397,
     "end_time": "2023-07-24T08:50:09.073742",
     "exception": false,
     "start_time": "2023-07-24T08:50:09.014345",
     "status": "completed"
    },
    "tags": []
   },
   "outputs": [],
   "source": [
    "# Predicting the result\n",
    "y_pred = logistic_model.predict(X_test)"
   ]
  },
  {
   "cell_type": "code",
   "execution_count": 22,
   "id": "75cc999f",
   "metadata": {
    "execution": {
     "iopub.execute_input": "2023-07-24T08:50:09.140314Z",
     "iopub.status.busy": "2023-07-24T08:50:09.139769Z",
     "iopub.status.idle": "2023-07-24T08:50:09.251771Z",
     "shell.execute_reply": "2023-07-24T08:50:09.250594Z"
    },
    "papermill": {
     "duration": 0.148852,
     "end_time": "2023-07-24T08:50:09.254273",
     "exception": false,
     "start_time": "2023-07-24T08:50:09.105421",
     "status": "completed"
    },
    "tags": []
   },
   "outputs": [
    {
     "name": "stdout",
     "output_type": "stream",
     "text": [
      "accuracy score: 99.92200678359603\n",
      "confusion matrix: [[55035     7]\n",
      " [   36    55]]\n",
      "classification report:               precision    recall  f1-score   support\n",
      "\n",
      "   Not Fraud       1.00      1.00      1.00     55042\n",
      "       Fraud       0.89      0.60      0.72        91\n",
      "\n",
      "    accuracy                           1.00     55133\n",
      "   macro avg       0.94      0.80      0.86     55133\n",
      "weighted avg       1.00      1.00      1.00     55133\n",
      "\n"
     ]
    }
   ],
   "source": [
    "from sklearn.metrics import accuracy_score,confusion_matrix,classification_report\n",
    "\n",
    "ac = accuracy_score(y_test,y_pred)*100\n",
    "cm = confusion_matrix(y_test,y_pred)\n",
    "cr= classification_report(y_test,y_pred, target_names=['Not Fraud', 'Fraud'])\n",
    "print(\"accuracy score:\",ac)\n",
    "print(\"confusion matrix:\",cm)\n",
    "print(\"classification report:\",cr)"
   ]
  },
  {
   "cell_type": "markdown",
   "id": "0cc72cc9",
   "metadata": {
    "papermill": {
     "duration": 0.017929,
     "end_time": "2023-07-24T08:50:09.290297",
     "exception": false,
     "start_time": "2023-07-24T08:50:09.272368",
     "status": "completed"
    },
    "tags": []
   },
   "source": [
    "Random Forest"
   ]
  },
  {
   "cell_type": "code",
   "execution_count": 23,
   "id": "372550e9",
   "metadata": {
    "execution": {
     "iopub.execute_input": "2023-07-24T08:50:09.330147Z",
     "iopub.status.busy": "2023-07-24T08:50:09.328861Z",
     "iopub.status.idle": "2023-07-24T08:50:22.318798Z",
     "shell.execute_reply": "2023-07-24T08:50:22.317886Z"
    },
    "papermill": {
     "duration": 13.011981,
     "end_time": "2023-07-24T08:50:22.321156",
     "exception": false,
     "start_time": "2023-07-24T08:50:09.309175",
     "status": "completed"
    },
    "tags": []
   },
   "outputs": [
    {
     "data": {
      "text/html": [
       "<style>#sk-container-id-1 {color: black;background-color: white;}#sk-container-id-1 pre{padding: 0;}#sk-container-id-1 div.sk-toggleable {background-color: white;}#sk-container-id-1 label.sk-toggleable__label {cursor: pointer;display: block;width: 100%;margin-bottom: 0;padding: 0.3em;box-sizing: border-box;text-align: center;}#sk-container-id-1 label.sk-toggleable__label-arrow:before {content: \"▸\";float: left;margin-right: 0.25em;color: #696969;}#sk-container-id-1 label.sk-toggleable__label-arrow:hover:before {color: black;}#sk-container-id-1 div.sk-estimator:hover label.sk-toggleable__label-arrow:before {color: black;}#sk-container-id-1 div.sk-toggleable__content {max-height: 0;max-width: 0;overflow: hidden;text-align: left;background-color: #f0f8ff;}#sk-container-id-1 div.sk-toggleable__content pre {margin: 0.2em;color: black;border-radius: 0.25em;background-color: #f0f8ff;}#sk-container-id-1 input.sk-toggleable__control:checked~div.sk-toggleable__content {max-height: 200px;max-width: 100%;overflow: auto;}#sk-container-id-1 input.sk-toggleable__control:checked~label.sk-toggleable__label-arrow:before {content: \"▾\";}#sk-container-id-1 div.sk-estimator input.sk-toggleable__control:checked~label.sk-toggleable__label {background-color: #d4ebff;}#sk-container-id-1 div.sk-label input.sk-toggleable__control:checked~label.sk-toggleable__label {background-color: #d4ebff;}#sk-container-id-1 input.sk-hidden--visually {border: 0;clip: rect(1px 1px 1px 1px);clip: rect(1px, 1px, 1px, 1px);height: 1px;margin: -1px;overflow: hidden;padding: 0;position: absolute;width: 1px;}#sk-container-id-1 div.sk-estimator {font-family: monospace;background-color: #f0f8ff;border: 1px dotted black;border-radius: 0.25em;box-sizing: border-box;margin-bottom: 0.5em;}#sk-container-id-1 div.sk-estimator:hover {background-color: #d4ebff;}#sk-container-id-1 div.sk-parallel-item::after {content: \"\";width: 100%;border-bottom: 1px solid gray;flex-grow: 1;}#sk-container-id-1 div.sk-label:hover label.sk-toggleable__label {background-color: #d4ebff;}#sk-container-id-1 div.sk-serial::before {content: \"\";position: absolute;border-left: 1px solid gray;box-sizing: border-box;top: 0;bottom: 0;left: 50%;z-index: 0;}#sk-container-id-1 div.sk-serial {display: flex;flex-direction: column;align-items: center;background-color: white;padding-right: 0.2em;padding-left: 0.2em;position: relative;}#sk-container-id-1 div.sk-item {position: relative;z-index: 1;}#sk-container-id-1 div.sk-parallel {display: flex;align-items: stretch;justify-content: center;background-color: white;position: relative;}#sk-container-id-1 div.sk-item::before, #sk-container-id-1 div.sk-parallel-item::before {content: \"\";position: absolute;border-left: 1px solid gray;box-sizing: border-box;top: 0;bottom: 0;left: 50%;z-index: -1;}#sk-container-id-1 div.sk-parallel-item {display: flex;flex-direction: column;z-index: 1;position: relative;background-color: white;}#sk-container-id-1 div.sk-parallel-item:first-child::after {align-self: flex-end;width: 50%;}#sk-container-id-1 div.sk-parallel-item:last-child::after {align-self: flex-start;width: 50%;}#sk-container-id-1 div.sk-parallel-item:only-child::after {width: 0;}#sk-container-id-1 div.sk-dashed-wrapped {border: 1px dashed gray;margin: 0 0.4em 0.5em 0.4em;box-sizing: border-box;padding-bottom: 0.4em;background-color: white;}#sk-container-id-1 div.sk-label label {font-family: monospace;font-weight: bold;display: inline-block;line-height: 1.2em;}#sk-container-id-1 div.sk-label-container {text-align: center;}#sk-container-id-1 div.sk-container {/* jupyter's `normalize.less` sets `[hidden] { display: none; }` but bootstrap.min.css set `[hidden] { display: none !important; }` so we also need the `!important` here to be able to override the default hidden behavior on the sphinx rendered scikit-learn.org. See: https://github.com/scikit-learn/scikit-learn/issues/21755 */display: inline-block !important;position: relative;}#sk-container-id-1 div.sk-text-repr-fallback {display: none;}</style><div id=\"sk-container-id-1\" class=\"sk-top-container\"><div class=\"sk-text-repr-fallback\"><pre>RandomForestClassifier(max_depth=2, n_jobs=-1)</pre><b>In a Jupyter environment, please rerun this cell to show the HTML representation or trust the notebook. <br />On GitHub, the HTML representation is unable to render, please try loading this page with nbviewer.org.</b></div><div class=\"sk-container\" hidden><div class=\"sk-item\"><div class=\"sk-estimator sk-toggleable\"><input class=\"sk-toggleable__control sk-hidden--visually\" id=\"sk-estimator-id-1\" type=\"checkbox\" checked><label for=\"sk-estimator-id-1\" class=\"sk-toggleable__label sk-toggleable__label-arrow\">RandomForestClassifier</label><div class=\"sk-toggleable__content\"><pre>RandomForestClassifier(max_depth=2, n_jobs=-1)</pre></div></div></div></div></div>"
      ],
      "text/plain": [
       "RandomForestClassifier(max_depth=2, n_jobs=-1)"
      ]
     },
     "execution_count": 23,
     "metadata": {},
     "output_type": "execute_result"
    }
   ],
   "source": [
    "from sklearn.ensemble import RandomForestClassifier\n",
    "\n",
    "rf = RandomForestClassifier(max_depth=2, n_jobs=-1)\n",
    "rf.fit(X_train, y_train)"
   ]
  },
  {
   "cell_type": "code",
   "execution_count": 24,
   "id": "270c2f5d",
   "metadata": {
    "execution": {
     "iopub.execute_input": "2023-07-24T08:50:22.361135Z",
     "iopub.status.busy": "2023-07-24T08:50:22.360399Z",
     "iopub.status.idle": "2023-07-24T08:50:22.496143Z",
     "shell.execute_reply": "2023-07-24T08:50:22.495115Z"
    },
    "papermill": {
     "duration": 0.158479,
     "end_time": "2023-07-24T08:50:22.498606",
     "exception": false,
     "start_time": "2023-07-24T08:50:22.340127",
     "status": "completed"
    },
    "tags": []
   },
   "outputs": [],
   "source": [
    "y_pred=rf.predict(X_test)"
   ]
  },
  {
   "cell_type": "code",
   "execution_count": 25,
   "id": "ff88632e",
   "metadata": {
    "execution": {
     "iopub.execute_input": "2023-07-24T08:50:22.538412Z",
     "iopub.status.busy": "2023-07-24T08:50:22.538042Z",
     "iopub.status.idle": "2023-07-24T08:50:22.627824Z",
     "shell.execute_reply": "2023-07-24T08:50:22.626328Z"
    },
    "papermill": {
     "duration": 0.112838,
     "end_time": "2023-07-24T08:50:22.630265",
     "exception": false,
     "start_time": "2023-07-24T08:50:22.517427",
     "status": "completed"
    },
    "tags": []
   },
   "outputs": [
    {
     "name": "stdout",
     "output_type": "stream",
     "text": [
      "accuracy score: 99.89661364337148\n",
      "confusion matrix: [[55030    12]\n",
      " [   45    46]]\n",
      "classification report:               precision    recall  f1-score   support\n",
      "\n",
      "   Not Fraud       1.00      1.00      1.00     55042\n",
      "       Fraud       0.79      0.51      0.62        91\n",
      "\n",
      "    accuracy                           1.00     55133\n",
      "   macro avg       0.90      0.75      0.81     55133\n",
      "weighted avg       1.00      1.00      1.00     55133\n",
      "\n"
     ]
    }
   ],
   "source": [
    "ac = accuracy_score(y_test,y_pred)*100\n",
    "cm = confusion_matrix(y_test,y_pred)\n",
    "cr= classification_report(y_test,y_pred, target_names=['Not Fraud', 'Fraud'])\n",
    "print(\"accuracy score:\",ac)\n",
    "print(\"confusion matrix:\",cm)\n",
    "print(\"classification report:\",cr)"
   ]
  },
  {
   "cell_type": "markdown",
   "id": "4a3bf769",
   "metadata": {
    "papermill": {
     "duration": 0.018582,
     "end_time": "2023-07-24T08:50:22.667874",
     "exception": false,
     "start_time": "2023-07-24T08:50:22.649292",
     "status": "completed"
    },
    "tags": []
   },
   "source": [
    "Naive Bayes GaussianNB"
   ]
  },
  {
   "cell_type": "code",
   "execution_count": 26,
   "id": "0464758a",
   "metadata": {
    "execution": {
     "iopub.execute_input": "2023-07-24T08:50:22.707318Z",
     "iopub.status.busy": "2023-07-24T08:50:22.706927Z",
     "iopub.status.idle": "2023-07-24T08:50:22.959778Z",
     "shell.execute_reply": "2023-07-24T08:50:22.958546Z"
    },
    "papermill": {
     "duration": 0.275244,
     "end_time": "2023-07-24T08:50:22.962074",
     "exception": false,
     "start_time": "2023-07-24T08:50:22.686830",
     "status": "completed"
    },
    "tags": []
   },
   "outputs": [
    {
     "name": "stdout",
     "output_type": "stream",
     "text": [
      "accuracy score: 97.81618994068889\n",
      "confusion matrix: [[53857  1185]\n",
      " [   19    72]]\n",
      "classification report:               precision    recall  f1-score   support\n",
      "\n",
      "   Not Fraud       1.00      0.98      0.99     55042\n",
      "       Fraud       0.06      0.79      0.11        91\n",
      "\n",
      "    accuracy                           0.98     55133\n",
      "   macro avg       0.53      0.88      0.55     55133\n",
      "weighted avg       1.00      0.98      0.99     55133\n",
      "\n"
     ]
    }
   ],
   "source": [
    "from sklearn.naive_bayes import GaussianNB\n",
    "\n",
    "gnb = GaussianNB()\n",
    "gnb.fit(X_train, y_train)\n",
    "\n",
    "y_pred = gnb.predict(X_test)\n",
    "\n",
    "ac = accuracy_score(y_test,y_pred)*100\n",
    "cm = confusion_matrix(y_test,y_pred)\n",
    "cr= classification_report(y_test,y_pred, target_names=['Not Fraud', 'Fraud'])\n",
    "print(\"accuracy score:\",ac)\n",
    "print(\"confusion matrix:\",cm)\n",
    "print(\"classification report:\",cr)"
   ]
  },
  {
   "cell_type": "markdown",
   "id": "b50fd6d8",
   "metadata": {
    "papermill": {
     "duration": 0.018762,
     "end_time": "2023-07-24T08:50:22.999886",
     "exception": false,
     "start_time": "2023-07-24T08:50:22.981124",
     "status": "completed"
    },
    "tags": []
   },
   "source": [
    "Decision Tree "
   ]
  },
  {
   "cell_type": "code",
   "execution_count": 27,
   "id": "e594053d",
   "metadata": {
    "execution": {
     "iopub.execute_input": "2023-07-24T08:50:23.040575Z",
     "iopub.status.busy": "2023-07-24T08:50:23.039573Z",
     "iopub.status.idle": "2023-07-24T08:50:45.714298Z",
     "shell.execute_reply": "2023-07-24T08:50:45.713039Z"
    },
    "papermill": {
     "duration": 22.697484,
     "end_time": "2023-07-24T08:50:45.716873",
     "exception": false,
     "start_time": "2023-07-24T08:50:23.019389",
     "status": "completed"
    },
    "tags": []
   },
   "outputs": [
    {
     "name": "stdout",
     "output_type": "stream",
     "text": [
      "accuracy score: 99.89479984764115\n",
      "confusion matrix: [[55007    35]\n",
      " [   23    68]]\n",
      "classification report:               precision    recall  f1-score   support\n",
      "\n",
      "   Not Fraud       1.00      1.00      1.00     55042\n",
      "       Fraud       0.66      0.75      0.70        91\n",
      "\n",
      "    accuracy                           1.00     55133\n",
      "   macro avg       0.83      0.87      0.85     55133\n",
      "weighted avg       1.00      1.00      1.00     55133\n",
      "\n"
     ]
    }
   ],
   "source": [
    "from sklearn.tree import DecisionTreeClassifier\n",
    "\n",
    "dtc = DecisionTreeClassifier(random_state=42)\n",
    "dtc.fit(X_train, y_train)\n",
    "\n",
    "y_pred = dtc.predict(X_test)\n",
    "\n",
    "ac = accuracy_score(y_test,y_pred)*100\n",
    "cm = confusion_matrix(y_test,y_pred)\n",
    "cr= classification_report(y_test,y_pred, target_names=['Not Fraud', 'Fraud'])\n",
    "print(\"accuracy score:\",ac)\n",
    "print(\"confusion matrix:\",cm)\n",
    "print(\"classification report:\",cr)"
   ]
  },
  {
   "cell_type": "markdown",
   "id": "711b1c63",
   "metadata": {
    "papermill": {
     "duration": 0.019227,
     "end_time": "2023-07-24T08:50:45.755389",
     "exception": false,
     "start_time": "2023-07-24T08:50:45.736162",
     "status": "completed"
    },
    "tags": []
   },
   "source": [
    "Balanced Dataset with OverSampling Technique"
   ]
  },
  {
   "cell_type": "code",
   "execution_count": 28,
   "id": "b69abcde",
   "metadata": {
    "execution": {
     "iopub.execute_input": "2023-07-24T08:50:45.796240Z",
     "iopub.status.busy": "2023-07-24T08:50:45.795211Z",
     "iopub.status.idle": "2023-07-24T08:50:45.825258Z",
     "shell.execute_reply": "2023-07-24T08:50:45.823895Z"
    },
    "papermill": {
     "duration": 0.052959,
     "end_time": "2023-07-24T08:50:45.827584",
     "exception": false,
     "start_time": "2023-07-24T08:50:45.774625",
     "status": "completed"
    },
    "tags": []
   },
   "outputs": [
    {
     "name": "stdout",
     "output_type": "stream",
     "text": [
      "X.shape:  (275663, 29)\n",
      "y.shape:  (275663,)\n"
     ]
    }
   ],
   "source": [
    "X = new_df.drop('Class',axis=1)\n",
    "y = new_df['Class']\n",
    "\n",
    "print(\"X.shape: \", X.shape)\n",
    "print(\"y.shape: \", y.shape)"
   ]
  },
  {
   "cell_type": "code",
   "execution_count": 29,
   "id": "b30241de",
   "metadata": {
    "execution": {
     "iopub.execute_input": "2023-07-24T08:50:45.869179Z",
     "iopub.status.busy": "2023-07-24T08:50:45.868583Z",
     "iopub.status.idle": "2023-07-24T08:50:46.643850Z",
     "shell.execute_reply": "2023-07-24T08:50:46.642927Z"
    },
    "papermill": {
     "duration": 0.798341,
     "end_time": "2023-07-24T08:50:46.645851",
     "exception": false,
     "start_time": "2023-07-24T08:50:45.847510",
     "status": "completed"
    },
    "tags": []
   },
   "outputs": [
    {
     "data": {
      "text/plain": [
       "0    275190\n",
       "1    275190\n",
       "Name: Class, dtype: int64"
      ]
     },
     "execution_count": 29,
     "metadata": {},
     "output_type": "execute_result"
    }
   ],
   "source": [
    "from imblearn.over_sampling import SMOTE\n",
    "\n",
    "X_res,y_res = SMOTE().fit_resample(X,y)\n",
    "y_res.value_counts()"
   ]
  },
  {
   "cell_type": "markdown",
   "id": "e96987df",
   "metadata": {
    "papermill": {
     "duration": 0.019224,
     "end_time": "2023-07-24T08:50:46.685064",
     "exception": false,
     "start_time": "2023-07-24T08:50:46.665840",
     "status": "completed"
    },
    "tags": []
   },
   "source": [
    "Train Test Split on Balanced data"
   ]
  },
  {
   "cell_type": "code",
   "execution_count": 30,
   "id": "37262491",
   "metadata": {
    "execution": {
     "iopub.execute_input": "2023-07-24T08:50:46.726043Z",
     "iopub.status.busy": "2023-07-24T08:50:46.725437Z",
     "iopub.status.idle": "2023-07-24T08:50:46.997131Z",
     "shell.execute_reply": "2023-07-24T08:50:46.996358Z"
    },
    "papermill": {
     "duration": 0.294436,
     "end_time": "2023-07-24T08:50:46.999238",
     "exception": false,
     "start_time": "2023-07-24T08:50:46.704802",
     "status": "completed"
    },
    "tags": []
   },
   "outputs": [
    {
     "name": "stdout",
     "output_type": "stream",
     "text": [
      "X_train shape: (440304, 29)\n",
      "y_train shape: (440304,)\n",
      "X_test shape: (110076, 29)\n",
      "y_test shape: (110076,)\n"
     ]
    }
   ],
   "source": [
    "from sklearn.model_selection import train_test_split\n",
    "X_train,X_test,y_train,y_test = train_test_split(X_res,y_res,test_size=0.20,random_state=42)\n",
    "\n",
    "print(\"X_train shape:\", X_train.shape)\n",
    "print(\"y_train shape:\", y_train.shape)\n",
    "print(\"X_test shape:\", X_test.shape)\n",
    "print(\"y_test shape:\", y_test.shape)"
   ]
  },
  {
   "cell_type": "markdown",
   "id": "98a12bc1",
   "metadata": {
    "papermill": {
     "duration": 0.018922,
     "end_time": "2023-07-24T08:50:47.037358",
     "exception": false,
     "start_time": "2023-07-24T08:50:47.018436",
     "status": "completed"
    },
    "tags": []
   },
   "source": [
    "Logistic Regression on Balanced Data"
   ]
  },
  {
   "cell_type": "code",
   "execution_count": 31,
   "id": "c4a35c55",
   "metadata": {
    "execution": {
     "iopub.execute_input": "2023-07-24T08:50:47.078192Z",
     "iopub.status.busy": "2023-07-24T08:50:47.077559Z",
     "iopub.status.idle": "2023-07-24T08:50:52.086229Z",
     "shell.execute_reply": "2023-07-24T08:50:52.085079Z"
    },
    "papermill": {
     "duration": 5.032069,
     "end_time": "2023-07-24T08:50:52.088679",
     "exception": false,
     "start_time": "2023-07-24T08:50:47.056610",
     "status": "completed"
    },
    "tags": []
   },
   "outputs": [
    {
     "name": "stdout",
     "output_type": "stream",
     "text": [
      "accuracy score: 94.55921363421635\n",
      "confusion matrix: [[53718  1355]\n",
      " [ 4634 50369]]\n",
      "classification report:               precision    recall  f1-score   support\n",
      "\n",
      "   Not Fraud       0.92      0.98      0.95     55073\n",
      "       Fraud       0.97      0.92      0.94     55003\n",
      "\n",
      "    accuracy                           0.95    110076\n",
      "   macro avg       0.95      0.95      0.95    110076\n",
      "weighted avg       0.95      0.95      0.95    110076\n",
      "\n"
     ]
    }
   ],
   "source": [
    "from sklearn.linear_model import LogisticRegression\n",
    "\n",
    "logistic_model = LogisticRegression(max_iter=1000)\n",
    "logistic_model.fit(X_train, y_train)\n",
    "\n",
    "y_pred = logistic_model.predict(X_test)\n",
    "\n",
    "ac = accuracy_score(y_test,y_pred)*100\n",
    "cm = confusion_matrix(y_test,y_pred)\n",
    "cr= classification_report(y_test,y_pred, target_names=['Not Fraud', 'Fraud'])\n",
    "print(\"accuracy score:\",ac)\n",
    "print(\"confusion matrix:\",cm)\n",
    "print(\"classification report:\",cr)"
   ]
  },
  {
   "cell_type": "markdown",
   "id": "6cc4ba16",
   "metadata": {
    "papermill": {
     "duration": 0.019299,
     "end_time": "2023-07-24T08:50:52.127657",
     "exception": false,
     "start_time": "2023-07-24T08:50:52.108358",
     "status": "completed"
    },
    "tags": []
   },
   "source": [
    "Random Forest on Balanced Data"
   ]
  },
  {
   "cell_type": "code",
   "execution_count": 32,
   "id": "7185c556",
   "metadata": {
    "execution": {
     "iopub.execute_input": "2023-07-24T08:50:52.168007Z",
     "iopub.status.busy": "2023-07-24T08:50:52.167609Z",
     "iopub.status.idle": "2023-07-24T08:51:21.401111Z",
     "shell.execute_reply": "2023-07-24T08:51:21.399484Z"
    },
    "papermill": {
     "duration": 29.256439,
     "end_time": "2023-07-24T08:51:21.403295",
     "exception": false,
     "start_time": "2023-07-24T08:50:52.146856",
     "status": "completed"
    },
    "tags": []
   },
   "outputs": [
    {
     "name": "stdout",
     "output_type": "stream",
     "text": [
      "accuracy score: 92.34801409934954\n",
      "confusion matrix: [[54836   237]\n",
      " [ 8186 46817]]\n",
      "classification report:               precision    recall  f1-score   support\n",
      "\n",
      "   Not Fraud       0.87      1.00      0.93     55073\n",
      "       Fraud       0.99      0.85      0.92     55003\n",
      "\n",
      "    accuracy                           0.92    110076\n",
      "   macro avg       0.93      0.92      0.92    110076\n",
      "weighted avg       0.93      0.92      0.92    110076\n",
      "\n"
     ]
    }
   ],
   "source": [
    "from sklearn.ensemble import RandomForestClassifier\n",
    "\n",
    "rf = RandomForestClassifier(max_depth=2, n_jobs=-1)\n",
    "rf.fit(X_train, y_train)\n",
    "\n",
    "y_pred = rf.predict(X_test)\n",
    "\n",
    "ac = accuracy_score(y_test,y_pred)*100\n",
    "cm = confusion_matrix(y_test,y_pred)\n",
    "cr= classification_report(y_test,y_pred, target_names=['Not Fraud', 'Fraud'])\n",
    "print(\"accuracy score:\",ac)\n",
    "print(\"confusion matrix:\",cm)\n",
    "print(\"classification report:\",cr)"
   ]
  },
  {
   "cell_type": "markdown",
   "id": "e08815ab",
   "metadata": {
    "papermill": {
     "duration": 0.018789,
     "end_time": "2023-07-24T08:51:21.441627",
     "exception": false,
     "start_time": "2023-07-24T08:51:21.422838",
     "status": "completed"
    },
    "tags": []
   },
   "source": [
    "GaussianNB on Balanced data"
   ]
  },
  {
   "cell_type": "code",
   "execution_count": 33,
   "id": "9a9107bb",
   "metadata": {
    "execution": {
     "iopub.execute_input": "2023-07-24T08:51:21.482296Z",
     "iopub.status.busy": "2023-07-24T08:51:21.481926Z",
     "iopub.status.idle": "2023-07-24T08:51:22.034902Z",
     "shell.execute_reply": "2023-07-24T08:51:22.033071Z"
    },
    "papermill": {
     "duration": 0.576598,
     "end_time": "2023-07-24T08:51:22.037334",
     "exception": false,
     "start_time": "2023-07-24T08:51:21.460736",
     "status": "completed"
    },
    "tags": []
   },
   "outputs": [
    {
     "name": "stdout",
     "output_type": "stream",
     "text": [
      "accuracy score: 91.16701188269923\n",
      "confusion matrix: [[53706  1367]\n",
      " [ 8356 46647]]\n",
      "classification report:               precision    recall  f1-score   support\n",
      "\n",
      "   Not Fraud       0.87      0.98      0.92     55073\n",
      "       Fraud       0.97      0.85      0.91     55003\n",
      "\n",
      "    accuracy                           0.91    110076\n",
      "   macro avg       0.92      0.91      0.91    110076\n",
      "weighted avg       0.92      0.91      0.91    110076\n",
      "\n"
     ]
    }
   ],
   "source": [
    "from sklearn.naive_bayes import GaussianNB\n",
    "\n",
    "gnb = GaussianNB()\n",
    "gnb.fit(X_train, y_train)\n",
    "\n",
    "y_pred = gnb.predict(X_test)\n",
    "\n",
    "ac = accuracy_score(y_test,y_pred)*100\n",
    "cm = confusion_matrix(y_test,y_pred)\n",
    "cr= classification_report(y_test,y_pred, target_names=['Not Fraud', 'Fraud'])\n",
    "print(\"accuracy score:\",ac)\n",
    "print(\"confusion matrix:\",cm)\n",
    "print(\"classification report:\",cr)"
   ]
  },
  {
   "cell_type": "markdown",
   "id": "41049cb7",
   "metadata": {
    "papermill": {
     "duration": 0.019036,
     "end_time": "2023-07-24T08:51:22.076116",
     "exception": false,
     "start_time": "2023-07-24T08:51:22.057080",
     "status": "completed"
    },
    "tags": []
   },
   "source": [
    "Decision Tree on Balanced data"
   ]
  },
  {
   "cell_type": "code",
   "execution_count": 34,
   "id": "77732d5a",
   "metadata": {
    "execution": {
     "iopub.execute_input": "2023-07-24T08:51:22.116705Z",
     "iopub.status.busy": "2023-07-24T08:51:22.116317Z",
     "iopub.status.idle": "2023-07-24T08:51:39.703408Z",
     "shell.execute_reply": "2023-07-24T08:51:39.702257Z"
    },
    "papermill": {
     "duration": 17.610117,
     "end_time": "2023-07-24T08:51:39.705659",
     "exception": false,
     "start_time": "2023-07-24T08:51:22.095542",
     "status": "completed"
    },
    "tags": []
   },
   "outputs": [
    {
     "name": "stdout",
     "output_type": "stream",
     "text": [
      "accuracy score: 96.14629892074566\n",
      "confusion matrix: [[52786  2287]\n",
      " [ 1955 53048]]\n",
      "classification report:               precision    recall  f1-score   support\n",
      "\n",
      "   Not Fraud       0.96      0.96      0.96     55073\n",
      "       Fraud       0.96      0.96      0.96     55003\n",
      "\n",
      "    accuracy                           0.96    110076\n",
      "   macro avg       0.96      0.96      0.96    110076\n",
      "weighted avg       0.96      0.96      0.96    110076\n",
      "\n"
     ]
    }
   ],
   "source": [
    "from sklearn.tree import DecisionTreeClassifier\n",
    "\n",
    "dtc = DecisionTreeClassifier(max_depth=6, random_state=42)\n",
    "dtc.fit(X_train, y_train)\n",
    "\n",
    "y_pred = dtc.predict(X_test)\n",
    "\n",
    "ac = accuracy_score(y_test,y_pred)*100\n",
    "cm = confusion_matrix(y_test,y_pred)\n",
    "cr= classification_report(y_test,y_pred, target_names=['Not Fraud', 'Fraud'])\n",
    "print(\"accuracy score:\",ac)\n",
    "print(\"confusion matrix:\",cm)\n",
    "print(\"classification report:\",cr)"
   ]
  },
  {
   "cell_type": "code",
   "execution_count": null,
   "id": "adf5b45e",
   "metadata": {
    "papermill": {
     "duration": 0.019398,
     "end_time": "2023-07-24T08:51:39.744657",
     "exception": false,
     "start_time": "2023-07-24T08:51:39.725259",
     "status": "completed"
    },
    "tags": []
   },
   "outputs": [],
   "source": []
  }
 ],
 "metadata": {
  "kernelspec": {
   "display_name": "Python 3",
   "language": "python",
   "name": "python3"
  },
  "language_info": {
   "codemirror_mode": {
    "name": "ipython",
    "version": 3
   },
   "file_extension": ".py",
   "mimetype": "text/x-python",
   "name": "python",
   "nbconvert_exporter": "python",
   "pygments_lexer": "ipython3",
   "version": "3.10.12"
  },
  "papermill": {
   "default_parameters": {},
   "duration": 123.75593,
   "end_time": "2023-07-24T08:51:40.986782",
   "environment_variables": {},
   "exception": null,
   "input_path": "__notebook__.ipynb",
   "output_path": "__notebook__.ipynb",
   "parameters": {},
   "start_time": "2023-07-24T08:49:37.230852",
   "version": "2.4.0"
  }
 },
 "nbformat": 4,
 "nbformat_minor": 5
}
