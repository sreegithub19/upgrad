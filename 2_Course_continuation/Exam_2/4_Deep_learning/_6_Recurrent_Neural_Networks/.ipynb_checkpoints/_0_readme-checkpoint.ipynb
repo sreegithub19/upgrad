{
 "cells": [
  {
   "cell_type": "markdown",
   "id": "97d5b51f",
   "metadata": {},
   "source": [
    " - <img src=\"size_table.png\" />\n",
    "<br>\n",
    " - In this segment, you'll learn how to generate text using an RNN. Specifically, we'll use an RNN to generate C code. For those who're not familiar with C, it's a general purpose programming language like Python. But C was developed in the 70s. It is much much faster than Python. The numpy library is written in C because Python is very slow in linear matrix operations. The Linux operating system is written using C. And we'll use the Linux kernel code to train our RNN model.\n",
    "  - C code for Code generation using RNN: https://github.com/torvalds/linux/tree/master/kernel\n",
    "  - Upgrad info link: https://learn.upgrad.com/course/3064/segment/29362/179407/550938/2824484\n"
   ]
  },
  {
   "cell_type": "code",
   "execution_count": null,
   "id": "5ca7226a",
   "metadata": {},
   "outputs": [],
   "source": []
  }
 ],
 "metadata": {
  "kernelspec": {
   "display_name": "Python 3 (ipykernel)",
   "language": "python",
   "name": "python3"
  },
  "language_info": {
   "codemirror_mode": {
    "name": "ipython",
    "version": 3
   },
   "file_extension": ".py",
   "mimetype": "text/x-python",
   "name": "python",
   "nbconvert_exporter": "python",
   "pygments_lexer": "ipython3",
   "version": "3.8.0"
  },
  "varInspector": {
   "cols": {
    "lenName": 16,
    "lenType": 16,
    "lenVar": 40
   },
   "kernels_config": {
    "python": {
     "delete_cmd_postfix": "",
     "delete_cmd_prefix": "del ",
     "library": "var_list.py",
     "varRefreshCmd": "print(var_dic_list())"
    },
    "r": {
     "delete_cmd_postfix": ") ",
     "delete_cmd_prefix": "rm(",
     "library": "var_list.r",
     "varRefreshCmd": "cat(var_dic_list()) "
    }
   },
   "types_to_exclude": [
    "module",
    "function",
    "builtin_function_or_method",
    "instance",
    "_Feature"
   ],
   "window_display": false
  }
 },
 "nbformat": 4,
 "nbformat_minor": 5
}
