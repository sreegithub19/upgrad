{
 "cells": [
  {
   "cell_type": "markdown",
   "id": "6bddd77c",
   "metadata": {},
   "source": [
    "🛑 ML2 and DL 2nd Slot Exam Link🛑\n",
    "\n",
    "Hello Everyone,\n",
    "\n",
    "Very good morning \n",
    "\n",
    "\n",
    "*Please find below the generic exam link*\n",
    "\n",
    "Exam starts at  7.00 pm IST\n",
    "\n",
    "https://bit.ly/3J3Aved\n",
    "\n",
    "For any exam related issue drop an email to support@wecreateproblems.com\n",
    "\n",
    "All the best 👍👍\n",
    "\n",
    "\n",
    "Happy Learning!\n"
   ]
  },
  {
   "cell_type": "code",
   "execution_count": null,
   "id": "8559d481",
   "metadata": {},
   "outputs": [],
   "source": []
  }
 ],
 "metadata": {
  "kernelspec": {
   "display_name": "Python 3 (ipykernel)",
   "language": "python",
   "name": "python3"
  },
  "language_info": {
   "codemirror_mode": {
    "name": "ipython",
    "version": 3
   },
   "file_extension": ".py",
   "mimetype": "text/x-python",
   "name": "python",
   "nbconvert_exporter": "python",
   "pygments_lexer": "ipython3",
   "version": "3.8.0"
  },
  "varInspector": {
   "cols": {
    "lenName": 16,
    "lenType": 16,
    "lenVar": 40
   },
   "kernels_config": {
    "python": {
     "delete_cmd_postfix": "",
     "delete_cmd_prefix": "del ",
     "library": "var_list.py",
     "varRefreshCmd": "print(var_dic_list())"
    },
    "r": {
     "delete_cmd_postfix": ") ",
     "delete_cmd_prefix": "rm(",
     "library": "var_list.r",
     "varRefreshCmd": "cat(var_dic_list()) "
    }
   },
   "types_to_exclude": [
    "module",
    "function",
    "builtin_function_or_method",
    "instance",
    "_Feature"
   ],
   "window_display": false
  }
 },
 "nbformat": 4,
 "nbformat_minor": 5
}
