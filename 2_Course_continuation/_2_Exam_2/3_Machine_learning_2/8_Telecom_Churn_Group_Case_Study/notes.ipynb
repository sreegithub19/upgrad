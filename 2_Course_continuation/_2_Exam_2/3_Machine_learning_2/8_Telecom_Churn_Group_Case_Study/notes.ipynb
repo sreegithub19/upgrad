{
 "cells": [
  {
   "cell_type": "markdown",
   "id": "c964a3c3",
   "metadata": {},
   "source": [
    "# Problem Statement\n",
    "\n",
    "> In the telecommunication industry, customers tend to change operators if not provided with attractive schemes\n",
    "and offers. It is very important for any telecom operator to prevent the present customers from churning to other operators. \n",
    "In this case study would be to build an ML model which can predict if the customer will churn or not in a particular month based on the past data\n",
    "\n",
    "\n",
    "# Problem data\n",
    "<br>\n",
    "<a href=\"https://www.kaggle.com/competitions/telecom-churn-case-study-hackathon-c41/overview\">Competition link</a>\n",
    "</br>\n",
    "<br>\n",
    "<a href=\"https://cdn.upgrad.com/uploads/production/a1e63cc1-7b2a-4d87-886f-fcb90bcda68b/Upgrad+hackathon.pdf\">Upgrad Hackathon details</a>\n",
    "</br>\n",
    "<br>\n",
    "<a href=\"https://www.kaggle.com/competitions/telecom-churn-case-study-hackathon-c41/data\">Dataset</a>\n",
    "<br>\n",
    "<br>\n",
    "Please note that you need to submit only from one account on Kaggle and the team name should be: <br><b>Name_of_member1_Name_of_member2</b>\n",
    "\n",
    "# Business Objective\n",
    "To reduce customer churn, telecom companies need to predict which customers are at high risk of churn. The given dataset contains customer-level informations for few consecutive months June, July & August they are encoded as 6,7 & 8. The business objective is to predict the cusotmer which will churn in next month by analyzing the dataset\n",
    "High Value Customers:\n",
    "\n",
    "One of the primary goal is to identify high value customers which are more likely to churn, as most of the profit comes from high value customers.\n",
    "Customers which are likely to churn will starting decreasing rhe recharge amount and other facilities. To identify high value customers, total_rech_data can be calculated and total dataser can be filtered which are greater than 70th percentil of the data\n",
    "\n",
    "\n",
    "# Helpful links\n",
    "1. https://medium.com/analytics-vidhya/a-quick-guide-on-missing-data-imputation-techniques-in-python-2020-5410f3df1c1e#:~:text=KNNImputer%20is%20a%20multivariate%20data%20imputation%20technique%20used,in%20the%20training%20set%2C%20either%20weighted%20or%20unweighted.\n",
    "2. https://www.geeksforgeeks.org/missing-data-imputation-with-fancyimpute/\n",
    "3. Instructor's solution: https://onedrive.live.com/?authkey=%21ACueoqO8VnPDJmE&id=1024ECB43D19158B%21246926&cid=1024ECB43D19158B\n",
    "\n"
   ]
  },
  {
   "cell_type": "code",
   "execution_count": null,
   "id": "33bd8a39",
   "metadata": {},
   "outputs": [],
   "source": []
  }
 ],
 "metadata": {
  "kernelspec": {
   "display_name": "Python 3 (ipykernel)",
   "language": "python",
   "name": "python3"
  },
  "language_info": {
   "codemirror_mode": {
    "name": "ipython",
    "version": 3
   },
   "file_extension": ".py",
   "mimetype": "text/x-python",
   "name": "python",
   "nbconvert_exporter": "python",
   "pygments_lexer": "ipython3",
   "version": "3.8.0"
  },
  "varInspector": {
   "cols": {
    "lenName": 16,
    "lenType": 16,
    "lenVar": 40
   },
   "kernels_config": {
    "python": {
     "delete_cmd_postfix": "",
     "delete_cmd_prefix": "del ",
     "library": "var_list.py",
     "varRefreshCmd": "print(var_dic_list())"
    },
    "r": {
     "delete_cmd_postfix": ") ",
     "delete_cmd_prefix": "rm(",
     "library": "var_list.r",
     "varRefreshCmd": "cat(var_dic_list()) "
    }
   },
   "types_to_exclude": [
    "module",
    "function",
    "builtin_function_or_method",
    "instance",
    "_Feature"
   ],
   "window_display": false
  }
 },
 "nbformat": 4,
 "nbformat_minor": 5
}
