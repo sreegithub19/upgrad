{
  "nbformat": 4,
  "nbformat_minor": 0,
  "metadata": {
    "kernelspec": {
      "display_name": "Python 3",
      "language": "python",
      "name": "python3"
    },
    "language_info": {
      "codemirror_mode": {
        "name": "ipython",
        "version": 3
      },
      "file_extension": ".py",
      "mimetype": "text/x-python",
      "name": "python",
      "nbconvert_exporter": "python",
      "pygments_lexer": "ipython3",
      "version": "3.8.3"
    },
    "colab": {
      "name": "POS3_Commented.ipynb",
      "provenance": [],
      "collapsed_sections": []
    }
  },
  "cells": [
    {
      "cell_type": "markdown",
      "metadata": {
        "id": "vBOfYpV_U84V"
      },
      "source": [
        "## Importing libraries"
      ]
    },
    {
      "cell_type": "code",
      "metadata": {
        "id": "ZqugswuAU84a"
      },
      "source": [
        "import pandas as pd\n",
        "import numpy as np\n",
        "import os\n",
        "import spacy \n",
        "from tqdm import tqdm"
      ],
      "execution_count": null,
      "outputs": []
    },
    {
      "cell_type": "markdown",
      "metadata": {
        "id": "7cD099pXU84b"
      },
      "source": [
        "### Read reviews data"
      ]
    },
    {
      "cell_type": "code",
      "metadata": {
        "id": "7biN0zEoU84c"
      },
      "source": [
        "con=open(\"../data/Samsung.txt\",'r', encoding=\"utf-8\")\n",
        "samsung_reviews=con.read()\n",
        "con.close()"
      ],
      "execution_count": null,
      "outputs": []
    },
    {
      "cell_type": "markdown",
      "metadata": {
        "id": "ZVK2nZJ9U84c"
      },
      "source": [
        "### Can we reduce the time taken?\n",
        "[Pipelines (Spacy)](https://spacy.io/usage/processing-pipelines)\n"
      ]
    },
    {
      "cell_type": "markdown",
      "metadata": {
        "id": "bU_dNtImU84d"
      },
      "source": [
        "<img src='./images/spacy_pipeline.png'>"
      ]
    },
    {
      "cell_type": "code",
      "metadata": {
        "id": "XQd_68ZuU84d"
      },
      "source": [
        "# shorten the pipline loading\n"
      ],
      "execution_count": null,
      "outputs": []
    },
    {
      "cell_type": "code",
      "metadata": {
        "id": "grYm28A9U84e"
      },
      "source": [
        ""
      ],
      "execution_count": null,
      "outputs": []
    },
    {
      "cell_type": "code",
      "metadata": {
        "id": "KIqUMEsuU84g"
      },
      "source": [
        ""
      ],
      "execution_count": null,
      "outputs": []
    },
    {
      "cell_type": "code",
      "metadata": {
        "id": "WaN7ver8U84h"
      },
      "source": [
        ""
      ],
      "execution_count": null,
      "outputs": []
    },
    {
      "cell_type": "code",
      "metadata": {
        "id": "qMmMUUHjU84i"
      },
      "source": [
        ""
      ],
      "execution_count": null,
      "outputs": []
    },
    {
      "cell_type": "markdown",
      "metadata": {
        "id": "TKKLAcF2U84j"
      },
      "source": [
        "### Lets process all the reviews now and see if time taken is less !!!"
      ]
    },
    {
      "cell_type": "code",
      "metadata": {
        "id": "DpDKMbiuU84k"
      },
      "source": [
        ""
      ],
      "execution_count": null,
      "outputs": []
    },
    {
      "cell_type": "markdown",
      "metadata": {
        "id": "xDqdFstUU84k"
      },
      "source": [
        "### Does the hypothesis of nouns capturing `product features` hold?"
      ]
    },
    {
      "cell_type": "code",
      "metadata": {
        "id": "6QMCZN6lU84k"
      },
      "source": [
        ""
      ],
      "execution_count": null,
      "outputs": []
    },
    {
      "cell_type": "code",
      "metadata": {
        "id": "3ePWgP3hU84l"
      },
      "source": [
        ""
      ],
      "execution_count": null,
      "outputs": []
    },
    {
      "cell_type": "markdown",
      "metadata": {
        "id": "vMKO-5IvU84m"
      },
      "source": [
        "### We now know that people mention `battery`, `product`, `screen` etc. But we still don't know in what context they mention these keywords"
      ]
    },
    {
      "cell_type": "markdown",
      "metadata": {
        "id": "oP4nyL_AU84m"
      },
      "source": [
        "### Summary:\n",
        " - Most frequently used lemmatised forms of noun, inform us about the product features people are talking about in product reviews\n",
        " - In order to process the review data faster spacy allows us to use the idea of enabling parts of model inference pipeline via `spacy.loads()` command and `disable` parameter"
      ]
    }
  ]
}