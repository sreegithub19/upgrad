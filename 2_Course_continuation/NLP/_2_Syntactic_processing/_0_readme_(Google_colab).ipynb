{
 "cells": [
  {
   "cell_type": "markdown",
   "id": "c17c2b1e",
   "metadata": {},
   "source": [
    "## _1_Intro_to_Syntactic_processing_and_POS_tagging"
   ]
  },
  {
   "cell_type": "markdown",
   "id": "47663933",
   "metadata": {},
   "source": [
    "- Run in Google colab (https://colab.research.google.com/drive/1Y59MnjxU65X6Zum9_65apJLtlV_47avn#scrollTo=tKh2uQj5etaw)\n",
    "\n",
    "<code>\n",
    "import spacy\n",
    "nlp = spacy.load(\"en_core_web_sm\")\n",
    "doc = nlp(\"upGrad is teaching Data Science courses to the working professionals.\")\n",
    "for token in doc:\n",
    "    print(token.text, token.pos_, token.tag_)\n",
    "</code>\n",
    "\n",
    "- You can take a look at the universal tagsets used by the spaCy toolkit here (https://universaldependencies.org/docs/u/pos/).\n",
    "\n",
    "- spaCy (https://spacy.io/) is an open-source library used for advanced natural language processing, similar to NLTK, which you have used in lexical processing.\n",
    "\n",
    "- You can also refer to the alphabetical list of 36 part-of-speech tags used in the Penn Treebank Project (https://www.ling.upenn.edu/courses/Fall_2003/ling001/penn_treebank_pos.html), which is being used by the spaCy library."
   ]
  },
  {
   "cell_type": "markdown",
   "id": "4013dc75",
   "metadata": {},
   "source": [
    "<pre>\n",
    "You have learnt the following two types of PoS taggers:\n",
    "\n",
    "Rule-based tagger: Here, you assign the most frequent PoS tags that appear in the training data to the test data set. However, sometimes, it does not give satisfactory results because it does not incorporate the context of the word.\n",
    "Sequential tagger (Hidden Markov Model): Sequence labelling is the task of assigning respective PoS tags of words in a sentence using the PoS tag of the previous word in that sentence.\n",
    "</pre>"
   ]
  },
  {
   "cell_type": "markdown",
   "id": "de431d41",
   "metadata": {},
   "source": [
    "## _2_Parsing"
   ]
  },
  {
   "cell_type": "markdown",
   "id": "6601732f",
   "metadata": {},
   "source": [
    "<hr>\n",
    "<pre>\n",
    "    - <a href=\"https://explosion.ai/demos/displacy?text=Economic%20news%20had%20little%20effect%20on%20financial%20markets&model=en_core_web_sm&cpu=0&cph=0\">displaCy Dependency Visualizer:</a>\n",
    "    - <a href=\"https://hemingwayapp.com/\">The Hemingway application identifies the various instances where the document needs to be corrected grammatically. </a>\n",
    "</pre>"
   ]
  },
  {
   "cell_type": "code",
   "execution_count": null,
   "id": "94af200e",
   "metadata": {},
   "outputs": [],
   "source": []
  }
 ],
 "metadata": {
  "kernelspec": {
   "display_name": "Python 3 (ipykernel)",
   "language": "python",
   "name": "python3"
  },
  "language_info": {
   "codemirror_mode": {
    "name": "ipython",
    "version": 3
   },
   "file_extension": ".py",
   "mimetype": "text/x-python",
   "name": "python",
   "nbconvert_exporter": "python",
   "pygments_lexer": "ipython3",
   "version": "3.8.0"
  },
  "varInspector": {
   "cols": {
    "lenName": 16,
    "lenType": 16,
    "lenVar": 40
   },
   "kernels_config": {
    "python": {
     "delete_cmd_postfix": "",
     "delete_cmd_prefix": "del ",
     "library": "var_list.py",
     "varRefreshCmd": "print(var_dic_list())"
    },
    "r": {
     "delete_cmd_postfix": ") ",
     "delete_cmd_prefix": "rm(",
     "library": "var_list.r",
     "varRefreshCmd": "cat(var_dic_list()) "
    }
   },
   "types_to_exclude": [
    "module",
    "function",
    "builtin_function_or_method",
    "instance",
    "_Feature"
   ],
   "window_display": false
  }
 },
 "nbformat": 4,
 "nbformat_minor": 5
}
