{
 "cells": [
  {
   "cell_type": "markdown",
   "metadata": {},
   "source": [
    "Specifically, you will learn:\n",
    "\n",
    "- How to preprocess text using techniques such as:\n",
    "\n",
    "        Stop words removal\n",
    "        \n",
    "        Tokenisation\n",
    "            Spam messages data Link: https://cdn.upgrad.com/UpGrad/temp/bab3e784-e601-4911-9000-f1fbc994a62d/SMSSpamCollection.txt\n",
    "\n",
    "        Stemming\n",
    "\n",
    "        Lemmatization\n",
    "        \n",
    "     Links:\n",
    "         https://en.wikipedia.org/wiki/Zipf%27s_law\n",
    "\n",
    "- How to build a spam detector using one of the following models:\n",
    "\n",
    "        Bag-of-words model\n",
    "\n",
    "        TF-IDF model"
   ]
  },
  {
   "cell_type": "code",
   "execution_count": null,
   "metadata": {},
   "outputs": [],
   "source": []
  }
 ],
 "metadata": {
  "kernelspec": {
   "display_name": "Python 3",
   "language": "python",
   "name": "python3"
  },
  "language_info": {
   "codemirror_mode": {
    "name": "ipython",
    "version": 3
   },
   "file_extension": ".py",
   "mimetype": "text/x-python",
   "name": "python",
   "nbconvert_exporter": "python",
   "pygments_lexer": "ipython3",
   "version": "3.7.2"
  }
 },
 "nbformat": 4,
 "nbformat_minor": 2
}
