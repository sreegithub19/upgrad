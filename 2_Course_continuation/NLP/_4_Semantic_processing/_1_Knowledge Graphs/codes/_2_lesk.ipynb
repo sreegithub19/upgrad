{
 "cells": [
  {
   "cell_type": "markdown",
   "id": "shaped-norway",
   "metadata": {},
   "source": [
    "## Word-Sense Disambiguation"
   ]
  },
  {
   "cell_type": "code",
   "execution_count": 1,
   "id": "genetic-terror",
   "metadata": {},
   "outputs": [],
   "source": [
    "from nltk.corpus import wordnet as wn\n",
    "from nltk import wsd"
   ]
  },
  {
   "cell_type": "code",
   "execution_count": 2,
   "id": "adult-bangladesh",
   "metadata": {},
   "outputs": [],
   "source": [
    "X = 'The die is cast.'\n",
    "Y = 'Roll the die to get a 6.'\n",
    "Z = 'What is dead may never die.'"
   ]
  },
  {
   "cell_type": "code",
   "execution_count": 3,
   "id": "antique-burlington",
   "metadata": {},
   "outputs": [
    {
     "data": {
      "text/plain": [
       "[Synset('die.n.01'),\n",
       " Synset('die.n.02'),\n",
       " Synset('die.n.03'),\n",
       " Synset('die.v.01'),\n",
       " Synset('die.v.02'),\n",
       " Synset('die.v.03'),\n",
       " Synset('fail.v.04'),\n",
       " Synset('die.v.05'),\n",
       " Synset('die.v.06'),\n",
       " Synset('die.v.07'),\n",
       " Synset('die.v.08'),\n",
       " Synset('die.v.09'),\n",
       " Synset('die.v.10'),\n",
       " Synset('die.v.11')]"
      ]
     },
     "execution_count": 3,
     "metadata": {},
     "output_type": "execute_result"
    }
   ],
   "source": [
    "wn.synsets('die')"
   ]
  },
  {
   "cell_type": "code",
   "execution_count": 4,
   "id": "governing-montana",
   "metadata": {},
   "outputs": [
    {
     "data": {
      "text/plain": [
       "[Synset('die.n.01'), Synset('die.n.02'), Synset('die.n.03')]"
      ]
     },
     "execution_count": 4,
     "metadata": {},
     "output_type": "execute_result"
    }
   ],
   "source": [
    "wn.synsets('die', pos=wn.NOUN)"
   ]
  },
  {
   "cell_type": "code",
   "execution_count": 5,
   "id": "located-bookmark",
   "metadata": {},
   "outputs": [
    {
     "name": "stdout",
     "output_type": "stream",
     "text": [
      "a small cube with 1 to 6 spots on the six faces; used in gambling to generate random numbers\n",
      "a device used for shaping metal\n",
      "a cutting tool that is fitted into a diestock and used for cutting male (external) screw threads on screws or bolts or pipes or rods\n"
     ]
    }
   ],
   "source": [
    "for syn in wn.synsets('die', pos=wn.NOUN):\n",
    "    print(syn.definition())"
   ]
  },
  {
   "cell_type": "code",
   "execution_count": 6,
   "id": "after-party",
   "metadata": {},
   "outputs": [
    {
     "name": "stdout",
     "output_type": "stream",
     "text": [
      "pass from physical life and lose all bodily attributes and functions necessary to sustain life\n",
      "suffer or face the pain of death\n",
      "be brought to or as if to the point of death by an intense emotion such as embarrassment, amusement, or shame\n",
      "stop operating or functioning\n",
      "feel indifferent towards\n",
      "languish as with love or desire\n",
      "cut or shape with a die\n",
      "to be on base at the end of an inning, of a player\n",
      "lose sparkle or bouquet\n",
      "disappear or come to an end\n",
      "suffer spiritual death; be damned (in the religious sense)\n"
     ]
    }
   ],
   "source": [
    "for syn in wn.synsets('die', pos=wn.VERB):\n",
    "    print(syn.definition())"
   ]
  },
  {
   "cell_type": "markdown",
   "id": "bacterial-effect",
   "metadata": {},
   "source": [
    "## Word-Sense Disambiguation with Lesk Algorithm"
   ]
  },
  {
   "cell_type": "code",
   "execution_count": 7,
   "id": "threaded-tourism",
   "metadata": {},
   "outputs": [
    {
     "name": "stdout",
     "output_type": "stream",
     "text": [
      "The die is cast.\n"
     ]
    },
    {
     "data": {
      "text/plain": [
       "Synset('die.v.07')"
      ]
     },
     "execution_count": 7,
     "metadata": {},
     "output_type": "execute_result"
    }
   ],
   "source": [
    "print(X)\n",
    "wsd.lesk(X.split(), 'die')"
   ]
  },
  {
   "cell_type": "code",
   "execution_count": 8,
   "id": "fluid-cargo",
   "metadata": {},
   "outputs": [
    {
     "data": {
      "text/plain": [
       "'cut or shape with a die'"
      ]
     },
     "execution_count": 8,
     "metadata": {},
     "output_type": "execute_result"
    }
   ],
   "source": [
    "_.definition()"
   ]
  },
  {
   "cell_type": "code",
   "execution_count": 9,
   "id": "independent-melissa",
   "metadata": {},
   "outputs": [
    {
     "data": {
      "text/plain": [
       "'a cutting tool that is fitted into a diestock and used for cutting male (external) screw threads on screws or bolts or pipes or rods'"
      ]
     },
     "execution_count": 9,
     "metadata": {},
     "output_type": "execute_result"
    }
   ],
   "source": [
    "wsd.lesk(X.split(), 'die', pos=wn.NOUN).definition()"
   ]
  },
  {
   "cell_type": "code",
   "execution_count": 10,
   "id": "progressive-origin",
   "metadata": {},
   "outputs": [
    {
     "name": "stdout",
     "output_type": "stream",
     "text": [
      "Roll the die to get a 6.\n"
     ]
    },
    {
     "data": {
      "text/plain": [
       "'to be on base at the end of an inning, of a player'"
      ]
     },
     "execution_count": 10,
     "metadata": {},
     "output_type": "execute_result"
    }
   ],
   "source": [
    "print(Y)\n",
    "wsd.lesk(Y.split(), 'die').definition()"
   ]
  },
  {
   "cell_type": "code",
   "execution_count": 11,
   "id": "proof-while",
   "metadata": {},
   "outputs": [
    {
     "data": {
      "text/plain": [
       "'a small cube with 1 to 6 spots on the six faces; used in gambling to generate random numbers'"
      ]
     },
     "execution_count": 11,
     "metadata": {},
     "output_type": "execute_result"
    }
   ],
   "source": [
    "wsd.lesk(Y.split(), 'die', pos=wn.NOUN).definition()"
   ]
  },
  {
   "cell_type": "code",
   "execution_count": 12,
   "id": "middle-object",
   "metadata": {},
   "outputs": [
    {
     "name": "stdout",
     "output_type": "stream",
     "text": [
      "What is dead may never die.\n"
     ]
    },
    {
     "data": {
      "text/plain": [
       "'a cutting tool that is fitted into a diestock and used for cutting male (external) screw threads on screws or bolts or pipes or rods'"
      ]
     },
     "execution_count": 12,
     "metadata": {},
     "output_type": "execute_result"
    }
   ],
   "source": [
    "print(Z)\n",
    "wsd.lesk(Z.split(), 'die').definition()"
   ]
  },
  {
   "cell_type": "code",
   "execution_count": 13,
   "id": "organizational-joint",
   "metadata": {},
   "outputs": [
    {
     "data": {
      "text/plain": [
       "'stop operating or functioning'"
      ]
     },
     "execution_count": 13,
     "metadata": {},
     "output_type": "execute_result"
    }
   ],
   "source": [
    "wsd.lesk(Z.split(), 'die', pos=wn.VERB).definition()"
   ]
  },
  {
   "cell_type": "markdown",
   "id": "valuable-harbor",
   "metadata": {},
   "source": [
    "## Automatic POS Tagging + Lesk with spaCy"
   ]
  },
  {
   "cell_type": "code",
   "execution_count": 14,
   "id": "defensive-trailer",
   "metadata": {},
   "outputs": [
    {
     "name": "stdout",
     "output_type": "stream",
     "text": [
      "Requirement already satisfied: spacy in /Users/sreedhar.k/.pyenv/versions/3.8.0/lib/python3.8/site-packages (3.5.0)\n",
      "Requirement already satisfied: numpy>=1.15.0 in /Users/sreedhar.k/.pyenv/versions/3.8.0/lib/python3.8/site-packages (from spacy) (1.23.4)\n",
      "Requirement already satisfied: jinja2 in /Users/sreedhar.k/.pyenv/versions/3.8.0/lib/python3.8/site-packages (from spacy) (3.1.2)\n",
      "Requirement already satisfied: packaging>=20.0 in /Users/sreedhar.k/.pyenv/versions/3.8.0/lib/python3.8/site-packages (from spacy) (21.3)\n",
      "Requirement already satisfied: spacy-loggers<2.0.0,>=1.0.0 in /Users/sreedhar.k/.pyenv/versions/3.8.0/lib/python3.8/site-packages (from spacy) (1.0.4)\n",
      "Requirement already satisfied: typer<0.8.0,>=0.3.0 in /Users/sreedhar.k/.pyenv/versions/3.8.0/lib/python3.8/site-packages (from spacy) (0.7.0)\n",
      "Requirement already satisfied: preshed<3.1.0,>=3.0.2 in /Users/sreedhar.k/.pyenv/versions/3.8.0/lib/python3.8/site-packages (from spacy) (3.0.8)\n",
      "Requirement already satisfied: thinc<8.2.0,>=8.1.0 in /Users/sreedhar.k/.pyenv/versions/3.8.0/lib/python3.8/site-packages (from spacy) (8.1.7)\n",
      "Requirement already satisfied: langcodes<4.0.0,>=3.2.0 in /Users/sreedhar.k/.pyenv/versions/3.8.0/lib/python3.8/site-packages (from spacy) (3.3.0)\n",
      "Requirement already satisfied: requests<3.0.0,>=2.13.0 in /Users/sreedhar.k/.pyenv/versions/3.8.0/lib/python3.8/site-packages (from spacy) (2.28.1)\n",
      "Requirement already satisfied: murmurhash<1.1.0,>=0.28.0 in /Users/sreedhar.k/.pyenv/versions/3.8.0/lib/python3.8/site-packages (from spacy) (1.0.9)\n",
      "Requirement already satisfied: wasabi<1.2.0,>=0.9.1 in /Users/sreedhar.k/.pyenv/versions/3.8.0/lib/python3.8/site-packages (from spacy) (1.1.1)\n",
      "Requirement already satisfied: smart-open<7.0.0,>=5.2.1 in /Users/sreedhar.k/.pyenv/versions/3.8.0/lib/python3.8/site-packages (from spacy) (6.3.0)\n",
      "Requirement already satisfied: cymem<2.1.0,>=2.0.2 in /Users/sreedhar.k/.pyenv/versions/3.8.0/lib/python3.8/site-packages (from spacy) (2.0.7)\n",
      "Requirement already satisfied: spacy-legacy<3.1.0,>=3.0.11 in /Users/sreedhar.k/.pyenv/versions/3.8.0/lib/python3.8/site-packages (from spacy) (3.0.12)\n",
      "Requirement already satisfied: setuptools in /Users/sreedhar.k/.pyenv/versions/3.8.0/lib/python3.8/site-packages (from spacy) (41.2.0)\n",
      "Requirement already satisfied: pydantic!=1.8,!=1.8.1,<1.11.0,>=1.7.4 in /Users/sreedhar.k/.pyenv/versions/3.8.0/lib/python3.8/site-packages (from spacy) (1.10.4)\n",
      "Requirement already satisfied: catalogue<2.1.0,>=2.0.6 in /Users/sreedhar.k/.pyenv/versions/3.8.0/lib/python3.8/site-packages (from spacy) (2.0.8)\n",
      "Requirement already satisfied: srsly<3.0.0,>=2.4.3 in /Users/sreedhar.k/.pyenv/versions/3.8.0/lib/python3.8/site-packages (from spacy) (2.4.5)\n",
      "Requirement already satisfied: pathy>=0.10.0 in /Users/sreedhar.k/.pyenv/versions/3.8.0/lib/python3.8/site-packages (from spacy) (0.10.1)\n",
      "Requirement already satisfied: tqdm<5.0.0,>=4.38.0 in /Users/sreedhar.k/.pyenv/versions/3.8.0/lib/python3.8/site-packages (from spacy) (4.64.1)\n",
      "Requirement already satisfied: pyparsing!=3.0.5,>=2.0.2 in /Users/sreedhar.k/.pyenv/versions/3.8.0/lib/python3.8/site-packages (from packaging>=20.0->spacy) (3.0.9)\n",
      "Requirement already satisfied: typing-extensions>=4.2.0 in /Users/sreedhar.k/.pyenv/versions/3.8.0/lib/python3.8/site-packages (from pydantic!=1.8,!=1.8.1,<1.11.0,>=1.7.4->spacy) (4.4.0)\n",
      "Requirement already satisfied: certifi>=2017.4.17 in /Users/sreedhar.k/.pyenv/versions/3.8.0/lib/python3.8/site-packages (from requests<3.0.0,>=2.13.0->spacy) (2022.9.24)\n",
      "Requirement already satisfied: idna<4,>=2.5 in /Users/sreedhar.k/.pyenv/versions/3.8.0/lib/python3.8/site-packages (from requests<3.0.0,>=2.13.0->spacy) (3.4)\n",
      "Requirement already satisfied: urllib3<1.27,>=1.21.1 in /Users/sreedhar.k/.pyenv/versions/3.8.0/lib/python3.8/site-packages (from requests<3.0.0,>=2.13.0->spacy) (1.26.13)\n",
      "Requirement already satisfied: charset-normalizer<3,>=2 in /Users/sreedhar.k/.pyenv/versions/3.8.0/lib/python3.8/site-packages (from requests<3.0.0,>=2.13.0->spacy) (2.1.1)\n",
      "Requirement already satisfied: blis<0.8.0,>=0.7.8 in /Users/sreedhar.k/.pyenv/versions/3.8.0/lib/python3.8/site-packages (from thinc<8.2.0,>=8.1.0->spacy) (0.7.9)\n",
      "Requirement already satisfied: confection<1.0.0,>=0.0.1 in /Users/sreedhar.k/.pyenv/versions/3.8.0/lib/python3.8/site-packages (from thinc<8.2.0,>=8.1.0->spacy) (0.0.4)\n",
      "Requirement already satisfied: click<9.0.0,>=7.1.1 in /Users/sreedhar.k/.pyenv/versions/3.8.0/lib/python3.8/site-packages (from typer<0.8.0,>=0.3.0->spacy) (8.1.3)\n",
      "Requirement already satisfied: MarkupSafe>=2.0 in /Users/sreedhar.k/.pyenv/versions/3.8.0/lib/python3.8/site-packages (from jinja2->spacy) (2.1.1)\n",
      "\n",
      "\u001b[1m[\u001b[0m\u001b[34;49mnotice\u001b[0m\u001b[1;39;49m]\u001b[0m\u001b[39;49m A new release of pip available: \u001b[0m\u001b[31;49m22.3\u001b[0m\u001b[39;49m -> \u001b[0m\u001b[32;49m23.0\u001b[0m\n",
      "\u001b[1m[\u001b[0m\u001b[34;49mnotice\u001b[0m\u001b[1;39;49m]\u001b[0m\u001b[39;49m To update, run: \u001b[0m\u001b[32;49mpip install --upgrade pip\u001b[0m\n"
     ]
    }
   ],
   "source": [
    "!pip install spacy"
   ]
  },
  {
   "cell_type": "code",
   "execution_count": 15,
   "id": "cellular-reflection",
   "metadata": {},
   "outputs": [],
   "source": [
    "from spacy.cli import download\n",
    "from spacy import load\n",
    "# download('en_core_web_sm')\n",
    "nlp = load('en_core_web_sm')"
   ]
  },
  {
   "cell_type": "code",
   "execution_count": 16,
   "id": "radical-melbourne",
   "metadata": {},
   "outputs": [],
   "source": [
    "import warnings\n",
    "\n",
    "POS_MAP = {\n",
    "    'VERB': wn.VERB,\n",
    "    'NOUN': wn.NOUN,\n",
    "    'PROPN': wn.NOUN\n",
    "}\n",
    "\n",
    "\n",
    "def lesk(doc, word):\n",
    "    found = False\n",
    "    for token in doc:\n",
    "        if token.text == word:\n",
    "            word = token\n",
    "            found = True\n",
    "            break\n",
    "    if not found:\n",
    "        raise ValueError(f'Word \\\"{word}\\\" does not appear in the document: {doc.text}.')\n",
    "    pos = POS_MAP.get(word.pos_, False)\n",
    "    if not pos:\n",
    "        warnings.warn(f'POS tag for {word.text} not found in wordnet. Falling back to default Lesk behaviour.')\n",
    "    args = [c.text for c in doc], word.text\n",
    "    kwargs = dict(pos=pos)\n",
    "    return wsd.lesk(*args, **kwargs)"
   ]
  },
  {
   "cell_type": "code",
   "execution_count": 17,
   "id": "monetary-disaster",
   "metadata": {},
   "outputs": [],
   "source": [
    "doc = nlp('Roll the die to get a 6.')"
   ]
  },
  {
   "cell_type": "code",
   "execution_count": 18,
   "id": "surgical-chrome",
   "metadata": {},
   "outputs": [
    {
     "data": {
      "text/plain": [
       "Synset('die.n.01')"
      ]
     },
     "execution_count": 18,
     "metadata": {},
     "output_type": "execute_result"
    }
   ],
   "source": [
    "lesk(doc, 'die')"
   ]
  },
  {
   "cell_type": "code",
   "execution_count": 19,
   "id": "cordless-bankruptcy",
   "metadata": {},
   "outputs": [
    {
     "data": {
      "text/plain": [
       "'a small cube with 1 to 6 spots on the six faces; used in gambling to generate random numbers'"
      ]
     },
     "execution_count": 19,
     "metadata": {},
     "output_type": "execute_result"
    }
   ],
   "source": [
    "lesk(doc, 'die').definition()"
   ]
  },
  {
   "cell_type": "code",
   "execution_count": 20,
   "id": "excess-consultancy",
   "metadata": {},
   "outputs": [
    {
     "data": {
      "text/plain": [
       "\"a widely used search engine that uses text-matching techniques to find web pages that are important and relevant to a user's search\""
      ]
     },
     "execution_count": 20,
     "metadata": {},
     "output_type": "execute_result"
    }
   ],
   "source": [
    "lesk(nlp('I work at google.'), 'google').definition()"
   ]
  },
  {
   "cell_type": "code",
   "execution_count": 21,
   "id": "infectious-binary",
   "metadata": {},
   "outputs": [
    {
     "data": {
      "text/plain": [
       "'search the internet (for information) using the Google search engine'"
      ]
     },
     "execution_count": 21,
     "metadata": {},
     "output_type": "execute_result"
    }
   ],
   "source": [
    "lesk(nlp('I will google it.'), 'google').definition()"
   ]
  },
  {
   "cell_type": "code",
   "execution_count": null,
   "id": "laughing-carolina",
   "metadata": {},
   "outputs": [],
   "source": []
  }
 ],
 "metadata": {
  "kernelspec": {
   "display_name": "Python 3 (ipykernel)",
   "language": "python",
   "name": "python3"
  },
  "language_info": {
   "codemirror_mode": {
    "name": "ipython",
    "version": 3
   },
   "file_extension": ".py",
   "mimetype": "text/x-python",
   "name": "python",
   "nbconvert_exporter": "python",
   "pygments_lexer": "ipython3",
   "version": "3.8.0"
  },
  "varInspector": {
   "cols": {
    "lenName": 16,
    "lenType": 16,
    "lenVar": 40
   },
   "kernels_config": {
    "python": {
     "delete_cmd_postfix": "",
     "delete_cmd_prefix": "del ",
     "library": "var_list.py",
     "varRefreshCmd": "print(var_dic_list())"
    },
    "r": {
     "delete_cmd_postfix": ") ",
     "delete_cmd_prefix": "rm(",
     "library": "var_list.r",
     "varRefreshCmd": "cat(var_dic_list()) "
    }
   },
   "types_to_exclude": [
    "module",
    "function",
    "builtin_function_or_method",
    "instance",
    "_Feature"
   ],
   "window_display": false
  }
 },
 "nbformat": 4,
 "nbformat_minor": 5
}
