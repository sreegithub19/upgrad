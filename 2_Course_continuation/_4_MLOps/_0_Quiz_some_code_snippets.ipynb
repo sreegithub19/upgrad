{
 "cells": [
  {
   "cell_type": "code",
   "execution_count": 1,
   "id": "e8c9b943",
   "metadata": {},
   "outputs": [
    {
     "ename": "SyntaxError",
     "evalue": "invalid syntax (1483419811.py, line 8)",
     "output_type": "error",
     "traceback": [
      "\u001b[0;36m  Cell \u001b[0;32mIn [1], line 8\u001b[0;36m\u001b[0m\n\u001b[0;31m    print('Execution ends')\u001b[0m\n\u001b[0m    ^\u001b[0m\n\u001b[0;31mSyntaxError\u001b[0m\u001b[0;31m:\u001b[0m invalid syntax\n"
     ]
    }
   ],
   "source": [
    "print('Execution starts')\n",
    "\n",
    "try:\n",
    "    num_list = [12, 33, 44, 55]\n",
    "    for values in num_list:\n",
    "        print(values)\n",
    "\n",
    "print('Execution ends')"
   ]
  },
  {
   "cell_type": "code",
   "execution_count": 2,
   "id": "489b7f56",
   "metadata": {},
   "outputs": [
    {
     "name": "stdout",
     "output_type": "stream",
     "text": [
      "This is Line_1\n",
      "Divisible by zero\n"
     ]
    }
   ],
   "source": [
    "def random_function():\n",
    "    try:\n",
    "        print('This is Line_1')\n",
    "        result = 5 / 0\n",
    "        print('This is Line_3')\n",
    "    \n",
    "    except ZeroDivisionError as z_e:\n",
    "        print('Divisible by zero')\n",
    "        \n",
    "random_function()"
   ]
  },
  {
   "cell_type": "code",
   "execution_count": 4,
   "id": "f3cb9362",
   "metadata": {},
   "outputs": [
    {
     "name": "stdout",
     "output_type": "stream",
     "text": [
      "M.G.M.H.S.S\n",
      "No exception occured\n",
      "------------\n",
      "The key does not exists\n"
     ]
    }
   ],
   "source": [
    "school_data = {'Name' : 'M.G.M.H.S.S' , 'Classrooms': 50, 'Board' : 'ICSE', 'teachers': 100}\n",
    "\n",
    "def get_key_value(key):\n",
    "    try:\n",
    "        print(school_data[key])\n",
    "        \n",
    "    except KeyError:\n",
    "        print('The key does not exists')\n",
    "        \n",
    "    else:\n",
    "        print('No exception occured')\n",
    "        \n",
    "get_key_value('Name') # 1st function_call\n",
    "print(\"------------\")\n",
    "get_key_value('students') # 2nd function_call"
   ]
  },
  {
   "cell_type": "code",
   "execution_count": 14,
   "id": "1563ff12",
   "metadata": {},
   "outputs": [
    {
     "name": "stdout",
     "output_type": "stream",
     "text": [
      "2+3: 5\n"
     ]
    }
   ],
   "source": [
    "import logging\n",
    "\n",
    "# Create and configure logger\n",
    "logging.basicConfig(filename=\"_0_code_exec.log\",\n",
    "                        filemode='a')\n",
    "\n",
    "# Creating an object\n",
    "logger = logging.getLogger()\n",
    "\n",
    "# Setting the threshold of logger to DEBUG\n",
    "# All the logging more severe than DEBUG will be saved in above file\n",
    "logger.setLevel(logging.DEBUG)\n",
    "\n",
    "print(\"2+3:\",2+3)\n",
    "logger.info(\"2+3:\"+str(2+3))"
   ]
  },
  {
   "cell_type": "code",
   "execution_count": 1,
   "id": "dd972d42",
   "metadata": {},
   "outputs": [],
   "source": [
    "# Increase level of severity\n",
    "\n",
    "import logging\n",
    "\n",
    "# Create and configure logger\n",
    "logging.basicConfig(filename=\"_0_code_exec.log\",\n",
    "                        filemode='a')\n",
    "\n",
    "# Creating an object\n",
    "logger = logging.getLogger()\n",
    "\n",
    "##### level is DEBUG #####\n",
    "\n",
    "logger.setLevel(logging.DEBUG)\n",
    "\n",
    "logging.debug('This is a debug message')\n",
    "logging.info('This is an info message')\n",
    "logging.warning('This is a warning message')\n",
    "logging.error('This is an error message')\n",
    "logging.critical('This is a critical message')\n",
    "\n",
    "\n",
    "##### level is WARNING #####\n",
    "\n",
    "logger.setLevel(logging.WARNING)\n",
    "\n",
    "logging.debug('This is a debug message')\n",
    "logging.info('This is an info message')\n",
    "logging.warning('This is a warning message')\n",
    "logging.error('This is an error message')\n",
    "logging.critical('This is a critical message')"
   ]
  },
  {
   "cell_type": "code",
   "execution_count": 2,
   "id": "5e9d3c1e",
   "metadata": {},
   "outputs": [],
   "source": [
    "import logging\n",
    "\n",
    "logging.basicConfig(format='%(asctime)s- %(name)s - %(message)s')\n",
    "logger = logging.getLogger('upGrad')\n",
    "logger.setLevel(logging.INFO)\n",
    "\n",
    "def divide(val_1, val_2):\n",
    "    try:\n",
    "        result = val_1 / val_2 \n",
    "    except TypeError:\n",
    "        logger.error('Error Occurred')\n",
    "    else:\n",
    "        print('Code executed successfully')\n",
    "\n",
    "result = divide(10, 'Steve')"
   ]
  },
  {
   "cell_type": "code",
   "execution_count": null,
   "id": "fc7f362f",
   "metadata": {},
   "outputs": [],
   "source": []
  }
 ],
 "metadata": {
  "kernelspec": {
   "display_name": "Python 3 (ipykernel)",
   "language": "python",
   "name": "python3"
  },
  "language_info": {
   "codemirror_mode": {
    "name": "ipython",
    "version": 3
   },
   "file_extension": ".py",
   "mimetype": "text/x-python",
   "name": "python",
   "nbconvert_exporter": "python",
   "pygments_lexer": "ipython3",
   "version": "3.8.0"
  },
  "varInspector": {
   "cols": {
    "lenName": 16,
    "lenType": 16,
    "lenVar": 40
   },
   "kernels_config": {
    "python": {
     "delete_cmd_postfix": "",
     "delete_cmd_prefix": "del ",
     "library": "var_list.py",
     "varRefreshCmd": "print(var_dic_list())"
    },
    "r": {
     "delete_cmd_postfix": ") ",
     "delete_cmd_prefix": "rm(",
     "library": "var_list.r",
     "varRefreshCmd": "cat(var_dic_list()) "
    }
   },
   "types_to_exclude": [
    "module",
    "function",
    "builtin_function_or_method",
    "instance",
    "_Feature"
   ],
   "window_display": false
  }
 },
 "nbformat": 4,
 "nbformat_minor": 5
}
