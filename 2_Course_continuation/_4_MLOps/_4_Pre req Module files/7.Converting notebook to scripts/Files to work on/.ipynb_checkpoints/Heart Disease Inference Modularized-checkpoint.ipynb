{
 "cells": [
  {
   "cell_type": "markdown",
   "id": "abc50010",
   "metadata": {},
   "source": [
    "## Heart Disease Inference Modularized\n",
    "\n",
    "In this notebook, we will try to look at just the inference part of the heart disease classification solution\n",
    "\n",
    "The process of applying the same transformations like data pre-processing, feature engineering etc. which was applied during the training process, and then applying the trained ML model to generate predictions is termed as the inference process."
   ]
  },
  {
   "cell_type": "markdown",
   "id": "3cd1ca75",
   "metadata": {},
   "source": [
    "### Import Modules"
   ]
  },
  {
   "cell_type": "code",
   "execution_count": 2,
   "id": "689524ff",
   "metadata": {},
   "outputs": [],
   "source": [
    "import warnings\n",
    "warnings.filterwarnings(\"ignore\")\n",
    "import pandas as pd\n",
    "import numpy as np\n",
    "import joblib\n",
    "from sklearn.metrics import accuracy_score\n",
    "from utils import *\n",
    "from constants import *"
   ]
  },
  {
   "cell_type": "markdown",
   "id": "3e6189a1",
   "metadata": {},
   "source": [
    "### Get Inference Data"
   ]
  },
  {
   "cell_type": "code",
   "execution_count": 3,
   "id": "126387a6",
   "metadata": {},
   "outputs": [
    {
     "ename": "NameError",
     "evalue": "name 'get_inference_data' is not defined",
     "output_type": "error",
     "traceback": [
      "\u001b[0;31m---------------------------------------------------------------------------\u001b[0m",
      "\u001b[0;31mNameError\u001b[0m                                 Traceback (most recent call last)",
      "Cell \u001b[0;32mIn [3], line 3\u001b[0m\n\u001b[1;32m      1\u001b[0m \u001b[38;5;66;03m# in real-time use cases, this code should be replaced with live flowing data\u001b[39;00m\n\u001b[1;32m      2\u001b[0m \u001b[38;5;66;03m# use get_inference_data() from utils.py to fetch inference data\u001b[39;00m\n\u001b[0;32m----> 3\u001b[0m inference_data, labels \u001b[38;5;241m=\u001b[39m \u001b[43mget_inference_data\u001b[49m()\n",
      "\u001b[0;31mNameError\u001b[0m: name 'get_inference_data' is not defined"
     ]
    }
   ],
   "source": [
    "# in real-time use cases, this code should be replaced with live flowing data\n",
    "# use get_inference_data() from utils.py to fetch inference data\n",
    "inference_data, labels = get_inference_data()"
   ]
  },
  {
   "cell_type": "markdown",
   "id": "ededc3f3",
   "metadata": {},
   "source": [
    "### Apply Same Pre-processing"
   ]
  },
  {
   "cell_type": "code",
   "execution_count": null,
   "id": "ecd06dfb",
   "metadata": {},
   "outputs": [],
   "source": [
    "# use apply_pre_processing() from utils.py \n",
    "# to apply necessary preprocessing as applied for training data\n",
    "processed_inference_data = apply_pre_processing(inference_data)"
   ]
  },
  {
   "cell_type": "markdown",
   "id": "982a527f",
   "metadata": {},
   "source": [
    "### Load Saved Model"
   ]
  },
  {
   "cell_type": "code",
   "execution_count": null,
   "id": "3ba55b48",
   "metadata": {},
   "outputs": [],
   "source": [
    "# use MODEL_NAME from constants.py\n",
    "model = joblib.load(MODEL_NAME)"
   ]
  },
  {
   "cell_type": "markdown",
   "id": "72a993e6",
   "metadata": {},
   "source": [
    "### Prediction on inference data"
   ]
  },
  {
   "cell_type": "code",
   "execution_count": null,
   "id": "704ba55f",
   "metadata": {},
   "outputs": [],
   "source": [
    "# perform model prediction on inference data\n",
    "model.predict(processed_inference_data)"
   ]
  },
  {
   "cell_type": "markdown",
   "id": "ea3e4f43",
   "metadata": {},
   "source": [
    "### Scoring check on prediction"
   ]
  },
  {
   "cell_type": "code",
   "execution_count": null,
   "id": "e69928fa",
   "metadata": {},
   "outputs": [],
   "source": [
    "# check inference accuracy\n",
    "accuracy_score(labels, model.predict(processed_inference_data))"
   ]
  },
  {
   "cell_type": "code",
   "execution_count": null,
   "id": "1d924066",
   "metadata": {},
   "outputs": [],
   "source": []
  }
 ],
 "metadata": {
  "kernelspec": {
   "display_name": "Python 3 (ipykernel)",
   "language": "python",
   "name": "python3"
  },
  "language_info": {
   "codemirror_mode": {
    "name": "ipython",
    "version": 3
   },
   "file_extension": ".py",
   "mimetype": "text/x-python",
   "name": "python",
   "nbconvert_exporter": "python",
   "pygments_lexer": "ipython3",
   "version": "3.8.0"
  },
  "varInspector": {
   "cols": {
    "lenName": 16,
    "lenType": 16,
    "lenVar": 40
   },
   "kernels_config": {
    "python": {
     "delete_cmd_postfix": "",
     "delete_cmd_prefix": "del ",
     "library": "var_list.py",
     "varRefreshCmd": "print(var_dic_list())"
    },
    "r": {
     "delete_cmd_postfix": ") ",
     "delete_cmd_prefix": "rm(",
     "library": "var_list.r",
     "varRefreshCmd": "cat(var_dic_list()) "
    }
   },
   "types_to_exclude": [
    "module",
    "function",
    "builtin_function_or_method",
    "instance",
    "_Feature"
   ],
   "window_display": false
  }
 },
 "nbformat": 4,
 "nbformat_minor": 5
}
