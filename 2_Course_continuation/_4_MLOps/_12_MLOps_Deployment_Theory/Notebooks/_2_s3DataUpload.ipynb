{
 "cells": [
  {
   "cell_type": "code",
   "execution_count": 2,
   "id": "00565d1a-863d-4419-a269-fd7a834e1441",
   "metadata": {},
   "outputs": [],
   "source": [
    "import boto3\n",
    "import glob\n",
    "import boto3\n",
    "import sagemaker\n",
    "\n",
    "\n",
    "region = boto3.Session().region_name\n",
    "role = sagemaker.get_execution_role()\n",
    "default_bucket = sagemaker.session.Session().default_bucket()\n",
    "\n",
    "\n"
   ]
  },
  {
   "cell_type": "code",
   "execution_count": 3,
   "id": "00750e0b-3c8f-4e8c-b191-4c92e4dbb338",
   "metadata": {},
   "outputs": [
    {
     "name": "stdout",
     "output_type": "stream",
     "text": [
      "sagemaker-us-east-1-070749463998\n"
     ]
    }
   ],
   "source": [
    "print(default_bucket)"
   ]
  },
  {
   "cell_type": "code",
   "execution_count": 4,
   "id": "36d22d00-a2e1-43c0-a635-be01361ce1fc",
   "metadata": {},
   "outputs": [],
   "source": [
    "def upload_file_using_client(filename,bucketname,path):\n",
    "    \"\"\"\n",
    "    Uploads file to S3 bucket using S3 client object\n",
    "    :return: None\n",
    "    \"\"\"\n",
    "    s3 = boto3.client(\"s3\")\n",
    "    bucket_name = bucketname\n",
    "    object_name = filename\n",
    "    response = s3.upload_file(object_name, bucket_name, path+object_name)"
   ]
  },
  {
   "cell_type": "code",
   "execution_count": 5,
   "id": "7fc8c6a4-4885-4640-95eb-78f2facce2dc",
   "metadata": {},
   "outputs": [],
   "source": [
    "bucketname=\"sagemaker-us-east-1-070749463998\"\n",
    "path=\"dataset/\"\n",
    "files=glob.glob('*.csv')+glob.glob('*.pkl')\n",
    "filenames=[]"
   ]
  },
  {
   "cell_type": "code",
   "execution_count": 6,
   "id": "7f918dac-4955-4c71-aa0e-e7b0db385f7a",
   "metadata": {},
   "outputs": [
    {
     "data": {
      "text/plain": [
       "['complaintsTraining.csv',\n",
       " 'y_test_features.csv',\n",
       " 'complaints.csv',\n",
       " 'complaintssharpened.csv',\n",
       " 'y_train_features.csv',\n",
       " 'tfidf_features.csv',\n",
       " 'tfidffeatureswithlables.csv',\n",
       " 'X_train_features.csv',\n",
       " 'complaintsclean.csv',\n",
       " 'X_test_features.csv',\n",
       " 'count_vector.pkl']"
      ]
     },
     "execution_count": 6,
     "metadata": {},
     "output_type": "execute_result"
    }
   ],
   "source": [
    "files"
   ]
  },
  {
   "cell_type": "code",
   "execution_count": 7,
   "id": "1463b0f3-8cd9-409a-b2f0-c7dd25660241",
   "metadata": {},
   "outputs": [],
   "source": [
    "for file in files:\n",
    "    upload_file_using_client(file,bucketname,path)"
   ]
  },
  {
   "cell_type": "code",
   "execution_count": null,
   "id": "ed0e2683-20f6-48ca-8bf7-58ecebcf21f2",
   "metadata": {},
   "outputs": [],
   "source": []
  }
 ],
 "metadata": {
  "instance_type": "ml.t3.medium",
  "kernelspec": {
   "display_name": "Python 3 (Data Science)",
   "language": "python",
   "name": "python3__SAGEMAKER_INTERNAL__arn:aws:sagemaker:us-east-1:081325390199:image/datascience-1.0"
  },
  "language_info": {
   "codemirror_mode": {
    "name": "ipython",
    "version": 3
   },
   "file_extension": ".py",
   "mimetype": "text/x-python",
   "name": "python",
   "nbconvert_exporter": "python",
   "pygments_lexer": "ipython3",
   "version": "3.7.10"
  }
 },
 "nbformat": 4,
 "nbformat_minor": 5
}
