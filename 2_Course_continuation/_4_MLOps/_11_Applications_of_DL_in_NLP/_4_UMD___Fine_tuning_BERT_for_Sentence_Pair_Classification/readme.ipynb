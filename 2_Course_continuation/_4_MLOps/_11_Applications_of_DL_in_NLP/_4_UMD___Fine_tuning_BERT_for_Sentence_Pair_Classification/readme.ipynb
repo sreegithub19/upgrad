{
 "cells": [
  {
   "attachments": {},
   "cell_type": "markdown",
   "metadata": {},
   "source": [
    "Dataset link: https://drive.google.com/drive/folders/1NwwS0v1o3vPYUgKfQZzVj-I8ivVAvSn2 "
   ]
  },
  {
   "attachments": {},
   "cell_type": "markdown",
   "metadata": {},
   "source": []
  }
 ],
 "metadata": {
  "language_info": {
   "name": "python"
  },
  "orig_nbformat": 4
 },
 "nbformat": 4,
 "nbformat_minor": 2
}
