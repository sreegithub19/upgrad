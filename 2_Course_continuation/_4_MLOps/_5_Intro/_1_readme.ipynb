{
 "cells": [
  {
   "attachments": {},
   "cell_type": "markdown",
   "metadata": {},
   "source": [
    "Important papers and reports (under _5_Intro):\n",
    "\n",
    "- https://venturebeat.com/ai/why-do-87-of-data-science-projects-never-make-it-into-production/\n",
    "- https://www.datarobot.com/\n",
    "- https://proceedings.neurips.cc/paper/2015/file/86df7dcfd896fcaf2674f757a2463eba-Paper.pdf\n",
    "- https://se-ml.github.io/practices/\n",
    "- https://martin.zinkevich.org/rules_of_ml/rules_of_ml.pdf\n",
    "\n",
    "Sayan Dey's related Google drive link:\n",
    "- https://drive.google.com/drive/folders/1t2qMmAVMq87pwV4UZMQfgcXIpe1e8AyE"
   ]
  },
  {
   "attachments": {},
   "cell_type": "markdown",
   "metadata": {},
   "source": [
    "MLOps Lifecycle:\n",
    "- <img src=\"https://images.upgrad.com/3bbbd50b-3ad2-4962-92cf-67c232b417da-Data%20and%20Model%20Management.PNG\" />\n",
    "\n",
    "\n",
    "The different phases of the life cycle are as follows:\n",
    "\n",
    "ML development: This phase involves rapid experimentation to select a suitable model with the end goal of creating a baseline model.\n",
    "\n",
    "Training operationalisation: This involves converting useful code from a Jupyter Notebook to Python scripts for optimisation.\n",
    "\n",
    "Continuous training: This involves automating the training process so that it can be trained automatically whenever live data comes in.\n",
    "\n",
    "Model deployment: This phase involves the actual deployment of the model by creating an inference pipeline and through continuous integration and deployment of the same pipeline.\n",
    "\n",
    "Prediction serving: This phase usually involves creating APIs to deliver the model predictions to the end user.\n",
    "\n",
    "Continuous monitoring: In this phase, we constantly monitor the model’s performance to continuously integrate and deploy any changes required due to model/concept drift.\n",
    "\n",
    "Data and model management: This part talks about choosing the correct infrastructure to ensure the security of data and models."
   ]
  },
  {
   "attachments": {},
   "cell_type": "markdown",
   "metadata": {},
   "source": [
    "Design-thinking process:\n",
    "<img src=\"https://images.squarespace-cdn.com/content/v1/5abe8292372b9613c67b1de6/1554728029540-Q7H5DDREBCPRY9MW3B57/designthinking.png?format=2500w\" />"
   ]
  },
  {
   "cell_type": "markdown",
   "metadata": {},
   "source": []
  }
 ],
 "metadata": {
  "language_info": {
   "name": "python"
  },
  "orig_nbformat": 4
 },
 "nbformat": 4,
 "nbformat_minor": 2
}
