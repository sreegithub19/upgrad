{
 "cells": [
  {
   "attachments": {},
   "cell_type": "markdown",
   "id": "76c490a6",
   "metadata": {},
   "source": [
    "Important links and documents:\n",
    "\n",
    "- PRD (Project Requirement Document) for beatit.ai: https://docs.google.com/document/d/1xkdlCQ1lzEZmn8goeGvHt3dfVX4kQBh4Qqt-YMtA_zY/edit\n",
    "\n",
    "- WSDM - KKBox's Churn Prediction Challenge Data:\n",
    "https://www.kaggle.com/competitions/kkbox-churn-prediction-challenge/data\n",
    "\n",
    "- MLFlow:\n",
    "https://mlflow.org/\n",
    "\n",
    "- PyCaret:\n",
    "https://pycaret.readthedocs.io/en/stable/\n",
    "\n",
    "\n",
    "- Jarvis Source code:\n",
    "https://notebooksc.jarvislabs.ai/V8yqfNrGc-FwKg4XwyD3q19iJZg2ZG-PSCV8hH1c08WjmaGUXdEDhDLS_gKHDojFoS/?folder=/home\n",
    "\n",
    "Note: \n",
    "- For upgrad learners it is only one instance (could be a paused / running instance ) available at any point of time.\n"
   ]
  },
  {
   "cell_type": "code",
   "execution_count": null,
   "id": "510231df",
   "metadata": {},
   "outputs": [],
   "source": []
  }
 ],
 "metadata": {
  "kernelspec": {
   "display_name": "Python 3 (ipykernel)",
   "language": "python",
   "name": "python3"
  },
  "language_info": {
   "codemirror_mode": {
    "name": "ipython",
    "version": 3
   },
   "file_extension": ".py",
   "mimetype": "text/x-python",
   "name": "python",
   "nbconvert_exporter": "python",
   "pygments_lexer": "ipython3",
   "version": "3.8.0"
  },
  "varInspector": {
   "cols": {
    "lenName": 16,
    "lenType": 16,
    "lenVar": 40
   },
   "kernels_config": {
    "python": {
     "delete_cmd_postfix": "",
     "delete_cmd_prefix": "del ",
     "library": "var_list.py",
     "varRefreshCmd": "print(var_dic_list())"
    },
    "r": {
     "delete_cmd_postfix": ") ",
     "delete_cmd_prefix": "rm(",
     "library": "var_list.r",
     "varRefreshCmd": "cat(var_dic_list()) "
    }
   },
   "types_to_exclude": [
    "module",
    "function",
    "builtin_function_or_method",
    "instance",
    "_Feature"
   ],
   "window_display": false
  }
 },
 "nbformat": 4,
 "nbformat_minor": 5
}
