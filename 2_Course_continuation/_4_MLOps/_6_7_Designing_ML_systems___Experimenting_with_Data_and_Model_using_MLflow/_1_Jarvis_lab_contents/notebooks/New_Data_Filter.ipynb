{
 "cells": [
  {
   "cell_type": "code",
   "execution_count": 1,
   "id": "3b373ffd-a12d-4b9b-9077-a1c07e5608a3",
   "metadata": {},
   "outputs": [
    {
     "name": "stdout",
     "output_type": "stream",
     "text": [
      "/home\n"
     ]
    }
   ],
   "source": [
    "%cd /home"
   ]
  },
  {
   "cell_type": "code",
   "execution_count": 7,
   "id": "9518e133-a2a4-411b-91f0-b25d82f2166f",
   "metadata": {},
   "outputs": [
    {
     "name": "stdout",
     "output_type": "stream",
     "text": [
      "directory loaded\n"
     ]
    }
   ],
   "source": [
    "# Setting up all directory\n",
    "root_folder = \"/home/\"\n",
    "\n",
    "data_directory = root_folder+\"data/raw/\"\n",
    "new_data_directory = root_folder+\"data/new/\"\n",
    "data_profile_path = root_folder+\"/data/profile_report/\"\n",
    "intermediate_data_path = root_folder+\"data/interim/\"\n",
    "print(\"directory loaded\")"
   ]
  },
  {
   "cell_type": "code",
   "execution_count": 3,
   "id": "e10991e1-6b84-400e-8503-d5d3f63347fe",
   "metadata": {},
   "outputs": [],
   "source": [
    "import warnings\n",
    "warnings.filterwarnings(\"ignore\")"
   ]
  },
  {
   "cell_type": "code",
   "execution_count": 4,
   "id": "2c60882d-ee30-4f50-9a6c-da770390ee41",
   "metadata": {},
   "outputs": [],
   "source": [
    "%matplotlib inline\n",
    "from scripts import utils\n",
    "import pandas as pd\n",
    "import numpy as np\n",
    "import matplotlib.pyplot as plt\n",
    "import seaborn as sns\n",
    "import time\n",
    "from datetime import datetime\n",
    "from pandas_profiling import ProfileReport"
   ]
  },
  {
   "cell_type": "code",
   "execution_count": 9,
   "id": "9e1aba2a-2a83-4900-93c1-1159ce918896",
   "metadata": {},
   "outputs": [
    {
     "name": "stdout",
     "output_type": "stream",
     "text": [
      "CPU times: user 25.1 s, sys: 3.29 s, total: 28.4 s\n",
      "Wall time: 28.4 s\n"
     ]
    }
   ],
   "source": [
    "%%time\n",
    "members_n, user_logs_n, transactions_n, train_n  = utils.load_data( [\n",
    "                                                            f\"{new_data_directory}members_profile_new.csv\",\n",
    "                                                            f\"{new_data_directory}user_logs_new.csv\",\n",
    "                                                            f\"{new_data_directory}transactions_logs_new.csv\",\n",
    "                                                            f\"{new_data_directory}churn_logs_new.csv\"\n",
    "                                                            ]\n",
    "                                                          )"
   ]
  },
  {
   "cell_type": "code",
   "execution_count": 16,
   "id": "81046292-fa9c-4246-8551-36e45af08da7",
   "metadata": {},
   "outputs": [
    {
     "name": "stdout",
     "output_type": "stream",
     "text": [
      "(6769473, 6)\n",
      "(1431009, 9)\n",
      "(18396362, 9)\n",
      "(970960, 2)\n"
     ]
    }
   ],
   "source": [
    "print(members_n.shape)\n",
    "print(transactions_n.shape)\n",
    "print(user_logs_n.shape)\n",
    "print(train_n.shape)"
   ]
  },
  {
   "cell_type": "code",
   "execution_count": 12,
   "id": "e236e6ab-4420-4fb0-89f7-ba2452ad0426",
   "metadata": {},
   "outputs": [],
   "source": [
    "user_logs_n['date'] = utils.fix_time_in_df(user_logs_n, 'date', expand=False)"
   ]
  },
  {
   "cell_type": "code",
   "execution_count": 30,
   "id": "0f899328-434b-4366-a69f-147a93709e8b",
   "metadata": {},
   "outputs": [
    {
     "name": "stdout",
     "output_type": "stream",
     "text": [
      "CPU times: user 10.9 s, sys: 1.7 s, total: 12.6 s\n",
      "Wall time: 12.6 s\n"
     ]
    }
   ],
   "source": [
    "%%time\n",
    "members, user_logs, transactions, train  = utils.load_data( [\n",
    "                                                            f\"{data_directory}members_profile.csv\",\n",
    "                                                            f\"{data_directory}userlogs.csv\",\n",
    "                                                            f\"{data_directory}transactions_logs.csv\",\n",
    "                                                            f\"{data_directory}churn_logs.csv\"\n",
    "                                                            ]\n",
    "                                                          )"
   ]
  },
  {
   "cell_type": "code",
   "execution_count": 15,
   "id": "f524b871-459d-4940-8058-84908b04e405",
   "metadata": {},
   "outputs": [
    {
     "name": "stdout",
     "output_type": "stream",
     "text": [
      "(4348970, 6)\n",
      "(4380726, 9)\n",
      "(4828886, 9)\n",
      "(385591, 2)\n"
     ]
    }
   ],
   "source": [
    "print(members.shape)\n",
    "print(transactions.shape)\n",
    "print(user_logs.shape)\n",
    "print(train.shape)"
   ]
  },
  {
   "cell_type": "code",
   "execution_count": 13,
   "id": "fc01becc-6eaa-443c-9101-10e3c1a1689a",
   "metadata": {},
   "outputs": [
    {
     "data": {
      "text/html": [
       "<div>\n",
       "<style scoped>\n",
       "    .dataframe tbody tr th:only-of-type {\n",
       "        vertical-align: middle;\n",
       "    }\n",
       "\n",
       "    .dataframe tbody tr th {\n",
       "        vertical-align: top;\n",
       "    }\n",
       "\n",
       "    .dataframe thead th {\n",
       "        text-align: right;\n",
       "    }\n",
       "</style>\n",
       "<table border=\"1\" class=\"dataframe\">\n",
       "  <thead>\n",
       "    <tr style=\"text-align: right;\">\n",
       "      <th></th>\n",
       "      <th>msno</th>\n",
       "      <th>date</th>\n",
       "      <th>num_25</th>\n",
       "      <th>num_50</th>\n",
       "      <th>num_75</th>\n",
       "      <th>num_985</th>\n",
       "      <th>num_100</th>\n",
       "      <th>num_unq</th>\n",
       "      <th>total_secs</th>\n",
       "    </tr>\n",
       "  </thead>\n",
       "  <tbody>\n",
       "    <tr>\n",
       "      <th>0</th>\n",
       "      <td>u9E91QDTvHLq6NXjEaWv8u4QIqhrHk72kE+w31Gnhdg=</td>\n",
       "      <td>2017-03-31</td>\n",
       "      <td>8</td>\n",
       "      <td>4</td>\n",
       "      <td>0</td>\n",
       "      <td>1</td>\n",
       "      <td>21</td>\n",
       "      <td>18</td>\n",
       "      <td>6309.273</td>\n",
       "    </tr>\n",
       "    <tr>\n",
       "      <th>1</th>\n",
       "      <td>nTeWW/eOZA/UHKdD5L7DEqKKFTjaAj3ALLPoAWsU8n0=</td>\n",
       "      <td>2017-03-30</td>\n",
       "      <td>2</td>\n",
       "      <td>2</td>\n",
       "      <td>1</td>\n",
       "      <td>0</td>\n",
       "      <td>9</td>\n",
       "      <td>11</td>\n",
       "      <td>2390.699</td>\n",
       "    </tr>\n",
       "    <tr>\n",
       "      <th>2</th>\n",
       "      <td>2UqkWXwZbIjs03dHLU9KHJNNEvEkZVzm69f3jCS+uLI=</td>\n",
       "      <td>2017-03-31</td>\n",
       "      <td>52</td>\n",
       "      <td>3</td>\n",
       "      <td>5</td>\n",
       "      <td>3</td>\n",
       "      <td>84</td>\n",
       "      <td>110</td>\n",
       "      <td>23203.337</td>\n",
       "    </tr>\n",
       "    <tr>\n",
       "      <th>3</th>\n",
       "      <td>ycwLc+m2O0a85jSLALtr941AaZt9ai8Qwlg9n0Nql5U=</td>\n",
       "      <td>2017-03-31</td>\n",
       "      <td>176</td>\n",
       "      <td>4</td>\n",
       "      <td>2</td>\n",
       "      <td>2</td>\n",
       "      <td>19</td>\n",
       "      <td>191</td>\n",
       "      <td>7100.454</td>\n",
       "    </tr>\n",
       "    <tr>\n",
       "      <th>4</th>\n",
       "      <td>EGcbTofOSOkMmQyN1NMLxHEXJ1yV3t/JdhGwQ9wXjnI=</td>\n",
       "      <td>2017-03-31</td>\n",
       "      <td>2</td>\n",
       "      <td>1</td>\n",
       "      <td>0</td>\n",
       "      <td>1</td>\n",
       "      <td>112</td>\n",
       "      <td>93</td>\n",
       "      <td>28401.558</td>\n",
       "    </tr>\n",
       "  </tbody>\n",
       "</table>\n",
       "</div>"
      ],
      "text/plain": [
       "                                           msno       date  num_25  num_50  \\\n",
       "0  u9E91QDTvHLq6NXjEaWv8u4QIqhrHk72kE+w31Gnhdg= 2017-03-31       8       4   \n",
       "1  nTeWW/eOZA/UHKdD5L7DEqKKFTjaAj3ALLPoAWsU8n0= 2017-03-30       2       2   \n",
       "2  2UqkWXwZbIjs03dHLU9KHJNNEvEkZVzm69f3jCS+uLI= 2017-03-31      52       3   \n",
       "3  ycwLc+m2O0a85jSLALtr941AaZt9ai8Qwlg9n0Nql5U= 2017-03-31     176       4   \n",
       "4  EGcbTofOSOkMmQyN1NMLxHEXJ1yV3t/JdhGwQ9wXjnI= 2017-03-31       2       1   \n",
       "\n",
       "   num_75  num_985  num_100  num_unq  total_secs  \n",
       "0       0        1       21       18    6309.273  \n",
       "1       1        0        9       11    2390.699  \n",
       "2       5        3       84      110   23203.337  \n",
       "3       2        2       19      191    7100.454  \n",
       "4       0        1      112       93   28401.558  "
      ]
     },
     "execution_count": 13,
     "metadata": {},
     "output_type": "execute_result"
    }
   ],
   "source": [
    "user_logs_n.head()"
   ]
  },
  {
   "cell_type": "code",
   "execution_count": 31,
   "id": "296df411-84e8-48d7-91e3-5e20da13b6ba",
   "metadata": {},
   "outputs": [],
   "source": [
    "members_list = np.unique(list(members['msno']))"
   ]
  },
  {
   "cell_type": "code",
   "execution_count": 34,
   "id": "ca95d9e3-b843-49ec-8cb7-0e6fd69e9857",
   "metadata": {},
   "outputs": [],
   "source": [
    "train_members_list = np.unique(list(train['msno']))"
   ]
  },
  {
   "cell_type": "code",
   "execution_count": 35,
   "id": "4e84ffef-1708-438a-b05a-8a132015c302",
   "metadata": {},
   "outputs": [
    {
     "data": {
      "text/plain": [
       "(5014919, 9)"
      ]
     },
     "execution_count": 35,
     "metadata": {},
     "output_type": "execute_result"
    }
   ],
   "source": [
    "user_logs_n[(user_logs_n['date']>'2017-03-01') & \n",
    "            (user_logs_n['date']<'2017-03-31') &\n",
    "            (user_logs_n['msno'].isin(members_list)) & \n",
    "            (user_logs_n['msno'].isin(train_members_list))].shape"
   ]
  },
  {
   "cell_type": "code",
   "execution_count": 38,
   "id": "2220dcb6-7891-453c-baa1-7db9621e7b93",
   "metadata": {},
   "outputs": [],
   "source": [
    "user_logs_n[(user_logs_n['date']>'2017-03-01') & \n",
    "            (user_logs_n['date']<'2017-03-31') &\n",
    "            (user_logs_n['msno'].isin(members_list)) & \n",
    "            (user_logs_n['msno'].isin(train_members_list))].to_csv(\"/home/data/new_append/user_logs_march.csv\",index=False)"
   ]
  },
  {
   "cell_type": "code",
   "execution_count": 22,
   "id": "575111ec-e32b-4e8a-bdb1-9514c3c031e6",
   "metadata": {},
   "outputs": [
    {
     "name": "stdout",
     "output_type": "stream",
     "text": [
      "CPU times: user 1.39 s, sys: 116 ms, total: 1.5 s\n",
      "Wall time: 1.5 s\n"
     ]
    }
   ],
   "source": [
    "%%time\n",
    "transactions_n['transaction_date'] = utils.fix_time_in_df(transactions_n, 'transaction_date', expand=False)\n",
    "transactions_n['membership_expire_date'] = utils.fix_time_in_df(transactions_n, 'membership_expire_date', expand=False)"
   ]
  },
  {
   "cell_type": "code",
   "execution_count": 23,
   "id": "7f4e583b-b34d-4932-9135-7ea31d19b882",
   "metadata": {},
   "outputs": [
    {
     "data": {
      "text/html": [
       "<div>\n",
       "<style scoped>\n",
       "    .dataframe tbody tr th:only-of-type {\n",
       "        vertical-align: middle;\n",
       "    }\n",
       "\n",
       "    .dataframe tbody tr th {\n",
       "        vertical-align: top;\n",
       "    }\n",
       "\n",
       "    .dataframe thead th {\n",
       "        text-align: right;\n",
       "    }\n",
       "</style>\n",
       "<table border=\"1\" class=\"dataframe\">\n",
       "  <thead>\n",
       "    <tr style=\"text-align: right;\">\n",
       "      <th></th>\n",
       "      <th>msno</th>\n",
       "      <th>payment_method_id</th>\n",
       "      <th>payment_plan_days</th>\n",
       "      <th>plan_list_price</th>\n",
       "      <th>actual_amount_paid</th>\n",
       "      <th>is_auto_renew</th>\n",
       "      <th>transaction_date</th>\n",
       "      <th>membership_expire_date</th>\n",
       "      <th>is_cancel</th>\n",
       "    </tr>\n",
       "  </thead>\n",
       "  <tbody>\n",
       "    <tr>\n",
       "      <th>0</th>\n",
       "      <td>++6eU4LsQ3UQ20ILS7d99XK8WbiVgbyYL4FUgzZR134=</td>\n",
       "      <td>32</td>\n",
       "      <td>90</td>\n",
       "      <td>298</td>\n",
       "      <td>298</td>\n",
       "      <td>0</td>\n",
       "      <td>2017-01-31</td>\n",
       "      <td>2017-05-04</td>\n",
       "      <td>0</td>\n",
       "    </tr>\n",
       "    <tr>\n",
       "      <th>1</th>\n",
       "      <td>++lvGPJOinuin/8esghpnqdljm6NXS8m8Zwchc7gOeA=</td>\n",
       "      <td>41</td>\n",
       "      <td>30</td>\n",
       "      <td>149</td>\n",
       "      <td>149</td>\n",
       "      <td>1</td>\n",
       "      <td>2015-08-09</td>\n",
       "      <td>2019-04-12</td>\n",
       "      <td>0</td>\n",
       "    </tr>\n",
       "    <tr>\n",
       "      <th>2</th>\n",
       "      <td>+/GXNtXWQVfKrEDqYAzcSw2xSPYMKWNj22m+5XkVQZc=</td>\n",
       "      <td>36</td>\n",
       "      <td>30</td>\n",
       "      <td>180</td>\n",
       "      <td>180</td>\n",
       "      <td>1</td>\n",
       "      <td>2017-03-03</td>\n",
       "      <td>2017-04-22</td>\n",
       "      <td>0</td>\n",
       "    </tr>\n",
       "    <tr>\n",
       "      <th>3</th>\n",
       "      <td>+/w1UrZwyka4C9oNH3+Q8fUf3fD8R3EwWrx57ODIsqk=</td>\n",
       "      <td>36</td>\n",
       "      <td>30</td>\n",
       "      <td>180</td>\n",
       "      <td>180</td>\n",
       "      <td>1</td>\n",
       "      <td>2017-03-29</td>\n",
       "      <td>2017-03-31</td>\n",
       "      <td>1</td>\n",
       "    </tr>\n",
       "    <tr>\n",
       "      <th>4</th>\n",
       "      <td>+00PGzKTYqtnb65mPKPyeHXcZEwqiEzktpQksaaSC3c=</td>\n",
       "      <td>41</td>\n",
       "      <td>30</td>\n",
       "      <td>99</td>\n",
       "      <td>99</td>\n",
       "      <td>1</td>\n",
       "      <td>2017-03-23</td>\n",
       "      <td>2017-04-23</td>\n",
       "      <td>0</td>\n",
       "    </tr>\n",
       "  </tbody>\n",
       "</table>\n",
       "</div>"
      ],
      "text/plain": [
       "                                           msno  payment_method_id  \\\n",
       "0  ++6eU4LsQ3UQ20ILS7d99XK8WbiVgbyYL4FUgzZR134=                 32   \n",
       "1  ++lvGPJOinuin/8esghpnqdljm6NXS8m8Zwchc7gOeA=                 41   \n",
       "2  +/GXNtXWQVfKrEDqYAzcSw2xSPYMKWNj22m+5XkVQZc=                 36   \n",
       "3  +/w1UrZwyka4C9oNH3+Q8fUf3fD8R3EwWrx57ODIsqk=                 36   \n",
       "4  +00PGzKTYqtnb65mPKPyeHXcZEwqiEzktpQksaaSC3c=                 41   \n",
       "\n",
       "   payment_plan_days  plan_list_price  actual_amount_paid  is_auto_renew  \\\n",
       "0                 90              298                 298              0   \n",
       "1                 30              149                 149              1   \n",
       "2                 30              180                 180              1   \n",
       "3                 30              180                 180              1   \n",
       "4                 30               99                  99              1   \n",
       "\n",
       "  transaction_date membership_expire_date  is_cancel  \n",
       "0       2017-01-31             2017-05-04          0  \n",
       "1       2015-08-09             2019-04-12          0  \n",
       "2       2017-03-03             2017-04-22          0  \n",
       "3       2017-03-29             2017-03-31          1  \n",
       "4       2017-03-23             2017-04-23          0  "
      ]
     },
     "execution_count": 23,
     "metadata": {},
     "output_type": "execute_result"
    }
   ],
   "source": [
    "transactions_n.head()"
   ]
  },
  {
   "cell_type": "code",
   "execution_count": 26,
   "id": "851082b3-fbd2-428c-930d-cda3faf55180",
   "metadata": {},
   "outputs": [],
   "source": [
    "transactions_n[(transactions_n['transaction_date']>'2017-03-01') & (transactions_n['transaction_date']<'2017-03-31') & (transactions_n['membership_expire_date']<'2017-12-31')].to_csv(\"/home/data/new_append/transactions_logs_march.csv\",index=False)"
   ]
  },
  {
   "cell_type": "code",
   "execution_count": 37,
   "id": "76939edd-cb9a-40d5-8d39-5c4d33536d58",
   "metadata": {},
   "outputs": [
    {
     "data": {
      "text/plain": [
       "(307092, 9)"
      ]
     },
     "execution_count": 37,
     "metadata": {},
     "output_type": "execute_result"
    }
   ],
   "source": [
    "transactions_n[(transactions_n['transaction_date']>'2017-03-01') & \n",
    "               (transactions_n['transaction_date']<'2017-03-31') & \n",
    "               (transactions_n['membership_expire_date']<'2017-12-31') & \n",
    "               (transactions_n['msno'].isin(members_list)) & \n",
    "               (transactions_n['msno'].isin(train_members_list))].shape"
   ]
  },
  {
   "cell_type": "code",
   "execution_count": 39,
   "id": "94fa2db1-7938-44c2-a4c1-ba1e291c0f51",
   "metadata": {},
   "outputs": [],
   "source": [
    "transactions_n[(transactions_n['transaction_date']>'2017-03-01') & \n",
    "               (transactions_n['transaction_date']<'2017-03-31') & \n",
    "               (transactions_n['membership_expire_date']<'2017-12-31') & \n",
    "               (transactions_n['msno'].isin(members_list)) & \n",
    "               (transactions_n['msno'].isin(train_members_list))].to_csv(\"/home/data/new_append/transactions_logs_march.csv\",index=False)"
   ]
  },
  {
   "cell_type": "code",
   "execution_count": null,
   "id": "6f3e9f4a-91e0-49fc-9856-bc25f9be5a18",
   "metadata": {},
   "outputs": [],
   "source": []
  },
  {
   "cell_type": "code",
   "execution_count": null,
   "id": "b37b1dda-9c95-42ee-80fa-c86227e39d53",
   "metadata": {},
   "outputs": [],
   "source": []
  },
  {
   "cell_type": "code",
   "execution_count": 40,
   "id": "ba6f98ff-76ce-4b62-aea0-a88ad65ba01c",
   "metadata": {},
   "outputs": [],
   "source": [
    "march_user_logs = user_logs_n[(user_logs_n['date']>'2017-03-01') & \n",
    "            (user_logs_n['date']<'2017-03-31') &\n",
    "            (user_logs_n['msno'].isin(members_list)) & \n",
    "            (user_logs_n['msno'].isin(train_members_list))]"
   ]
  },
  {
   "cell_type": "code",
   "execution_count": 41,
   "id": "ab5d92b1-d92c-4e12-9ffe-4081a153f002",
   "metadata": {},
   "outputs": [],
   "source": [
    "march_transactions = transactions_n[(transactions_n['transaction_date']>'2017-03-01') & \n",
    "               (transactions_n['transaction_date']<'2017-03-31') & \n",
    "               (transactions_n['membership_expire_date']<'2017-12-31') & \n",
    "               (transactions_n['msno'].isin(members_list)) & \n",
    "               (transactions_n['msno'].isin(train_members_list))]"
   ]
  },
  {
   "cell_type": "code",
   "execution_count": null,
   "id": "20e1a724-c4e6-43c2-b89e-cfcd278add95",
   "metadata": {},
   "outputs": [],
   "source": []
  },
  {
   "cell_type": "code",
   "execution_count": 42,
   "id": "55f2854d-33df-4fa5-b47f-c132c9ad436f",
   "metadata": {},
   "outputs": [],
   "source": [
    "user_logs_updated = user_logs.append(march_user_logs)"
   ]
  },
  {
   "cell_type": "code",
   "execution_count": 64,
   "id": "5d463a64-6430-4459-87b1-35233fcc8582",
   "metadata": {},
   "outputs": [
    {
     "data": {
      "text/html": [
       "<div>\n",
       "<style scoped>\n",
       "    .dataframe tbody tr th:only-of-type {\n",
       "        vertical-align: middle;\n",
       "    }\n",
       "\n",
       "    .dataframe tbody tr th {\n",
       "        vertical-align: top;\n",
       "    }\n",
       "\n",
       "    .dataframe thead th {\n",
       "        text-align: right;\n",
       "    }\n",
       "</style>\n",
       "<table border=\"1\" class=\"dataframe\">\n",
       "  <thead>\n",
       "    <tr style=\"text-align: right;\">\n",
       "      <th></th>\n",
       "      <th>msno</th>\n",
       "      <th>date</th>\n",
       "      <th>num_25</th>\n",
       "      <th>num_50</th>\n",
       "      <th>num_75</th>\n",
       "      <th>num_985</th>\n",
       "      <th>num_100</th>\n",
       "      <th>num_unq</th>\n",
       "      <th>total_secs</th>\n",
       "    </tr>\n",
       "  </thead>\n",
       "  <tbody>\n",
       "    <tr>\n",
       "      <th>0</th>\n",
       "      <td>kvn0x25i/D06AX1K3Sv9djeZA5oRsjPm8ysAl4rzBYs=</td>\n",
       "      <td>20151029</td>\n",
       "      <td>8</td>\n",
       "      <td>1</td>\n",
       "      <td>1</td>\n",
       "      <td>2</td>\n",
       "      <td>54</td>\n",
       "      <td>58</td>\n",
       "      <td>13573.105</td>\n",
       "    </tr>\n",
       "    <tr>\n",
       "      <th>1</th>\n",
       "      <td>kvn0x25i/D06AX1K3Sv9djeZA5oRsjPm8ysAl4rzBYs=</td>\n",
       "      <td>20160103</td>\n",
       "      <td>0</td>\n",
       "      <td>0</td>\n",
       "      <td>0</td>\n",
       "      <td>1</td>\n",
       "      <td>27</td>\n",
       "      <td>28</td>\n",
       "      <td>6233.864</td>\n",
       "    </tr>\n",
       "    <tr>\n",
       "      <th>2</th>\n",
       "      <td>kvn0x25i/D06AX1K3Sv9djeZA5oRsjPm8ysAl4rzBYs=</td>\n",
       "      <td>20160302</td>\n",
       "      <td>19</td>\n",
       "      <td>5</td>\n",
       "      <td>2</td>\n",
       "      <td>0</td>\n",
       "      <td>69</td>\n",
       "      <td>78</td>\n",
       "      <td>17517.728</td>\n",
       "    </tr>\n",
       "    <tr>\n",
       "      <th>3</th>\n",
       "      <td>kvn0x25i/D06AX1K3Sv9djeZA5oRsjPm8ysAl4rzBYs=</td>\n",
       "      <td>20160428</td>\n",
       "      <td>26</td>\n",
       "      <td>0</td>\n",
       "      <td>0</td>\n",
       "      <td>0</td>\n",
       "      <td>1</td>\n",
       "      <td>27</td>\n",
       "      <td>278.301</td>\n",
       "    </tr>\n",
       "    <tr>\n",
       "      <th>4</th>\n",
       "      <td>kvn0x25i/D06AX1K3Sv9djeZA5oRsjPm8ysAl4rzBYs=</td>\n",
       "      <td>20160628</td>\n",
       "      <td>2</td>\n",
       "      <td>0</td>\n",
       "      <td>0</td>\n",
       "      <td>0</td>\n",
       "      <td>0</td>\n",
       "      <td>2</td>\n",
       "      <td>11.345</td>\n",
       "    </tr>\n",
       "  </tbody>\n",
       "</table>\n",
       "</div>"
      ],
      "text/plain": [
       "                                           msno      date  num_25  num_50  \\\n",
       "0  kvn0x25i/D06AX1K3Sv9djeZA5oRsjPm8ysAl4rzBYs=  20151029       8       1   \n",
       "1  kvn0x25i/D06AX1K3Sv9djeZA5oRsjPm8ysAl4rzBYs=  20160103       0       0   \n",
       "2  kvn0x25i/D06AX1K3Sv9djeZA5oRsjPm8ysAl4rzBYs=  20160302      19       5   \n",
       "3  kvn0x25i/D06AX1K3Sv9djeZA5oRsjPm8ysAl4rzBYs=  20160428      26       0   \n",
       "4  kvn0x25i/D06AX1K3Sv9djeZA5oRsjPm8ysAl4rzBYs=  20160628       2       0   \n",
       "\n",
       "   num_75  num_985  num_100  num_unq  total_secs  \n",
       "0       1        2       54       58   13573.105  \n",
       "1       0        1       27       28    6233.864  \n",
       "2       2        0       69       78   17517.728  \n",
       "3       0        0        1       27     278.301  \n",
       "4       0        0        0        2      11.345  "
      ]
     },
     "execution_count": 64,
     "metadata": {},
     "output_type": "execute_result"
    }
   ],
   "source": [
    "user_logs_updated.head()"
   ]
  },
  {
   "cell_type": "code",
   "execution_count": 43,
   "id": "deab7ef8-9c36-49b3-be91-9f4a423a009f",
   "metadata": {},
   "outputs": [
    {
     "data": {
      "text/plain": [
       "(9843805, 9)"
      ]
     },
     "execution_count": 43,
     "metadata": {},
     "output_type": "execute_result"
    }
   ],
   "source": [
    "user_logs_updated.shape"
   ]
  },
  {
   "cell_type": "code",
   "execution_count": 44,
   "id": "5215f2b8-3cd0-4c3e-811c-db724620a1ed",
   "metadata": {},
   "outputs": [
    {
     "data": {
      "text/plain": [
       "(4687818, 9)"
      ]
     },
     "execution_count": 44,
     "metadata": {},
     "output_type": "execute_result"
    }
   ],
   "source": [
    "transactions_updated = transactions.append(march_transactions)\n",
    "transactions_updated.shape"
   ]
  },
  {
   "cell_type": "code",
   "execution_count": 45,
   "id": "dcbacaaa-50b4-4a2b-acfb-28c77e0e590d",
   "metadata": {},
   "outputs": [],
   "source": [
    "def get_new_data_appended(new_data_directory, start_data, end_date):\n",
    "    members_n, user_logs_n, transactions_n, train_n  = utils.load_data( [\n",
    "                                                            f\"{new_data_directory}members_profile_new.csv\",\n",
    "                                                            f\"{new_data_directory}user_logs_new.csv\",\n",
    "                                                            f\"{new_data_directory}transactions_logs_new.csv\",\n",
    "                                                            f\"{new_data_directory}churn_logs_new.csv\"\n",
    "                                                            ]\n",
    "                                                          )\n",
    "    \n",
    "    #get the list of memebers fron historical data. This assumes, no new user has been added in the system. Shouldn't be done, when new users are added\n",
    "    members_list = np.unique(list(members['msno']))\n",
    "    train_members_list = np.unique(list(train['msno']))\n",
    "    \n",
    "    #Some Date Filters are manual at this point for sanity check \n",
    "    user_logs_n['date'] = utils.fix_time_in_df(user_logs_n, 'date', expand=False)\n",
    "    march_user_logs = user_logs_n[(user_logs_n['date']>start_data) & \n",
    "            (user_logs_n['date']<end_date) &\n",
    "            (user_logs_n['msno'].isin(members_list)) & \n",
    "            (user_logs_n['msno'].isin(train_members_list))]\n",
    "    \n",
    "    transactions_n['transaction_date'] = utils.fix_time_in_df(transactions_n, 'transaction_date', expand=False)\n",
    "    transactions_n['membership_expire_date'] = utils.fix_time_in_df(transactions_n, 'membership_expire_date', expand=False)\n",
    "    march_transactions = transactions_n[(transactions_n['transaction_date']>start_data) & \n",
    "               (transactions_n['transaction_date']<end_date) & \n",
    "               (transactions_n['membership_expire_date']<'2017-12-31') & \n",
    "               (transactions_n['msno'].isin(members_list)) & \n",
    "               (transactions_n['msno'].isin(train_members_list))]\n",
    "\n",
    "    \n",
    "    return march_user_logs, march_transactions"
   ]
  },
  {
   "cell_type": "code",
   "execution_count": 46,
   "id": "2f378805-4840-449d-8c7e-8c1017a3d54d",
   "metadata": {},
   "outputs": [
    {
     "name": "stdout",
     "output_type": "stream",
     "text": [
      "CPU times: user 50.3 s, sys: 6.61 s, total: 56.9 s\n",
      "Wall time: 56.8 s\n"
     ]
    }
   ],
   "source": [
    "%%time\n",
    "start_data = '2017-03-01'\n",
    "end_date = '2017-03-31'\n",
    "new_data_directory = root_folder+\"data/new/\"\n",
    "\n",
    "a,b = get_new_data_appended(new_data_directory, start_data, end_date)"
   ]
  },
  {
   "cell_type": "code",
   "execution_count": 49,
   "id": "0fc1005b-6c10-443b-9bb2-b21fbe6c8a28",
   "metadata": {},
   "outputs": [
    {
     "data": {
      "text/html": [
       "<div>\n",
       "<style scoped>\n",
       "    .dataframe tbody tr th:only-of-type {\n",
       "        vertical-align: middle;\n",
       "    }\n",
       "\n",
       "    .dataframe tbody tr th {\n",
       "        vertical-align: top;\n",
       "    }\n",
       "\n",
       "    .dataframe thead th {\n",
       "        text-align: right;\n",
       "    }\n",
       "</style>\n",
       "<table border=\"1\" class=\"dataframe\">\n",
       "  <thead>\n",
       "    <tr style=\"text-align: right;\">\n",
       "      <th></th>\n",
       "      <th>msno</th>\n",
       "      <th>city</th>\n",
       "      <th>bd</th>\n",
       "      <th>gender</th>\n",
       "      <th>registered_via</th>\n",
       "      <th>registration_init_time</th>\n",
       "    </tr>\n",
       "  </thead>\n",
       "  <tbody>\n",
       "    <tr>\n",
       "      <th>0</th>\n",
       "      <td>Rb9UwLQTrxzBVwCB6+bCcSQWZ9JiNLC9dXtM1oEsZA8=</td>\n",
       "      <td>1</td>\n",
       "      <td>0</td>\n",
       "      <td>NaN</td>\n",
       "      <td>11</td>\n",
       "      <td>20110911</td>\n",
       "    </tr>\n",
       "    <tr>\n",
       "      <th>1</th>\n",
       "      <td>+tJonkh+O1CA796Fm5X60UMOtB6POHAwPjbTRVl/EuU=</td>\n",
       "      <td>1</td>\n",
       "      <td>0</td>\n",
       "      <td>NaN</td>\n",
       "      <td>7</td>\n",
       "      <td>20110914</td>\n",
       "    </tr>\n",
       "    <tr>\n",
       "      <th>2</th>\n",
       "      <td>cV358ssn7a0f7jZOwGNWS07wCKVqxyiImJUX6xcIwKw=</td>\n",
       "      <td>1</td>\n",
       "      <td>0</td>\n",
       "      <td>NaN</td>\n",
       "      <td>11</td>\n",
       "      <td>20110915</td>\n",
       "    </tr>\n",
       "    <tr>\n",
       "      <th>3</th>\n",
       "      <td>9bzDeJP6sQodK73K5CBlJ6fgIQzPeLnRl0p5B77XP+g=</td>\n",
       "      <td>1</td>\n",
       "      <td>0</td>\n",
       "      <td>NaN</td>\n",
       "      <td>11</td>\n",
       "      <td>20110915</td>\n",
       "    </tr>\n",
       "    <tr>\n",
       "      <th>4</th>\n",
       "      <td>WFLY3s7z4EZsieHCt63XrsdtfTEmJ+2PnnKLH5GY4Tk=</td>\n",
       "      <td>6</td>\n",
       "      <td>32</td>\n",
       "      <td>female</td>\n",
       "      <td>9</td>\n",
       "      <td>20110915</td>\n",
       "    </tr>\n",
       "  </tbody>\n",
       "</table>\n",
       "</div>"
      ],
      "text/plain": [
       "                                           msno  city  bd  gender  \\\n",
       "0  Rb9UwLQTrxzBVwCB6+bCcSQWZ9JiNLC9dXtM1oEsZA8=     1   0     NaN   \n",
       "1  +tJonkh+O1CA796Fm5X60UMOtB6POHAwPjbTRVl/EuU=     1   0     NaN   \n",
       "2  cV358ssn7a0f7jZOwGNWS07wCKVqxyiImJUX6xcIwKw=     1   0     NaN   \n",
       "3  9bzDeJP6sQodK73K5CBlJ6fgIQzPeLnRl0p5B77XP+g=     1   0     NaN   \n",
       "4  WFLY3s7z4EZsieHCt63XrsdtfTEmJ+2PnnKLH5GY4Tk=     6  32  female   \n",
       "\n",
       "   registered_via  registration_init_time  \n",
       "0              11                20110911  \n",
       "1               7                20110914  \n",
       "2              11                20110915  \n",
       "3              11                20110915  \n",
       "4               9                20110915  "
      ]
     },
     "execution_count": 49,
     "metadata": {},
     "output_type": "execute_result"
    }
   ],
   "source": [
    "members_n.head()"
   ]
  },
  {
   "cell_type": "code",
   "execution_count": 90,
   "id": "ddbf3515-2499-4a19-bb7a-2e208eb423e8",
   "metadata": {},
   "outputs": [],
   "source": [
    "def get_change(current, previous):\n",
    "    if current == previous:\n",
    "        return 0\n",
    "    try:\n",
    "        return (abs(current - previous) / previous) * 100.0\n",
    "    except ZeroDivisionError:\n",
    "        return float('inf')\n",
    "    \n",
    "def get_data_drift(current_data, old_data, column_list,exclude_list, metric='std'):\n",
    "    std_deviation_percentage = []\n",
    "    mean_deviation_percentage = []\n",
    "    for eachCol in column_list:\n",
    "        if metric == 'std' and eachCol not in exclude_list:\n",
    "            std1 = current_data[eachCol].std()\n",
    "            std2 = old_data[eachCol].std()\n",
    "            std_deviation_percentage.append(get_change(std1, std2))\n",
    "        elif metric =='mean'and eachCol not in exclude_list:\n",
    "            mean1 = current_data[eachCol].mean()\n",
    "            mean2 = old_data[eachCol].mean()\n",
    "            mean_deviation_percentage.append(get_change(mean1, mean2))\n",
    "    print(std_deviation_percentage,mean_deviation_percentage)\n",
    "    return np.mean(std_deviation_percentage), np.mean(mean_deviation_percentage)"
   ]
  },
  {
   "cell_type": "code",
   "execution_count": 95,
   "id": "6a7ae754-6ad2-49ae-bab0-e8daebbea054",
   "metadata": {},
   "outputs": [
    {
     "name": "stdout",
     "output_type": "stream",
     "text": [
      "['date', 'num_25', 'num_50', 'num_75', 'num_985', 'num_100', 'num_unq', 'total_secs']\n",
      "[8.202758342221658, 10.71451630822849, 10.481820946531997, 42.140590737945686, 12.405514033808252, 1.1186882422743198, 99.99999998437839] []\n"
     ]
    },
    {
     "data": {
      "text/plain": [
       "(26.437698370769827, nan)"
      ]
     },
     "execution_count": 95,
     "metadata": {},
     "output_type": "execute_result"
    }
   ],
   "source": [
    "column_list = list(user_logs.select_dtypes(include=['int','float']).columns)\n",
    "print(column_list)\n",
    "get_data_drift(user_logs_n, user_logs, column_list,exclude_list= ['date'], metric='std')"
   ]
  },
  {
   "cell_type": "code",
   "execution_count": 96,
   "id": "b2348da8-928f-41d6-be96-8c1ed10e01f5",
   "metadata": {},
   "outputs": [
    {
     "name": "stdout",
     "output_type": "stream",
     "text": [
      "['date', 'num_25', 'num_50', 'num_75', 'num_985', 'num_100', 'num_unq', 'total_secs']\n",
      "[] [10.660760937669314, 10.817536404550486, 9.302931212476622, 2.403962858140031, 7.075398563404825, 0.934810590264208, -100.00000174622627]\n"
     ]
    },
    {
     "data": {
      "text/plain": [
       "(nan, -8.400657311388684)"
      ]
     },
     "execution_count": 96,
     "metadata": {},
     "output_type": "execute_result"
    }
   ],
   "source": [
    "column_list = list(user_logs.select_dtypes(include=['int','float']).columns)\n",
    "print(column_list)\n",
    "get_data_drift(user_logs_n, user_logs, column_list,exclude_list= ['date'], metric='mean')"
   ]
  },
  {
   "cell_type": "code",
   "execution_count": 93,
   "id": "47b33c4d-3d43-400c-bc04-e014956e8d6f",
   "metadata": {},
   "outputs": [
    {
     "name": "stdout",
     "output_type": "stream",
     "text": [
      "['payment_method_id', 'payment_plan_days', 'plan_list_price', 'actual_amount_paid', 'is_auto_renew', 'transaction_date', 'membership_expire_date', 'is_cancel']\n",
      "[77.99252836046986, 667.4599089415049, 586.4353306148355, 580.058025422085, 33.40287126038689, 35.28128439902486] []\n"
     ]
    },
    {
     "data": {
      "text/plain": [
       "(330.10499149971787, nan)"
      ]
     },
     "execution_count": 93,
     "metadata": {},
     "output_type": "execute_result"
    }
   ],
   "source": [
    "column_list = list(transactions.select_dtypes(include=['int','float']).columns)\n",
    "print(column_list)\n",
    "get_data_drift(transactions_n, transactions, column_list,exclude_list= ['transaction_date','membership_expire_date'], metric='std')"
   ]
  },
  {
   "cell_type": "code",
   "execution_count": 97,
   "id": "28bbf00a-c9fd-4bbe-a2d3-b8c1b2603753",
   "metadata": {},
   "outputs": [
    {
     "name": "stdout",
     "output_type": "stream",
     "text": [
      "['payment_method_id', 'payment_plan_days', 'plan_list_price', 'actual_amount_paid', 'is_auto_renew', 'transaction_date', 'membership_expire_date', 'is_cancel']\n",
      "[] [4.900430373078422, 115.99443117764416, 129.9453706176852, 130.33607214722778, 12.161534775048644, 85.12826427699356]\n"
     ]
    },
    {
     "data": {
      "text/plain": [
       "(nan, 79.74435056127963)"
      ]
     },
     "execution_count": 97,
     "metadata": {},
     "output_type": "execute_result"
    }
   ],
   "source": [
    "column_list = list(transactions.select_dtypes(include=['int','float']).columns)\n",
    "print(column_list)\n",
    "get_data_drift(transactions_n, transactions, column_list,exclude_list= ['transaction_date','membership_expire_date'], metric='mean')"
   ]
  },
  {
   "cell_type": "code",
   "execution_count": null,
   "id": "056a413f-0e8a-405a-83cc-8cce167e4013",
   "metadata": {},
   "outputs": [],
   "source": []
  },
  {
   "cell_type": "code",
   "execution_count": null,
   "id": "534aff94-b4d3-43e6-a804-6ec8320f2a92",
   "metadata": {},
   "outputs": [],
   "source": [
    "def get_new_data_appended(new_data_directory, start_data, end_date):\n",
    "    members_n, user_logs_n, transactions_n, train_n  = utils.load_data( [\n",
    "                                                            f\"{new_data_directory}members_profile_new.csv\",\n",
    "                                                            f\"{new_data_directory}user_logs_new.csv\",\n",
    "                                                            f\"{new_data_directory}transactions_logs_new.csv\",\n",
    "                                                            f\"{new_data_directory}churn_logs_new.csv\"\n",
    "                                                            ]\n",
    "                                                          )\n",
    "    \n",
    "    #get the list of memebers fron historical data. This assumes, no new user has been added in the system. Shouldn't be done, when new users are added\n",
    "    members_list = np.unique(list(members['msno']))\n",
    "    train_members_list = np.unique(list(train['msno']))\n",
    "    \n",
    "    #Some Date Filters are manual at this point for sanity check \n",
    "    user_logs_n['date'] = utils.fix_time_in_df(user_logs_n, 'date', expand=False)\n",
    "    march_user_logs = user_logs_n[(user_logs_n['date']>start_data) & \n",
    "            (user_logs_n['date']<end_date) &\n",
    "            (user_logs_n['msno'].isin(members_list)) & \n",
    "            (user_logs_n['msno'].isin(train_members_list))]\n",
    "    \n",
    "    transactions_n['transaction_date'] = utils.fix_time_in_df(transactions_n, 'transaction_date', expand=False)\n",
    "    transactions_n['membership_expire_date'] = utils.fix_time_in_df(transactions_n, 'membership_expire_date', expand=False)\n",
    "    march_transactions = transactions_n[(transactions_n['transaction_date']>start_data) & \n",
    "               (transactions_n['transaction_date']<end_date) & \n",
    "               (transactions_n['membership_expire_date']<'2017-12-31') & \n",
    "               (transactions_n['msno'].isin(members_list)) & \n",
    "               (transactions_n['msno'].isin(train_members_list))]\n",
    "\n",
    "    \n",
    "    return march_user_logs, march_transactions"
   ]
  },
  {
   "cell_type": "code",
   "execution_count": null,
   "id": "5a2bb6b5-09e0-47e1-b8c0-57e14c85629c",
   "metadata": {},
   "outputs": [],
   "source": []
  },
  {
   "cell_type": "code",
   "execution_count": null,
   "id": "4a1fa869-e9c5-43e3-8f78-6f48d3c0f7a7",
   "metadata": {},
   "outputs": [],
   "source": []
  },
  {
   "cell_type": "code",
   "execution_count": null,
   "id": "57957ea5-bfb2-4b49-86bf-05a0c70b79c8",
   "metadata": {},
   "outputs": [],
   "source": []
  },
  {
   "cell_type": "code",
   "execution_count": null,
   "id": "a89e16b1-d93a-49c1-b56d-8373b05c69f2",
   "metadata": {},
   "outputs": [],
   "source": []
  },
  {
   "cell_type": "code",
   "execution_count": null,
   "id": "7a680f90-393f-4137-b600-4238fa67f73a",
   "metadata": {},
   "outputs": [],
   "source": []
  },
  {
   "cell_type": "code",
   "execution_count": null,
   "id": "13259987-b28c-4f5d-b0c0-4e2b0af16894",
   "metadata": {},
   "outputs": [],
   "source": []
  }
 ],
 "metadata": {
  "kernelspec": {
   "display_name": "Python 3 (ipykernel)",
   "language": "python",
   "name": "python3"
  },
  "language_info": {
   "codemirror_mode": {
    "name": "ipython",
    "version": 3
   },
   "file_extension": ".py",
   "mimetype": "text/x-python",
   "name": "python",
   "nbconvert_exporter": "python",
   "pygments_lexer": "ipython3",
   "version": "3.8.12"
  }
 },
 "nbformat": 4,
 "nbformat_minor": 5
}
