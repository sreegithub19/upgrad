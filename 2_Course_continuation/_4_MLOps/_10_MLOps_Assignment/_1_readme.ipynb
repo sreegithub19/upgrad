{
 "cells": [
  {
   "attachments": {},
   "cell_type": "markdown",
   "metadata": {},
   "source": [
    "Assignment files:\n",
    "https://drive.google.com/drive/folders/10h4J0JO7ZOZHhTyW25wYPZyrE88AYKuL"
   ]
  },
  {
   "attachments": {},
   "cell_type": "markdown",
   "metadata": {},
   "source": []
  }
 ],
 "metadata": {
  "language_info": {
   "name": "python"
  },
  "orig_nbformat": 4
 },
 "nbformat": 4,
 "nbformat_minor": 2
}
