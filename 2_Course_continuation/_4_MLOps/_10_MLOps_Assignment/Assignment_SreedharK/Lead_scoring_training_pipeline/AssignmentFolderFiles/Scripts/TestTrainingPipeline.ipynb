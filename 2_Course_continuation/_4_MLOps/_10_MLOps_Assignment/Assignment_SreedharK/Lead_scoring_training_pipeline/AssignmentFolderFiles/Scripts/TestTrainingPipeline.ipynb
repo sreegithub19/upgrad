{
 "cells": [
  {
   "cell_type": "code",
   "execution_count": 1,
   "id": "8cdd8144-c30a-40a5-b47b-d2c88097392b",
   "metadata": {},
   "outputs": [],
   "source": [
    "import pandas as pd\n",
    "import os\n",
    "import sqlite3\n",
    "from sqlite3 import Error"
   ]
  },
  {
   "cell_type": "code",
   "execution_count": 2,
   "id": "085484d7-ebba-492e-b7c0-5f0f807ddb4d",
   "metadata": {},
   "outputs": [],
   "source": [
    "from constants import * \n",
    "from utils import *"
   ]
  },
  {
   "cell_type": "code",
   "execution_count": 3,
   "id": "54b32560-a892-4ddb-8b7d-5eb4a345e3b9",
   "metadata": {},
   "outputs": [
    {
     "name": "stdout",
     "output_type": "stream",
     "text": [
      "/home/airflow/dags/Lead_scoring_data_pipeline/\n",
      "lead_scoring_data_cleaning.db\n"
     ]
    }
   ],
   "source": [
    "print(DB_PATH)\n",
    "print(DB_FILE_NAME)"
   ]
  },
  {
   "cell_type": "code",
   "execution_count": 4,
   "id": "605f34b1-1252-45f4-ae6c-28701849dbb1",
   "metadata": {},
   "outputs": [
    {
     "name": "stdout",
     "output_type": "stream",
     "text": [
      "(6, 1)\n"
     ]
    },
    {
     "data": {
      "text/html": [
       "<div>\n",
       "<style scoped>\n",
       "    .dataframe tbody tr th:only-of-type {\n",
       "        vertical-align: middle;\n",
       "    }\n",
       "\n",
       "    .dataframe tbody tr th {\n",
       "        vertical-align: top;\n",
       "    }\n",
       "\n",
       "    .dataframe thead th {\n",
       "        text-align: right;\n",
       "    }\n",
       "</style>\n",
       "<table border=\"1\" class=\"dataframe\">\n",
       "  <thead>\n",
       "    <tr style=\"text-align: right;\">\n",
       "      <th></th>\n",
       "      <th>name</th>\n",
       "    </tr>\n",
       "  </thead>\n",
       "  <tbody>\n",
       "    <tr>\n",
       "      <th>0</th>\n",
       "      <td>loaded_data</td>\n",
       "    </tr>\n",
       "    <tr>\n",
       "      <th>1</th>\n",
       "      <td>city_tier_mapped</td>\n",
       "    </tr>\n",
       "    <tr>\n",
       "      <th>2</th>\n",
       "      <td>categorical_variables_mapped</td>\n",
       "    </tr>\n",
       "    <tr>\n",
       "      <th>3</th>\n",
       "      <td>interactions_mapped</td>\n",
       "    </tr>\n",
       "    <tr>\n",
       "      <th>4</th>\n",
       "      <td>features</td>\n",
       "    </tr>\n",
       "  </tbody>\n",
       "</table>\n",
       "</div>"
      ],
      "text/plain": [
       "                           name\n",
       "0                   loaded_data\n",
       "1              city_tier_mapped\n",
       "2  categorical_variables_mapped\n",
       "3           interactions_mapped\n",
       "4                      features"
      ]
     },
     "execution_count": 4,
     "metadata": {},
     "output_type": "execute_result"
    }
   ],
   "source": [
    "cnx = sqlite3.connect(DB_PATH + DB_FILE_NAME)\n",
    "df = pd.read_sql(f\"SELECT name FROM sqlite_master WHERE type='table'\", cnx)\n",
    "print(df.shape)\n",
    "df.head()"
   ]
  },
  {
   "cell_type": "code",
   "execution_count": 5,
   "id": "c9649435-e5cf-4572-8163-cf44e245f335",
   "metadata": {},
   "outputs": [
    {
     "name": "stdout",
     "output_type": "stream",
     "text": [
      "(238124, 14)\n"
     ]
    },
    {
     "data": {
      "text/html": [
       "<div>\n",
       "<style scoped>\n",
       "    .dataframe tbody tr th:only-of-type {\n",
       "        vertical-align: middle;\n",
       "    }\n",
       "\n",
       "    .dataframe tbody tr th {\n",
       "        vertical-align: top;\n",
       "    }\n",
       "\n",
       "    .dataframe thead th {\n",
       "        text-align: right;\n",
       "    }\n",
       "</style>\n",
       "<table border=\"1\" class=\"dataframe\">\n",
       "  <thead>\n",
       "    <tr style=\"text-align: right;\">\n",
       "      <th></th>\n",
       "      <th>index</th>\n",
       "      <th>created_date</th>\n",
       "      <th>city_tier</th>\n",
       "      <th>first_platform_c</th>\n",
       "      <th>first_utm_medium_c</th>\n",
       "      <th>first_utm_source_c</th>\n",
       "      <th>total_leads_droppped</th>\n",
       "      <th>referred_lead</th>\n",
       "      <th>app_complete_flag</th>\n",
       "      <th>assistance_interaction</th>\n",
       "      <th>career_interaction</th>\n",
       "      <th>payment_interaction</th>\n",
       "      <th>social_interaction</th>\n",
       "      <th>syllabus_interaction</th>\n",
       "    </tr>\n",
       "  </thead>\n",
       "  <tbody>\n",
       "    <tr>\n",
       "      <th>0</th>\n",
       "      <td>0</td>\n",
       "      <td>2021-07-01 00:08:15</td>\n",
       "      <td>1.0</td>\n",
       "      <td>Level0</td>\n",
       "      <td>others</td>\n",
       "      <td>Level2</td>\n",
       "      <td>1.0</td>\n",
       "      <td>0.0</td>\n",
       "      <td>1</td>\n",
       "      <td>0.0</td>\n",
       "      <td>0.0</td>\n",
       "      <td>0.0</td>\n",
       "      <td>0.0</td>\n",
       "      <td>0.0</td>\n",
       "    </tr>\n",
       "    <tr>\n",
       "      <th>1</th>\n",
       "      <td>1</td>\n",
       "      <td>2021-07-01 00:16:43</td>\n",
       "      <td>2.0</td>\n",
       "      <td>Level3</td>\n",
       "      <td>Level0</td>\n",
       "      <td>others</td>\n",
       "      <td>1.0</td>\n",
       "      <td>0.0</td>\n",
       "      <td>1</td>\n",
       "      <td>0.0</td>\n",
       "      <td>0.0</td>\n",
       "      <td>0.0</td>\n",
       "      <td>0.0</td>\n",
       "      <td>0.0</td>\n",
       "    </tr>\n",
       "    <tr>\n",
       "      <th>2</th>\n",
       "      <td>2</td>\n",
       "      <td>2021-07-01 00:22:20</td>\n",
       "      <td>1.0</td>\n",
       "      <td>Level3</td>\n",
       "      <td>Level0</td>\n",
       "      <td>Level0</td>\n",
       "      <td>1.0</td>\n",
       "      <td>0.0</td>\n",
       "      <td>1</td>\n",
       "      <td>0.0</td>\n",
       "      <td>0.0</td>\n",
       "      <td>0.0</td>\n",
       "      <td>0.0</td>\n",
       "      <td>0.0</td>\n",
       "    </tr>\n",
       "    <tr>\n",
       "      <th>3</th>\n",
       "      <td>3</td>\n",
       "      <td>2021-07-01 00:23:13</td>\n",
       "      <td>1.0</td>\n",
       "      <td>Level1</td>\n",
       "      <td>Level3</td>\n",
       "      <td>others</td>\n",
       "      <td>2.0</td>\n",
       "      <td>0.0</td>\n",
       "      <td>0</td>\n",
       "      <td>0.0</td>\n",
       "      <td>0.0</td>\n",
       "      <td>0.0</td>\n",
       "      <td>0.0</td>\n",
       "      <td>0.0</td>\n",
       "    </tr>\n",
       "    <tr>\n",
       "      <th>4</th>\n",
       "      <td>4</td>\n",
       "      <td>2021-07-01 00:28:38</td>\n",
       "      <td>1.0</td>\n",
       "      <td>Level3</td>\n",
       "      <td>Level0</td>\n",
       "      <td>Level0</td>\n",
       "      <td>1.0</td>\n",
       "      <td>0.0</td>\n",
       "      <td>0</td>\n",
       "      <td>0.0</td>\n",
       "      <td>0.0</td>\n",
       "      <td>0.0</td>\n",
       "      <td>0.0</td>\n",
       "      <td>0.0</td>\n",
       "    </tr>\n",
       "  </tbody>\n",
       "</table>\n",
       "</div>"
      ],
      "text/plain": [
       "   index         created_date  city_tier first_platform_c first_utm_medium_c  \\\n",
       "0      0  2021-07-01 00:08:15        1.0           Level0             others   \n",
       "1      1  2021-07-01 00:16:43        2.0           Level3             Level0   \n",
       "2      2  2021-07-01 00:22:20        1.0           Level3             Level0   \n",
       "3      3  2021-07-01 00:23:13        1.0           Level1             Level3   \n",
       "4      4  2021-07-01 00:28:38        1.0           Level3             Level0   \n",
       "\n",
       "  first_utm_source_c  total_leads_droppped  referred_lead  app_complete_flag  \\\n",
       "0             Level2                   1.0            0.0                  1   \n",
       "1             others                   1.0            0.0                  1   \n",
       "2             Level0                   1.0            0.0                  1   \n",
       "3             others                   2.0            0.0                  0   \n",
       "4             Level0                   1.0            0.0                  0   \n",
       "\n",
       "   assistance_interaction  career_interaction  payment_interaction  \\\n",
       "0                     0.0                 0.0                  0.0   \n",
       "1                     0.0                 0.0                  0.0   \n",
       "2                     0.0                 0.0                  0.0   \n",
       "3                     0.0                 0.0                  0.0   \n",
       "4                     0.0                 0.0                  0.0   \n",
       "\n",
       "   social_interaction  syllabus_interaction  \n",
       "0                 0.0                   0.0  \n",
       "1                 0.0                   0.0  \n",
       "2                 0.0                   0.0  \n",
       "3                 0.0                   0.0  \n",
       "4                 0.0                   0.0  "
      ]
     },
     "execution_count": 5,
     "metadata": {},
     "output_type": "execute_result"
    }
   ],
   "source": [
    "df = pd.read_sql('select * from interactions_mapped', cnx)\n",
    "print(df.shape)\n",
    "df.head()"
   ]
  },
  {
   "cell_type": "code",
   "execution_count": 6,
   "id": "e88eb7b7-b92a-444a-94c8-6b18f6f6bbf9",
   "metadata": {},
   "outputs": [
    {
     "data": {
      "text/html": [
       "<div>\n",
       "<style scoped>\n",
       "    .dataframe tbody tr th:only-of-type {\n",
       "        vertical-align: middle;\n",
       "    }\n",
       "\n",
       "    .dataframe tbody tr th {\n",
       "        vertical-align: top;\n",
       "    }\n",
       "\n",
       "    .dataframe thead th {\n",
       "        text-align: right;\n",
       "    }\n",
       "</style>\n",
       "<table border=\"1\" class=\"dataframe\">\n",
       "  <thead>\n",
       "    <tr style=\"text-align: right;\">\n",
       "      <th></th>\n",
       "      <th>first_platform_c</th>\n",
       "      <th>first_utm_medium_c</th>\n",
       "      <th>first_utm_source_c</th>\n",
       "    </tr>\n",
       "  </thead>\n",
       "  <tbody>\n",
       "    <tr>\n",
       "      <th>0</th>\n",
       "      <td>Level0</td>\n",
       "      <td>others</td>\n",
       "      <td>Level2</td>\n",
       "    </tr>\n",
       "    <tr>\n",
       "      <th>1</th>\n",
       "      <td>Level3</td>\n",
       "      <td>Level0</td>\n",
       "      <td>others</td>\n",
       "    </tr>\n",
       "    <tr>\n",
       "      <th>2</th>\n",
       "      <td>Level3</td>\n",
       "      <td>Level0</td>\n",
       "      <td>Level0</td>\n",
       "    </tr>\n",
       "    <tr>\n",
       "      <th>3</th>\n",
       "      <td>Level1</td>\n",
       "      <td>Level3</td>\n",
       "      <td>others</td>\n",
       "    </tr>\n",
       "    <tr>\n",
       "      <th>4</th>\n",
       "      <td>Level3</td>\n",
       "      <td>Level0</td>\n",
       "      <td>Level0</td>\n",
       "    </tr>\n",
       "  </tbody>\n",
       "</table>\n",
       "</div>"
      ],
      "text/plain": [
       "  first_platform_c first_utm_medium_c first_utm_source_c\n",
       "0           Level0             others             Level2\n",
       "1           Level3             Level0             others\n",
       "2           Level3             Level0             Level0\n",
       "3           Level1             Level3             others\n",
       "4           Level3             Level0             Level0"
      ]
     },
     "execution_count": 6,
     "metadata": {},
     "output_type": "execute_result"
    }
   ],
   "source": [
    "encoded_df = df[FEATURES_TO_ENCODE]\n",
    "encoded_df.head()"
   ]
  },
  {
   "cell_type": "code",
   "execution_count": 7,
   "id": "c8b2175f-85b7-4e57-8abb-d2a3d17e63da",
   "metadata": {},
   "outputs": [
    {
     "name": "stdout",
     "output_type": "stream",
     "text": [
      "['index', 'created_date', 'city_tier', 'first_platform_c', 'first_utm_medium_c', 'first_utm_source_c', 'total_leads_droppped', 'referred_lead', 'app_complete_flag', 'assistance_interaction', 'career_interaction', 'payment_interaction', 'social_interaction', 'syllabus_interaction']\n",
      "14\n"
     ]
    }
   ],
   "source": [
    "columns = df.columns.to_list()\n",
    "print(columns)\n",
    "print(len(columns))"
   ]
  },
  {
   "cell_type": "code",
   "execution_count": 8,
   "id": "19e61dc5-fd14-430a-9986-db3eb57f6c3a",
   "metadata": {},
   "outputs": [
    {
     "name": "stdout",
     "output_type": "stream",
     "text": [
      "CPU times: user 8 µs, sys: 2 µs, total: 10 µs\n",
      "Wall time: 20.5 µs\n"
     ]
    }
   ],
   "source": [
    "%time\n",
    "df_new_encoded = pd.get_dummies(df, columns = FEATURES_TO_ENCODE,drop_first=True)"
   ]
  },
  {
   "cell_type": "code",
   "execution_count": 9,
   "id": "9dead769-bdd4-482b-95e4-a0c1a19eaf3e",
   "metadata": {},
   "outputs": [
    {
     "name": "stdout",
     "output_type": "stream",
     "text": [
      "['index', 'created_date', 'city_tier', 'total_leads_droppped', 'referred_lead', 'app_complete_flag', 'assistance_interaction', 'career_interaction', 'payment_interaction', 'social_interaction', 'syllabus_interaction', 'first_platform_c_Level1', 'first_platform_c_Level2', 'first_platform_c_Level3', 'first_platform_c_Level7', 'first_platform_c_Level8', 'first_platform_c_others', 'first_utm_medium_c_Level1', 'first_utm_medium_c_Level2', 'first_utm_medium_c_Level3', 'first_utm_medium_c_Level7', 'first_utm_medium_c_Level8', 'first_utm_medium_c_others', 'first_utm_source_c_Level1', 'first_utm_source_c_Level2', 'first_utm_source_c_Level3', 'first_utm_source_c_Level7', 'first_utm_source_c_Level8', 'first_utm_source_c_others']\n",
      "29\n"
     ]
    }
   ],
   "source": [
    "columns = df_new_encoded.columns.to_list()\n",
    "print(columns)\n",
    "print(len(columns))"
   ]
  },
  {
   "cell_type": "code",
   "execution_count": 28,
   "id": "a0788fbe-976f-41ca-ab0f-a4d480ee9665",
   "metadata": {},
   "outputs": [],
   "source": [
    "db_path=DB_PATH\n",
    "db_file_name=DB_FILE_NAME\n",
    "one_hot_encoded_features=ONE_HOT_ENCODED_FEATURES\n",
    "features_to_encode=FEATURES_TO_ENCODE\n",
    "model_config=MODEL_CONFIG\n",
    "experiment=EXPERIMENT\n",
    "tracking_uri=TRACKING_URI"
   ]
  },
  {
   "cell_type": "code",
   "execution_count": 11,
   "id": "7f0f5000-0eb9-414f-aae1-752841f6fd64",
   "metadata": {},
   "outputs": [
    {
     "data": {
      "text/plain": [
       "['first_platform_c', 'first_utm_medium_c', 'first_utm_source_c']"
      ]
     },
     "execution_count": 11,
     "metadata": {},
     "output_type": "execute_result"
    }
   ],
   "source": [
    "FEATURES_TO_ENCODE"
   ]
  },
  {
   "cell_type": "code",
   "execution_count": 12,
   "id": "2ca24d59-5643-4cdd-b991-a24cf98f7cf9",
   "metadata": {},
   "outputs": [
    {
     "name": "stdout",
     "output_type": "stream",
     "text": [
      "Data has been extracted successfully from lead_scoring_model_experimentation.\n",
      "input_data has been saved successfully to table features\n",
      "input_data has been saved successfully to table target\n",
      "input data has been written successfully to tables features & target\n"
     ]
    }
   ],
   "source": [
    "encode_features(db_path, db_file_name, one_hot_encoded_features, features_to_encode)"
   ]
  },
  {
   "cell_type": "code",
   "execution_count": 13,
   "id": "0122bbdb-8f91-438c-8628-4d92852910b8",
   "metadata": {},
   "outputs": [],
   "source": [
    "## Verify data written to table"
   ]
  },
  {
   "cell_type": "code",
   "execution_count": 14,
   "id": "c1eb8923-513d-4084-9770-d41d697b7eea",
   "metadata": {},
   "outputs": [
    {
     "name": "stdout",
     "output_type": "stream",
     "text": [
      "(6, 1)\n"
     ]
    },
    {
     "data": {
      "text/html": [
       "<div>\n",
       "<style scoped>\n",
       "    .dataframe tbody tr th:only-of-type {\n",
       "        vertical-align: middle;\n",
       "    }\n",
       "\n",
       "    .dataframe tbody tr th {\n",
       "        vertical-align: top;\n",
       "    }\n",
       "\n",
       "    .dataframe thead th {\n",
       "        text-align: right;\n",
       "    }\n",
       "</style>\n",
       "<table border=\"1\" class=\"dataframe\">\n",
       "  <thead>\n",
       "    <tr style=\"text-align: right;\">\n",
       "      <th></th>\n",
       "      <th>name</th>\n",
       "    </tr>\n",
       "  </thead>\n",
       "  <tbody>\n",
       "    <tr>\n",
       "      <th>0</th>\n",
       "      <td>loaded_data</td>\n",
       "    </tr>\n",
       "    <tr>\n",
       "      <th>1</th>\n",
       "      <td>city_tier_mapped</td>\n",
       "    </tr>\n",
       "    <tr>\n",
       "      <th>2</th>\n",
       "      <td>categorical_variables_mapped</td>\n",
       "    </tr>\n",
       "    <tr>\n",
       "      <th>3</th>\n",
       "      <td>interactions_mapped</td>\n",
       "    </tr>\n",
       "    <tr>\n",
       "      <th>4</th>\n",
       "      <td>features</td>\n",
       "    </tr>\n",
       "  </tbody>\n",
       "</table>\n",
       "</div>"
      ],
      "text/plain": [
       "                           name\n",
       "0                   loaded_data\n",
       "1              city_tier_mapped\n",
       "2  categorical_variables_mapped\n",
       "3           interactions_mapped\n",
       "4                      features"
      ]
     },
     "execution_count": 14,
     "metadata": {},
     "output_type": "execute_result"
    }
   ],
   "source": [
    "df = pd.read_sql(f\"SELECT name FROM sqlite_master WHERE type='table'\", cnx)\n",
    "print(df.shape)\n",
    "df.head()"
   ]
  },
  {
   "cell_type": "code",
   "execution_count": 15,
   "id": "a61ecbb0-9458-4882-a032-36f901f5ca03",
   "metadata": {},
   "outputs": [
    {
     "data": {
      "text/html": [
       "<div>\n",
       "<style scoped>\n",
       "    .dataframe tbody tr th:only-of-type {\n",
       "        vertical-align: middle;\n",
       "    }\n",
       "\n",
       "    .dataframe tbody tr th {\n",
       "        vertical-align: top;\n",
       "    }\n",
       "\n",
       "    .dataframe thead th {\n",
       "        text-align: right;\n",
       "    }\n",
       "</style>\n",
       "<table border=\"1\" class=\"dataframe\">\n",
       "  <thead>\n",
       "    <tr style=\"text-align: right;\">\n",
       "      <th></th>\n",
       "      <th>index</th>\n",
       "      <th>first_platform_c</th>\n",
       "      <th>first_utm_medium_c</th>\n",
       "      <th>first_utm_source_c</th>\n",
       "      <th>total_leads_droppped</th>\n",
       "      <th>city_tier</th>\n",
       "      <th>first_platform_c_Level8</th>\n",
       "      <th>first_platform_c_Level2</th>\n",
       "      <th>first_platform_c_others</th>\n",
       "      <th>first_platform_c_Level0</th>\n",
       "      <th>first_platform_c_Level7</th>\n",
       "      <th>first_utm_medium_c_others</th>\n",
       "    </tr>\n",
       "  </thead>\n",
       "  <tbody>\n",
       "    <tr>\n",
       "      <th>0</th>\n",
       "      <td>0</td>\n",
       "      <td>0</td>\n",
       "      <td>0</td>\n",
       "      <td>0</td>\n",
       "      <td>1.0</td>\n",
       "      <td>1.0</td>\n",
       "      <td>0</td>\n",
       "      <td>0</td>\n",
       "      <td>0</td>\n",
       "      <td>1</td>\n",
       "      <td>0</td>\n",
       "      <td>1</td>\n",
       "    </tr>\n",
       "    <tr>\n",
       "      <th>1</th>\n",
       "      <td>1</td>\n",
       "      <td>0</td>\n",
       "      <td>0</td>\n",
       "      <td>0</td>\n",
       "      <td>1.0</td>\n",
       "      <td>2.0</td>\n",
       "      <td>0</td>\n",
       "      <td>0</td>\n",
       "      <td>0</td>\n",
       "      <td>0</td>\n",
       "      <td>0</td>\n",
       "      <td>0</td>\n",
       "    </tr>\n",
       "    <tr>\n",
       "      <th>2</th>\n",
       "      <td>2</td>\n",
       "      <td>0</td>\n",
       "      <td>0</td>\n",
       "      <td>0</td>\n",
       "      <td>1.0</td>\n",
       "      <td>1.0</td>\n",
       "      <td>0</td>\n",
       "      <td>0</td>\n",
       "      <td>0</td>\n",
       "      <td>0</td>\n",
       "      <td>0</td>\n",
       "      <td>0</td>\n",
       "    </tr>\n",
       "    <tr>\n",
       "      <th>3</th>\n",
       "      <td>3</td>\n",
       "      <td>0</td>\n",
       "      <td>0</td>\n",
       "      <td>0</td>\n",
       "      <td>2.0</td>\n",
       "      <td>1.0</td>\n",
       "      <td>0</td>\n",
       "      <td>0</td>\n",
       "      <td>0</td>\n",
       "      <td>0</td>\n",
       "      <td>0</td>\n",
       "      <td>0</td>\n",
       "    </tr>\n",
       "    <tr>\n",
       "      <th>4</th>\n",
       "      <td>4</td>\n",
       "      <td>0</td>\n",
       "      <td>0</td>\n",
       "      <td>0</td>\n",
       "      <td>1.0</td>\n",
       "      <td>1.0</td>\n",
       "      <td>0</td>\n",
       "      <td>0</td>\n",
       "      <td>0</td>\n",
       "      <td>0</td>\n",
       "      <td>0</td>\n",
       "      <td>0</td>\n",
       "    </tr>\n",
       "  </tbody>\n",
       "</table>\n",
       "</div>"
      ],
      "text/plain": [
       "   index  first_platform_c  first_utm_medium_c  first_utm_source_c  \\\n",
       "0      0                 0                   0                   0   \n",
       "1      1                 0                   0                   0   \n",
       "2      2                 0                   0                   0   \n",
       "3      3                 0                   0                   0   \n",
       "4      4                 0                   0                   0   \n",
       "\n",
       "   total_leads_droppped  city_tier  first_platform_c_Level8  \\\n",
       "0                   1.0        1.0                        0   \n",
       "1                   1.0        2.0                        0   \n",
       "2                   1.0        1.0                        0   \n",
       "3                   2.0        1.0                        0   \n",
       "4                   1.0        1.0                        0   \n",
       "\n",
       "   first_platform_c_Level2  first_platform_c_others  first_platform_c_Level0  \\\n",
       "0                        0                        0                        1   \n",
       "1                        0                        0                        0   \n",
       "2                        0                        0                        0   \n",
       "3                        0                        0                        0   \n",
       "4                        0                        0                        0   \n",
       "\n",
       "   first_platform_c_Level7  first_utm_medium_c_others  \n",
       "0                        0                          1  \n",
       "1                        0                          0  \n",
       "2                        0                          0  \n",
       "3                        0                          0  \n",
       "4                        0                          0  "
      ]
     },
     "execution_count": 15,
     "metadata": {},
     "output_type": "execute_result"
    }
   ],
   "source": [
    "cnx = sqlite3.connect(db_path + db_file_name)\n",
    "X = pd.read_sql('select * from features', cnx)\n",
    "X.head()"
   ]
  },
  {
   "cell_type": "code",
   "execution_count": 16,
   "id": "67363697-b8ca-4574-b925-8dfe879c8859",
   "metadata": {},
   "outputs": [
    {
     "data": {
      "text/html": [
       "<div>\n",
       "<style scoped>\n",
       "    .dataframe tbody tr th:only-of-type {\n",
       "        vertical-align: middle;\n",
       "    }\n",
       "\n",
       "    .dataframe tbody tr th {\n",
       "        vertical-align: top;\n",
       "    }\n",
       "\n",
       "    .dataframe thead th {\n",
       "        text-align: right;\n",
       "    }\n",
       "</style>\n",
       "<table border=\"1\" class=\"dataframe\">\n",
       "  <thead>\n",
       "    <tr style=\"text-align: right;\">\n",
       "      <th></th>\n",
       "      <th>index</th>\n",
       "      <th>app_complete_flag</th>\n",
       "    </tr>\n",
       "  </thead>\n",
       "  <tbody>\n",
       "    <tr>\n",
       "      <th>0</th>\n",
       "      <td>0</td>\n",
       "      <td>1</td>\n",
       "    </tr>\n",
       "    <tr>\n",
       "      <th>1</th>\n",
       "      <td>1</td>\n",
       "      <td>1</td>\n",
       "    </tr>\n",
       "    <tr>\n",
       "      <th>2</th>\n",
       "      <td>2</td>\n",
       "      <td>1</td>\n",
       "    </tr>\n",
       "    <tr>\n",
       "      <th>3</th>\n",
       "      <td>3</td>\n",
       "      <td>0</td>\n",
       "    </tr>\n",
       "    <tr>\n",
       "      <th>4</th>\n",
       "      <td>4</td>\n",
       "      <td>0</td>\n",
       "    </tr>\n",
       "  </tbody>\n",
       "</table>\n",
       "</div>"
      ],
      "text/plain": [
       "   index  app_complete_flag\n",
       "0      0                  1\n",
       "1      1                  1\n",
       "2      2                  1\n",
       "3      3                  0\n",
       "4      4                  0"
      ]
     },
     "execution_count": 16,
     "metadata": {},
     "output_type": "execute_result"
    }
   ],
   "source": [
    "y = pd.read_sql('select * from target', cnx)\n",
    "y.head()"
   ]
  },
  {
   "cell_type": "markdown",
   "id": "b3e3c264-de0d-425d-9995-ae307835980a",
   "metadata": {},
   "source": [
    "## create sql lite connection and start database"
   ]
  },
  {
   "cell_type": "code",
   "execution_count": 19,
   "id": "ab31069f-8b88-403b-ab32-574499ec7b1e",
   "metadata": {},
   "outputs": [],
   "source": [
    "# create a connection and setup a SQLite database with the name \"lead_scoring_model_experimentation.db\" in \n",
    "# 'Assignment/02_training_pipeline/notebook/' location\n",
    "def create_sqlit_connection(db_path, db_file):\n",
    "    \"\"\" create a database connection to a SQLite database \"\"\"\n",
    "    conn = None\n",
    "    # opening the conncetion for creating the sqlite db\n",
    "    try:\n",
    "        conn = sqlite3.connect(db_path + db_file)\n",
    "        print(sqlite3.version)\n",
    "    # return an error if connection not established\n",
    "    except Error as e:\n",
    "        print(e)\n",
    "    # closing the connection once the database is created\n",
    "    finally:\n",
    "        if conn:\n",
    "            conn.close()"
   ]
  },
  {
   "cell_type": "code",
   "execution_count": 20,
   "id": "fbcd8905-f3d5-4463-82d1-b378aace4977",
   "metadata": {},
   "outputs": [
    {
     "name": "stdout",
     "output_type": "stream",
     "text": [
      "2.6.0\n"
     ]
    }
   ],
   "source": [
    "create_sqlit_connection(\"database/\",r\"Lead_scoring_mlflow_production.db\")"
   ]
  },
  {
   "cell_type": "code",
   "execution_count": 24,
   "id": "a17d05a5-b8c2-4cf5-84f2-96ad31fe9006",
   "metadata": {},
   "outputs": [],
   "source": [
    "#mlflow server --backend-store-uri='sqlite:////home/Assignment/02_training_pipeline/scripts/database/Lead_scoring_mlflow_production.db' --default-artifact-root=\"/home/Assignment/02_training_pipeline/scripts/mlruns/\" --port=6006 --host=0.0.0.0"
   ]
  },
  {
   "cell_type": "code",
   "execution_count": 25,
   "id": "da13fcbb-abf5-49c6-8332-aebb4ed2a95a",
   "metadata": {},
   "outputs": [],
   "source": [
    "mlflow.set_tracking_uri(\"http://0.0.0.0:6006\")"
   ]
  },
  {
   "cell_type": "code",
   "execution_count": 29,
   "id": "4e594b24-49ba-475d-bd3b-90e5fa821e0c",
   "metadata": {},
   "outputs": [
    {
     "name": "stderr",
     "output_type": "stream",
     "text": [
      "/opt/conda/lib/python3.8/site-packages/sklearn/utils/validation.py:72: DataConversionWarning: A column-vector y was passed when a 1d array was expected. Please change the shape of y to (n_samples, ), for example using ravel().\n",
      "  return f(**kwargs)\n",
      "Successfully registered model 'LightGBM'.\n",
      "2022/09/19 09:52:49 INFO mlflow.tracking._model_registry.client: Waiting up to 300 seconds for model version to finish creation.                     Model name: LightGBM, version 1\n",
      "Created version '1' of model 'LightGBM'.\n"
     ]
    },
    {
     "name": "stdout",
     "output_type": "stream",
     "text": [
      "get_trained_model has been executed successfully.\n"
     ]
    }
   ],
   "source": [
    "get_trained_model(db_path, db_file_name, model_config, experiment,tracking_uri)"
   ]
  }
 ],
 "metadata": {
  "kernelspec": {
   "display_name": "Python 3 (ipykernel)",
   "language": "python",
   "name": "python3"
  },
  "language_info": {
   "codemirror_mode": {
    "name": "ipython",
    "version": 3
   },
   "file_extension": ".py",
   "mimetype": "text/x-python",
   "name": "python",
   "nbconvert_exporter": "python",
   "pygments_lexer": "ipython3",
   "version": "3.8.12"
  }
 },
 "nbformat": 4,
 "nbformat_minor": 5
}
