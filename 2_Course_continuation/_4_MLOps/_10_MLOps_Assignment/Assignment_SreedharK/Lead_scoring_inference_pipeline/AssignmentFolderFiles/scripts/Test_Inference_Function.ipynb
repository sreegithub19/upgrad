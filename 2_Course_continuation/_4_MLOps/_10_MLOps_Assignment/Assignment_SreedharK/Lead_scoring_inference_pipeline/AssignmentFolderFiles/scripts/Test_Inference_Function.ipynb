{
 "cells": [
  {
   "cell_type": "code",
   "execution_count": 3,
   "id": "c5ed8a71-fa1a-46a8-a1a9-32c4cb344b42",
   "metadata": {},
   "outputs": [],
   "source": [
    "from airflow import DAG\n",
    "from airflow.operators.python import PythonOperator\n",
    "from airflow.operators.bash import BashOperator\n",
    "\n",
    "from datetime import datetime, timedelta\n",
    "import sys\n",
    "import importlib.util\n",
    "from utils import *\n",
    "from constants import *"
   ]
  },
  {
   "cell_type": "code",
   "execution_count": 4,
   "id": "1eec473b-e6bc-4d94-ba79-8561da8bdff0",
   "metadata": {},
   "outputs": [],
   "source": [
    "def module_from_file(module_name, file_path):\n",
    "    spec = importlib.util.spec_from_file_location(module_name, file_path)\n",
    "    module = importlib.util.module_from_spec(spec)\n",
    "    spec.loader.exec_module(module)\n",
    "    return module"
   ]
  },
  {
   "cell_type": "code",
   "execution_count": 5,
   "id": "89d3e173-09af-4cc2-9af3-6f5b6543f4c5",
   "metadata": {},
   "outputs": [],
   "source": [
    "\n",
    "# import * does not work causing some issues, loading modules as taught in live session\n",
    "utils = module_from_file(\"utils\", \"/home/Assignment/03_inference_pipeline/scripts/utils.py\")\n",
    "constants = module_from_file(\"utils\", \"/home/Assignment/03_inference_pipeline/scripts/constants.py\") "
   ]
  },
  {
   "cell_type": "code",
   "execution_count": 6,
   "id": "9ef182ed-a10c-4e2d-88b9-f776bfe16a02",
   "metadata": {},
   "outputs": [],
   "source": [
    "db_path=constants.DB_PATH\n",
    "db_file_name=constants.DB_FILE_NAME\n",
    "scripts_output=constants.SCRIPTS_OUTPUT\n",
    "\n",
    "db_file_mlflow=constants.DB_FILE_MLFLOW\n",
    "tracking_uri=constants.TRACKING_URI\n",
    "\n",
    "model_name=constants.MODEL_NAME\n",
    "model_stage=constants.STAGE\n",
    "\n",
    "one_hot_encoded_features=constants.ONE_HOT_ENCODED_FEATURES\n",
    "features_to_encode=constants.FEATURES_TO_ENCODE"
   ]
  },
  {
   "cell_type": "code",
   "execution_count": 7,
   "id": "4f07f28c-246a-4d3b-8f12-af59ddc95bdc",
   "metadata": {},
   "outputs": [
    {
     "data": {
      "text/plain": [
       "'/home/airflow/dags/Lead_scoring_data_pipeline/'"
      ]
     },
     "execution_count": 7,
     "metadata": {},
     "output_type": "execute_result"
    }
   ],
   "source": [
    "db_path"
   ]
  },
  {
   "cell_type": "code",
   "execution_count": 8,
   "id": "9f396c14-fab5-4d58-84a2-db86947a1e49",
   "metadata": {},
   "outputs": [
    {
     "data": {
      "text/plain": [
       "'lead_scoring_data_cleaning.db'"
      ]
     },
     "execution_count": 8,
     "metadata": {},
     "output_type": "execute_result"
    }
   ],
   "source": [
    "db_file_name"
   ]
  },
  {
   "cell_type": "code",
   "execution_count": 9,
   "id": "aed72f03-a958-486e-8bfc-6ee160a86071",
   "metadata": {},
   "outputs": [
    {
     "data": {
      "text/plain": [
       "'/home/Assignment/03_inference_pipeline/scripts/'"
      ]
     },
     "execution_count": 9,
     "metadata": {},
     "output_type": "execute_result"
    }
   ],
   "source": [
    "scripts_output"
   ]
  },
  {
   "cell_type": "code",
   "execution_count": 10,
   "id": "a568f08c-c1b5-4d41-81e0-04316034bde6",
   "metadata": {},
   "outputs": [
    {
     "data": {
      "text/plain": [
       "'/home/airflow/dags/Lead_scoring_training_pipeline/Lead_scoring_mlflow_production.db'"
      ]
     },
     "execution_count": 10,
     "metadata": {},
     "output_type": "execute_result"
    }
   ],
   "source": [
    "db_file_mlflow"
   ]
  },
  {
   "cell_type": "code",
   "execution_count": 11,
   "id": "4d29d74b-ec03-4e02-a762-df76917c886c",
   "metadata": {},
   "outputs": [
    {
     "data": {
      "text/plain": [
       "('LightGBM', 'production', 'http://0.0.0.0:6006')"
      ]
     },
     "execution_count": 11,
     "metadata": {},
     "output_type": "execute_result"
    }
   ],
   "source": [
    "model_name,model_stage,tracking_uri"
   ]
  },
  {
   "cell_type": "code",
   "execution_count": 12,
   "id": "f62eb9bf-1161-43ea-a5fd-93b721cb7623",
   "metadata": {},
   "outputs": [
    {
     "data": {
      "text/plain": [
       "['total_leads_droppped',\n",
       " 'city_tier',\n",
       " 'first_platform_c_Level8',\n",
       " 'first_platform_c_others',\n",
       " 'first_platform_c_Level2',\n",
       " 'first_utm_medium_c_others',\n",
       " 'first_utm_medium_c_Level13',\n",
       " 'first_utm_medium_c_Level0',\n",
       " 'first_platform_c_Level7',\n",
       " 'first_platform_c_Level0']"
      ]
     },
     "execution_count": 12,
     "metadata": {},
     "output_type": "execute_result"
    }
   ],
   "source": [
    "one_hot_encoded_features"
   ]
  },
  {
   "cell_type": "code",
   "execution_count": 13,
   "id": "8973b7a8-4bc2-4574-9cc3-3c094f32d215",
   "metadata": {},
   "outputs": [
    {
     "data": {
      "text/plain": [
       "['first_platform_c', 'first_utm_medium_c', 'first_utm_source_c']"
      ]
     },
     "execution_count": 13,
     "metadata": {},
     "output_type": "execute_result"
    }
   ],
   "source": [
    "features_to_encode"
   ]
  },
  {
   "cell_type": "code",
   "execution_count": 12,
   "id": "41b72a63-cf87-40c9-ab11-650928bf2afc",
   "metadata": {},
   "outputs": [],
   "source": [
    "def load_data(file_path_list):\n",
    "    data = []\n",
    "    for eachfile in file_path_list:\n",
    "        data.append(pd.read_csv(eachfile, index_col=0))\n",
    "    return data\n",
    "\n",
    "def __read_input_data(db_path, db_file_name, table_name):\n",
    "    cnx = sqlite3.connect(db_path + db_file_name)\n",
    "    df = pd.read_sql('select * from '+ table_name, cnx)\n",
    "    df.drop(columns=['level_0', 'index'], axis = 1, inplace=True, errors='ignore')\n",
    "    cnx.close()\n",
    "    print(\"Data has been extracted successfully from lead_scoring_model_experimentation.\")\n",
    "    return df\n",
    "\n",
    "def __save_data_to_db(db_path, db_file_name, input_data, table):\n",
    "    cnx = sqlite3.connect(db_path + db_file_name)\n",
    "    input_data.to_sql(name=table, con=cnx, if_exists='replace')\n",
    "    print('input_data has been saved successfully to table ' + table);\n",
    "    cnx.close()"
   ]
  },
  {
   "cell_type": "code",
   "execution_count": 13,
   "id": "5c0e8b5a-0401-49f0-a04f-864a8200be6f",
   "metadata": {},
   "outputs": [
    {
     "name": "stdout",
     "output_type": "stream",
     "text": [
      "Data has been extracted successfully from lead_scoring_model_experimentation.\n",
      "input_data has been saved successfully to table features\n"
     ]
    }
   ],
   "source": [
    "encode_features(db_path, db_file_name, one_hot_encoded_features, features_to_encode)"
   ]
  },
  {
   "cell_type": "code",
   "execution_count": 14,
   "id": "52ca062d-2780-4635-9813-8dc332bf3ef1",
   "metadata": {},
   "outputs": [
    {
     "name": "stdout",
     "output_type": "stream",
     "text": [
      "Data has been extracted successfully from lead_scoring_model_experimentation.\n"
     ]
    }
   ],
   "source": [
    "input_data = __read_input_data(db_path, db_file_name, 'features')\n",
    "source_cols = input_data.columns.to_list()"
   ]
  },
  {
   "cell_type": "code",
   "execution_count": 15,
   "id": "183d8792-c4ba-4881-b587-81a8e987563b",
   "metadata": {},
   "outputs": [
    {
     "data": {
      "text/plain": [
       "['first_platform_c',\n",
       " 'first_utm_medium_c',\n",
       " 'first_utm_source_c',\n",
       " 'total_leads_droppped',\n",
       " 'city_tier',\n",
       " 'first_platform_c_Level8',\n",
       " 'first_platform_c_others',\n",
       " 'first_platform_c_Level2',\n",
       " 'first_utm_medium_c_others',\n",
       " 'first_utm_medium_c_Level0',\n",
       " 'first_platform_c_Level7',\n",
       " 'first_platform_c_Level0']"
      ]
     },
     "execution_count": 15,
     "metadata": {},
     "output_type": "execute_result"
    }
   ],
   "source": [
    "source_cols"
   ]
  },
  {
   "cell_type": "code",
   "execution_count": 16,
   "id": "ce40ce41-fa98-41ef-b8e5-7db70648b9d3",
   "metadata": {},
   "outputs": [
    {
     "name": "stdout",
     "output_type": "stream",
     "text": [
      "Data has been extracted successfully from lead_scoring_model_experimentation.\n",
      "[1 0 0 ... 1 1 1]\n",
      "input_data has been saved successfully to table predicted_output\n"
     ]
    },
    {
     "data": {
      "text/plain": [
       "'Predictions are done and save in Final_Predictions Table'"
      ]
     },
     "execution_count": 16,
     "metadata": {},
     "output_type": "execute_result"
    }
   ],
   "source": [
    "get_models_prediction(db_path, db_file_name, model_name, model_stage, tracking_uri)"
   ]
  },
  {
   "cell_type": "code",
   "execution_count": 17,
   "id": "77e0fe50-87e1-40b0-b5f1-6714f7b23241",
   "metadata": {},
   "outputs": [
    {
     "name": "stdout",
     "output_type": "stream",
     "text": [
      "models:/LightGBM/production\n"
     ]
    }
   ],
   "source": [
    "model_name='LightGBM'\n",
    "model_stage='production'\n",
    "model_uri = \"models:/{model_name}/{model_stage}\".format(model_name=model_name, model_stage=model_stage)\n",
    "print(model_uri)"
   ]
  },
  {
   "cell_type": "code",
   "execution_count": 18,
   "id": "8f08fab6-d987-4b24-8dea-1e521f9befa7",
   "metadata": {},
   "outputs": [
    {
     "name": "stdout",
     "output_type": "stream",
     "text": [
      "Data has been extracted successfully from lead_scoring_model_experimentation.\n",
      "Output file has been generated successfully /home/Assignment/03_inference_pipeline/scripts/prediction_distribution_20220920172745.txt\n"
     ]
    }
   ],
   "source": [
    "prediction_ratio_check(db_path, db_file_name, scripts_output)"
   ]
  },
  {
   "cell_type": "code",
   "execution_count": 19,
   "id": "22ef00dd-e0c6-451e-bf7b-e54ee17c25b4",
   "metadata": {},
   "outputs": [
    {
     "name": "stdout",
     "output_type": "stream",
     "text": [
      "Data has been extracted successfully from lead_scoring_model_experimentation.\n",
      "Some of the models inputs are missing\n"
     ]
    }
   ],
   "source": [
    "input_features_check(db_path, db_file_name, one_hot_encoded_features)"
   ]
  },
  {
   "cell_type": "code",
   "execution_count": 14,
   "id": "d79a7bd9-2480-47ce-81ab-4311bfb297e6",
   "metadata": {},
   "outputs": [
    {
     "ename": "DatabaseError",
     "evalue": "Execution failed on sql 'SELECT * FROM features': no such table: features",
     "output_type": "error",
     "traceback": [
      "\u001b[0;31m---------------------------------------------------------------------------\u001b[0m",
      "\u001b[0;31mOperationalError\u001b[0m                          Traceback (most recent call last)",
      "File \u001b[0;32m/opt/conda/lib/python3.8/site-packages/pandas/io/sql.py:2020\u001b[0m, in \u001b[0;36mSQLiteDatabase.execute\u001b[0;34m(self, *args, **kwargs)\u001b[0m\n\u001b[1;32m   2019\u001b[0m \u001b[38;5;28;01mtry\u001b[39;00m:\n\u001b[0;32m-> 2020\u001b[0m     \u001b[43mcur\u001b[49m\u001b[38;5;241;43m.\u001b[39;49m\u001b[43mexecute\u001b[49m\u001b[43m(\u001b[49m\u001b[38;5;241;43m*\u001b[39;49m\u001b[43margs\u001b[49m\u001b[43m,\u001b[49m\u001b[43m \u001b[49m\u001b[38;5;241;43m*\u001b[39;49m\u001b[38;5;241;43m*\u001b[39;49m\u001b[43mkwargs\u001b[49m\u001b[43m)\u001b[49m\n\u001b[1;32m   2021\u001b[0m     \u001b[38;5;28;01mreturn\u001b[39;00m cur\n",
      "\u001b[0;31mOperationalError\u001b[0m: no such table: features",
      "\nThe above exception was the direct cause of the following exception:\n",
      "\u001b[0;31mDatabaseError\u001b[0m                             Traceback (most recent call last)",
      "Input \u001b[0;32mIn [14]\u001b[0m, in \u001b[0;36m<module>\u001b[0;34m\u001b[0m\n\u001b[1;32m      1\u001b[0m cnx \u001b[38;5;241m=\u001b[39m sqlite3\u001b[38;5;241m.\u001b[39mconnect(DB_PATH \u001b[38;5;241m+\u001b[39m DB_FILE_NAME)\n\u001b[0;32m----> 2\u001b[0m df \u001b[38;5;241m=\u001b[39m \u001b[43mpd\u001b[49m\u001b[38;5;241;43m.\u001b[39;49m\u001b[43mread_sql\u001b[49m\u001b[43m(\u001b[49m\u001b[38;5;124;43mf\u001b[39;49m\u001b[38;5;124;43m\"\u001b[39;49m\u001b[38;5;124;43mSELECT * FROM features\u001b[39;49m\u001b[38;5;124;43m\"\u001b[39;49m\u001b[43m,\u001b[49m\u001b[43m \u001b[49m\u001b[43mcnx\u001b[49m\u001b[43m)\u001b[49m\n\u001b[1;32m      3\u001b[0m \u001b[38;5;28mprint\u001b[39m(df\u001b[38;5;241m.\u001b[39mshape)\n\u001b[1;32m      4\u001b[0m df\u001b[38;5;241m.\u001b[39mhead(\u001b[38;5;241m10\u001b[39m)\n",
      "File \u001b[0;32m/opt/conda/lib/python3.8/site-packages/pandas/io/sql.py:566\u001b[0m, in \u001b[0;36mread_sql\u001b[0;34m(sql, con, index_col, coerce_float, params, parse_dates, columns, chunksize)\u001b[0m\n\u001b[1;32m    563\u001b[0m pandas_sql \u001b[38;5;241m=\u001b[39m pandasSQL_builder(con)\n\u001b[1;32m    565\u001b[0m \u001b[38;5;28;01mif\u001b[39;00m \u001b[38;5;28misinstance\u001b[39m(pandas_sql, SQLiteDatabase):\n\u001b[0;32m--> 566\u001b[0m     \u001b[38;5;28;01mreturn\u001b[39;00m \u001b[43mpandas_sql\u001b[49m\u001b[38;5;241;43m.\u001b[39;49m\u001b[43mread_query\u001b[49m\u001b[43m(\u001b[49m\n\u001b[1;32m    567\u001b[0m \u001b[43m        \u001b[49m\u001b[43msql\u001b[49m\u001b[43m,\u001b[49m\n\u001b[1;32m    568\u001b[0m \u001b[43m        \u001b[49m\u001b[43mindex_col\u001b[49m\u001b[38;5;241;43m=\u001b[39;49m\u001b[43mindex_col\u001b[49m\u001b[43m,\u001b[49m\n\u001b[1;32m    569\u001b[0m \u001b[43m        \u001b[49m\u001b[43mparams\u001b[49m\u001b[38;5;241;43m=\u001b[39;49m\u001b[43mparams\u001b[49m\u001b[43m,\u001b[49m\n\u001b[1;32m    570\u001b[0m \u001b[43m        \u001b[49m\u001b[43mcoerce_float\u001b[49m\u001b[38;5;241;43m=\u001b[39;49m\u001b[43mcoerce_float\u001b[49m\u001b[43m,\u001b[49m\n\u001b[1;32m    571\u001b[0m \u001b[43m        \u001b[49m\u001b[43mparse_dates\u001b[49m\u001b[38;5;241;43m=\u001b[39;49m\u001b[43mparse_dates\u001b[49m\u001b[43m,\u001b[49m\n\u001b[1;32m    572\u001b[0m \u001b[43m        \u001b[49m\u001b[43mchunksize\u001b[49m\u001b[38;5;241;43m=\u001b[39;49m\u001b[43mchunksize\u001b[49m\u001b[43m,\u001b[49m\n\u001b[1;32m    573\u001b[0m \u001b[43m    \u001b[49m\u001b[43m)\u001b[49m\n\u001b[1;32m    575\u001b[0m \u001b[38;5;28;01mtry\u001b[39;00m:\n\u001b[1;32m    576\u001b[0m     _is_table_name \u001b[38;5;241m=\u001b[39m pandas_sql\u001b[38;5;241m.\u001b[39mhas_table(sql)\n",
      "File \u001b[0;32m/opt/conda/lib/python3.8/site-packages/pandas/io/sql.py:2080\u001b[0m, in \u001b[0;36mSQLiteDatabase.read_query\u001b[0;34m(self, sql, index_col, coerce_float, params, parse_dates, chunksize, dtype)\u001b[0m\n\u001b[1;32m   2068\u001b[0m \u001b[38;5;28;01mdef\u001b[39;00m \u001b[38;5;21mread_query\u001b[39m(\n\u001b[1;32m   2069\u001b[0m     \u001b[38;5;28mself\u001b[39m,\n\u001b[1;32m   2070\u001b[0m     sql,\n\u001b[0;32m   (...)\u001b[0m\n\u001b[1;32m   2076\u001b[0m     dtype: DtypeArg \u001b[38;5;241m|\u001b[39m \u001b[38;5;28;01mNone\u001b[39;00m \u001b[38;5;241m=\u001b[39m \u001b[38;5;28;01mNone\u001b[39;00m,\n\u001b[1;32m   2077\u001b[0m ):\n\u001b[1;32m   2079\u001b[0m     args \u001b[38;5;241m=\u001b[39m _convert_params(sql, params)\n\u001b[0;32m-> 2080\u001b[0m     cursor \u001b[38;5;241m=\u001b[39m \u001b[38;5;28;43mself\u001b[39;49m\u001b[38;5;241;43m.\u001b[39;49m\u001b[43mexecute\u001b[49m\u001b[43m(\u001b[49m\u001b[38;5;241;43m*\u001b[39;49m\u001b[43margs\u001b[49m\u001b[43m)\u001b[49m\n\u001b[1;32m   2081\u001b[0m     columns \u001b[38;5;241m=\u001b[39m [col_desc[\u001b[38;5;241m0\u001b[39m] \u001b[38;5;28;01mfor\u001b[39;00m col_desc \u001b[38;5;129;01min\u001b[39;00m cursor\u001b[38;5;241m.\u001b[39mdescription]\n\u001b[1;32m   2083\u001b[0m     \u001b[38;5;28;01mif\u001b[39;00m chunksize \u001b[38;5;129;01mis\u001b[39;00m \u001b[38;5;129;01mnot\u001b[39;00m \u001b[38;5;28;01mNone\u001b[39;00m:\n",
      "File \u001b[0;32m/opt/conda/lib/python3.8/site-packages/pandas/io/sql.py:2032\u001b[0m, in \u001b[0;36mSQLiteDatabase.execute\u001b[0;34m(self, *args, **kwargs)\u001b[0m\n\u001b[1;32m   2029\u001b[0m     \u001b[38;5;28;01mraise\u001b[39;00m ex \u001b[38;5;28;01mfrom\u001b[39;00m \u001b[38;5;21;01minner_exc\u001b[39;00m\n\u001b[1;32m   2031\u001b[0m ex \u001b[38;5;241m=\u001b[39m DatabaseError(\u001b[38;5;124mf\u001b[39m\u001b[38;5;124m\"\u001b[39m\u001b[38;5;124mExecution failed on sql \u001b[39m\u001b[38;5;124m'\u001b[39m\u001b[38;5;132;01m{\u001b[39;00margs[\u001b[38;5;241m0\u001b[39m]\u001b[38;5;132;01m}\u001b[39;00m\u001b[38;5;124m'\u001b[39m\u001b[38;5;124m: \u001b[39m\u001b[38;5;132;01m{\u001b[39;00mexc\u001b[38;5;132;01m}\u001b[39;00m\u001b[38;5;124m\"\u001b[39m)\n\u001b[0;32m-> 2032\u001b[0m \u001b[38;5;28;01mraise\u001b[39;00m ex \u001b[38;5;28;01mfrom\u001b[39;00m \u001b[38;5;21;01mexc\u001b[39;00m\n",
      "\u001b[0;31mDatabaseError\u001b[0m: Execution failed on sql 'SELECT * FROM features': no such table: features"
     ]
    }
   ],
   "source": [
    "cnx = sqlite3.connect(DB_PATH + DB_FILE_NAME)\n",
    "df = pd.read_sql(f\"SELECT * FROM features\", cnx)\n",
    "print(df.shape)\n",
    "df.head(10)"
   ]
  },
  {
   "cell_type": "code",
   "execution_count": null,
   "id": "04213212-9b46-41cc-8296-ae9073c1d61f",
   "metadata": {},
   "outputs": [],
   "source": []
  }
 ],
 "metadata": {
  "kernelspec": {
   "display_name": "Python 3 (ipykernel)",
   "language": "python",
   "name": "python3"
  },
  "language_info": {
   "codemirror_mode": {
    "name": "ipython",
    "version": 3
   },
   "file_extension": ".py",
   "mimetype": "text/x-python",
   "name": "python",
   "nbconvert_exporter": "python",
   "pygments_lexer": "ipython3",
   "version": "3.8.12"
  }
 },
 "nbformat": 4,
 "nbformat_minor": 5
}
