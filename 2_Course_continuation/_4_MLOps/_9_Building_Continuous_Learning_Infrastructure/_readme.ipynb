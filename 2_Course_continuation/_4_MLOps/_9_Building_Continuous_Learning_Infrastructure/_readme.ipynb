{
 "cells": [
  {
   "cell_type": "code",
   "execution_count": null,
   "metadata": {},
   "outputs": [],
   "source": []
  },
  {
   "attachments": {},
   "cell_type": "markdown",
   "metadata": {},
   "source": [
    "Lecture notes: https://cdn.upgrad.com/uploads/production/91692372-3ace-4737-a722-480be55b9ba7/Lecture+Notes+-+Building+Continuous+Learning+Infrastructure.pdf"
   ]
  },
  {
   "cell_type": "markdown",
   "metadata": {},
   "source": []
  }
 ],
 "metadata": {
  "language_info": {
   "name": "python"
  },
  "orig_nbformat": 4
 },
 "nbformat": 4,
 "nbformat_minor": 2
}
