{
 "cells": [
  {
   "cell_type": "markdown",
   "id": "2a630b4f",
   "metadata": {},
   "source": [
    "Helpful links: \n",
    "\n",
    "- https://www.dropbox.com/scl/fo/5pdmbdj3i13x4mgyol25e/h?dl=0&rlkey=ib7cdg47t94ghaplxzmdbxtzx  \n",
    "- https://playground.tensorflow.org/\n",
    "- https://www.manning.com/books/deep-learning-with-python\n",
    "- All lecture notes are in the Upgrad course: https://learn.upgrad.com/course/3064/segment/29362/175167/537823/2759481\n",
    "\n",
    "\n",
    "- Agenda:\n",
    "  - Structure of neural networks\n",
    "      - Intro\n",
    "      - Perceptron\n",
    "      - Artificial neuron\n",
    "      - I/O of a neural network\n",
    "      - Workings of a single neuron\n",
    "      - Different activation functions\n",
    "      - Parameters and Hyperparameters of Neural Network\n",
    "      - Assumptions for Simplifying Neural Network\n",
    "\n",
    "  - Feedforward in neural networks\n",
    "      - Intro\n",
    "      - Flow of info between layers\n",
    "      - Forward pass\n",
    "      - Feedforward algo\n",
    "      - Loss function\n",
    "      - Learning\n",
    "      \n",
    "  - Backpropagation in neural networks\n",
    "      - Intro\n",
    "      - Gradient descent for Backpropagation\n",
    "      - Numerical example\n",
    "      - Backpropagation algo\n",
    "      - Tensorflow\n",
    "        - Tensors\n",
    "        - Declaring tensors\n",
    "        - Mathematical operations on tensors\n",
    "        - Linear algebrs with tensorflow\n",
    "      - Code \n",
    "          - Feedforward\n",
    "          - Backpropagation\n",
    "          \n",
    "  - Neural network implementation using Keras"
   ]
  },
  {
   "cell_type": "code",
   "execution_count": null,
   "id": "b471e9c4",
   "metadata": {},
   "outputs": [],
   "source": []
  }
 ],
 "metadata": {
  "kernelspec": {
   "display_name": "Python 3 (ipykernel)",
   "language": "python",
   "name": "python3"
  },
  "language_info": {
   "codemirror_mode": {
    "name": "ipython",
    "version": 3
   },
   "file_extension": ".py",
   "mimetype": "text/x-python",
   "name": "python",
   "nbconvert_exporter": "python",
   "pygments_lexer": "ipython3",
   "version": "3.8.0"
  },
  "varInspector": {
   "cols": {
    "lenName": 16,
    "lenType": 16,
    "lenVar": 40
   },
   "kernels_config": {
    "python": {
     "delete_cmd_postfix": "",
     "delete_cmd_prefix": "del ",
     "library": "var_list.py",
     "varRefreshCmd": "print(var_dic_list())"
    },
    "r": {
     "delete_cmd_postfix": ") ",
     "delete_cmd_prefix": "rm(",
     "library": "var_list.r",
     "varRefreshCmd": "cat(var_dic_list()) "
    }
   },
   "types_to_exclude": [
    "module",
    "function",
    "builtin_function_or_method",
    "instance",
    "_Feature"
   ],
   "window_display": false
  }
 },
 "nbformat": 4,
 "nbformat_minor": 5
}
