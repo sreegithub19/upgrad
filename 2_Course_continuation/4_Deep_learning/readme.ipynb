{
 "cells": [
  {
   "attachments": {},
   "cell_type": "markdown",
   "metadata": {},
   "source": [
    "Colab notebooks link:\n",
    "https://drive.google.com/drive/folders/1f26Ts5REy8jVlIGHdlRj-wwr2MVsoZSp\n"
   ]
  }
 ],
 "metadata": {
  "language_info": {
   "name": "python"
  },
  "orig_nbformat": 4
 },
 "nbformat": 4,
 "nbformat_minor": 2
}
