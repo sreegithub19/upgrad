{
 "cells": [
  {
   "cell_type": "markdown",
   "metadata": {},
   "source": [
    "Colab notebooks link:\n",
    "https://drive.google.com/drive/folders/1f26Ts5REy8jVlIGHdlRj-wwr2MVsoZSp\n",
    "\n",
    "\n",
    "Deep learning classification\n",
    "<img src=\"https://www.researchgate.net/publication/333784550/figure/fig1/AS:864856433500160@1583209250059/Classification-of-deep-learning-techniques-5.png\" />"
   ]
  },
  {
   "cell_type": "markdown",
   "metadata": {},
   "source": [
    "\n",
    "Agenda: \n",
    "- <a href=\"/tree/2_Course_continuation/4_Deep_learning/_1_2_Intro_to_neural_networks\">Intro to neural networks</a>\n",
    "  - Structure of neural network\n",
    "  - Feedforward neural networks\n",
    "  - Backpropagation in neural networks \n",
    "  - Neural network implementation using Keras\n",
    " \n",
    "<h2> 1. Supervised learning</h2>\n",
    "\n",
    "- <a href=\"tree/2_Course_continuation/4_Deep_learning/_3_Convolutional_Neural_networks\">Convolutional neural networks</a>\n",
    "  - Intro to CNN\n",
    "  - Building CNN with Python and Keras\n",
    "  - CNN Architectures and Transfer learning\n",
    "  - Style Transfer and Object detection (optional)\n",
    "\n",
    "\n",
    "- <a href=\"/tree/2_Course_continuation/4_Deep_learning/_4_Melanoma_Detection_Assignment\">Melanoma detection assignment</a>\n",
    "\n",
    "\n",
    "- <a href=\"/tree/2_Course_continuation/4_Deep_learning/_5_CNN_Industrial_application\">CNN_Industrial_application</a>\n",
    "  - Industry_Demo_Using_CNNs_with_Flowers_Images\n",
    "  - Industry_Demo_Using_CNNs_with_X_ray_Images\n",
    "  \n",
    "\n",
    "<h2> 2. Unsupervised learning</h2>\n",
    "\n",
    "- <a href=\"/tree/2_Course_continuation/4_Deep_learning/_6_Recurrent_Neural_Networks\">Recurrent_Neural_Networks</a>"
   ]
  },
  {
   "cell_type": "code",
   "execution_count": null,
   "metadata": {},
   "outputs": [],
   "source": []
  }
 ],
 "metadata": {
  "kernelspec": {
   "display_name": "Python 3 (ipykernel)",
   "language": "python",
   "name": "python3"
  },
  "language_info": {
   "codemirror_mode": {
    "name": "ipython",
    "version": 3
   },
   "file_extension": ".py",
   "mimetype": "text/x-python",
   "name": "python",
   "nbconvert_exporter": "python",
   "pygments_lexer": "ipython3",
   "version": "3.8.0"
  },
  "varInspector": {
   "cols": {
    "lenName": 16,
    "lenType": 16,
    "lenVar": 40
   },
   "kernels_config": {
    "python": {
     "delete_cmd_postfix": "",
     "delete_cmd_prefix": "del ",
     "library": "var_list.py",
     "varRefreshCmd": "print(var_dic_list())"
    },
    "r": {
     "delete_cmd_postfix": ") ",
     "delete_cmd_prefix": "rm(",
     "library": "var_list.r",
     "varRefreshCmd": "cat(var_dic_list()) "
    }
   },
   "types_to_exclude": [
    "module",
    "function",
    "builtin_function_or_method",
    "instance",
    "_Feature"
   ],
   "window_display": false
  }
 },
 "nbformat": 4,
 "nbformat_minor": 2
}
