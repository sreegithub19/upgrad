{
 "cells": [
  {
   "cell_type": "markdown",
   "metadata": {},
   "source": [
    "1.\n",
    "Refer to the notes in Upgrad site:\n",
    "https://learn.upgrad.com/course/3064/segment/29362/175169/537830/2759543"
   ]
  },
  {
   "cell_type": "markdown",
   "metadata": {},
   "source": [
    "2.\n",
    "Important links from the notes:\n",
    " \n",
    " - <a href=\"https://learn.upgrad.com/course/3064/segment/29362/175169/537830/2759546\">Receptive field for single neurons in the cat’s striate cortex</a>\n",
    " - <a href=\"https://github.com/ContentUpgrad/Convolutional-Neural-Networks\">https://github.com/ContentUpgrad/Convolutional-Neural-Networks</a>\n",
    " - <a href=\"https://medium.com/deep-learning-turkey/google-colab-free-gpu-tutorial-e113627b9f5d\">Google Colab tutorial</a>"
   ]
  },
  {
   "cell_type": "markdown",
   "metadata": {},
   "source": [
    "3.\n",
    "<div class=\"text_component ckOutput\"><p>Given the following size :</p><ul><li>Image&nbsp; - n x n</li><li>Filter - k x k</li><li>Padding - P</li><li>Stride - S</li></ul><p>&nbsp;</p><p>After padding, we get an&nbsp;image of size (n + 2P) x (n+2P).&nbsp;After we convolve this padded image with the&nbsp;filter, we get:</p><p>&nbsp;</p><p>Size of convolved image =&nbsp;<span class=\"equation-content\" data-latex=\"\\left(\\frac{n+2P-k}{S} + 1\\right), \\left(\\frac{n+2P-k}{S} + 1\\right)\"><span class=\"mjx-chtml\"><span class=\"mjx-math\" aria-label=\"\\left(\\frac{n+2P-k}{S} + 1\\right), \\left(\\frac{n+2P-k}{S} + 1\\right)\"><span class=\"mjx-mrow\" aria-hidden=\"true\"><span class=\"mjx-mrow\"><span class=\"mjx-mo\"><span class=\"mjx-char MJXc-TeX-size2-R\" style=\"padding-top: 0.961em; padding-bottom: 0.961em;\">(</span></span><span class=\"mjx-mfrac\"><span class=\"mjx-box MJXc-stacked\" style=\"width: 2.919em; padding: 0px 0.12em;\"><span class=\"mjx-numerator\" style=\"font-size: 70.7%; width: 4.128em; top: -1.482em;\"><span class=\"mjx-mrow\" style=\"\"><span class=\"mjx-mi\"><span class=\"mjx-char MJXc-TeX-math-I\" style=\"padding-top: 0.225em; padding-bottom: 0.298em;\">(n</span></span><span class=\"mjx-mo\"><span class=\"mjx-char MJXc-TeX-main-R\" style=\"padding-top: 0.298em; padding-bottom: 0.446em;\">+</span></span><span class=\"mjx-mn\"><span class=\"mjx-char MJXc-TeX-main-R\" style=\"padding-top: 0.372em; padding-bottom: 0.372em;\">2</span></span><span class=\"mjx-mi\"><span class=\"mjx-char MJXc-TeX-math-I\" style=\"padding-top: 0.446em; padding-bottom: 0.298em; padding-right: 0.109em;\">P</span></span><span class=\"mjx-mo\"><span class=\"mjx-char MJXc-TeX-main-R\" style=\"padding-top: 0.298em; padding-bottom: 0.446em;\">−</span></span><span class=\"mjx-mi\"><span class=\"mjx-char MJXc-TeX-math-I\" style=\"padding-top: 0.446em; padding-bottom: 0.298em;\">k)/</span></span></span></span><span class=\"mjx-denominator\" style=\"font-size: 70.7%; width: 4.128em; bottom: -0.726em;\"><span class=\"mjx-mi\" style=\"\"><span class=\"mjx-char MJXc-TeX-math-I\" style=\"padding-top: 0.519em; padding-bottom: 0.298em; padding-right: 0.032em;\">S</span></span></span><span style=\"border-bottom: 1.3px solid; top: -0.296em; width: 2.919em;\" class=\"mjx-line\"></span></span><span style=\"height: 1.562em; vertical-align: -0.514em;\" class=\"mjx-vsize\"></span></span><span class=\"mjx-mo MJXc-space2\"><span class=\"mjx-char MJXc-TeX-main-R\" style=\"padding-top: 0.298em; padding-bottom: 0.446em;\">+</span></span><span class=\"mjx-mn MJXc-space2\"><span class=\"mjx-char MJXc-TeX-main-R\" style=\"padding-top: 0.372em; padding-bottom: 0.372em;\">1</span></span><span class=\"mjx-mo\"><span class=\"mjx-char MJXc-TeX-size2-R\" style=\"padding-top: 0.961em; padding-bottom: 0.961em;\">)</span></span></span><span class=\"mjx-mo MJXc-space1\"><span class=\"mjx-char MJXc-TeX-main-R\" style=\"margin-top: -0.144em; padding-bottom: 0.519em;\">,</span></span><span class=\"mjx-mrow MJXc-space1\"><span class=\"mjx-mo\"><span class=\"mjx-char MJXc-TeX-size2-R\" style=\"padding-top: 0.961em; padding-bottom: 0.961em;\">(</span></span><span class=\"mjx-mfrac\"><span class=\"mjx-box MJXc-stacked\" style=\"width: 2.919em; padding: 0px 0.12em;\"><span class=\"mjx-numerator\" style=\"font-size: 70.7%; width: 4.128em; top: -1.482em;\"><span class=\"mjx-mrow\" style=\"\"><span class=\"mjx-mi\"><span class=\"mjx-char MJXc-TeX-math-I\" style=\"padding-top: 0.225em; padding-bottom: 0.298em;\">(n</span></span><span class=\"mjx-mo\"><span class=\"mjx-char MJXc-TeX-main-R\" style=\"padding-top: 0.298em; padding-bottom: 0.446em;\">+</span></span><span class=\"mjx-mn\"><span class=\"mjx-char MJXc-TeX-main-R\" style=\"padding-top: 0.372em; padding-bottom: 0.372em;\">2</span></span><span class=\"mjx-mi\"><span class=\"mjx-char MJXc-TeX-math-I\" style=\"padding-top: 0.446em; padding-bottom: 0.298em; padding-right: 0.109em;\">P</span></span><span class=\"mjx-mo\"><span class=\"mjx-char MJXc-TeX-main-R\" style=\"padding-top: 0.298em; padding-bottom: 0.446em;\">−</span></span><span class=\"mjx-mi\"><span class=\"mjx-char MJXc-TeX-math-I\" style=\"padding-top: 0.446em; padding-bottom: 0.298em;\">k)/</span></span></span></span><span class=\"mjx-denominator\" style=\"font-size: 70.7%; width: 4.128em; bottom: -0.726em;\"><span class=\"mjx-mi\" style=\"\"><span class=\"mjx-char MJXc-TeX-math-I\" style=\"padding-top: 0.519em; padding-bottom: 0.298em; padding-right: 0.032em;\">S</span></span></span><span style=\"border-bottom: 1.3px solid; top: -0.296em; width: 2.919em;\" class=\"mjx-line\"></span></span><span style=\"height: 1.562em; vertical-align: -0.514em;\" class=\"mjx-vsize\"></span></span><span class=\"mjx-mo MJXc-space2\"><span class=\"mjx-char MJXc-TeX-main-R\" style=\"padding-top: 0.298em; padding-bottom: 0.446em;\">+</span></span><span class=\"mjx-mn MJXc-space2\"><span class=\"mjx-char MJXc-TeX-main-R\" style=\"padding-top: 0.372em; padding-bottom: 0.372em;\">1</span></span><span class=\"mjx-mo\"><span class=\"mjx-char MJXc-TeX-size2-R\" style=\"padding-top: 0.961em; padding-bottom: 0.961em;\">)</span></span></span></span></span></span></span></p><p>&nbsp;</p><p><meta charset=\"utf-8\"></p><p dir=\"ltr\" style=\"text-align: justify;\">Until now, we have applied convolution only on 2D arrays, but most images are coloured and thus have multiple channels (e.g. RGB). In the next segment, you will learn to&nbsp;convolve images with&nbsp;multiple channels.</p></div>"
   ]
  },
  {
   "cell_type": "markdown",
   "metadata": {},
   "source": [
    "4.\n"
   ]
  }
 ],
 "metadata": {
  "kernelspec": {
   "display_name": "Python 3 (ipykernel)",
   "language": "python",
   "name": "python3"
  },
  "language_info": {
   "codemirror_mode": {
    "name": "ipython",
    "version": 3
   },
   "file_extension": ".py",
   "mimetype": "text/x-python",
   "name": "python",
   "nbconvert_exporter": "python",
   "pygments_lexer": "ipython3",
   "version": "3.10.4"
  }
 },
 "nbformat": 4,
 "nbformat_minor": 2
}
