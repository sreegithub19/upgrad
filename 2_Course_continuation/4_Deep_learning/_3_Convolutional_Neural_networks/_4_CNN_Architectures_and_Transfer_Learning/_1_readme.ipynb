{
 "cells": [
  {
   "cell_type": "markdown",
   "id": "f0320a37",
   "metadata": {},
   "source": [
    " ImageNet Large Scale Visual Recognition Competition(ImageNet):\n",
    " http://www.image-net.org/challenges/LSVRC/\n",
    " \n",
    " AlexNet paper:\n",
    " https://papers.nips.cc/paper/4824-imagenet-classification-with-deep-convolutional-neural-networks.pdf"
   ]
  },
  {
   "cell_type": "code",
   "execution_count": null,
   "id": "9b1df44f",
   "metadata": {},
   "outputs": [],
   "source": []
  }
 ],
 "metadata": {
  "kernelspec": {
   "display_name": "newenv",
   "language": "python",
   "name": "newenv"
  },
  "language_info": {
   "codemirror_mode": {
    "name": "ipython",
    "version": 3
   },
   "file_extension": ".py",
   "mimetype": "text/x-python",
   "name": "python",
   "nbconvert_exporter": "python",
   "pygments_lexer": "ipython3",
   "version": "3.10.4"
  }
 },
 "nbformat": 4,
 "nbformat_minor": 5
}
