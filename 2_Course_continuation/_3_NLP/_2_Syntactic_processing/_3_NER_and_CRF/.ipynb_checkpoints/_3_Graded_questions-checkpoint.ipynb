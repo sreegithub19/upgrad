{
 "cells": [
  {
   "cell_type": "markdown",
   "id": "4be9215e",
   "metadata": {},
   "source": [
    "<pre>\n",
    "1. \n",
    "Based on the given data set, what will be the average price value of the stock from the text corpus?\n",
    "Hint: Find the name entity related to money and then perform the average operation on all the MONEY entity type.\n",
    "</pre>"
   ]
  },
  {
   "cell_type": "code",
   "execution_count": 2,
   "id": "8a0e4be6",
   "metadata": {},
   "outputs": [
    {
     "name": "stdout",
     "output_type": "stream",
     "text": [
      "93.25806451612904\n"
     ]
    }
   ],
   "source": [
    "import spacy # import spacy module\n",
    "model = spacy.load(\"en_core_web_sm\") #load pre-trained model\n",
    "## Read the file in variable name ‘doc’\n",
    "doc = \"The stock price of a certain company was $100 a year ago, once this company came into boom phase then it's stock price rise to $200. On the other hand, when there was economic depression the stock price was $50. When the company had started the price of its stock was $10, which you can consider as the base price. The stock price of a certain company was $100 a year ago, once this company came into boom phase then it's stock price rise to $200. On the other hand, when there was economic depression the stock price was $50. When the company had started the price of its stock was $10, which you can consider as the base price. The stock price of a certain company was $100 a year ago, once this company came into boom phase then it's stock price rise to $200. On the other hand, when there was economic depression the stock price was $50. When the company had started the price of its stock was $10, which you can consider as the base price. The stock price of a certain company was $100 a year ago, once this company came into boom phase then it's stock price rise to $200. On the other hand, when there was economic depression the stock price was $50. When the company had started the price of its stock was $10, which you can consider as the base price. The stock price of a certain company was $100 a year ago, once this company came into boom phase then it's stock price rise to $200. On the other hand, when there was economic depression the stock price was $50. When the company had started the price of its stock was $10, which you can consider as the base price. The stock price of a certain company was $100 a year ago, once this company came into boom phase then it's stock price rise to $200. On the other hand, when there was economic depression the stock price was $50. When the company had started the price of its stock was $10, which you can consider as the base price. The stock price of a certain company was $100 a year ago, once this company came into boom phase then it's stock price rise to $200. On the other hand, when there was economic depression the stock price was $50. When the company had started the price of its stock was $10, which you can consider as the base price. The stock price of a certain company was $100 a year ago, once this company came into boom phase then it's stock price rise to $200. On the other hand, when there was economic depression the stock price was $50. When the company had started the price of its stock was $10, which you can consider as the base price. The stock price of a certain company was $100 a year ago, once this company came into boom phase then it's stock price rise to $200. On the other hand, when there was economic depression the stock price was $50. When the company had started the price of its stock was $10, which you can consider as the base price. The stock price of a certain company was $100 a year ago, once this company came into boom phase then it's stock price rise to $200. On the other hand, when there was economic depression the stock price was $50. When the company had started the price of its stock was $10, which you can consider as the base price. The stock price of a certain company was $100 a year ago, once this company came into boom phase then it's stock price rise to $200. On the other hand, when there was economic depression the stock price was $50. When the company had started the price of its stock was $10, which you can consider as the base price. The stock price of a certain company was $100 a year ago, once this company came into boom phase then it's stock price rise to $200. On the other hand, when there was economic depression the stock price was $50. When the company had started the price of its stock was $10, which you can consider as the base price. The stock price of a certain company was $100 a year ago, once this company came into boom phase then it's stock price rise to $200. On the other hand, when there was economic depression the stock price was $50. When the company had started the price of its stock was $10, which you can consider as the base price. The stock price of a certain company was $100 a year ago, once this company came into boom phase then it's stock price rise to $90. On the other hand, when there was economic depression the stock price was $50. When the company had started the price of its stock was $10, which you can consider as the base price. The stock price of a certain company was $100 a year ago, once this company came into boom phase then it's stock price rise to $200. On the other hand, when there was economic depression the stock price was $123. When the company had started the price of its stock was $10, which you can consider as the base price. The stock price of a certain company was $100 a year ago, once this company came into boom phase then it's stock price rise to $200. On the other hand, when there was economic depression the stock price was $50. When the company had started the price of its stock was $10, which you can consider as the base price. The stock price of a certain company was $100 a year ago, once this company came into boom phase then it's stock price rise to $200. On the other hand, when there was economic depression the stock price was $50. When the company had started the price of its stock was $10, which you can consider as the base price. The stock price of a certain company was $100 a year ago, once this company came into boom phase then it's stock price rise to $200. On the other hand, when there was economic depression the stock price was $50. When the company had started the price of its stock was $10, which you can consider as the base price. The stock price of a certain company was $100 a year ago, once this company came into boom phase then it's stock price rise to $200. On the other hand, when there was economic depression the stock price was $50. When the company had started the price of its stock was $10, which you can consider as the base price. The stock price of a certain company was $100 a year ago, once this company came into boom phase then it's stock price rise to $200. On the other hand, when there was economic depression the stock price was $53. When the company had started the price of its stock was $10, which you can consider as the base price. The stock price of a certain company was $100 a year ago, once this company came into boom phase then it's stock price rise to $200. On the other hand, when there was economic depression the stock price was $50. When the company had started the price of its stock was $10, which you can consider as the base price. The stock price of a certain company was $100 a year ago, once this company came into boom phase then it's stock price rise to $200. On the other hand, when there was economic depression the stock price was $50. When the company had started the price of its stock was $10, which you can consider as the base price. The stock price of a certain company was $100 a year ago, once this company came into boom phase then it's stock price rise to $200. On the other hand, when there was economic depression the stock price was $50. When the company had started the price of its stock was $10, which you can consider as the base price. The stock price of a certain company was $100 a year ago, once this company came into boom phase then it's stock price rise to $200. On the other hand, when there was economic depression the stock price was $50. When the company had started the price of its stock was $10, which you can consider as the base price. The stock price of a certain company was $100 a year ago, once this company came into boom phase then it's stock price rise to $87. On the other hand, when there was economic depression the stock price was $50. When the company had started the price of its stock was $10, which you can consider as the base price. The stock price of a certain company was $100 a year ago, once this company came into boom phase then it's stock price rise to $200. On the other hand, when there was economic depression the stock price was $50. When the company had started the price of its stock was $10, which you can consider as the base price. The stock price of a certain company was $100 a year ago, once this company came into boom phase then it's stock price rise to $200. On the other hand, when there was economic depression the stock price was $50. When the company had started the price of its stock was $10, which you can consider as the base price. The stock price of a certain company was $100 a year ago, once this company came into boom phase then it's stock price rise to $200. On the other hand, when there was economic depression the stock price was $50. When the company had started the price of its stock was $10, which you can consider as the base price. The stock price of a certain company was $100 a year ago, once this company came into boom phase then it's stock price rise to $200. On the other hand, when there was economic depression the stock price was $50. When the company had started the price of its stock was $10, which you can consider as the base price. The stock price of a certain company was $100 a year ago, once this company came into boom phase then it's stock price rise to $291. On the other hand, when there was economic depression the stock price was $50. When the company had started the price of its stock was $10, which you can consider as the base price. The stock price of a certain company was $100 a year ago, once this company came into boom phase then it's stock price rise to $200. On the other hand, when there was economic depression the stock price was $50. When the company had started the price of its stock was $10, which you can consider as the base price. The stock price of a certain company was $100 a year ago, once this company came into boom phase then it's stock price rise to $200. On the other hand, when there was economic depression the stock price was $50. When the company had started the price of its stock was $10, which you can consider as the base price. The stock price of a certain company was $100 a year ago, once this company came into boom phase then it's stock price rise to $200. On the other hand, when there was economic depression the stock price was $50. When the company had started the price of its stock was $10, which you can consider as the base price. The stock price of a certain company was $100 a year ago, once this company came into boom phase then it's stock price rise to $200. On the other hand, when there was economic depression the stock price was $50. When the company had started the price of its stock was $10, which you can consider as the base price. The stock price of a certain company was $100 a year ago, once this company came into boom phase then it's stock price rise to $200. On the other hand, when there was economic depression the stock price was $50. When the company had started the price of its stock was $10, which you can consider as the base price. The stock price of a certain company was $100 a year ago, once this company came into boom phase then it's stock price rise to $200. On the other hand, when there was economic depression the stock price was $50. When the company had started the price of its stock was $10, which you can consider as the base price. The stock price of a certain company was $100 a year ago, once this company came into boom phase then it's stock price rise to $200. On the other hand, when there was economic depression the stock price was $50. When the company had started the price of its stock was $10, which you can consider as the base price. The stock price of a certain company was $100 a year ago, once this company came into boom phase then it's stock price rise to $76. On the other hand, when there was economic depression the stock price was $50. When the company had started the price of its stock was $10, which you can consider as the base price. The stock price of a certain company was $100 a year ago, once this company came into boom phase then it's stock price rise to $200. On the other hand, when there was economic depression the stock price was $50. When the company had started the price of its stock was $10, which you can consider as the base price. The stock price of a certain company was $100 a year ago, once this company came into boom phase then it's stock price rise to $212. On the other hand, when there was economic depression the stock price was $50. When the company had started the price of its stock was $10, which you can consider as the base price. The stock price of a certain company was $100 a year ago, once this company came into boom phase then it's stock price rise to $200. On the other hand, when there was economic depression the stock price was $50. When the company had started the price of its stock was $10, which you can consider as the base price. The stock price of a certain company was $100 a year ago, once this company came into boom phase then it's stock price rise to $200. On the other hand, when there was economic depression the stock price was $50. When the company had started the price of its stock was $10, which you can consider as the base price. The stock price of a certain company was $100 a year ago, once this company came into boom phase then it's stock price rise to $200. On the other hand, when there was economic depression the stock price was $50. When the company had started the price of its stock was $10, which you can consider as the base price. The stock price of a certain company was $100 a year ago, once this company came into boom phase then it's stock price rise to $200. On the other hand, when there was economic depression the stock price was $50. When the company had started the price of its stock was $10, which you can consider as the base price. The stock price of a certain company was $100 a year ago, once this company came into boom phase then it's stock price rise to $200. On the other hand, when there was economic depression the stock price was $50. When the company had started the price of its stock was $10, which you can consider as the base price. The stock price of a certain company was $100 a year ago, once this company came into boom phase then it's stock price rise to $200. On the other hand, when there was economic depression the stock price was $50. When the company had started the price of its stock was $10, which you can consider as the base price. The stock price of a certain company was $100 a year ago, once this company came into boom phase then it's stock price rise to $200. On the other hand, when there was economic depression the stock price was $50. When the company had started the price of its stock was $10, which you can consider as the base price. The stock price of a certain company was $100 a year ago, once this company came into boom phase then it's stock price rise to $200. On the other hand, when there was economic depression the stock price was $50. When the company had started the price of its stock was $10, which you can consider as the base price. The stock price of a certain company was $100 a year ago, once this company came into boom phase then it's stock price rise to $200. On the other hand, when there was economic depression the stock price was $50. When the company had started the price of its stock was $10, which you can consider as the base price. The stock price of a certain company was $100 a year ago, once this company came into boom phase then it's stock price rise to $200. On the other hand, when there was economic depression the stock price was $50. When the company had started the price of its stock was $10, which you can consider as the base price. The stock price of a certain company was $100 a year ago, once this company came into boom phase then it's stock price rise to $200. On the other hand, when there was economic depression the stock price was $50. When the company had started the price of its stock was $10, which you can consider as the base price. The stock price of a certain company was $100 a year ago, once this company came into boom phase then it's stock price rise to $200. On the other hand, when there was economic depression the stock price was $50. When the company had started the price of its stock was $10, which you can consider as the base price. The stock price of a certain company was $100 a year ago, once this company came into boom phase then it's stock price rise to $512. On the other hand, when there was economic depression the stock price was $50. When the company had started the price of its stock was $10, which you can consider as the base price. The stock price of a certain company was $100 a year ago, once this company came into boom phase then it's stock price rise to $200. On the other hand, when there was economic depression the stock price was $50. When the company had started the price of its stock was $10, which you can consider as the base price. The stock price of a certain company was $100 a year ago, once this company came into boom phase then it's stock price rise to $200. On the other hand, when there was economic depression the stock price was $50. When the company had started the price of its stock was $10, which you can consider as the base price. The stock price of a certain company was $100 a year ago, once this company came into boom phase then it's stock price rise to $250. On the other hand, when there was economic depression the stock price was $520. When the company had started the price of its stock was $10, which you can consider as the base price. The stock price of a certain company was $100 a year ago, once this company came into boom phase then it's stock price rise to $200. On the other hand, when there was economic depression the stock price was $50. When the company had started the price of its stock was $10, which you can consider as the base price. The stock price of a certain company was $100 a year ago, once this company came into boom phase then it's stock price rise to $200. On the other hand, when there was economic depression the stock price was $50. When the company had started the price of its stock was $10, which you can consider as the base price. The stock price of a certain company was $100 a year ago, once this company came into boom phase then it's stock price rise to $200. On the other hand, when there was economic depression the stock price was $50. When the company had started the price of its stock was $145, which you can consider as the base price. The stock price of a certain company was $100 a year ago, once this company came into boom phase then it's stock price rise to $200. On the other hand, when there was economic depression the stock price was $50. When the company had started the price of its stock was $10, which you can consider as the base price. The stock price of a certain company was $100 a year ago, once this company came into boom phase then it's stock price rise to $200. On the other hand, when there was economic depression the stock price was $50. When the company had started the price of its stock was $10, which you can consider as the base price. The stock price of a certain company was $100 a year ago, once this company came into boom phase then it's stock price rise to $200. On the other hand, when there was economic depression the stock price was $50. When the company had started the price of its stock was $19, which you can consider as the base price. \"\n",
    "processed_doc = model(doc); #process input and perform NLP tasks\n",
    "a=0\n",
    "c=0\n",
    "for ent in processed_doc.ents:\n",
    "  if ent.label_ == 'MONEY':\n",
    "    c= c+1\n",
    "    b = ent.text \n",
    "    a = a+ int(b)\n",
    "\n",
    "print(a/c)\n"
   ]
  },
  {
   "cell_type": "markdown",
   "id": "7582ba45",
   "metadata": {},
   "source": [
    "<pre>\n",
    "2.\n",
    "You have been given the following sentence with its NER tags.\n",
    "\n",
    "Sentence: ‘Harry is not gardening as it is raining’\n",
    "Labels: ‘Harry (P) is not gardening(A) as it is raining (A)’\n",
    "\n",
    "What will be the value of the feature functions F1, F2 and F3, respectively, for the word ‘Harry’?\n",
    "</pre>"
   ]
  },
  {
   "cell_type": "code",
   "execution_count": 5,
   "id": "bb8a8cd6",
   "metadata": {
    "collapsed": true
   },
   "outputs": [
    {
     "name": "stdout",
     "output_type": "stream",
     "text": [
      "Harry nsubj\n",
      "is aux\n",
      "not neg\n",
      "gardening ROOT\n",
      "as mark\n",
      "it nsubj\n",
      "is aux\n",
      "raining advcl\n"
     ]
    },
    {
     "data": {
      "text/html": [
       "<span class=\"tex2jax_ignore\"><svg xmlns=\"http://www.w3.org/2000/svg\" xmlns:xlink=\"http://www.w3.org/1999/xlink\" xml:lang=\"en\" id=\"ffb57b52d79b4b058e18987eb49cc5b2-0\" class=\"displacy\" width=\"1450\" height=\"487.0\" direction=\"ltr\" style=\"max-width: none; height: 487.0px; color: #000000; background: #ffffff; font-family: Arial; direction: ltr\">\n",
       "<text class=\"displacy-token\" fill=\"currentColor\" text-anchor=\"middle\" y=\"397.0\">\n",
       "    <tspan class=\"displacy-word\" fill=\"currentColor\" x=\"50\">Harry</tspan>\n",
       "    <tspan class=\"displacy-tag\" dy=\"2em\" fill=\"currentColor\" x=\"50\">PROPN</tspan>\n",
       "</text>\n",
       "\n",
       "<text class=\"displacy-token\" fill=\"currentColor\" text-anchor=\"middle\" y=\"397.0\">\n",
       "    <tspan class=\"displacy-word\" fill=\"currentColor\" x=\"225\">is</tspan>\n",
       "    <tspan class=\"displacy-tag\" dy=\"2em\" fill=\"currentColor\" x=\"225\">AUX</tspan>\n",
       "</text>\n",
       "\n",
       "<text class=\"displacy-token\" fill=\"currentColor\" text-anchor=\"middle\" y=\"397.0\">\n",
       "    <tspan class=\"displacy-word\" fill=\"currentColor\" x=\"400\">not</tspan>\n",
       "    <tspan class=\"displacy-tag\" dy=\"2em\" fill=\"currentColor\" x=\"400\">PART</tspan>\n",
       "</text>\n",
       "\n",
       "<text class=\"displacy-token\" fill=\"currentColor\" text-anchor=\"middle\" y=\"397.0\">\n",
       "    <tspan class=\"displacy-word\" fill=\"currentColor\" x=\"575\">gardening</tspan>\n",
       "    <tspan class=\"displacy-tag\" dy=\"2em\" fill=\"currentColor\" x=\"575\">VERB</tspan>\n",
       "</text>\n",
       "\n",
       "<text class=\"displacy-token\" fill=\"currentColor\" text-anchor=\"middle\" y=\"397.0\">\n",
       "    <tspan class=\"displacy-word\" fill=\"currentColor\" x=\"750\">as</tspan>\n",
       "    <tspan class=\"displacy-tag\" dy=\"2em\" fill=\"currentColor\" x=\"750\">SCONJ</tspan>\n",
       "</text>\n",
       "\n",
       "<text class=\"displacy-token\" fill=\"currentColor\" text-anchor=\"middle\" y=\"397.0\">\n",
       "    <tspan class=\"displacy-word\" fill=\"currentColor\" x=\"925\">it</tspan>\n",
       "    <tspan class=\"displacy-tag\" dy=\"2em\" fill=\"currentColor\" x=\"925\">PRON</tspan>\n",
       "</text>\n",
       "\n",
       "<text class=\"displacy-token\" fill=\"currentColor\" text-anchor=\"middle\" y=\"397.0\">\n",
       "    <tspan class=\"displacy-word\" fill=\"currentColor\" x=\"1100\">is</tspan>\n",
       "    <tspan class=\"displacy-tag\" dy=\"2em\" fill=\"currentColor\" x=\"1100\">AUX</tspan>\n",
       "</text>\n",
       "\n",
       "<text class=\"displacy-token\" fill=\"currentColor\" text-anchor=\"middle\" y=\"397.0\">\n",
       "    <tspan class=\"displacy-word\" fill=\"currentColor\" x=\"1275\">raining</tspan>\n",
       "    <tspan class=\"displacy-tag\" dy=\"2em\" fill=\"currentColor\" x=\"1275\">VERB</tspan>\n",
       "</text>\n",
       "\n",
       "<g class=\"displacy-arrow\">\n",
       "    <path class=\"displacy-arc\" id=\"arrow-ffb57b52d79b4b058e18987eb49cc5b2-0-0\" stroke-width=\"2px\" d=\"M70,352.0 C70,89.5 570.0,89.5 570.0,352.0\" fill=\"none\" stroke=\"currentColor\"/>\n",
       "    <text dy=\"1.25em\" style=\"font-size: 0.8em; letter-spacing: 1px\">\n",
       "        <textPath xlink:href=\"#arrow-ffb57b52d79b4b058e18987eb49cc5b2-0-0\" class=\"displacy-label\" startOffset=\"50%\" side=\"left\" fill=\"currentColor\" text-anchor=\"middle\">nsubj</textPath>\n",
       "    </text>\n",
       "    <path class=\"displacy-arrowhead\" d=\"M70,354.0 L62,342.0 78,342.0\" fill=\"currentColor\"/>\n",
       "</g>\n",
       "\n",
       "<g class=\"displacy-arrow\">\n",
       "    <path class=\"displacy-arc\" id=\"arrow-ffb57b52d79b4b058e18987eb49cc5b2-0-1\" stroke-width=\"2px\" d=\"M245,352.0 C245,177.0 565.0,177.0 565.0,352.0\" fill=\"none\" stroke=\"currentColor\"/>\n",
       "    <text dy=\"1.25em\" style=\"font-size: 0.8em; letter-spacing: 1px\">\n",
       "        <textPath xlink:href=\"#arrow-ffb57b52d79b4b058e18987eb49cc5b2-0-1\" class=\"displacy-label\" startOffset=\"50%\" side=\"left\" fill=\"currentColor\" text-anchor=\"middle\">aux</textPath>\n",
       "    </text>\n",
       "    <path class=\"displacy-arrowhead\" d=\"M245,354.0 L237,342.0 253,342.0\" fill=\"currentColor\"/>\n",
       "</g>\n",
       "\n",
       "<g class=\"displacy-arrow\">\n",
       "    <path class=\"displacy-arc\" id=\"arrow-ffb57b52d79b4b058e18987eb49cc5b2-0-2\" stroke-width=\"2px\" d=\"M420,352.0 C420,264.5 560.0,264.5 560.0,352.0\" fill=\"none\" stroke=\"currentColor\"/>\n",
       "    <text dy=\"1.25em\" style=\"font-size: 0.8em; letter-spacing: 1px\">\n",
       "        <textPath xlink:href=\"#arrow-ffb57b52d79b4b058e18987eb49cc5b2-0-2\" class=\"displacy-label\" startOffset=\"50%\" side=\"left\" fill=\"currentColor\" text-anchor=\"middle\">neg</textPath>\n",
       "    </text>\n",
       "    <path class=\"displacy-arrowhead\" d=\"M420,354.0 L412,342.0 428,342.0\" fill=\"currentColor\"/>\n",
       "</g>\n",
       "\n",
       "<g class=\"displacy-arrow\">\n",
       "    <path class=\"displacy-arc\" id=\"arrow-ffb57b52d79b4b058e18987eb49cc5b2-0-3\" stroke-width=\"2px\" d=\"M770,352.0 C770,89.5 1270.0,89.5 1270.0,352.0\" fill=\"none\" stroke=\"currentColor\"/>\n",
       "    <text dy=\"1.25em\" style=\"font-size: 0.8em; letter-spacing: 1px\">\n",
       "        <textPath xlink:href=\"#arrow-ffb57b52d79b4b058e18987eb49cc5b2-0-3\" class=\"displacy-label\" startOffset=\"50%\" side=\"left\" fill=\"currentColor\" text-anchor=\"middle\">mark</textPath>\n",
       "    </text>\n",
       "    <path class=\"displacy-arrowhead\" d=\"M770,354.0 L762,342.0 778,342.0\" fill=\"currentColor\"/>\n",
       "</g>\n",
       "\n",
       "<g class=\"displacy-arrow\">\n",
       "    <path class=\"displacy-arc\" id=\"arrow-ffb57b52d79b4b058e18987eb49cc5b2-0-4\" stroke-width=\"2px\" d=\"M945,352.0 C945,177.0 1265.0,177.0 1265.0,352.0\" fill=\"none\" stroke=\"currentColor\"/>\n",
       "    <text dy=\"1.25em\" style=\"font-size: 0.8em; letter-spacing: 1px\">\n",
       "        <textPath xlink:href=\"#arrow-ffb57b52d79b4b058e18987eb49cc5b2-0-4\" class=\"displacy-label\" startOffset=\"50%\" side=\"left\" fill=\"currentColor\" text-anchor=\"middle\">nsubj</textPath>\n",
       "    </text>\n",
       "    <path class=\"displacy-arrowhead\" d=\"M945,354.0 L937,342.0 953,342.0\" fill=\"currentColor\"/>\n",
       "</g>\n",
       "\n",
       "<g class=\"displacy-arrow\">\n",
       "    <path class=\"displacy-arc\" id=\"arrow-ffb57b52d79b4b058e18987eb49cc5b2-0-5\" stroke-width=\"2px\" d=\"M1120,352.0 C1120,264.5 1260.0,264.5 1260.0,352.0\" fill=\"none\" stroke=\"currentColor\"/>\n",
       "    <text dy=\"1.25em\" style=\"font-size: 0.8em; letter-spacing: 1px\">\n",
       "        <textPath xlink:href=\"#arrow-ffb57b52d79b4b058e18987eb49cc5b2-0-5\" class=\"displacy-label\" startOffset=\"50%\" side=\"left\" fill=\"currentColor\" text-anchor=\"middle\">aux</textPath>\n",
       "    </text>\n",
       "    <path class=\"displacy-arrowhead\" d=\"M1120,354.0 L1112,342.0 1128,342.0\" fill=\"currentColor\"/>\n",
       "</g>\n",
       "\n",
       "<g class=\"displacy-arrow\">\n",
       "    <path class=\"displacy-arc\" id=\"arrow-ffb57b52d79b4b058e18987eb49cc5b2-0-6\" stroke-width=\"2px\" d=\"M595,352.0 C595,2.0 1275.0,2.0 1275.0,352.0\" fill=\"none\" stroke=\"currentColor\"/>\n",
       "    <text dy=\"1.25em\" style=\"font-size: 0.8em; letter-spacing: 1px\">\n",
       "        <textPath xlink:href=\"#arrow-ffb57b52d79b4b058e18987eb49cc5b2-0-6\" class=\"displacy-label\" startOffset=\"50%\" side=\"left\" fill=\"currentColor\" text-anchor=\"middle\">advcl</textPath>\n",
       "    </text>\n",
       "    <path class=\"displacy-arrowhead\" d=\"M1275.0,354.0 L1283.0,342.0 1267.0,342.0\" fill=\"currentColor\"/>\n",
       "</g>\n",
       "</svg></span>"
      ],
      "text/plain": [
       "<IPython.core.display.HTML object>"
      ]
     },
     "metadata": {},
     "output_type": "display_data"
    }
   ],
   "source": [
    "import spacy\n",
    "from spacy import displacy\n",
    "import pandas as pd\n",
    "nlp = spacy.load(\"en_core_web_sm\")\n",
    "\n",
    "doc = nlp(\"Harry is not gardening as it is raining\")\n",
    "for tok in doc:\n",
    "    print(tok.text,tok.dep_)\n",
    "\n",
    "displacy.render(doc, style=\"dep\", jupyter = True)"
   ]
  },
  {
   "cell_type": "markdown",
   "id": "e4806cf4",
   "metadata": {},
   "source": [
    "<pre>\n",
    "3.\n",
    "You have been given the following sentence with its NER tags:\n",
    "\n",
    "Sentence: ‘Harry is not gardening as it is raining’\n",
    "Labels: ‘Harry (P) is not gardening(A) as it is raining (A)’\n",
    "\n",
    "What will be the value of the feature functions F1, F2 and F3, respectively, for the word ‘raining’?\n",
    "</pre>"
   ]
  },
  {
   "cell_type": "code",
   "execution_count": 6,
   "id": "38bdcead",
   "metadata": {
    "collapsed": true
   },
   "outputs": [
    {
     "name": "stdout",
     "output_type": "stream",
     "text": [
      "Harry nsubj\n",
      "is aux\n",
      "not neg\n",
      "gardening ROOT\n",
      "as mark\n",
      "it nsubj\n",
      "is aux\n",
      "raining advcl\n"
     ]
    },
    {
     "data": {
      "text/html": [
       "<span class=\"tex2jax_ignore\"><svg xmlns=\"http://www.w3.org/2000/svg\" xmlns:xlink=\"http://www.w3.org/1999/xlink\" xml:lang=\"en\" id=\"9178e7c2c5a149e4a8d5015c87105075-0\" class=\"displacy\" width=\"1450\" height=\"487.0\" direction=\"ltr\" style=\"max-width: none; height: 487.0px; color: #000000; background: #ffffff; font-family: Arial; direction: ltr\">\n",
       "<text class=\"displacy-token\" fill=\"currentColor\" text-anchor=\"middle\" y=\"397.0\">\n",
       "    <tspan class=\"displacy-word\" fill=\"currentColor\" x=\"50\">Harry</tspan>\n",
       "    <tspan class=\"displacy-tag\" dy=\"2em\" fill=\"currentColor\" x=\"50\">PROPN</tspan>\n",
       "</text>\n",
       "\n",
       "<text class=\"displacy-token\" fill=\"currentColor\" text-anchor=\"middle\" y=\"397.0\">\n",
       "    <tspan class=\"displacy-word\" fill=\"currentColor\" x=\"225\">is</tspan>\n",
       "    <tspan class=\"displacy-tag\" dy=\"2em\" fill=\"currentColor\" x=\"225\">AUX</tspan>\n",
       "</text>\n",
       "\n",
       "<text class=\"displacy-token\" fill=\"currentColor\" text-anchor=\"middle\" y=\"397.0\">\n",
       "    <tspan class=\"displacy-word\" fill=\"currentColor\" x=\"400\">not</tspan>\n",
       "    <tspan class=\"displacy-tag\" dy=\"2em\" fill=\"currentColor\" x=\"400\">PART</tspan>\n",
       "</text>\n",
       "\n",
       "<text class=\"displacy-token\" fill=\"currentColor\" text-anchor=\"middle\" y=\"397.0\">\n",
       "    <tspan class=\"displacy-word\" fill=\"currentColor\" x=\"575\">gardening</tspan>\n",
       "    <tspan class=\"displacy-tag\" dy=\"2em\" fill=\"currentColor\" x=\"575\">VERB</tspan>\n",
       "</text>\n",
       "\n",
       "<text class=\"displacy-token\" fill=\"currentColor\" text-anchor=\"middle\" y=\"397.0\">\n",
       "    <tspan class=\"displacy-word\" fill=\"currentColor\" x=\"750\">as</tspan>\n",
       "    <tspan class=\"displacy-tag\" dy=\"2em\" fill=\"currentColor\" x=\"750\">SCONJ</tspan>\n",
       "</text>\n",
       "\n",
       "<text class=\"displacy-token\" fill=\"currentColor\" text-anchor=\"middle\" y=\"397.0\">\n",
       "    <tspan class=\"displacy-word\" fill=\"currentColor\" x=\"925\">it</tspan>\n",
       "    <tspan class=\"displacy-tag\" dy=\"2em\" fill=\"currentColor\" x=\"925\">PRON</tspan>\n",
       "</text>\n",
       "\n",
       "<text class=\"displacy-token\" fill=\"currentColor\" text-anchor=\"middle\" y=\"397.0\">\n",
       "    <tspan class=\"displacy-word\" fill=\"currentColor\" x=\"1100\">is</tspan>\n",
       "    <tspan class=\"displacy-tag\" dy=\"2em\" fill=\"currentColor\" x=\"1100\">AUX</tspan>\n",
       "</text>\n",
       "\n",
       "<text class=\"displacy-token\" fill=\"currentColor\" text-anchor=\"middle\" y=\"397.0\">\n",
       "    <tspan class=\"displacy-word\" fill=\"currentColor\" x=\"1275\">raining</tspan>\n",
       "    <tspan class=\"displacy-tag\" dy=\"2em\" fill=\"currentColor\" x=\"1275\">VERB</tspan>\n",
       "</text>\n",
       "\n",
       "<g class=\"displacy-arrow\">\n",
       "    <path class=\"displacy-arc\" id=\"arrow-9178e7c2c5a149e4a8d5015c87105075-0-0\" stroke-width=\"2px\" d=\"M70,352.0 C70,89.5 570.0,89.5 570.0,352.0\" fill=\"none\" stroke=\"currentColor\"/>\n",
       "    <text dy=\"1.25em\" style=\"font-size: 0.8em; letter-spacing: 1px\">\n",
       "        <textPath xlink:href=\"#arrow-9178e7c2c5a149e4a8d5015c87105075-0-0\" class=\"displacy-label\" startOffset=\"50%\" side=\"left\" fill=\"currentColor\" text-anchor=\"middle\">nsubj</textPath>\n",
       "    </text>\n",
       "    <path class=\"displacy-arrowhead\" d=\"M70,354.0 L62,342.0 78,342.0\" fill=\"currentColor\"/>\n",
       "</g>\n",
       "\n",
       "<g class=\"displacy-arrow\">\n",
       "    <path class=\"displacy-arc\" id=\"arrow-9178e7c2c5a149e4a8d5015c87105075-0-1\" stroke-width=\"2px\" d=\"M245,352.0 C245,177.0 565.0,177.0 565.0,352.0\" fill=\"none\" stroke=\"currentColor\"/>\n",
       "    <text dy=\"1.25em\" style=\"font-size: 0.8em; letter-spacing: 1px\">\n",
       "        <textPath xlink:href=\"#arrow-9178e7c2c5a149e4a8d5015c87105075-0-1\" class=\"displacy-label\" startOffset=\"50%\" side=\"left\" fill=\"currentColor\" text-anchor=\"middle\">aux</textPath>\n",
       "    </text>\n",
       "    <path class=\"displacy-arrowhead\" d=\"M245,354.0 L237,342.0 253,342.0\" fill=\"currentColor\"/>\n",
       "</g>\n",
       "\n",
       "<g class=\"displacy-arrow\">\n",
       "    <path class=\"displacy-arc\" id=\"arrow-9178e7c2c5a149e4a8d5015c87105075-0-2\" stroke-width=\"2px\" d=\"M420,352.0 C420,264.5 560.0,264.5 560.0,352.0\" fill=\"none\" stroke=\"currentColor\"/>\n",
       "    <text dy=\"1.25em\" style=\"font-size: 0.8em; letter-spacing: 1px\">\n",
       "        <textPath xlink:href=\"#arrow-9178e7c2c5a149e4a8d5015c87105075-0-2\" class=\"displacy-label\" startOffset=\"50%\" side=\"left\" fill=\"currentColor\" text-anchor=\"middle\">neg</textPath>\n",
       "    </text>\n",
       "    <path class=\"displacy-arrowhead\" d=\"M420,354.0 L412,342.0 428,342.0\" fill=\"currentColor\"/>\n",
       "</g>\n",
       "\n",
       "<g class=\"displacy-arrow\">\n",
       "    <path class=\"displacy-arc\" id=\"arrow-9178e7c2c5a149e4a8d5015c87105075-0-3\" stroke-width=\"2px\" d=\"M770,352.0 C770,89.5 1270.0,89.5 1270.0,352.0\" fill=\"none\" stroke=\"currentColor\"/>\n",
       "    <text dy=\"1.25em\" style=\"font-size: 0.8em; letter-spacing: 1px\">\n",
       "        <textPath xlink:href=\"#arrow-9178e7c2c5a149e4a8d5015c87105075-0-3\" class=\"displacy-label\" startOffset=\"50%\" side=\"left\" fill=\"currentColor\" text-anchor=\"middle\">mark</textPath>\n",
       "    </text>\n",
       "    <path class=\"displacy-arrowhead\" d=\"M770,354.0 L762,342.0 778,342.0\" fill=\"currentColor\"/>\n",
       "</g>\n",
       "\n",
       "<g class=\"displacy-arrow\">\n",
       "    <path class=\"displacy-arc\" id=\"arrow-9178e7c2c5a149e4a8d5015c87105075-0-4\" stroke-width=\"2px\" d=\"M945,352.0 C945,177.0 1265.0,177.0 1265.0,352.0\" fill=\"none\" stroke=\"currentColor\"/>\n",
       "    <text dy=\"1.25em\" style=\"font-size: 0.8em; letter-spacing: 1px\">\n",
       "        <textPath xlink:href=\"#arrow-9178e7c2c5a149e4a8d5015c87105075-0-4\" class=\"displacy-label\" startOffset=\"50%\" side=\"left\" fill=\"currentColor\" text-anchor=\"middle\">nsubj</textPath>\n",
       "    </text>\n",
       "    <path class=\"displacy-arrowhead\" d=\"M945,354.0 L937,342.0 953,342.0\" fill=\"currentColor\"/>\n",
       "</g>\n",
       "\n",
       "<g class=\"displacy-arrow\">\n",
       "    <path class=\"displacy-arc\" id=\"arrow-9178e7c2c5a149e4a8d5015c87105075-0-5\" stroke-width=\"2px\" d=\"M1120,352.0 C1120,264.5 1260.0,264.5 1260.0,352.0\" fill=\"none\" stroke=\"currentColor\"/>\n",
       "    <text dy=\"1.25em\" style=\"font-size: 0.8em; letter-spacing: 1px\">\n",
       "        <textPath xlink:href=\"#arrow-9178e7c2c5a149e4a8d5015c87105075-0-5\" class=\"displacy-label\" startOffset=\"50%\" side=\"left\" fill=\"currentColor\" text-anchor=\"middle\">aux</textPath>\n",
       "    </text>\n",
       "    <path class=\"displacy-arrowhead\" d=\"M1120,354.0 L1112,342.0 1128,342.0\" fill=\"currentColor\"/>\n",
       "</g>\n",
       "\n",
       "<g class=\"displacy-arrow\">\n",
       "    <path class=\"displacy-arc\" id=\"arrow-9178e7c2c5a149e4a8d5015c87105075-0-6\" stroke-width=\"2px\" d=\"M595,352.0 C595,2.0 1275.0,2.0 1275.0,352.0\" fill=\"none\" stroke=\"currentColor\"/>\n",
       "    <text dy=\"1.25em\" style=\"font-size: 0.8em; letter-spacing: 1px\">\n",
       "        <textPath xlink:href=\"#arrow-9178e7c2c5a149e4a8d5015c87105075-0-6\" class=\"displacy-label\" startOffset=\"50%\" side=\"left\" fill=\"currentColor\" text-anchor=\"middle\">advcl</textPath>\n",
       "    </text>\n",
       "    <path class=\"displacy-arrowhead\" d=\"M1275.0,354.0 L1283.0,342.0 1267.0,342.0\" fill=\"currentColor\"/>\n",
       "</g>\n",
       "</svg></span>"
      ],
      "text/plain": [
       "<IPython.core.display.HTML object>"
      ]
     },
     "metadata": {},
     "output_type": "display_data"
    }
   ],
   "source": [
    "import spacy\n",
    "from spacy import displacy\n",
    "import pandas as pd\n",
    "nlp = spacy.load(\"en_core_web_sm\")\n",
    "\n",
    "doc = nlp(\"Harry is not gardening as it is raining\")\n",
    "for tok in doc:\n",
    "    print(tok.text,tok.dep_)\n",
    "\n",
    "displacy.render(doc, style=\"dep\", jupyter = True)"
   ]
  },
  {
   "cell_type": "markdown",
   "id": "f6f7a2f5",
   "metadata": {},
   "source": [
    "<pre>\n",
    "4.\n",
    "Which of the following is the incorrect match of the entity and its entity type?\n",
    "</pre>"
   ]
  },
  {
   "cell_type": "code",
   "execution_count": 7,
   "id": "554a5a65",
   "metadata": {},
   "outputs": [
    {
     "name": "stdout",
     "output_type": "stream",
     "text": [
      "Christmas  --  DATE\n"
     ]
    }
   ],
   "source": [
    "import spacy\n",
    "model = spacy.load(\"en_core_web_sm\")\n",
    "doc = \"Christmas\" \n",
    "processed_doc = model(doc);\n",
    "for ent in processed_doc.ents: \n",
    "  print(ent.text, \" -- \", ent.label_)"
   ]
  },
  {
   "cell_type": "code",
   "execution_count": null,
   "id": "73e14663",
   "metadata": {},
   "outputs": [],
   "source": []
  }
 ],
 "metadata": {
  "kernelspec": {
   "display_name": "Python 3 (ipykernel)",
   "language": "python",
   "name": "python3"
  },
  "language_info": {
   "codemirror_mode": {
    "name": "ipython",
    "version": 3
   },
   "file_extension": ".py",
   "mimetype": "text/x-python",
   "name": "python",
   "nbconvert_exporter": "python",
   "pygments_lexer": "ipython3",
   "version": "3.8.0"
  },
  "varInspector": {
   "cols": {
    "lenName": 16,
    "lenType": 16,
    "lenVar": 40
   },
   "kernels_config": {
    "python": {
     "delete_cmd_postfix": "",
     "delete_cmd_prefix": "del ",
     "library": "var_list.py",
     "varRefreshCmd": "print(var_dic_list())"
    },
    "r": {
     "delete_cmd_postfix": ") ",
     "delete_cmd_prefix": "rm(",
     "library": "var_list.r",
     "varRefreshCmd": "cat(var_dic_list()) "
    }
   },
   "types_to_exclude": [
    "module",
    "function",
    "builtin_function_or_method",
    "instance",
    "_Feature"
   ],
   "window_display": false
  }
 },
 "nbformat": 4,
 "nbformat_minor": 5
}
