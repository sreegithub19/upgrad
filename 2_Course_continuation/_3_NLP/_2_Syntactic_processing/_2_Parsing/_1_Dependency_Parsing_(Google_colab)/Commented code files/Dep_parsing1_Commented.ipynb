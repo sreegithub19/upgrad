{
  "nbformat": 4,
  "nbformat_minor": 0,
  "metadata": {
    "kernelspec": {
      "display_name": "Python 3",
      "language": "python",
      "name": "python3"
    },
    "language_info": {
      "codemirror_mode": {
        "name": "ipython",
        "version": 3
      },
      "file_extension": ".py",
      "mimetype": "text/x-python",
      "name": "python",
      "nbconvert_exporter": "python",
      "pygments_lexer": "ipython3",
      "version": "3.8.3"
    },
    "colab": {
      "name": "Dep_parsing1_Commented.ipynb",
      "provenance": [],
      "collapsed_sections": []
    }
  },
  "cells": [
    {
      "cell_type": "code",
      "metadata": {
        "id": "8C1laB0dc8QJ"
      },
      "source": [
        "# Import libraries\n",
        "import spacy\n",
        "from spacy import displacy\n",
        "import pandas as pd\n",
        "nlp = spacy.load(\"en_core_web_sm\")"
      ],
      "execution_count": null,
      "outputs": []
    },
    {
      "cell_type": "markdown",
      "metadata": {
        "id": "vuzER39Rc8QK"
      },
      "source": [
        "## How to do a dependency parse?"
      ]
    },
    {
      "cell_type": "code",
      "metadata": {
        "id": "Wbqc2lDSc8QL"
      },
      "source": [
        "# Define active and passive sentences.\n",
        "active = ['Hens lay eggs.',\n",
        "         'Birds build nests.',\n",
        "         'The batter hit the ball.',\n",
        "         'The computer transmitted a copy of the manual']\n",
        "passive = ['Eggs are laid by hens',\n",
        "           'Nests are built by birds',\n",
        "           'The ball was hit by the batter',\n",
        "           'A copy of the manual was transmitted by the computer.']"
      ],
      "execution_count": null,
      "outputs": []
    },
    {
      "cell_type": "code",
      "metadata": {
        "id": "LL2fx6PZc8QM"
      },
      "source": [
        "# Get the dependency parsing tags\n"
      ],
      "execution_count": null,
      "outputs": []
    },
    {
      "cell_type": "markdown",
      "metadata": {
        "id": "bwRIa71ec8QO"
      },
      "source": [
        "### Visualize this parse"
      ]
    },
    {
      "cell_type": "code",
      "metadata": {
        "id": "7lBO7vzjc8QP"
      },
      "source": [
        "# Visualise the parse tree\n"
      ],
      "execution_count": null,
      "outputs": []
    },
    {
      "cell_type": "markdown",
      "metadata": {
        "id": "X9IVNiDTc8QQ"
      },
      "source": [
        "To understand what these dependency relationships one can use [this link](https://universaldependencies.org/docs/en/dep/)"
      ]
    },
    {
      "cell_type": "markdown",
      "metadata": {
        "id": "XgSCNbJZc8QR"
      },
      "source": [
        "### Going through the dependency relationships it looks like that one would need to know linguistics and grammar to be able to do analysis. This is not entirely true. Many times being able to find out `patterns` in terms of dependency relationships is enough to perform the task at hand"
      ]
    },
    {
      "cell_type": "code",
      "metadata": {
        "id": "u1WISO06c8QS"
      },
      "source": [
        "# Visualise the parse tree of all the active sentences.\n"
      ],
      "execution_count": null,
      "outputs": []
    },
    {
      "cell_type": "code",
      "metadata": {
        "id": "aGn8osrMc8QU"
      },
      "source": [
        "# Visualise the parse tree of all the passive sentences.\n"
      ],
      "execution_count": null,
      "outputs": []
    },
    {
      "cell_type": "markdown",
      "metadata": {
        "id": "dNpEVOj5c8QV"
      },
      "source": [
        "## Summary:\n",
        "- Spacy's dependency parser let's us visualise the relationships\n",
        "- When a sentence is in passive voice there is always a presence if `nsubjpass` dependency relation"
      ]
    },
    {
      "cell_type": "code",
      "metadata": {
        "id": "HC6lEKZQc8QW"
      },
      "source": [
        ""
      ],
      "execution_count": null,
      "outputs": []
    }
  ]
}