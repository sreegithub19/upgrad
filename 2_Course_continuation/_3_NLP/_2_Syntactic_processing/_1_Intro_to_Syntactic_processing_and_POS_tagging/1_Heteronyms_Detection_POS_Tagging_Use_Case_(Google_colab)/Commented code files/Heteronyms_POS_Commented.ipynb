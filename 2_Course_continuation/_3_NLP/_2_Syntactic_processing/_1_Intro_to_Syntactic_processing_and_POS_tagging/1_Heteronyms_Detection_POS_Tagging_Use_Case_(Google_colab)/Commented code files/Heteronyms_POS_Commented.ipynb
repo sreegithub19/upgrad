{
  "nbformat": 4,
  "nbformat_minor": 0,
  "metadata": {
    "colab": {
      "name": "Heteronyms_POS_Commented.ipynb",
      "provenance": [],
      "collapsed_sections": []
    },
    "kernelspec": {
      "name": "python3",
      "display_name": "Python 3"
    },
    "language_info": {
      "name": "python"
    }
  },
  "cells": [
    {
      "cell_type": "markdown",
      "metadata": {
        "id": "C5jJ9kQzPjge"
      },
      "source": [
        "**Heteronyms** are the words that have same spelling but mean different things when pronounced differently. \n",
        "\n",
        "\n",
        "- Recall the word *lead* from the lectures. It can refer to the metal lead or the act of leadership. The two pronounciations have different meanings.\n",
        "\n",
        "- For machine translation systems or text to speech systems, the ability to identify the correct sense of the word is crucial.\n",
        "\n",
        "\n"
      ]
    },
    {
      "cell_type": "markdown",
      "metadata": {
        "id": "sHvYVoL7i7_a"
      },
      "source": [
        "Let us have a look at this example:\n",
        "\n",
        "https://translate.google.com/?sl=en&tl=hi&text=She%20wished%20she%20could%20desert%20him%20in%20the%20desert.%0A&op=translate\n",
        "\n",
        "Example taken from: http://www-personal.umich.edu/~cellis/heteronym.html\n"
      ]
    },
    {
      "cell_type": "code",
      "metadata": {
        "id": "foKQ_tmOEca0"
      },
      "source": [
        "# Import SpaCy library\n"
      ],
      "execution_count": null,
      "outputs": []
    },
    {
      "cell_type": "code",
      "metadata": {
        "id": "YRtKtXi9kC72"
      },
      "source": [
        "# Load pre-trained SpaCy model for performing basic \n",
        "# NLP tasks such as POS tagging, parsing, etc.\n"
      ],
      "execution_count": null,
      "outputs": []
    },
    {
      "cell_type": "code",
      "metadata": {
        "id": "yjtQ_cgdk3pn"
      },
      "source": [
        "#Use the model to process the input sentence\n"
      ],
      "execution_count": null,
      "outputs": []
    },
    {
      "cell_type": "code",
      "metadata": {
        "id": "gXtwtkrflcPF"
      },
      "source": [
        "# Print the tokens and their respective PoS tags.\n"
      ],
      "execution_count": null,
      "outputs": []
    },
    {
      "cell_type": "markdown",
      "metadata": {
        "id": "G5YMNqqF-sHl"
      },
      "source": [
        "Note here that in the above example, the two instances of *desert* have different PoS tags and hence, the text to speech system can use this information to generate the correct pronounciation. \n",
        "\n",
        "The above task is a specific example of the larger NLP problem called Word Sense Disambiguation (WSD). For words that have more than one meaning, WSD is the problem of identifying the correct meaning of the word based on the context in which the word is used.\n",
        "\n"
      ]
    },
    {
      "cell_type": "markdown",
      "metadata": {
        "id": "gJMNHvrRx-rA"
      },
      "source": [
        "Note that this technique will not work when the different meanings have the same PoS tags.\n",
        "\n",
        "https://translate.google.com/?sl=en&tl=hi&text=The%20bass%20swam%20around%20the%20bass%20drum%20on%20the%20ocean%20floor.&op=translate"
      ]
    },
    {
      "cell_type": "code",
      "metadata": {
        "id": "Xd8l1zfNmgQz"
      },
      "source": [
        "# Let's take a new example.\n"
      ],
      "execution_count": null,
      "outputs": []
    },
    {
      "cell_type": "code",
      "metadata": {
        "id": "3IHqXulWJYVj"
      },
      "source": [
        ""
      ],
      "execution_count": null,
      "outputs": []
    }
  ]
}