{
  "nbformat": 4,
  "nbformat_minor": 0,
  "metadata": {
    "kernelspec": {
      "display_name": "Python 3",
      "language": "python",
      "name": "python3"
    },
    "language_info": {
      "codemirror_mode": {
        "name": "ipython",
        "version": 3
      },
      "file_extension": ".py",
      "mimetype": "text/x-python",
      "name": "python",
      "nbconvert_exporter": "python",
      "pygments_lexer": "ipython3",
      "version": "3.8.3"
    },
    "colab": {
      "name": "POS1_Commented.ipynb",
      "provenance": []
    }
  },
  "cells": [
    {
      "cell_type": "markdown",
      "metadata": {
        "id": "OKcXwoZHurtB"
      },
      "source": [
        "## Importing libraries"
      ]
    },
    {
      "cell_type": "code",
      "metadata": {
        "id": "r5zWwc1_urtR"
      },
      "source": [
        "# Import libraries\n",
        "import pandas as pd\n",
        "import numpy as np\n",
        "import os"
      ],
      "execution_count": null,
      "outputs": []
    },
    {
      "cell_type": "markdown",
      "metadata": {
        "id": "Bd28EuN3urtT"
      },
      "source": [
        "### How do we identify product features?\n",
        "<img src = \"./images/keywords.png\">"
      ]
    },
    {
      "cell_type": "code",
      "metadata": {
        "id": "5zP8A4ysurtU"
      },
      "source": [
        "sent1 = \"I loved the screen on this phone.\"\n",
        "sent2 = \"The battery life on this phone is great.\"\n",
        "sent3 = \"The speakers are pathetic.\""
      ],
      "execution_count": null,
      "outputs": []
    },
    {
      "cell_type": "markdown",
      "metadata": {
        "id": "CT_yMlbiurtV"
      },
      "source": [
        "### Lets do a POS parse and see if we can figure out some patterns."
      ]
    },
    {
      "cell_type": "code",
      "metadata": {
        "id": "XYXVM2CrurtW"
      },
      "source": [
        "# import Spacy and load model.\n"
      ],
      "execution_count": null,
      "outputs": []
    },
    {
      "cell_type": "code",
      "metadata": {
        "id": "kD53XzhEurtX"
      },
      "source": [
        "# Print the PoS tag of sent1\n"
      ],
      "execution_count": null,
      "outputs": []
    },
    {
      "cell_type": "code",
      "metadata": {
        "id": "RAHWa3uturtZ"
      },
      "source": [
        "# Print the PoS tag of sent2\n"
      ],
      "execution_count": null,
      "outputs": []
    },
    {
      "cell_type": "code",
      "metadata": {
        "id": "5z-Q-Rakurta"
      },
      "source": [
        "# Print the PoS tag of sent3\n"
      ],
      "execution_count": null,
      "outputs": []
    },
    {
      "cell_type": "markdown",
      "metadata": {
        "id": "EWh298c3urte"
      },
      "source": [
        "#### **Product features such as `screen`, `battery`, `speaker` have a POS tag of NOUN**"
      ]
    },
    {
      "cell_type": "markdown",
      "metadata": {
        "id": "XrtRHVfUurtf"
      },
      "source": [
        "## Summary\n",
        "- Product features such as `screen`, `battery` and `speaker` have a POS tag of Noun\n",
        "- If we can find the frequency count of all the nouns in our data, then by looking at top-n nouns we can find out what product features people are talking about\n",
        "- Check hypothesis on a real world dataset"
      ]
    }
  ]
}