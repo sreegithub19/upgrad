{
  "nbformat": 4,
  "nbformat_minor": 0,
  "metadata": {
    "kernelspec": {
      "display_name": "Python 3",
      "language": "python",
      "name": "python3"
    },
    "language_info": {
      "codemirror_mode": {
        "name": "ipython",
        "version": 3
      },
      "file_extension": ".py",
      "mimetype": "text/x-python",
      "name": "python",
      "nbconvert_exporter": "python",
      "pygments_lexer": "ipython3",
      "version": "3.8.3"
    },
    "colab": {
      "name": "POS2_Commented.ipynb",
      "provenance": []
    }
  },
  "cells": [
    {
      "cell_type": "markdown",
      "metadata": {
        "id": "FXsu8MxUVAKT"
      },
      "source": [
        "## Importing libraries"
      ]
    },
    {
      "cell_type": "code",
      "metadata": {
        "id": "kXr4Cxh2VAKZ"
      },
      "source": [
        "import pandas as pd\n",
        "import numpy as np\n",
        "import os"
      ],
      "execution_count": null,
      "outputs": []
    },
    {
      "cell_type": "code",
      "metadata": {
        "id": "Eq-7JCT6VAKa"
      },
      "source": [
        "import spacy \n",
        "nlp = spacy.load(\"en_core_web_sm\")"
      ],
      "execution_count": null,
      "outputs": []
    },
    {
      "cell_type": "markdown",
      "metadata": {
        "id": "ItxQ587VVAKb"
      },
      "source": [
        "### Read reviews data"
      ]
    },
    {
      "cell_type": "code",
      "metadata": {
        "id": "q1pr6bbsVAKb"
      },
      "source": [
        "# Load the Samsung.txt dataset\n",
        "con=open(\"../data/Samsung.txt\",'r', encoding=\"utf-8\")\n",
        "samsung_reviews=con.read()\n",
        "con.close()"
      ],
      "execution_count": null,
      "outputs": []
    },
    {
      "cell_type": "code",
      "metadata": {
        "id": "f4GyRJMEVAKb"
      },
      "source": [
        "len(samsung_reviews.split(\"\\n\"))"
      ],
      "execution_count": null,
      "outputs": []
    },
    {
      "cell_type": "markdown",
      "metadata": {
        "id": "fU4ZvurwVAKc"
      },
      "source": [
        "### Dataset is a text file where each review is in a new line"
      ]
    },
    {
      "cell_type": "code",
      "metadata": {
        "id": "bPT-wYC2VAKd"
      },
      "source": [
        "samsung_reviews.split(\"\\n\")[0:4]"
      ],
      "execution_count": null,
      "outputs": []
    },
    {
      "cell_type": "markdown",
      "metadata": {
        "id": "EUi5gE7WVAKd"
      },
      "source": [
        "### Will our hypothesis hold on real world data? `Product features---POS_NOUN`"
      ]
    },
    {
      "cell_type": "code",
      "metadata": {
        "id": "yUx96iRtVAKg"
      },
      "source": [
        "review1=samsung_reviews.split(\"\\n\")[0]\n",
        "review1=nlp(review1)"
      ],
      "execution_count": null,
      "outputs": []
    },
    {
      "cell_type": "markdown",
      "metadata": {
        "id": "EKt6ZNPnVAKg"
      },
      "source": [
        "### Lets do nlp parse on part of one review in our dataset"
      ]
    },
    {
      "cell_type": "code",
      "metadata": {
        "id": "gOCZxFp_VAKh"
      },
      "source": [
        ""
      ],
      "execution_count": null,
      "outputs": []
    },
    {
      "cell_type": "markdown",
      "metadata": {
        "id": "xOBlgcu0VAKh"
      },
      "source": [
        "#### Real world data is usually messy, observe the words `found` and `used`"
      ]
    },
    {
      "cell_type": "code",
      "metadata": {
        "id": "yB1t1bPTVAKh"
      },
      "source": [
        ""
      ],
      "execution_count": null,
      "outputs": []
    },
    {
      "cell_type": "code",
      "metadata": {
        "id": "G3LDkWepVAKi"
      },
      "source": [
        ""
      ],
      "execution_count": null,
      "outputs": []
    },
    {
      "cell_type": "code",
      "metadata": {
        "id": "FEXKFzlPVAKi"
      },
      "source": [
        "## Get most frequent lemma forms of nouns\n"
      ],
      "execution_count": null,
      "outputs": []
    },
    {
      "cell_type": "markdown",
      "metadata": {
        "id": "x-uR8q-LVAKi"
      },
      "source": [
        "#### It seems possible that if we extract all the nouns from the reviews and look at the top 5 most frequent lemmatised noun forms, we will be able to identify `What people are talking about?`"
      ]
    },
    {
      "cell_type": "markdown",
      "metadata": {
        "id": "QOvqBuwgVAKj"
      },
      "source": [
        "### Lets repeat this experiment on a larger set of reviews"
      ]
    },
    {
      "cell_type": "code",
      "metadata": {
        "id": "RsDUv3X1VAKj"
      },
      "source": [
        ""
      ],
      "execution_count": null,
      "outputs": []
    },
    {
      "cell_type": "markdown",
      "metadata": {
        "id": "lrVi3UPTVAKj"
      },
      "source": [
        "### Lets add some way of keeping track of time"
      ]
    },
    {
      "cell_type": "code",
      "metadata": {
        "id": "zNhp_45EVAKj"
      },
      "source": [
        ""
      ],
      "execution_count": null,
      "outputs": []
    },
    {
      "cell_type": "code",
      "metadata": {
        "id": "jai2hnfoVAKk"
      },
      "source": [
        ""
      ],
      "execution_count": null,
      "outputs": []
    },
    {
      "cell_type": "markdown",
      "metadata": {
        "id": "94gZ5gxLVAKk"
      },
      "source": [
        "### Did you notice anything? What do you think will be the time taken to process all the reviews?"
      ]
    },
    {
      "cell_type": "code",
      "metadata": {
        "id": "Op_ftvWyVAKk"
      },
      "source": [
        ""
      ],
      "execution_count": null,
      "outputs": []
    },
    {
      "cell_type": "code",
      "metadata": {
        "id": "VDMknUOXVAKl"
      },
      "source": [
        ""
      ],
      "execution_count": null,
      "outputs": []
    },
    {
      "cell_type": "markdown",
      "metadata": {
        "id": "1PsJmzrtVAKl"
      },
      "source": [
        "## Summary\n",
        "- POS tag based rule seems to be working well\n",
        "- We need to figure out a way to reduce the time taken to process reviews"
      ]
    }
  ]
}