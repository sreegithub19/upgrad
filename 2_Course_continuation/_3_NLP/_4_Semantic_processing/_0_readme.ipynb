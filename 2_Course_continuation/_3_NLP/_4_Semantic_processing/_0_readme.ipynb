{
 "cells": [
  {
   "cell_type": "markdown",
   "id": "6e7ff3e5",
   "metadata": {},
   "source": [
    "- WordNet: https://wordnet.princeton.edu/\n",
    "- Github link: https://github.com/ContentUpgrad/semantic_processing"
   ]
  },
  {
   "cell_type": "markdown",
   "id": "5439f6b5",
   "metadata": {},
   "source": [
    "Important terms:\n",
    "\n",
    "<hr>\n",
    "Module 1: Knowledge graph<br>\n",
    "Lesk algorithm: \n",
    "- The Lesk algorithm is based on the idea that words in a given region of the text will have a similar meaning. In the Simplified Lesk Algorithm, the correct meaning of each word context is found by getting the sense which overlaps the most among the given context and its dictionary meaning.\n",
    "\n",
    "<hr>\n",
    "Module 2: Distributional Semantics<br>\n",
    "Word vector (Word2Vec):\n",
    "- The traditional algorithms for the Word2Vec model are Skip Gram and CBOW.\n",
    "- <a href=\"https://learn.upgrad.com/course/3064/segment/31639/188045/577866/2956653\">For example</a>\n",
    "\n",
    "    - Skipgram algo:\n",
    "        - Skip-gram represents words as a vectors and learns to bring similar context words near to one another. It is an unsupervised learning algorithm.\n",
    "        - <a href=\"https://learn.upgrad.com/course/3064/segment/31639/188045/577866/2956653\">For example</a>"
   ]
  },
  {
   "cell_type": "markdown",
   "id": "e9fe17c2",
   "metadata": {},
   "source": [
    "- Homonym, Homophone, Homograph, Heterograph, Heteronym, Synonym, Hypernym, Hyponym, Meronym, Holonym, Antonym, Derivation, Troponym\n",
    "\n",
    "<img src=\"https://assets.ltkcontent.com/images/160300/Homonym-vs-Homophone_7abbbb2796.jpg\" width=\"400\" height=\"400\" />\n",
    "<img src=\"http://blog.writeathome.com/wp-content/uploads/2012/08/Word-Venn.jpg\" width=\"400\" height=\"400\" />\n",
    "<img src=\"https://i.stack.imgur.com/NcnNg.png\" width=\"400\" height=\"400\" />"
   ]
  },
  {
   "cell_type": "markdown",
   "id": "e0ba017b",
   "metadata": {},
   "source": [
    "\n",
    " # Welcome to Semantic Processing Module\n",
    "\n",
    "## TOC:\n",
    "- How to download files?\n",
    "- What is where?\n",
    "\n",
    "### How to download files?\n",
    "![](images/image1.png)\n",
    "Click on Code button and then click on Download ZIP\n",
    "OR\n",
    "Use `git clone https://github.com/ContentUpgrad/intro_to_neural_networks.git` command on your terminal if git is installed in your machine. \n",
    "\n",
    "\n",
    "### What is where?\n",
    "The folder structure is given below:\n",
    "\n",
    "![](images/image6.png)\n",
    "\n",
    "As you can see there are three main folders when you log in:\n",
    "\n",
    "1. **Distributional Semantics** This is where all the code files regarding distributional semantics sessions are kept\n",
    "2. **Knowledge Graphs** This is where all the code files regarding Knowledge Graph session are kept\n",
    "3. **Topic Modelling**This is where all the code files regarding Topic Modelling session are kept\n",
    "\n",
    "When you click on any folder you will find the code and data folders as shown below:\n",
    "![](images/image2.png)\n",
    "You will find all the code files of the session in code folder and data folder will be empty. Please note that you need to follow the instructions given in the segment for downloading data files and keep it in the data folder manually.\n",
    "\n",
    "#### Distributional Semantics\n",
    "You will find the following files in the code folder of Distributional Semantics\n",
    "![](images/image4.png)\n",
    "The data files required can be found [here](https://drive.google.com/drive/u/0/folders/1KUnMvuufvo0yXS23EaI2EMNaq2lt5Ynh)\n",
    "\n",
    "#### Knowledge Graphs\n",
    "You will find the following files in the code folder of Distributional Semantics\n",
    "![](images/image3.png)\n",
    "There are no data files required for this session.\n",
    "\n",
    "#### Topic Modelling\n",
    "You will find the following files in the code folder of Distributional Semantics\n",
    "![](images/image5.png)\n",
    "The data files required can be found [here](https://drive.google.com/drive/u/0/folders/1umS1MgUXyra3KVF-6FsN8krHQ31lXhlX)\n",
    "\n",
    "\n",
    "#### Authors\n",
    "Tejaswini Allikanti, Jaidev Deshpande and Gunnvant Saini\n",
    "\n"
   ]
  },
  {
   "cell_type": "markdown",
   "id": "6fefeb25",
   "metadata": {},
   "source": [
    "- Cosine similarity:\n",
    "<img src=\"data:image/png;base64,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\" />"
   ]
  },
  {
   "cell_type": "markdown",
   "id": "6e8f1b85",
   "metadata": {},
   "source": [
    "Notes from graded questions:\n",
    "- The size of the input layer is equal to the size of the vocabulary.\n",
    "- "
   ]
  }
 ],
 "metadata": {
  "kernelspec": {
   "display_name": "Python 3 (ipykernel)",
   "language": "python",
   "name": "python3"
  },
  "language_info": {
   "codemirror_mode": {
    "name": "ipython",
    "version": 3
   },
   "file_extension": ".py",
   "mimetype": "text/x-python",
   "name": "python",
   "nbconvert_exporter": "python",
   "pygments_lexer": "ipython3",
   "version": "3.8.0"
  },
  "varInspector": {
   "cols": {
    "lenName": 16,
    "lenType": 16,
    "lenVar": 40
   },
   "kernels_config": {
    "python": {
     "delete_cmd_postfix": "",
     "delete_cmd_prefix": "del ",
     "library": "var_list.py",
     "varRefreshCmd": "print(var_dic_list())"
    },
    "r": {
     "delete_cmd_postfix": ") ",
     "delete_cmd_prefix": "rm(",
     "library": "var_list.r",
     "varRefreshCmd": "cat(var_dic_list()) "
    }
   },
   "types_to_exclude": [
    "module",
    "function",
    "builtin_function_or_method",
    "instance",
    "_Feature"
   ],
   "window_display": false
  }
 },
 "nbformat": 4,
 "nbformat_minor": 5
}
