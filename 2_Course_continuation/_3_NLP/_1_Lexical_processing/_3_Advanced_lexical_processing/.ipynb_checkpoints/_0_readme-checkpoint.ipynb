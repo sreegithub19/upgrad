{
 "cells": [
  {
   "cell_type": "markdown",
   "id": "22ded610",
   "metadata": {},
   "source": [
    "- Phonetic hashing mapping:\n",
    "https://images.upgrad.com/4087580b-a65e-42ee-9e4b-1fe990824f8c-Soundex.png\n",
    "\n",
    "- To calculate PMI (Pointwise Mutual Information):\n",
    "You can also refer to Palmetto (https://palmetto.demos.dice-research.org/) tool (In case this link does not work, please refer to this (https://en.cs.uni-paderborn.de/ds/news-single/palmetto-a-quality-measuring-tool-for-topics) blog for more information about this tool) for calculating PMIs. \n",
    "    "
   ]
  },
  {
   "cell_type": "code",
   "execution_count": null,
   "id": "e1802c94",
   "metadata": {},
   "outputs": [],
   "source": []
  }
 ],
 "metadata": {
  "kernelspec": {
   "display_name": "Python 3 (ipykernel)",
   "language": "python",
   "name": "python3"
  },
  "language_info": {
   "codemirror_mode": {
    "name": "ipython",
    "version": 3
   },
   "file_extension": ".py",
   "mimetype": "text/x-python",
   "name": "python",
   "nbconvert_exporter": "python",
   "pygments_lexer": "ipython3",
   "version": "3.8.0"
  },
  "varInspector": {
   "cols": {
    "lenName": 16,
    "lenType": 16,
    "lenVar": 40
   },
   "kernels_config": {
    "python": {
     "delete_cmd_postfix": "",
     "delete_cmd_prefix": "del ",
     "library": "var_list.py",
     "varRefreshCmd": "print(var_dic_list())"
    },
    "r": {
     "delete_cmd_postfix": ") ",
     "delete_cmd_prefix": "rm(",
     "library": "var_list.r",
     "varRefreshCmd": "cat(var_dic_list()) "
    }
   },
   "types_to_exclude": [
    "module",
    "function",
    "builtin_function_or_method",
    "instance",
    "_Feature"
   ],
   "window_display": false
  }
 },
 "nbformat": 4,
 "nbformat_minor": 5
}
