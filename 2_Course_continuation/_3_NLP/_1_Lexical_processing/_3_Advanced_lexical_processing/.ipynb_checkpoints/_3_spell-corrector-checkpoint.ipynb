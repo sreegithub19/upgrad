{
 "cells": [
  {
   "cell_type": "code",
   "execution_count": 18,
   "metadata": {},
   "outputs": [],
   "source": [
    "import re\n",
    "from collections import Counter"
   ]
  },
  {
   "cell_type": "code",
   "execution_count": 19,
   "metadata": {},
   "outputs": [],
   "source": [
    "# function to tokenise words\n",
    "def words(document):\n",
    "    \"Convert text to lower case and tokenise the document\"\n",
    "    return re.findall(r'\\w+', document.lower())"
   ]
  },
  {
   "cell_type": "code",
   "execution_count": 20,
   "metadata": {},
   "outputs": [],
   "source": [
    "# create a frequency table of all the words of the document\n",
    "all_words = Counter(words(open('_3_seed_document.txt').read()))"
   ]
  },
  {
   "cell_type": "code",
   "execution_count": 21,
   "metadata": {},
   "outputs": [
    {
     "data": {
      "text/plain": [
       "135"
      ]
     },
     "execution_count": 21,
     "metadata": {},
     "output_type": "execute_result"
    }
   ],
   "source": [
    "# check frequency of a random word, say, 'chair'\n",
    "all_words['chair']"
   ]
  },
  {
   "cell_type": "code",
   "execution_count": 22,
   "metadata": {},
   "outputs": [
    {
     "data": {
      "text/plain": [
       "[('the', 79809),\n",
       " ('of', 40024),\n",
       " ('and', 38312),\n",
       " ('to', 28765),\n",
       " ('in', 22023),\n",
       " ('a', 21124),\n",
       " ('that', 12512),\n",
       " ('he', 12401),\n",
       " ('was', 11410),\n",
       " ('it', 10681)]"
      ]
     },
     "execution_count": 22,
     "metadata": {},
     "output_type": "execute_result"
    }
   ],
   "source": [
    "# look at top 10 frequent words\n",
    "all_words.most_common(10)"
   ]
  },
  {
   "cell_type": "code",
   "execution_count": 23,
   "metadata": {},
   "outputs": [],
   "source": [
    "def edits_one(word):\n",
    "    \"Create all edits that are one edit away from `word`.\"\n",
    "    alphabets    = 'abcdefghijklmnopqrstuvwxyz'\n",
    "    splits     = [(word[:i], word[i:])                   for i in range(len(word) + 1)]\n",
    "    deletes    = [left + right[1:]                       for left, right in splits if right]\n",
    "    inserts    = [left + c + right                       for left, right in splits for c in alphabets]\n",
    "    replaces   = [left + c + right[1:]                   for left, right in splits if right for c in alphabets]\n",
    "    transposes = [left + right[1] + right[0] + right[2:] for left, right in splits if len(right)>1]\n",
    "    return set(deletes + inserts + replaces + transposes)"
   ]
  },
  {
   "cell_type": "code",
   "execution_count": 24,
   "metadata": {},
   "outputs": [],
   "source": [
    "def edits_two(word):\n",
    "    \"Create all edits that are two edits away from `word`.\"\n",
    "    return (e2 for e1 in edits_one(word) for e2 in edits_one(e1))"
   ]
  },
  {
   "cell_type": "code",
   "execution_count": 25,
   "metadata": {},
   "outputs": [],
   "source": [
    "def known(words):\n",
    "    \"The subset of `words` that appear in the `all_words`.\"\n",
    "    return set(word for word in words if word in all_words)"
   ]
  },
  {
   "cell_type": "code",
   "execution_count": 26,
   "metadata": {},
   "outputs": [],
   "source": [
    "def possible_corrections(word):\n",
    "    \"Generate possible spelling corrections for word.\"\n",
    "    return (known([word]) or known(edits_one(word)) or known(edits_two(word)) or [word])"
   ]
  },
  {
   "cell_type": "code",
   "execution_count": 27,
   "metadata": {},
   "outputs": [],
   "source": [
    "def prob(word, N=sum(all_words.values())): \n",
    "    \"Probability of `word`: Number of appearances of 'word' / total number of tokens\"\n",
    "    return all_words[word] / N"
   ]
  },
  {
   "cell_type": "code",
   "execution_count": 28,
   "metadata": {},
   "outputs": [
    {
     "name": "stdout",
     "output_type": "stream",
     "text": [
      "336\n",
      "{'monneyb', 'monqney', 'moeney', 'msonney', 'mpnney', 'monnfy', 'mfonney', 'monhey', 'mojnney', 'monlney', 'cmonney', 'ronney', 'mrnney', 'emonney', 'monnedy', 'mnonney', 'monkey', 'nonney', 'imonney', 'oonney', 'monnyey', 'monnay', 'mocnney', 'monneq', 'mounney', 'monnney', 'mionney', 'monnxy', 'moznney', 'dmonney', 'mokney', 'monley', 'mtonney', 'monnwey', 'monneoy', 'monnzy', 'moxney', 'monneyf', 'mqnney', 'mnnney', 'monneyl', 'umonney', 'monne', 'monneyi', 'monneo', 'monnly', 'jmonney', 'onney', 'omnney', 'monnye', 'monnepy', 'molnney', 'monneyv', 'monjey', 'montney', 'monnoy', 'monnejy', 'monneyx', 'monnew', 'wonney', 'bonney', 'minney', 'mdonney', 'monyey', 'monnel', 'monncey', 'motney', 'mvnney', 'mnney', 'tmonney', 'monnpey', 'konney', 'uonney', 'mbonney', 'mronney', 'mononey', 'monneby', 'mofney', 'conney', 'ymonney', 'moknney', 'monnej', 'motnney', 'monneny', 'mhonney', 'monnewy', 'mobnney', 'msnney', 'monnsey', 'mohney', 'mopnney', 'mwnney', 'manney', 'monnuey', 'xmonney', 'monnwy', 'mgonney', 'fmonney', 'zonney', 'mondney', 'monnley', 'monneh', 'monnzey', 'mvonney', 'wmonney', 'bmonney', 'mornney', 'monneuy', 'monndey', 'monneyd', 'monneyg', 'mknney', 'moniney', 'monnby', 'monnoey', 'monnny', 'monfey', 'monuey', 'munney', 'morney', 'modney', 'mcnney', 'monhney', 'monnefy', 'monnuy', 'mobney', 'movney', 'honney', 'moxnney', 'movnney', 'monwney', 'monnbey', 'monneey', 'tonney', 'mogney', 'lmonney', 'moniey', 'monner', 'monnaey', 'hmonney', 'maonney', 'monnrey', 'monnvey', 'monzney', 'monnmy', 'gmonney', 'monnfey', 'monnety', 'mjonney', 'moqney', 'nmonney', 'monniey', 'xonney', 'monnegy', 'monnecy', 'monpney', 'monjney', 'monneys', 'qmonney', 'monntey', 'monxey', 'mopney', 'monneb', 'monnem', 'monwey', 'rmonney', 'mognney', 'mosnney', 'moncney', 'monnet', 'monnkey', 'menney', 'mznney', 'monmey', 'monnex', 'monnef', 'monneym', 'mojney', 'mohnney', 'moiney', 'sonney', 'fonney', 'moonney', 'monncy', 'monrey', 'monny', 'monneyz', 'mlnney', 'mqonney', 'monnqy', 'mtnney', 'monnez', 'monnery', 'monnen', 'monneyp', 'muonney', 'monneqy', 'mynney', 'monxney', 'monneyh', 'monaey', 'monngy', 'monnjey', 'moanney', 'monneyw', 'money', 'mmnney', 'momney', 'moneney', 'monnesy', 'monaney', 'moneny', 'monneyu', 'monneyy', 'monoey', 'mhnney', 'kmonney', 'mponney', 'monneyt', 'amonney', 'monneyr', 'monzey', 'monnee', 'mfnney', 'monneky', 'mooney', 'monnev', 'lonney', 'mosney', 'mbnney', 'mocney', 'monnxey', 'monneyq', 'moqnney', 'eonney', 'monnmey', 'mkonney', 'monnely', 'monuney', 'moenney', 'mjnney', 'monnyy', 'monnty', 'monney', 'monngey', 'qonney', 'monrney', 'mwonney', 'mzonney', 'monfney', 'monneyj', 'monnek', 'monpey', 'monnep', 'omonney', 'monnes', 'monnry', 'modnney', 'ponney', 'mowney', 'smonney', 'monnevy', 'mxnney', 'monnei', 'monneyn', 'monsey', 'monnky', 'moncey', 'moneey', 'monnec', 'monyney', 'monneya', 'mongey', 'montey', 'mozney', 'monneu', 'monqey', 'mgnney', 'myonney', 'monkney', 'momnney', 'mdnney', 'monneiy', 'monneyc', 'monned', 'pmonney', 'ionney', 'monnpy', 'moinney', 'mmonney', 'mondey', 'mofnney', 'monsney', 'mconney', 'mnoney', 'zmonney', 'monnqey', 'monnexy', 'aonney', 'monnezy', 'moynney', 'monneye', 'monneay', 'molney', 'jonney', 'monnvy', 'monnea', 'monnjy', 'monniy', 'monnhey', 'mxonney', 'monnehy', 'monbey', 'monnemy', 'donney', 'monvney', 'monneg', 'mownney', 'monneyk', 'mongney', 'mouney', 'meonney', 'monnhy', 'monneyo', 'gonney', 'mlonney', 'moaney', 'vonney', 'monndy', 'monnsy', 'monbney', 'vmonney', 'monvey', 'monmney', 'moyney', 'yonney'}\n"
     ]
    }
   ],
   "source": [
    "print(len(set(edits_one(\"monney\"))))\n",
    "print(edits_one(\"monney\"))"
   ]
  },
  {
   "cell_type": "code",
   "execution_count": 29,
   "metadata": {},
   "outputs": [
    {
     "name": "stdout",
     "output_type": "stream",
     "text": [
      "{'money', 'monkey'}\n"
     ]
    }
   ],
   "source": [
    "print(known(edits_one(\"monney\")))"
   ]
  },
  {
   "cell_type": "code",
   "execution_count": 30,
   "metadata": {},
   "outputs": [
    {
     "name": "stdout",
     "output_type": "stream",
     "text": [
      "51013\n",
      "{'money', 'monkey'}\n"
     ]
    }
   ],
   "source": [
    "# Let's look at words that are two edits away\n",
    "print(len(set(edits_two(\"monney\"))))\n",
    "print(known(edits_one(\"monney\")))"
   ]
  },
  {
   "cell_type": "code",
   "execution_count": 31,
   "metadata": {},
   "outputs": [
    {
     "name": "stdout",
     "output_type": "stream",
     "text": [
      "{'money', 'monkey'}\n"
     ]
    }
   ],
   "source": [
    "# Let's look at possible corrections of a word\n",
    "print(possible_corrections(\"monney\"))"
   ]
  },
  {
   "cell_type": "code",
   "execution_count": 32,
   "metadata": {},
   "outputs": [
    {
     "name": "stdout",
     "output_type": "stream",
     "text": [
      "0.0002922233626303688\n",
      "5.378344097491451e-06\n"
     ]
    }
   ],
   "source": [
    "# Let's look at probability of a word\n",
    "print(prob(\"money\"))\n",
    "print(prob(\"monkey\"))"
   ]
  },
  {
   "cell_type": "code",
   "execution_count": 33,
   "metadata": {},
   "outputs": [],
   "source": [
    "def spell_check(word):\n",
    "    \"Print the most probable spelling correction for `word` out of all the `possible_corrections`\"\n",
    "    correct_word = max(possible_corrections(word), key=prob)\n",
    "    if correct_word != word:\n",
    "        return \"Did you mean \" + correct_word + \"?\"\n",
    "    else:\n",
    "        return \"Correct spelling.\""
   ]
  },
  {
   "cell_type": "code",
   "execution_count": 34,
   "metadata": {},
   "outputs": [
    {
     "name": "stdout",
     "output_type": "stream",
     "text": [
      "Did you mean money?\n"
     ]
    }
   ],
   "source": [
    "# test spell check\n",
    "print(spell_check(\"monney\"))"
   ]
  }
 ],
 "metadata": {
  "kernelspec": {
   "display_name": "Python 3 (ipykernel)",
   "language": "python",
   "name": "python3"
  },
  "language_info": {
   "codemirror_mode": {
    "name": "ipython",
    "version": 3
   },
   "file_extension": ".py",
   "mimetype": "text/x-python",
   "name": "python",
   "nbconvert_exporter": "python",
   "pygments_lexer": "ipython3",
   "version": "3.8.0"
  },
  "varInspector": {
   "cols": {
    "lenName": 16,
    "lenType": 16,
    "lenVar": 40
   },
   "kernels_config": {
    "python": {
     "delete_cmd_postfix": "",
     "delete_cmd_prefix": "del ",
     "library": "var_list.py",
     "varRefreshCmd": "print(var_dic_list())"
    },
    "r": {
     "delete_cmd_postfix": ") ",
     "delete_cmd_prefix": "rm(",
     "library": "var_list.r",
     "varRefreshCmd": "cat(var_dic_list()) "
    }
   },
   "types_to_exclude": [
    "module",
    "function",
    "builtin_function_or_method",
    "instance",
    "_Feature"
   ],
   "window_display": false
  }
 },
 "nbformat": 4,
 "nbformat_minor": 2
}
